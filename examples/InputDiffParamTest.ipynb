{
 "cells": [
  {
   "cell_type": "code",
   "execution_count": 1,
   "metadata": {},
   "outputs": [],
   "source": [
    "using MPSGE"
   ]
  },
  {
   "cell_type": "code",
   "execution_count": 2,
   "metadata": {},
   "outputs": [
    {
     "name": "stdout",
     "output_type": "stream",
     "text": [
      "Path 5.0.03 (Fri Jun 26 10:05:33 2020)\n",
      "Written by Todd Munson, Steven Dirkse, Youngdae Kim, and Michael Ferris\n",
      "\n",
      "Crash Log\n",
      "major  func  diff  size  residual    step       prox   (label)\n",
      "    0     0             0.0000e+00             0.0e+00 (F_X)\n",
      "\n",
      "Major Iteration Log\n",
      "major minor  func  grad  residual    step  type prox    inorm  (label)\n",
      "    0     0     1     1 0.0000e+00           I 0.0e+00 0.0e+00 (F_X)\n",
      "\n",
      "Major Iterations. . . . 0\n",
      "Minor Iterations. . . . 0\n",
      "Restarts. . . . . . . . 0\n",
      "Crash Iterations. . . . 0\n",
      "Gradient Steps. . . . . 0\n",
      "Function Evaluations. . 1\n",
      "Gradient Evaluations. . 1\n",
      "Basis Time. . . . . . . 0.000000\n",
      "Total Time. . . . . . . 0.094000\n",
      "Residual. . . . . . . . 0.000000e+00\n"
     ]
    },
    {
     "data": {
      "text/plain": [
       "MPSGE model with 3 sectors, 5 commodities and 1 consumers.\n",
       "  Sectors: X (bm=1.0), Y (bm=1.0), U (bm=1.0)\n",
       "  Commodities: PX (bm=1.0), PY (bm=1.0), PU (bm=1.0), PL (bm=1.0), PK (bm=1.0)\n",
       "  Consumers: RA (bm=150.0)\n",
       "Solution:\n",
       "  X:\t1.0\n",
       "  Y:\t1.0\n",
       "  U:\t1.0\n",
       "  PX:\t1.0\n",
       "  PY:\t1.0\n",
       "  PU:\t1.0\n",
       "  PL:\t1.0\n",
       "  PK:\t1.0\n",
       "  PX‡X:\t100.0\n",
       "  PY‡Y:\t50.0\n",
       "  PU‡U:\t150.0\n",
       "  PL†X:\t50.0\n",
       "  PK†X:\t50.0\n",
       "  PL†Y:\t20.0\n",
       "  PK†Y:\t30.0\n",
       "  PX†U:\t100.0\n",
       "  PY†U:\t50.0\n",
       "  RA:\t150.0\n",
       "  PUρRA:\t150.0\n"
      ]
     },
     "metadata": {},
     "output_type": "display_data"
    }
   ],
   "source": [
    "m = Model()\n",
    "\n",
    "@parameter(m, endow, 1.0)\n",
    "@parameter(m, diff, 0.0)\n",
    "\n",
    "@sector(m, X)\n",
    "@sector(m, Y)\n",
    "@sector(m, U)\n",
    "\n",
    "@commodity(m, PX)\n",
    "@commodity(m, PY)\n",
    "@commodity(m, PU)\n",
    "@commodity(m, PL)\n",
    "@commodity(m, PK)\n",
    "\n",
    "@consumer(m, RA, benchmark = 150.)\n",
    "\n",
    "@production(m, X, 0, 1, [Output(PX, 100)], [Input(PL, :(50+$diff)), Input(PK, 50)])\n",
    "@production(m, Y, 0, 1, [Output(PY, 50)], [Input(PL, 20), Input(PK, 30)])\n",
    "@production(m, U, 0, 1, [Output(PU, 150)], [Input(PX, 100), Input(PY, 50)]) \n",
    "\n",
    "@demand(m, RA, 1.0, [Demand(PU, 150)], [Endowment(PL, :(70 * $endow)), Endowment(PK, 80.)])\n",
    "solve!(m)"
   ]
  },
  {
   "cell_type": "code",
   "execution_count": 144,
   "metadata": {
    "tags": [
     "parameters"
    ]
   },
   "outputs": [],
   "source": [
    "var\"X\" = 1 ;\n",
    "var\"Y\" = 1 ;\n",
    "var\"U\" = 1 ;\n",
    "var\"PX\" = 1 ;\n",
    "var\"PY\" = 1 ;\n",
    "var\"PU\" = 1 ;\n",
    "var\"PL\" = 1 ;\n",
    "var\"PK\" = 1 ;\n",
    "var\"PX‡X\" = 100 ;\n",
    "var\"PY‡Y\" = 50 ;\n",
    "var\"PU‡U\" = 150 ;\n",
    "var\"PL†X\" = 50 ;\n",
    "var\"PK†X\" = 50 ;\n",
    "var\"PL†Y\" = 20 ;\n",
    "var\"PK†Y\" = 30 ;\n",
    "var\"PX†U\" = 100 ;\n",
    "var\"PY†U\" = 50 ;\n",
    "var\" RA\" = 150 ;\n",
    "var\"PUρRA\" = 150 ;\n",
    "var\"diff\" = 0 ;\n"
   ]
  },
  {
   "cell_type": "code",
   "execution_count": 3,
   "metadata": {},
   "outputs": [
    {
     "data": {
      "text/latex": [
       "$$ \\begin{alignat*}{3}\\\n",
       "& \\text{Compensated Demand} \\quad && \\quad && \\\\\n",
       "& \\quad (50.0 + diff) * ((PL†X / (50.0 + diff)) ^ {0.5} * (PK†X / 50.0) ^ {0.5}) * (((((PL / 1.0) ^ {0.5} * (PK / 1.0) ^ {0.5}) * ((PL†X / (50.0 + diff)) ^ {((50.0 + diff) * 1.0) / +(100.0 * 1.0)} * (PK†X / 50.0) ^ {(50.0 * 1.0) / +(100.0 * 1.0)})) * 1.0) / PL) ^ {1.0} - PL†X\\quad && \\perp \\quad && PL†X\\\\\n",
       "& \\quad 50.0 * ((PL†X / (50.0 + diff)) ^ {0.5} * (PK†X / 50.0) ^ {0.5}) * (((((PL / 1.0) ^ {0.5} * (PK / 1.0) ^ {0.5}) * ((PL†X / (50.0 + diff)) ^ {((50.0 + diff) * 1.0) / +(100.0 * 1.0)} * (PK†X / 50.0) ^ {(50.0 * 1.0) / +(100.0 * 1.0)})) * 1.0) / PK) ^ {1.0} - PK†X\\quad && \\perp \\quad && PK†X\\\\\n",
       "& \\quad 20.0 * ((PL†Y / 20.0) ^ {0.4} * (PK†Y / 30.0) ^ {0.6}) * (((((PL / 1.0) ^ {0.4} * (PK / 1.0) ^ {0.6}) * ((PL†Y / 20.0) ^ {(20.0 * 1.0) / +(50.0 * 1.0)} * (PK†Y / 30.0) ^ {(30.0 * 1.0) / +(50.0 * 1.0)})) * 1.0) / PL) ^ {1.0} - PL†Y\\quad && \\perp \\quad && PL†Y\\\\\n",
       "& \\quad 30.0 * ((PL†Y / 20.0) ^ {0.4} * (PK†Y / 30.0) ^ {0.6}) * (((((PL / 1.0) ^ {0.4} * (PK / 1.0) ^ {0.6}) * ((PL†Y / 20.0) ^ {(20.0 * 1.0) / +(50.0 * 1.0)} * (PK†Y / 30.0) ^ {(30.0 * 1.0) / +(50.0 * 1.0)})) * 1.0) / PK) ^ {1.0} - PK†Y\\quad && \\perp \\quad && PK†Y\\\\\n",
       "& \\quad 100.0 * ((PX†U / 100.0) ^ {0.6666666666666666} * (PY†U / 50.0) ^ {0.3333333333333333}) * (((((PX / 1.0) ^ {0.6666666666666666} * (PY / 1.0) ^ {0.3333333333333333}) * ((PX†U / 100.0) ^ {(100.0 * 1.0) / +(150.0 * 1.0)} * (PY†U / 50.0) ^ {(50.0 * 1.0) / +(150.0 * 1.0)})) * 1.0) / PX) ^ {1.0} - PX†U\\quad && \\perp \\quad && PX†U\\\\\n",
       "& \\quad 50.0 * ((PX†U / 100.0) ^ {0.6666666666666666} * (PY†U / 50.0) ^ {0.3333333333333333}) * (((((PX / 1.0) ^ {0.6666666666666666} * (PY / 1.0) ^ {0.3333333333333333}) * ((PX†U / 100.0) ^ {(100.0 * 1.0) / +(150.0 * 1.0)} * (PY†U / 50.0) ^ {(50.0 * 1.0) / +(150.0 * 1.0)})) * 1.0) / PY) ^ {1.0} - PY†U\\quad && \\perp \\quad && PY†U\\\\\n",
       "& \\text{Compensated Supply} \\quad && \\quad && \\\\\n",
       "& \\quad 100.0 * ((PL†X / (50.0 + diff)) ^ {((50.0 + diff) * 1.0) / +(100.0 * 1.0)} * (PK†X / 50.0) ^ {(50.0 * 1.0) / +(100.0 * 1.0)}) * ((PX / (+(1.0 * (PX / 1.0) ^ {1.0 + 0.0})) ^ {1.0 / (1.0 + 0.0)}) / 1.0) ^ {0.0} - PX‡X\\quad && \\perp \\quad && PX‡X\\\\\n",
       "& \\quad 50.0 * ((PL†Y / 20.0) ^ {(20.0 * 1.0) / +(50.0 * 1.0)} * (PK†Y / 30.0) ^ {(30.0 * 1.0) / +(50.0 * 1.0)}) * ((PY / (+(1.0 * (PY / 1.0) ^ {1.0 + 0.0})) ^ {1.0 / (1.0 + 0.0)}) / 1.0) ^ {0.0} - PY‡Y\\quad && \\perp \\quad && PY‡Y\\\\\n",
       "& \\quad 150.0 * ((PX†U / 100.0) ^ {(100.0 * 1.0) / +(150.0 * 1.0)} * (PY†U / 50.0) ^ {(50.0 * 1.0) / +(150.0 * 1.0)}) * ((PU / (+(1.0 * (PU / 1.0) ^ {1.0 + 0.0})) ^ {1.0 / (1.0 + 0.0)}) / 1.0) ^ {0.0} - PU‡U\\quad && \\perp \\quad && PU‡U\\\\\n",
       "& \\text{Final Demand} \\quad && \\quad && \\\\\n",
       "& \\quad 150.0 * (RA / 150.0) * (1.0 / PU) - PUρRA\\quad && \\perp \\quad && PUρRA\\\\\n",
       "& \\text{Zero Profit} \\quad && \\quad && \\\\\n",
       "& \\quad (PL * PL†X + PK * PK†X) - +(PX * PX‡X)\\quad && \\perp \\quad && 0.0 <X\\\\\n",
       "& \\quad (PL * PL†Y + PK * PK†Y) - +(PY * PY‡Y)\\quad && \\perp \\quad && 0.0 <Y\\\\\n",
       "& \\quad (PX * PX†U + PY * PY†U) - +(PU * PU‡U)\\quad && \\perp \\quad && 0.0 <U\\\\\n",
       "& \\text{Market clearance} \\quad && \\quad && \\\\\n",
       "& \\quad (0.0 + U * PU‡U) - (0.0 + PUρRA)\\quad && \\perp \\quad && 0.001 <PU\\\\\n",
       "& \\quad (0.0 + 70.0 * endow) - (0.0 + X * PL†X + Y * PL†Y)\\quad && \\perp \\quad && 0.001 <PL\\\\\n",
       "& \\quad (0.0 + 80.0) - (0.0 + X * PK†X + Y * PK†Y)\\quad && \\perp \\quad && 0.001 <PK\\\\\n",
       "& \\quad (0.0 + Y * PY‡Y) - (0.0 + U * PY†U)\\quad && \\perp \\quad && 0.001 <PY\\\\\n",
       "& \\quad (0.0 + X * PX‡X) - (0.0 + U * PX†U)\\quad && \\perp \\quad && 0.001 <PX\\\\\n",
       "& \\text{Income balance} \\quad && \\quad && \\\\\n",
       "& \\quad ((70.0 * endow) * PL + 80.0 * PK) - RA\\quad && \\perp \\quad && 0.0 <RA\\\\\n",
       "\\end{alignat*}\n",
       " $$\n"
      ],
      "text/plain": [
       "Mixed complementarity problem with 19 constraints:\n",
       "  Compensated Demand\n",
       "    (50.0 + diff) * ((PL†X / (50.0 + diff)) ^ 0.5 * (PK†X / 50.0) ^ 0.5) * (((((PL / 1.0) ^ 0.5 * (PK / 1.0) ^ 0.5) * ((PL†X / (50.0 + diff)) ^ (((50.0 + diff) * 1.0) / +(100.0 * 1.0)) * (PK†X / 50.0) ^ ((50.0 * 1.0) / +(100.0 * 1.0)))) * 1.0) / PL) ^ 1.0 - PL†X                              ┴  PL†X\n",
       "    50.0 * ((PL†X / (50.0 + diff)) ^ 0.5 * (PK†X / 50.0) ^ 0.5) * (((((PL / 1.0) ^ 0.5 * (PK / 1.0) ^ 0.5) * ((PL†X / (50.0 + diff)) ^ (((50.0 + diff) * 1.0) / +(100.0 * 1.0)) * (PK†X / 50.0) ^ ((50.0 * 1.0) / +(100.0 * 1.0)))) * 1.0) / PK) ^ 1.0 - PK†X                                       ┴  PK†X\n",
       "    20.0 * ((PL†Y / 20.0) ^ 0.4 * (PK†Y / 30.0) ^ 0.6) * (((((PL / 1.0) ^ 0.4 * (PK / 1.0) ^ 0.6) * ((PL†Y / 20.0) ^ ((20.0 * 1.0) / +(50.0 * 1.0)) * (PK†Y / 30.0) ^ ((30.0 * 1.0) / +(50.0 * 1.0)))) * 1.0) / PL) ^ 1.0 - PL†Y                                                                    ┴  PL†Y\n",
       "    30.0 * ((PL†Y / 20.0) ^ 0.4 * (PK†Y / 30.0) ^ 0.6) * (((((PL / 1.0) ^ 0.4 * (PK / 1.0) ^ 0.6) * ((PL†Y / 20.0) ^ ((20.0 * 1.0) / +(50.0 * 1.0)) * (PK†Y / 30.0) ^ ((30.0 * 1.0) / +(50.0 * 1.0)))) * 1.0) / PK) ^ 1.0 - PK†Y                                                                    ┴  PK†Y\n",
       "    100.0 * ((PX†U / 100.0) ^ 0.6666666666666666 * (PY†U / 50.0) ^ 0.3333333333333333) * (((((PX / 1.0) ^ 0.6666666666666666 * (PY / 1.0) ^ 0.3333333333333333) * ((PX†U / 100.0) ^ ((100.0 * 1.0) / +(150.0 * 1.0)) * (PY†U / 50.0) ^ ((50.0 * 1.0) / +(150.0 * 1.0)))) * 1.0) / PX) ^ 1.0 - PX†U  ┴  PX†U\n",
       "    50.0 * ((PX†U / 100.0) ^ 0.6666666666666666 * (PY†U / 50.0) ^ 0.3333333333333333) * (((((PX / 1.0) ^ 0.6666666666666666 * (PY / 1.0) ^ 0.3333333333333333) * ((PX†U / 100.0) ^ ((100.0 * 1.0) / +(150.0 * 1.0)) * (PY†U / 50.0) ^ ((50.0 * 1.0) / +(150.0 * 1.0)))) * 1.0) / PY) ^ 1.0 - PY†U   ┴  PY†U\n",
       "  Compensated Supply\n",
       "    100.0 * ((PL†X / (50.0 + diff)) ^ (((50.0 + diff) * 1.0) / +(100.0 * 1.0)) * (PK†X / 50.0) ^ ((50.0 * 1.0) / +(100.0 * 1.0))) * ((PX / (+(1.0 * (PX / 1.0) ^ (1.0 + 0.0))) ^ (1.0 / (1.0 + 0.0))) / 1.0) ^ 0.0 - PX‡X                                                                           ┴  PX‡X\n",
       "    50.0 * ((PL†Y / 20.0) ^ ((20.0 * 1.0) / +(50.0 * 1.0)) * (PK†Y / 30.0) ^ ((30.0 * 1.0) / +(50.0 * 1.0))) * ((PY / (+(1.0 * (PY / 1.0) ^ (1.0 + 0.0))) ^ (1.0 / (1.0 + 0.0))) / 1.0) ^ 0.0 - PY‡Y                                                                                                ┴  PY‡Y\n",
       "    150.0 * ((PX†U / 100.0) ^ ((100.0 * 1.0) / +(150.0 * 1.0)) * (PY†U / 50.0) ^ ((50.0 * 1.0) / +(150.0 * 1.0))) * ((PU / (+(1.0 * (PU / 1.0) ^ (1.0 + 0.0))) ^ (1.0 / (1.0 + 0.0))) / 1.0) ^ 0.0 - PU‡U                                                                                           ┴  PU‡U\n",
       "  Final Demand\n",
       "    150.0 * (RA / 150.0) * (1.0 / PU) - PUρRA                                                                                                                                                                                                                                                       ┴  PUρRA\n",
       "  Zero Profit\n",
       "    (PL * PL†X + PK * PK†X) - +(PX * PX‡X)                                                                                                                                                                                                                                                          ┴  0.0 < X\n",
       "    (PL * PL†Y + PK * PK†Y) - +(PY * PY‡Y)                                                                                                                                                                                                                                                          ┴  0.0 < Y\n",
       "    (PX * PX†U + PY * PY†U) - +(PU * PU‡U)                                                                                                                                                                                                                                                          ┴  0.0 < U\n",
       "  Market clearance\n",
       "    (0.0 + U * PU‡U) - (0.0 + PUρRA)                                                                                                                                                                                                                                                                ┴  0.001 < PU\n",
       "    (0.0 + 70.0 * endow) - (0.0 + X * PL†X + Y * PL†Y)                                                                                                                                                                                                                                              ┴  0.001 < PL\n",
       "    (0.0 + 80.0) - (0.0 + X * PK†X + Y * PK†Y)                                                                                                                                                                                                                                                      ┴  0.001 < PK\n",
       "    (0.0 + Y * PY‡Y) - (0.0 + U * PY†U)                                                                                                                                                                                                                                                             ┴  0.001 < PY\n",
       "    (0.0 + X * PX‡X) - (0.0 + U * PX†U)                                                                                                                                                                                                                                                             ┴  0.001 < PX\n",
       "  Income balance\n",
       "    ((70.0 * endow) * PL + 80.0 * PK) - RA                                                                                                                                                                                                                                                          ┴  0.0 < RA\n"
      ]
     },
     "metadata": {},
     "output_type": "display_data"
    }
   ],
   "source": [
    "algebraic_version(m)"
   ]
  },
  {
   "cell_type": "code",
   "execution_count": 4,
   "metadata": {},
   "outputs": [
    {
     "name": "stdout",
     "output_type": "stream",
     "text": [
      "Path 5.0.03 (Fri Jun 26 10:05:33 2020)\n",
      "Written by Todd Munson, Steven Dirkse, Youngdae Kim, and Michael Ferris\n",
      "Preprocessed size   : 18\n",
      "\n",
      "Crash Log\n",
      "major  func  diff  size  residual    step       prox   (label)\n",
      "    0     0             1.9074e+01             0.0e+00 (F_PL)\n",
      "    1     1     0    18 1.0796e+00  1.0e+00    0.0e+00 (F_U)\n",
      "pn_search terminated: no basis change.\n",
      "\n",
      "Major Iteration Log\n",
      "major minor  func  grad  residual    step  type prox    inorm  (label)\n",
      "    0     0     2     2 1.0796e+00           I 0.0e+00 5.5e-01 (F_U)\n",
      "    1     1     3     3 7.7468e-03  1.0e+00 SO 0.0e+00 6.9e-03 (F_PUρRA)\n",
      "    2     1     4     4 3.7219e-07  1.0e+00 SO 0.0e+00 3.7e-07 (F_PUρRA)\n",
      "\n",
      "Major Iterations. . . . 2\n",
      "Minor Iterations. . . . 2\n",
      "Restarts. . . . . . . . 0\n",
      "Crash Iterations. . . . 1\n",
      "Gradient Steps. . . . . 0\n",
      "Function Evaluations. . 4\n",
      "Gradient Evaluations. . 4\n",
      "Basis Time. . . . . . . 0.000000\n",
      "Total Time. . . . . . . 0.015000\n",
      "Residual. . . . . . . . 3.721867e-07\n",
      "Postsolved residual: 3.7219e-07\n"
     ]
    },
    {
     "data": {
      "text/plain": [
       "MPSGE model with 3 sectors, 5 commodities and 1 consumers.\n",
       "  Sectors: X (bm=1.0), Y (bm=1.0), U (bm=1.0)\n",
       "  Commodities: PX (bm=1.0), PY (bm=1.0), PU (bm=1.0), PL (bm=1.0), PK (bm=1.0)\n",
       "  Consumers: RA (bm=150.0)\n",
       "Solution:\n",
       "  X:\t0.9020930291628653\n",
       "  Y:\t1.0099816813556821\n",
       "  U:\t0.9367104898884957\n",
       "  PX:\t1.1085331161025314\n",
       "  PY:\t0.9901169651061226\n",
       "  PU:\t1.0675657080571552\n",
       "  PL:\t1.0649350617201008\n",
       "  PK:\t0.9431818164588865\n",
       "  PX‡X:\t100.00000006434847\n",
       "  PY‡Y:\t50.00000002705353\n",
       "  PU‡U:\t150.00000000222863\n",
       "  PL†X:\t56.77852565734438\n",
       "  PK†X:\t53.423282858504805\n",
       "  PL†Y:\t18.594879633709326\n",
       "  PK†Y:\t31.492877066506924\n",
       "  PX†U:\t96.30435865454555\n",
       "  PY†U:\t53.911090610017936\n",
       "  RA:\t150.0\n",
       "  PUρRA:\t140.50657348545147\n"
      ]
     },
     "metadata": {},
     "output_type": "display_data"
    }
   ],
   "source": [
    "set_value(diff, 10.0)\n",
    "set_fixed!(RA, true)\n",
    "solve!(m)"
   ]
  },
  {
   "cell_type": "markdown",
   "metadata": {},
   "source": [
    "copy and paste results into Excel to turn into  var\"Variable\" = Value;\n",
    "\n",
    "Any variable that is given a value can no longer be updated with set_value\n"
   ]
  },
  {
   "attachments": {},
   "cell_type": "markdown",
   "metadata": {},
   "source": [
    "This WAS MPSGE.jl + DIFF IN INPUT-> PL of X: from updating diff = 10 and set_fixed(RA, true), not match to GAMS"
   ]
  },
  {
   "cell_type": "code",
   "execution_count": 36,
   "metadata": {},
   "outputs": [],
   "source": [
    "var\"X\" = 0.907085116015307;\n",
    "var\"Y\" = 1.0099816812365;\n",
    "var\"U\" = 0.940163081141929;\n",
    "var\"PX\" = 1.10243237351448;\n",
    "var\"PY\" = 0.990116965766566;\n",
    "var\"PU\" = 1.06364525277147;\n",
    "var\"PL\" = 1.06493506229893;\n",
    "var\"PK\" = 0.943181817041456;\n",
    "var\"PX‡X\" = 100.000000061341;\n",
    "var\"PY‡Y\" = 50.0000000276231;\n",
    "var\"PU‡U\" = 150.000000000967;\n",
    "var\"PL†X\" = 56.4660485536119;\n",
    "var\"PK†X\" = 53.1292711343664;\n",
    "var\"PL†Y\" = 18.5948796353724;\n",
    "var\"PK†Y\" = 31.4928770648795;\n",
    "var\"PX†U\" = 96.4816779936831;\n",
    "var\"PY†U\" = 53.7131111648588;\n",
    "var\"RA\" = 150;\n",
    "var\"PUρRA\" = 141.024462172411;\n",
    "var\"diff\" = 10 ;\n",
    "var\"endow\" = 1;"
   ]
  },
  {
   "attachments": {},
   "cell_type": "markdown",
   "metadata": {},
   "source": [
    "GAMS + DIFF IN INPUT -> PL of X: from updating diff=10, not RA.FX = RA.FX"
   ]
  },
  {
   "cell_type": "code",
   "execution_count": 42,
   "metadata": {},
   "outputs": [],
   "source": [
    "var\"X\" = 0.90209303;\n",
    "var\"Y\" = 1.00998168;\n",
    "var\"U\" = 0.93671049;\n",
    "var\"PX\" = 1.10853311;\n",
    "var\"PY\" = 0.99011696;\n",
    "var\"PU\" = 1.06756571;\n",
    "var\"PL\" = 1.06493506;\n",
    "var\"PK\" = 0.94318182;\n",
    "var\"PX‡X\" = 100;\n",
    "var\"PY‡Y\" = 50;\n",
    "var\"PU‡U\" = 150;\n",
    "var\"PL†X\" = 56.77852579;\n",
    "var\"PK†X\" = 53.42328265;\n",
    "var\"PL†Y\" = 18.59487971;\n",
    "var\"PK†Y\" = 31.49287695;\n",
    "var\"PX†U\" = 96.30435869;\n",
    "var\"PY†U\" = 53.91109057;\n",
    "var\"RA\" = 150;\n",
    "var\"PUρRA\" = 140.5066;\n",
    "var\"diff\" = 10 ;\n",
    "var\"endow\" = 1;"
   ]
  },
  {
   "attachments": {},
   "cell_type": "markdown",
   "metadata": {},
   "source": [
    "This is MPSGE.jl + diff in output of X, from updating diff = 10 and set_fixed(RA, true), ~ match to GAMS"
   ]
  },
  {
   "cell_type": "code",
   "execution_count": 64,
   "metadata": {},
   "outputs": [],
   "source": [
    "var\"X\" = 1.0000000000544 ;\n",
    "var\"Y\" = 1.00000000000066 ;\n",
    "var\"U\" = 1.0656022367644 ;\n",
    "var\"PX\" = 0.909090908368919 ;\n",
    "var\"PY\" = 0.999999999222552 ;\n",
    "var\"PU\" = 0.938436467833448 ;\n",
    "var\"PL\" = 0.999999999157994 ;\n",
    "var\"PK\" = 0.999999999269399 ;\n",
    "var\"PX‡X\" = 109.999999994235 ;\n",
    "var\"PY‡Y\" = 50.0000000001482 ;\n",
    "var\"PU‡U\" = 150.000000000481 ;\n",
    "var\"PL†X\" = 49.9999999971192 ;\n",
    "var\"PK†X\" = 49.9999999971148 ;\n",
    "var\"PL†Y\" = 20.0000000001045 ;\n",
    "var\"PK†Y\" = 30.0000000000426 ;\n",
    "var\"PX†U\" = 103.228011545968 ;\n",
    "var\"PY†U\" = 46.921823429979 ;\n",
    "var\" RA\" = 150 ;\n",
    "var\"PUρRA\" = 159.840335515262 ;\n",
    "var\"diff\" = 10 ;\n"
   ]
  },
  {
   "cell_type": "markdown",
   "metadata": {},
   "source": [
    "GAMS for diff=10, RA.FX = 150, SAME as no RA.FX"
   ]
  },
  {
   "cell_type": "code",
   "execution_count": 5,
   "metadata": {},
   "outputs": [],
   "source": [
    "var\"X\" = 1 ;\n",
    "var\"Y\" = 1 ;\n",
    "var\"U\" = 1.06560224 ;\n",
    "var\"PX\" = 0.90909091 ;\n",
    "var\"PY\" = 1 ;\n",
    "var\"PU\" = 0.93843647 ;\n",
    "var\"PL\" = 1 ;\n",
    "var\"PK\" = 1 ;\n",
    "var\"PX‡X\" = 110 ;\n",
    "var\"PY‡Y\" = 50 ;\n",
    "var\"PU‡U\" = 150 ;\n",
    "var\"PL†X\" = 50 ;\n",
    "var\"PK†X\" = 50 ;\n",
    "var\"PL†Y\" = 20 ;\n",
    "var\"PK†Y\" = 30 ;\n",
    "var\"PX†U\" = 103.228 ;\n",
    "var\"PY†U\" = 46.92182343 ;\n",
    "var\" RA\" = 150 ;\n",
    "var\"PUρRA\" = 159.8403 ;\n",
    "var\"diff\" = 10 ;"
   ]
  },
  {
   "cell_type": "code",
   "execution_count": 11,
   "metadata": {},
   "outputs": [
    {
     "name": "stdout",
     "output_type": "stream",
     "text": [
      "Path 5.0.03 (Fri Jun 26 10:05:33 2020)\n",
      "Written by Todd Munson, Steven Dirkse, Youngdae Kim, and Michael Ferris\n",
      "Preprocessed size   : 18\n",
      "\n",
      "Crash Log\n",
      "major  func  diff  size  residual    step       prox   (label)\n",
      "    0     0             2.0339e+01             0.0e+00 (F_X)\n",
      "    1     1     0    18 1.1343e+00  1.0e+00    0.0e+00 (F_PUρRA)\n",
      "pn_search terminated: no basis change.\n",
      "\n",
      "Major Iteration Log\n",
      "major minor  func  grad  residual    step  type prox    inorm  (label)\n",
      "    0     0     2     2 1.1343e+00           I 0.0e+00 7.5e-01 (F_PUρRA)\n",
      "    1     1     3     3 7.5344e-03  1.0e+00 SO 0.0e+00 7.1e-03 (F_PUρRA)\n",
      "    2     1     4     4 3.2388e-07  1.0e+00 SO 0.0e+00 3.1e-07 (F_PUρRA)\n",
      "\n",
      "Major Iterations. . . . 2\n",
      "Minor Iterations. . . . 2\n",
      "Restarts. . . . . . . . 0\n",
      "Crash Iterations. . . . 1\n",
      "Gradient Steps. . . . . 0\n",
      "Function Evaluations. . 4\n",
      "Gradient Evaluations. . 4\n",
      "Basis Time. . . . . . . 0.000000\n",
      "Total Time. . . . . . . 0.062000\n",
      "Residual. . . . . . . . 3.238794e-07\n",
      "Postsolved residual: 3.2388e-07\n"
     ]
    },
    {
     "data": {
      "text/plain": [
       "MPSGE model with 3 sectors, 5 commodities and 1 consumers.\n",
       "  Sectors: X (bm=1.0), Y (bm=1.0), U (bm=1.0)\n",
       "  Commodities: PX (bm=1.0), PY (bm=1.0), PU (bm=1.0), PL (bm=1.0), PK (bm=1.0)\n",
       "  Consumers: RA (bm=150.0)\n",
       "Solution:\n",
       "  X:\t1.0490471384748339\n",
       "  Y:\t1.038860117925871\n",
       "  U:\t1.1140833642577646\n",
       "  PX:\t0.9072153620826622\n",
       "  PY:\t1.0075145309934235\n",
       "  PU:\t0.9394868447662132\n",
       "  PL:\t0.9515151488881527\n",
       "  PK:\t1.0466666656603176\n",
       "  PX‡X:\t109.97728483613315\n",
       "  PY‡Y:\t50.00000001746365\n",
       "  PU‡U:\t150.00000000072828\n",
       "  PL†X:\t52.4285306016761\n",
       "  PK†X:\t47.662300541097125\n",
       "  PL†Y:\t21.177057063675093\n",
       "  PK†Y:\t28.87780509173232\n",
       "  PX†U:\t103.55720196011843\n",
       "  PY†U:\t46.62398486772982\n",
       "  RA:\t157.0\n",
       "  PUρRA:\t167.112504639448\n"
      ]
     },
     "metadata": {},
     "output_type": "display_data"
    }
   ],
   "source": [
    "set_value(diff, 10.0)\n",
    "set_value(endow, 1.1)\n",
    "set_fixed!(RA, true)\n",
    "solve!(m)"
   ]
  },
  {
   "cell_type": "markdown",
   "metadata": {},
   "source": [
    "set_value(diff, 10.0)\n",
    "set_value(endow, 1.1)\n",
    "set_fixed!(RA, true)"
   ]
  },
  {
   "cell_type": "code",
   "execution_count": 14,
   "metadata": {},
   "outputs": [],
   "source": [
    "var\"X\" = 1.04904713847483 ;\n",
    "var\"Y\" = 1.03886011792587 ;\n",
    "var\"U\" = 1.11408336425776 ;\n",
    "var\"PX\" = 0.907215362082662 ;\n",
    "var\"PY\" = 1.00751453099342 ;\n",
    "var\"PU\" = 0.939486844766213 ;\n",
    "var\"PL\" = 0.951515148888152 ;\n",
    "var\"PK\" = 1.04666666566031 ;\n",
    "var\"PX‡X\" = 109.977284836133 ;\n",
    "var\"PY‡Y\" = 50.0000000174636 ;\n",
    "var\"PU‡U\" = 150.000000000728 ;\n",
    "var\"PL†X\" = 52.4285306016761 ;\n",
    "var\"PK†X\" = 47.6623005410971 ;\n",
    "var\"PL†Y\" = 21.177057063675 ;\n",
    "var\"PK†Y\" = 28.8778050917323 ;\n",
    "var\"PX†U\" = 103.557201960118 ;\n",
    "var\"PY†U\" = 46.6239848677298 ;\n",
    "var\" RA\" = 157 ;\n",
    "var\"PUρRA\" = 167.112504639448 ;\n",
    "var\"diff\" = 10 ;"
   ]
  },
  {
   "cell_type": "markdown",
   "metadata": {},
   "source": [
    "GAMS diff=10, endow=1.1, RA.FX=80+70*1.1 SAME as NO RA.FX"
   ]
  },
  {
   "cell_type": "code",
   "execution_count": 56,
   "metadata": {},
   "outputs": [],
   "source": [
    "var\"X\" = 1.04880885 ;\n",
    "var\"Y\" = 1.03886012 ;\n",
    "var\"U\" = 1.11406803 ;\n",
    "var\"PX\" = 0.9072341 ;\n",
    "var\"PY\" = 1.00751453 ;\n",
    "var\"PU\" = 0.93949978 ;\n",
    "var\"PL\" = 0.95151515 ;\n",
    "var\"PK\" = 1.04666667 ;\n",
    "var\"PX‡X\" = 110 ;\n",
    "var\"PY‡Y\" = 50 ;\n",
    "var\"PU‡U\" = 150 ;\n",
    "var\"PL†X\" = 52.44044241 ;\n",
    "var\"PK†X\" = 47.67312946 ;\n",
    "var\"PL†Y\" = 21.17705706 ;\n",
    "var\"PK†Y\" = 28.87780508 ;\n",
    "var\"PX†U\" = 103.5565 ;\n",
    "var\"PY†U\" = 46.6246268 ;\n",
    "var\" RA\" = 157 ;\n",
    "var\"PUρRA\" = 167.1102 ;\n",
    "# var\"diff\" = 10 ;\n",
    "var\"diff\" = 0 ;"
   ]
  },
  {
   "cell_type": "markdown",
   "metadata": {},
   "source": [
    "GAMS for diff=10, PX.FX=1"
   ]
  },
  {
   "cell_type": "code",
   "execution_count": 102,
   "metadata": {},
   "outputs": [],
   "source": [
    "var\"X\" = 1 ;\n",
    "var\"Y\" = 1 ;\n",
    "var\"U\" = 1.06560224 ;\n",
    "var\"PX\" = 1 ;\n",
    "var\"PY\" = 1.1 ;\n",
    "var\"PU\" = 1.03228012 ;\n",
    "var\"PL\" = 1.1 ;\n",
    "var\"PK\" = 1.1 ;\n",
    "var\"PX‡X\" = 110 ;\n",
    "var\"PY‡Y\" = 50 ;\n",
    "var\"PU‡U\" = 150 ;\n",
    "var\"PL†X\" = 50 ;\n",
    "var\"PK†X\" = 50 ;\n",
    "var\"PL†Y\" = 20 ;\n",
    "var\"PK†Y\" = 30 ;\n",
    "var\"PX†U\" = 103.228 ;\n",
    "var\"PY†U\" = 46.92182343 ;\n",
    "var\" RA\" = 165 ;\n",
    "var\"PUρRA\" = 159.840335515262 ;\n",
    "var\"diff\" = 10 ;"
   ]
  },
  {
   "cell_type": "code",
   "execution_count": 11,
   "metadata": {},
   "outputs": [],
   "source": [
    "var\"X\" = 1.04904713847483 ;\n",
    "var\"Y\" = 1.03886011792587 ;\n",
    "var\"U\" = 1.11408336425776 ;\n",
    "var\"PX\" = 0.907215362082662 ;\n",
    "var\"PY\" = 1.00751453099342 ;\n",
    "var\"PU\" = 0.939486844766213 ;\n",
    "var\"PL\" = 0.951515148888152 ;\n",
    "var\"PK\" = 1.04666666566031 ;\n",
    "var\"PX‡X\" = 109.977284836133 ;\n",
    "var\"PY‡Y\" = 50.0000000174636 ;\n",
    "var\"PU‡U\" = 150.000000000728 ;\n",
    "var\"PL†X\" = 52.4285306016761 ;\n",
    "var\"PK†X\" = 47.6623005410971 ;\n",
    "var\"PL†Y\" = 21.177057063675 ;\n",
    "var\"PK†Y\" = 28.8778050917323 ;\n",
    "var\"PX†U\" = 103.557201960118 ;\n",
    "var\"PY†U\" = 46.6239848677298 ;\n",
    "var\" RA\" = 157 ;\n",
    "var\"PUρRA\" = 167.112504639448 ;\n",
    "var\"diff\" = 10 ;"
   ]
  },
  {
   "attachments": {},
   "cell_type": "markdown",
   "metadata": {},
   "source": [
    "set_value(diff, 10.0)\n",
    "set_value(endow, 1.1)\n",
    "set_fixed!(RA, false)"
   ]
  },
  {
   "cell_type": "code",
   "execution_count": null,
   "metadata": {},
   "outputs": [],
   "source": [
    "var\"X\" = 1.03523426518343 ;\n",
    "var\"Y\" = 1.03886011829416 ;\n",
    "var\"U\" = 1.11318877431167 ;\n",
    "var\"PX\" = 1.02338957692563 ;\n",
    "var\"PY\" = 1.1351639913029 ;\n",
    "var\"PU\" = 1.05936802743385 ;\n",
    "var\"PL\" = 1.07206963405921 ;\n",
    "var\"PK\" = 1.1792765990823 ;\n",
    "var\"PX‡X\" = 111.310479273694 ;\n",
    "var\"PY‡Y\" = 50.0000000039924 ;\n",
    "var\"PU‡U\" = 150.000000097099 ;\n",
    "var\"PL†X\" = 53.1280714406104 ;\n",
    "var\"PK†X\" = 48.2982467638607 ;\n",
    "var\"PL†Y\" = 21.177057057939 ;\n",
    "var\"PK†Y\" = 28.8778050837489 ;\n",
    "var\"PX†U\" = 103.515616409909 ;\n",
    "var\"PY†U\" = 46.6614531888854 ;\n",
    "var\" RA\" = 176.891489749144 ;\n",
    "var\"PUρRA\" = 166.978316299905 ;\n",
    "var\"diff\" = 10;"
   ]
  },
  {
   "cell_type": "markdown",
   "metadata": {},
   "source": [
    " Compensated Demand\n"
   ]
  },
  {
   "cell_type": "markdown",
   "metadata": {},
   "source": [
    "PL†X"
   ]
  },
  {
   "cell_type": "code",
   "execution_count": 112,
   "metadata": {},
   "outputs": [
    {
     "data": {
      "text/plain": [
       "-4.185437774140155e-9"
      ]
     },
     "metadata": {},
     "output_type": "display_data"
    }
   ],
   "source": [
    "(50.0+var\"diff\") * ((var\"PL†X\" / (50.0+var\"diff\")) ^ (((50.0) * 1.0) / +((100.0 ) * 1.0)) * (var\"PK†X\" / 50.0) ^ ((50.0 * 1.0) / +((100.0 ) * 1.0))) * (((((var\"PL\" / 1.0) ^ ((50.0 * 1.0) / +((100.0 ) * 1.0)) * (var\"PK\" / 1.0) ^ ((50.0 * 1.0) / +((100.0 ) * 1.0))) * ((var\"PL†X\" / (50.0+var\"diff\")) ^ (((50.0) * 1.0) / +((100.0 ) * 1.0)) * (var\"PK†X\" / 50.0) ^ ((50.0 * 1.0) / +((100.0 ) * 1.0)))) * 1.0) / PL) ^ 1.0 - var\"PL†X\""
   ]
  },
  {
   "attachments": {},
   "cell_type": "markdown",
   "metadata": {},
   "source": [
    "With GAMS values <br>\n",
    "ABOVE: Adding +diff to *1* of the numerators in the exponent of (PL:X/50+diff) BUT NOT the other one! -4.185437774140155e-9 , OR ALSO to the denominators of that exponent and the adjascent PK:X, -4.515321450071497e-9"
   ]
  },
  {
   "cell_type": "markdown",
   "metadata": {},
   "source": [
    "PK†X"
   ]
  },
  {
   "cell_type": "code",
   "execution_count": 133,
   "metadata": {},
   "outputs": [
    {
     "data": {
      "text/plain": [
       "1.0456602694830508e-8"
      ]
     },
     "metadata": {},
     "output_type": "display_data"
    }
   ],
   "source": [
    "(50.0) * ((var\"PL†X\" / (50.0+var\"diff\")) ^ (((50.0+var\"diff\") * 1.0) / +((100.0+var\"diff\" ) * 1.0)) * (var\"PK†X\" / 50.0) ^ (((50.0) * 1.0) / +((100.0+var\"diff\" ) * 1.0))) * (((((var\"PL\" / 1.0) ^ ((50.0 * 1.0) / +((100.0 ) * 1.0)) * (var\"PK\" / 1.0) ^ ((50.0 * 1.0) / +((100.0 ) * 1.0))) * ((var\"PL†X\" / (50.0+var\"diff\")) ^ (((50.0) * 1.0) / +((100.0 ) * 1.0)) * (var\"PK†X\" / 50.0) ^ (((50.0) * 1.0) / +((100.0 ) * 1.0)))) * 1.0) / PK) ^ 1.0 - var\"PK†X\""
   ]
  },
  {
   "cell_type": "markdown",
   "metadata": {},
   "source": [
    "PL†Y"
   ]
  },
  {
   "cell_type": "code",
   "execution_count": 92,
   "metadata": {},
   "outputs": [
    {
     "data": {
      "text/plain": [
       "-4.787509055859118e-9"
      ]
     },
     "metadata": {},
     "output_type": "display_data"
    }
   ],
   "source": [
    "20.0 * ((var\"PL†Y\" / 20.0) ^ ((20.0 * 1.0) / +(50.0 * 1.0)) * (var\"PK†Y\" / 30.0) ^ ((30.0 * 1.0) / +(50.0 * 1.0))) * (((((var\"PL\" / 1.0) ^ ((20.0 * 1.0) / +(50.0 * 1.0)) * (var\"PK\" / 1.0) ^ ((30.0 * 1.0) / +(50.0 * 1.0))) * ((var\"PL†Y\" / 20.0) ^ ((20.0 * 1.0) / +(50.0 * 1.0)) * (var\"PK†Y\" / 30.0) ^ ((30.0 * 1.0) / +(50.0 * 1.0)))) * 1.0) / PL) ^ 1.0 - var\"PL†Y\""
   ]
  },
  {
   "cell_type": "markdown",
   "metadata": {},
   "source": [
    "PK†Y"
   ]
  },
  {
   "cell_type": "code",
   "execution_count": 93,
   "metadata": {},
   "outputs": [
    {
     "data": {
      "text/plain": [
       "3.295042461104458e-9"
      ]
     },
     "metadata": {},
     "output_type": "display_data"
    }
   ],
   "source": [
    "30.0 * ((var\"PL†Y\" / 20.0) ^ ((20.0 * 1.0) / +(50.0 * 1.0)) * (var\"PK†Y\" / 30.0) ^ ((30.0 * 1.0) / +(50.0 * 1.0))) * (((((var\"PL\" / 1.0) ^ ((20.0 * 1.0) / +(50.0 * 1.0)) * (var\"PK\" / 1.0) ^ ((30.0 * 1.0) / +(50.0 * 1.0))) * ((var\"PL†Y\" / 20.0) ^ ((20.0 * 1.0) / +(50.0 * 1.0)) * (var\"PK†Y\" / 30.0) ^ ((30.0 * 1.0) / +(50.0 * 1.0)))) * 1.0) / PK) ^ 1.0 - var\"PK†Y\""
   ]
  },
  {
   "cell_type": "markdown",
   "metadata": {},
   "source": [
    "PX†U"
   ]
  },
  {
   "cell_type": "code",
   "execution_count": 94,
   "metadata": {},
   "outputs": [
    {
     "data": {
      "text/plain": [
       "-9.422052471563802e-9"
      ]
     },
     "metadata": {},
     "output_type": "display_data"
    }
   ],
   "source": [
    "100.0 * ((var\"PX†U\" / 100.0) ^ ((100.0 * 1.0) / +(150.0 * 1.0)) * (var\"PY†U\" / 50.0) ^ ((50.0 * 1.0) / +(150.0 * 1.0))) * (((((var\"PX\" / 1.0) ^ ((100.0 * 1.0) / +(150.0 * 1.0)) * (var\"PY\" /1.0) ^ ((50.0 * 1.0) / +(150.0 * 1.0))) * ((var\"PX†U\" / 100.0) ^ ((100.0 * 1.0) / +(150.0 * 1.0)) * (var\"PY†U\" / 50.0) ^ ((50.0 * 1.0) / +(150.0 * 1.0)))) * 1.0) / PX) ^ 1.0 - var\"PX†U\""
   ]
  },
  {
   "cell_type": "markdown",
   "metadata": {},
   "source": [
    "PY†U"
   ]
  },
  {
   "cell_type": "code",
   "execution_count": 95,
   "metadata": {},
   "outputs": [
    {
     "data": {
      "text/plain": [
       "1.2034149676765082e-8"
      ]
     },
     "metadata": {},
     "output_type": "display_data"
    }
   ],
   "source": [
    "50.0 * ((var\"PX†U\" / 100.0) ^ ((100.0 * 1.0) / +(150.0 * 1.0)) * (var\"PY†U\" / 50.0) ^ ((50.0 * 1.0) / +(150.0 * 1.0))) * (((((var\"PX\" / 1.0) ^ ((100.0 * 1.0) / +(150.0 * 1.0)) * (var\"PY\" /1.0) ^ ((50.0 * 1.0) / +(150.0 * 1.0))) * ((var\"PX†U\" / 100.0) ^ ((100.0 * 1.0) / +(150.0 * 1.0)) * (var\"PY†U\" / 50.0) ^ ((50.0 * 1.0) / +(150.0 * 1.0)))) * 1.0) / PY) ^ 1.0 - var\"PY†U\""
   ]
  },
  {
   "cell_type": "markdown",
   "metadata": {},
   "source": [
    "  Compensated Supply\n"
   ]
  },
  {
   "cell_type": "markdown",
   "metadata": {},
   "source": [
    "PX‡X"
   ]
  },
  {
   "cell_type": "code",
   "execution_count": 100,
   "metadata": {},
   "outputs": [
    {
     "data": {
      "text/plain": [
       "5.810306902276352e-9"
      ]
     },
     "metadata": {},
     "output_type": "display_data"
    }
   ],
   "source": [
    "(100.0 ) * ((var\"PL†X\" / (50.0+var\"diff\")) ^ (((50.0+var\"diff\") * 1.0) / +((100.0+var\"diff\" ) * 1.0)) * (var\"PK†X\" / 50.0) ^ ((50.0 * 1.0) / +((100.0+var\"diff\" ) * 1.0))) * ((var\"PX\" / (+((((100.0 ) * 1.0) / +((100.0 ) * 1.0)) * (var\"PX\" / 1.0) ^ (1.0 + 0.0))) ^ (1.0 / (1.0 + 0.0))) / 1.0) ^ 0.0 - var\"PX‡X\" "
   ]
  },
  {
   "attachments": {},
   "cell_type": "markdown",
   "metadata": {},
   "source": [
    "Above: Added +var\"diff\" to the numerator of the exponenet of PL:X. Hypothesis is that it either SHOULD be there (or - less likely - that MPSGE is wrong)"
   ]
  },
  {
   "cell_type": "markdown",
   "metadata": {},
   "source": [
    "PY‡Y"
   ]
  },
  {
   "cell_type": "code",
   "execution_count": 97,
   "metadata": {},
   "outputs": [
    {
     "data": {
      "text/plain": [
       "-2.0104238274143427e-9"
      ]
     },
     "metadata": {},
     "output_type": "display_data"
    }
   ],
   "source": [
    "50.0 * ((var\"PL†Y\" / 20.0) ^ ((20.0 * 1.0) / +(50.0 * 1.0)) * (var\"PK†Y\" / 30.0) ^ ((30.0 * 1.0) / +(50.0 * 1.0))) * ((var\"PY\" /(+(((50.0 * 1.0) / +(50.0 * 1.0)) * (var\"PY\" /1.0) ^ (1.0 + 0.0))) ^ (1.0 / (1.0 + 0.0))) / 1.0) ^ 0.0 - var\"PY‡Y\""
   ]
  },
  {
   "cell_type": "markdown",
   "metadata": {},
   "source": [
    "PU‡U"
   ]
  },
  {
   "cell_type": "code",
   "execution_count": 98,
   "metadata": {},
   "outputs": [
    {
     "data": {
      "text/plain": [
       "1.3774865692539606e-9"
      ]
     },
     "metadata": {},
     "output_type": "display_data"
    }
   ],
   "source": [
    "150.0 * ((var\"PX†U\" / 100.0) ^ ((100.0 * 1.0) / +(150.0 * 1.0)) * (var\"PY†U\" / 50.0) ^ ((50.0 * 1.0) / +(150.0 * 1.0))) * ((var\"PU\" / (+(((150.0 * 1.0) / +(150.0 * 1.0)) * (var\"PU\" / 1.0) ^ (1.0 + 0.0))) ^ (1.0 / (1.0 + 0.0))) / 1.0) ^ 0.0 - var\"PU‡U\""
   ]
  },
  {
   "cell_type": "markdown",
   "metadata": {},
   "source": [
    "  Final Demand\n"
   ]
  },
  {
   "cell_type": "code",
   "execution_count": 52,
   "metadata": {},
   "outputs": [
    {
     "data": {
      "text/plain": [
       "-2.640463787884073e-5"
      ]
     },
     "metadata": {},
     "output_type": "display_data"
    }
   ],
   "source": [
    "150.0 * (\n",
    "    # 165\n",
    "    # 157 \n",
    "var\"RA\"\n",
    " / 150.0) * (1.0 / var\"PU\") - var\"PUρRA\""
   ]
  },
  {
   "cell_type": "markdown",
   "metadata": {},
   "source": [
    "  Zero Profit\n"
   ]
  },
  {
   "cell_type": "code",
   "execution_count": 53,
   "metadata": {},
   "outputs": [
    {
     "data": {
      "text/plain": [
       "7.290866079756597e-7"
      ]
     },
     "metadata": {},
     "output_type": "display_data"
    }
   ],
   "source": [
    "(var\"PL\" * var\"PL†X\" + var\"PK\" * var\"PK†X\") - +(var\"PX\" * var\"PX‡X\")"
   ]
  },
  {
   "cell_type": "code",
   "execution_count": 54,
   "metadata": {},
   "outputs": [
    {
     "data": {
      "text/plain": [
       "3.383986779681436e-7"
      ]
     },
     "metadata": {},
     "output_type": "display_data"
    }
   ],
   "source": [
    "(var\"PL\" * var\"PL†Y\" + var\"PK\" * var\"PK†Y\") - +(var\"PY\" * var\"PY‡Y\")"
   ]
  },
  {
   "cell_type": "code",
   "execution_count": 55,
   "metadata": {},
   "outputs": [
    {
     "data": {
      "text/plain": [
       "-1.1493657154915127e-6"
      ]
     },
     "metadata": {},
     "output_type": "display_data"
    }
   ],
   "source": [
    "(var\"PX\" * var\"PX†U\" + var\"PY\" * var\"PY†U\") - +(var\"PU\" * var\"PU‡U\")"
   ]
  },
  {
   "cell_type": "markdown",
   "metadata": {},
   "source": [
    "  Market clearance\n"
   ]
  },
  {
   "cell_type": "code",
   "execution_count": 56,
   "metadata": {},
   "outputs": [
    {
     "data": {
      "text/plain": [
       "-2.177379627710252e-7"
      ]
     },
     "metadata": {},
     "output_type": "display_data"
    }
   ],
   "source": [
    "(0.0 + 70.0 * \n",
    "# 1.1\n",
    "# 1.0\n",
    "var\"endow\"\n",
    ") - (0.0 + var\"X\" * var\"PL†X\" + var\"Y\" * var\"PL†Y\")"
   ]
  },
  {
   "cell_type": "code",
   "execution_count": 57,
   "metadata": {},
   "outputs": [
    {
     "data": {
      "text/plain": [
       "3.1172079673069675e-7"
      ]
     },
     "metadata": {},
     "output_type": "display_data"
    }
   ],
   "source": [
    "(0.0 + 80.0) - (0.0 + var\"X\" * var\"PK†X\" + var\"Y\" * var\"PK†Y\")"
   ]
  },
  {
   "cell_type": "code",
   "execution_count": 58,
   "metadata": {},
   "outputs": [
    {
     "data": {
      "text/plain": [
       "-2.649999998993735e-5"
      ]
     },
     "metadata": {},
     "output_type": "display_data"
    }
   ],
   "source": [
    "(0.0 + var\"U\" * var\"PU‡U\") - (0.0 + var\"PUρRA\")"
   ]
  },
  {
   "cell_type": "code",
   "execution_count": 59,
   "metadata": {},
   "outputs": [
    {
     "data": {
      "text/plain": [
       "-6.425906917684188e-8"
      ]
     },
     "metadata": {},
     "output_type": "display_data"
    }
   ],
   "source": [
    "(0.0 + var\"Y\" * var\"PY‡Y\") - (0.0 + var\"U\" * var\"PY†U\")"
   ]
  },
  {
   "cell_type": "code",
   "execution_count": 60,
   "metadata": {},
   "outputs": [
    {
     "data": {
      "text/plain": [
       "-1.7645660932430474e-8"
      ]
     },
     "metadata": {},
     "output_type": "display_data"
    }
   ],
   "source": [
    "(0.0 + var\"X\" * var\"PX‡X\") - (0.0 + var\"U\" * var\"PX†U\")"
   ]
  },
  {
   "cell_type": "markdown",
   "metadata": {},
   "source": [
    "  Income balance\n"
   ]
  },
  {
   "cell_type": "code",
   "execution_count": 62,
   "metadata": {},
   "outputs": [
    {
     "data": {
      "text/plain": [
       "-1.9999998812636477e-7"
      ]
     },
     "metadata": {},
     "output_type": "display_data"
    }
   ],
   "source": [
    "((70.0 *\n",
    "# 1.0\n",
    "# 1.1 \n",
    "var\"endow\"\n",
    ") * var\"PL\" + 80.0 * var\"PK\") - \n",
    "# 157\n",
    "# 165\n",
    "var\"RA\""
   ]
  },
  {
   "cell_type": "code",
   "execution_count": 128,
   "metadata": {},
   "outputs": [
    {
     "name": "stdout",
     "output_type": "stream",
     "text": [
      "Path 5.0.03 (Fri Jun 26 10:05:33 2020)\n",
      "Written by Todd Munson, Steven Dirkse, Youngdae Kim, and Michael Ferris\n",
      "Preprocessed size   : 18\n",
      "\n",
      "Crash Log\n",
      "major  func  diff  size  residual    step       prox   (label)\n",
      "    0     0             1.9050e+01             0.0e+00 (F_X)\n",
      "    1     1     0    18 6.8569e-01  1.0e+00    0.0e+00 (F_U)\n",
      "pn_search terminated: no basis change.\n",
      "\n",
      "Major Iteration Log\n",
      "major minor  func  grad  residual    step  type prox    inorm  (label)\n",
      "    0     0     2     2 6.8569e-01           I 0.0e+00 3.8e-01 (F_U)\n",
      "    1     1     3     3 1.6874e-03  1.0e+00 SO 0.0e+00 1.2e-03 (F_PX†U)\n",
      "    2     1     4     4 1.6216e-08  1.0e+00 SO 0.0e+00 1.1e-08 (F_PX†U)\n",
      "\n",
      "Major Iterations. . . . 2\n",
      "Minor Iterations. . . . 2\n",
      "Restarts. . . . . . . . 0\n",
      "Crash Iterations. . . . 1\n",
      "Gradient Steps. . . . . 0\n",
      "Function Evaluations. . 4\n",
      "Gradient Evaluations. . 4\n",
      "Basis Time. . . . . . . 0.000000\n",
      "Total Time. . . . . . . 0.031000\n",
      "Residual. . . . . . . . 1.621590e-08\n",
      "Postsolved residual: 1.6216e-08\n"
     ]
    },
    {
     "data": {
      "text/plain": [
       "MPSGE model with 3 sectors, 5 commodities and 1 consumers.\n",
       "  Sectors: X (bm=1.0), Y (bm=1.0), U (bm=1.0)\n",
       "  Commodities: PX (bm=1.0), PY (bm=1.0), PU (bm=1.0), PL (bm=1.0), PK (bm=1.0)\n",
       "  Consumers: RA (bm=150.0)\n",
       "Solution:\n",
       "  X:\t0.9895706470310774\n",
       "  Y:\t1.0000000000245588\n",
       "  U:\t1.0649253666829481\n",
       "  PX:\t1.0\n",
       "  PY:\t1.0989520874855996\n",
       "  PU:\t1.0319522115565072\n",
       "  PL:\t1.0989520874836924\n",
       "  PK:\t1.0989520874867489\n",
       "  PX‡X:\t111.0534241054662\n",
       "  PY‡Y:\t50.0\n",
       "  PU‡U:\t150.00000001754123\n",
       "  PL†X:\t50.52696353657794\n",
       "  PK†X:\t50.526963536436064\n",
       "  PL†Y:\t20.000000000036078\n",
       "  PK†Y:\t29.99999999996059\n",
       "  PX†U:\t103.1952211659488\n",
       "  PY†U:\t46.95164709168006\n",
       "  RA:\t164.8428131227984\n",
       "  PUρRA:\t159.7388050277728\n"
      ]
     },
     "metadata": {},
     "output_type": "display_data"
    }
   ],
   "source": [
    "set_value(diff,10.)\n",
    "set_fixed!(PX, true)\n",
    "# set_value(endow, 1.1)\n",
    "# set_value(RA,165.)\n",
    "# set_fixed!(RA,true)\n",
    "solve!(m)"
   ]
  },
  {
   "cell_type": "code",
   "execution_count": null,
   "metadata": {},
   "outputs": [],
   "source": []
  }
 ],
 "metadata": {
  "kernelspec": {
   "display_name": "Julia 1.8.3",
   "language": "julia",
   "name": "julia-1.8"
  },
  "language_info": {
   "file_extension": ".jl",
   "mimetype": "application/julia",
   "name": "julia",
   "version": "1.8.3"
  },
  "orig_nbformat": 4,
  "vscode": {
   "interpreter": {
    "hash": "21729f1b7f2a6115a8ac6e11ddfc83af4bcd3abcc69ae9bcbc60331b8ffed3d1"
   }
  }
 },
 "nbformat": 4,
 "nbformat_minor": 2
}
