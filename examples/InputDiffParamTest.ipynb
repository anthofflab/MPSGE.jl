{
 "cells": [
  {
   "cell_type": "code",
   "execution_count": 1,
   "metadata": {},
   "outputs": [],
   "source": [
    "using MPSGE"
   ]
  },
  {
   "cell_type": "code",
   "execution_count": 2,
   "metadata": {},
   "outputs": [
    {
     "name": "stdout",
     "output_type": "stream",
     "text": [
      "PL†A: 40.0\n"
     ]
    },
    {
     "name": "stdout",
     "output_type": "stream",
     "text": [
      "PK†A: 60.0\n",
      "PL†B: 60.0\n"
     ]
    },
    {
     "name": "stdout",
     "output_type": "stream",
     "text": [
      "PK†B: 40.0\n",
      "PX†W: "
     ]
    },
    {
     "name": "stdout",
     "output_type": "stream",
     "text": [
      "100.0 + 0.0\n",
      "PY†W: 100.0"
     ]
    },
    {
     "name": "stdout",
     "output_type": "stream",
     "text": [
      "\n",
      "Out: s.elas1.5 * 1.0PX‡A: 80.0\n"
     ]
    },
    {
     "name": "stdout",
     "output_type": "stream",
     "text": [
      "Out: s.elas1.5 * 1.0PY‡A: 20.0\n",
      "Out: s.elas2.0 * 1.0PX‡B: 20.0\n",
      "Out: s.elas2.0 * 1.0PY‡B: 80.0"
     ]
    },
    {
     "name": "stdout",
     "output_type": "stream",
     "text": [
      "\n",
      "Out: s.elas0.5 * 1.0PW‡W: 200.0\n"
     ]
    },
    {
     "name": "stdout",
     "output_type": "stream",
     "text": [
      "Reading options file C:\\Users\\Eli\\AppData\\Local\\Temp\\jl_38C6.tmp\n",
      " > cumulative_iteration_limit 0\n",
      "Read of options file complete.\n",
      "\n",
      "Path 5.0.03 (Fri Jun 26 10:05:33 2020)\n",
      "Written by Todd Munson, Steven Dirkse, Youngdae Kim, and Michael Ferris\n"
     ]
    },
    {
     "name": "stdout",
     "output_type": "stream",
     "text": [
      "\n",
      "Major Iteration Log\n",
      "major minor  func  grad  residual    step  type prox    inorm  (label)\n",
      "    0     0     1     1 0.0000e+00           I 0.0e+00 0.0e+00 (F_A)\n",
      "\n",
      "Major Iterations. . . . 0\n",
      "Minor Iterations. . . . 0\n",
      "Restarts. . . . . . . . 0\n",
      "Crash Iterations. . . . 0\n",
      "Gradient Steps. . . . . 0\n",
      "Function Evaluations. . 1\n",
      "Gradient Evaluations. . 1\n",
      "Basis Time. . . . . . . 0.000000\n",
      "Total Time. . . . . . . 0.094000\n",
      "Residual. . . . . . . . 0.000000e+00\n"
     ]
    },
    {
     "name": "stdout",
     "output_type": "stream",
     "text": [
      "Path 5.0.03 (Fri Jun 26 10:05:33 2020)\n",
      "Written by Todd Munson, Steven Dirkse, Youngdae Kim, and Michael Ferris\n",
      "Preprocessed size   : 19\n",
      "\n",
      "Crash Log\n",
      "major  func  diff  size  residual    step       prox   (label)\n",
      "    0     0             0.0000e+00             0.0e+00 (F_A)\n",
      "\n",
      "Major Iteration Log\n",
      "major minor  func  grad  residual    step  type prox    inorm  (label)\n",
      "    0     0     1     1 0.0000e+00           I 0.0e+00 0.0e+00 (F_A)\n",
      "\n",
      "Major Iterations. . . . 0\n",
      "Minor Iterations. . . . 0\n",
      "Restarts. . . . . . . . 0\n",
      "Crash Iterations. . . . 0\n",
      "Gradient Steps. . . . . 0\n",
      "Function Evaluations. . 1\n",
      "Gradient Evaluations. . 1\n",
      "Basis Time. . . . . . . 0.000000\n",
      "Total Time. . . . . . . 0.015000\n",
      "Residual. . . . . . . . 0.000000e+00\n",
      "Postsolved residual: 0.0000e+00\n"
     ]
    },
    {
     "data": {
      "text/plain": [
       "MPSGE model with 3 sectors, 5 commodities and 1 consumers.\n",
       "  Sectors: A (bm=1.0), B (bm=1.0), W (bm=1.0)\n",
       "  Commodities: PX (bm=1.0), PY (bm=1.0), PW (bm=1.0), PL (bm=1.0), PK (bm=1.0)\n",
       "  Consumers: CONS (bm=200.0)\n",
       "Solution:\n",
       "  A:\t1.0\n",
       "  B:\t1.0\n",
       "  W:\t1.0\n",
       "  PX:\t1.0\n",
       "  PY:\t1.0\n",
       "  PW:\t1.0\n",
       "  PL:\t1.0\n",
       "  PK:\t1.0\n",
       "  PX‡A:\t80.0\n",
       "  PY‡A:\t20.0\n",
       "  PX‡B:\t20.0\n",
       "  PY‡B:\t80.0\n",
       "  PW‡W:\t200.0\n",
       "  PL†A:\t40.0\n",
       "  PK†A:\t60.0\n",
       "  PL†B:\t60.0\n",
       "  PK†B:\t40.0\n",
       "  PX†W:\t100.0\n",
       "  PY†W:\t100.0\n",
       "  CONS:\t200.0\n",
       "  PWρCONS:\t200.0\n"
      ]
     },
     "metadata": {},
     "output_type": "display_data"
    }
   ],
   "source": [
    "m = Model()\n",
    "\n",
    "@parameter(m, diff, 0.0)\n",
    "@parameter(m, sub_elas_a, 1.5)\n",
    "@parameter(m, sub_elas_b, 2.)\n",
    "@parameter(m, sub_elas_w, .5)\n",
    "# @parameter(m, sub_elas_a, 1.)\n",
    "# @parameter(m, sub_elas_b, 1.)\n",
    "# @parameter(m, sub_elas_w, 1.)\n",
    "@parameter(m, t_elas_a, 0.0)\n",
    "@parameter(m, t_elas_b, 0.0)\n",
    "\n",
    "@sector(m, A)\n",
    "@sector(m, B)\n",
    "@sector(m, W)\n",
    "\n",
    "@commodity(m, PX)\n",
    "@commodity(m, PY)\n",
    "@commodity(m, PW)\n",
    "@commodity(m, PL)\n",
    "@commodity(m, PK)\n",
    "\n",
    "@consumer(m, CONS, benchmark=200.0)\n",
    "\n",
    "# @production(m, A, 0, 1, [Output(PX, 80),          Output(PY, 20)], [Input(PL, 40), Input(PK, 60)])\n",
    "@production(m, A, :($t_elas_a*1.), :($sub_elas_a*1.), [Output(PX, 80),          Output(PY, 20)], [Input(PL, 40), Input(PK, 60)])\n",
    "# @production(m, B, 0, 1, [Output(PX, 20), Output(PY, 80)], [Input(PL, 60), Input(PK, 40)])\n",
    "@production(m, B, :($t_elas_b*1.), :($sub_elas_b*1.), [Output(PX, 20), Output(PY, 80)], [Input(PL, 60), Input(PK, 40)])\n",
    "# @production(m, B, :($t_elas_b*1.), :($sub_elas_b*1.), [Output(PX, :(20+$diff)), Output(PY, 80)], [Input(PL, 60), Input(PK, 40)])\n",
    "@production(m, W, 0, :($sub_elas_w*1.), [Output(PW, 200.0)],[Input(PX, :(100.0+$diff)), Input(PY, 100.0)])\n",
    "# @production(m, W, 0, :($var\"var\"var\"var\"sub_elas_w\"\"\"\"*1.), [Output(PW, 200.0)], [Input(PX, 100.0), Input(PY, 100.0)])\n",
    "# @production(m, W, 0.,1, [Output(PW, :(200.0+$diff))], [Input(PX, :(100.0+$diff)), Input(PY, 100.0)])\n",
    "\n",
    "@demand(m, CONS, 1., [Demand(PW, 200.)], [Endowment(PL, 100.0), Endowment(PK, 100.0)])\n",
    "\n",
    "solve!(m, cumulative_iteration_limit=0)\n",
    "\n",
    "# set_value(diff, 10.0)\n",
    "set_fixed!(PW, true)\n",
    "set_fixed!(CONS, true)\n",
    "solve!(m)\n"
   ]
  },
  {
   "cell_type": "code",
   "execution_count": 3,
   "metadata": {},
   "outputs": [
    {
     "name": "stdout",
     "output_type": "stream",
     "text": [
      "θWiPX: 0.5=>0.55\n",
      "Path 5.0.03 (Fri Jun 26 10:05:33 2020)\n",
      "Written by Todd Munson, Steven Dirkse, Youngdae Kim, and Michael Ferris\n",
      "Preprocessed size   : 19\n",
      "\n",
      "Crash Log\n",
      "major  func  diff  size  residual    step       prox   (label)\n",
      "    0     0             1.9074e+01             0.0e+00 (F_PX)\n",
      "    1     1     0    19 8.3461e-02  1.0e+00    0.0e+00 (F_PK†B)\n",
      "pn_search terminated: no basis change.\n",
      "\n",
      "Major Iteration Log\n",
      "major minor  func  grad  residual    step  type prox    inorm  (label)\n",
      "    0     0     2     2 8.3461e-02           I 0.0e+00 4.6e-02 (F_PK†B)\n",
      "    1     1     3     3 1.7757e-05  1.0e+00 SO 0.0e+00 1.4e-05 (F_PK†B)\n",
      "    2     1     4     4 1.4020e-12  1.0e+00 SO 0.0e+00 8.4e-13 (F_B)\n",
      "\n",
      "Major Iterations. . . . 2\n",
      "Minor Iterations. . . . 2\n",
      "Restarts. . . . . . . . 0\n",
      "Crash Iterations. . . . 1\n",
      "Gradient Steps. . . . . 0\n",
      "Function Evaluations. . 4\n",
      "Gradient Evaluations. . 4\n",
      "Basis Time. . . . . . . 0.000000\n",
      "Total Time. . . . . . . 0.016000\n",
      "Residual. . . . . . . . 1.402008e-12\n",
      "Postsolved residual: 1.4020e-12\n"
     ]
    },
    {
     "data": {
      "text/plain": [
       "MPSGE model with 3 sectors, 5 commodities and 1 consumers.\n",
       "  Sectors: A (bm=1.0), B (bm=1.0), W (bm=1.0)\n",
       "  Commodities: PX (bm=1.0), PY (bm=1.0), PW (bm=1.0), PL (bm=1.0), PK (bm=1.0)\n",
       "  Consumers: CONS (bm=200.0)\n",
       "Solution:\n",
       "  A:\t1.0767110404712248\n",
       "  B:\t0.9231469668931003\n",
       "  W:\t0.9523813418151985\n",
       "  PX:\t0.9552650300802475\n",
       "  PY:\t0.9493608751517101\n",
       "  PW:\t1.0\n",
       "  PL:\t0.9435734402066207\n",
       "  PK:\t0.9611892434237819\n",
       "  PX‡A:\t80.00000000000006\n",
       "  PY‡A:\t20.000000000000014\n",
       "  PX‡B:\t20.000000000000096\n",
       "  PY‡B:\t80.00000000000038\n",
       "  PW‡W:\t200.0\n",
       "  PL†A:\t40.67021653922481\n",
       "  PK†A:\t59.33595716535064\n",
       "  PL†B:\t60.889469228326895\n",
       "  PK†B:\t39.11871144924754\n",
       "  PX†W:\t109.8297687942915\n",
       "  PY†W:\t100.15523611484404\n",
       "  CONS:\t200.0\n",
       "  PWρCONS:\t200.0\n"
      ]
     },
     "metadata": {},
     "output_type": "display_data"
    }
   ],
   "source": [
    "set_value(diff, 10.)\n",
    "solve!(m)"
   ]
  },
  {
   "attachments": {},
   "cell_type": "markdown",
   "metadata": {},
   "source": [
    "MPSGE.jl  with s = 1.5, 2, 0.5, t both =0"
   ]
  },
  {
   "cell_type": "code",
   "execution_count": 157,
   "metadata": {},
   "outputs": [
    {
     "data": {
      "text/plain": [
       "0.0"
      ]
     },
     "metadata": {},
     "output_type": "display_data"
    }
   ],
   "source": [
    "var\"A\" = 1.07671104047122 ;\n",
    "var\"B\" = 0.9231469668931 ;\n",
    "var\"W\" = 0.952381341815198 ;\n",
    "var\"PX\" = 0.955265030080247 ;\n",
    "var\"PY\" = 0.94936087515171 ;\n",
    "var\"PW\" = 1 ;\n",
    "var\"PL\" = 0.94357344020662 ;\n",
    "var\"PK\" = 0.961189243423781 ;\n",
    "var\"PX‡A\" = 80 ;\n",
    "var\"PY‡A\" = 20 ;\n",
    "var\"PX‡B\" = 20 ;\n",
    "var\"PY‡B\" = 80.0000000000003 ;\n",
    "var\"PW‡W\" = 200 ;\n",
    "var\"PL†A\" = 40.6702165392248 ;\n",
    "var\"PK†A\" = 59.3359571653506 ;\n",
    "var\"PL†B\" = 60.8894692283268 ;\n",
    "var\"PK†B\" = 39.1187114492475 ;\n",
    "var\"PX†W\" = 109.829768794291 ;\n",
    "var\"PY†W\" = 100.155236114844 ;\n",
    "var\"CONS\" = 200 ;\n",
    "var\"PWρCONS\" = 200 ;\n",
    "var\"diff\" = 10 ;\n",
    "var\"sub_elas_a\" = 1.5 ;\n",
    "var\"sub_elas_b\" = 2 ;\n",
    "var\"sub_elas_w\" = 0.5 ;\n",
    "var\"t_elas_a\" = 0.0\n",
    "var\"t_elas_b\" = 0.0"
   ]
  },
  {
   "attachments": {},
   "cell_type": "markdown",
   "metadata": {},
   "source": [
    "GAMS with s = 1.5, 2, 0.5, t both =0"
   ]
  },
  {
   "cell_type": "code",
   "execution_count": 145,
   "metadata": {},
   "outputs": [],
   "source": [
    "var\"A\" = 1.07671104 ;\n",
    "var\"B\" = 0.92314697 ;\n",
    "var\"W\" = 0.95231105 ;\n",
    "var\"PX\" = 0.95519453 ;\n",
    "var\"PY\" = 0.94929081 ;\n",
    "var\"PW\" = 1 ;\n",
    "var\"PL\" = 0.9435038 ;\n",
    "var\"PK\" = 0.96111831 ;\n",
    "var\"PX‡A\" = 80 ;\n",
    "var\"PY‡A\" = 20 ;\n",
    "var\"PX‡B\" = 20 ;\n",
    "var\"PY‡B\" = 80 ;\n",
    "var\"PW‡W\" = 200 ;\n",
    "var\"PL†A\" = 40.67021654 ;\n",
    "var\"PK†A\" = 59.33595717 ;\n",
    "var\"PL†B\" = 60.88946923 ;\n",
    "var\"PK†B\" = 39.11871145 ;\n",
    "var\"PX†W\" = 109.8379 ;\n",
    "var\"PY†W\" = 100.1626 ;\n",
    "var\"CONS\" = 200 ;\n",
    "var\"PWρCONS\" = 200 ;\n",
    "var\"diff\" = 10 ;\n",
    "var\"sub_elas_a\" = 1.5 ;\n",
    "var\"sub_elas_b\" = 2 ;\n",
    "var\"sub_elas_w\" = 0.5 ;\n"
   ]
  },
  {
   "attachments": {},
   "cell_type": "markdown",
   "metadata": {},
   "source": [
    "Compensated Demand\n",
    "<br>PL†A"
   ]
  },
  {
   "cell_type": "code",
   "execution_count": 113,
   "metadata": {},
   "outputs": [
    {
     "data": {
      "text/plain": [
       "2.6706171496471143e-7"
      ]
     },
     "metadata": {},
     "output_type": "display_data"
    }
   ],
   "source": [
    "40.0 * (0.4 * (var\"PL†A\" / 40.0) ^ ((var\"sub_elas_a\" * 1.0 - 1.0) / (var\"sub_elas_a\" * 1.0)) + 0.6 * (var\"PK†A\" / 60.0) ^ ((var\"sub_elas_a\" * 1.0 - 1.0) / (var\"sub_elas_a\" * 1.0))) ^ (1.0 / ((var\"sub_elas_a\" * 1.0 - 1.0) / (var\"sub_elas_a\" * 1.0))) * ((((0.4 * (var\"PL\" / 1.0) ^ (1.0 - var\"sub_elas_a\" * 1.0) + 0.6 * (var\"PK\" / 1.0) ^ (1.0 - var\"sub_elas_a\" * 1.0)) ^ (1.0 / (1.0 - var\"sub_elas_a\" * 1.0)) * (0.4 * (var\"PL†A\" / 40.0) ^ ((var\"sub_elas_a\" * 1.0 - 1.0) / (var\"sub_elas_a\" * 1.0)) + 0.6 * (var\"PK†A\" / 60.0) ^ ((var\"sub_elas_a\" * 1.0 - 1.0) / (var\"sub_elas_a\" * 1.0))) ^ (1.0 / ((var\"sub_elas_a\" * 1.0 - 1.0) / (var\"sub_elas_a\" * 1.0)))) * 1.0) / var\"PL\") ^ (var\"sub_elas_a\" * 1.0) - var\"PL†A\""
   ]
  },
  {
   "attachments": {},
   "cell_type": "markdown",
   "metadata": {},
   "source": [
    "PK†A"
   ]
  },
  {
   "cell_type": "code",
   "execution_count": 114,
   "metadata": {},
   "outputs": [
    {
     "data": {
      "text/plain": [
       "-2.5405210379858545e-7"
      ]
     },
     "metadata": {},
     "output_type": "display_data"
    }
   ],
   "source": [
    "60.0 * (0.4 * (var\"PL†A\" / 40.0) ^ ((var\"sub_elas_a\" * 1.0 - 1.0) / (var\"sub_elas_a\" * 1.0)) + 0.6 * (var\"PK†A\" / 60.0) ^ ((var\"sub_elas_a\" * 1.0 - 1.0) / (var\"sub_elas_a\" * 1.0))) ^ (1.0 / ((var\"sub_elas_a\" * 1.0 - 1.0) / (var\"sub_elas_a\" * 1.0))) * ((((0.4 * (var\"PL\" / 1.0) ^ (1.0 - var\"sub_elas_a\" * 1.0) + 0.6 * (var\"PK\" / 1.0) ^ (1.0 - var\"sub_elas_a\" * 1.0)) ^ (1.0 / (1.0 - var\"sub_elas_a\" * 1.0)) * (0.4 * (var\"PL†A\" / 40.0) ^ ((var\"sub_elas_a\" * 1.0 - 1.0) / (var\"sub_elas_a\" * 1.0)) + 0.6 * (var\"PK†A\" / 60.0) ^ ((var\"sub_elas_a\" * 1.0 - 1.0) / (var\"sub_elas_a\" * 1.0))) ^ (1.0 / ((var\"sub_elas_a\" * 1.0 - 1.0) / (var\"sub_elas_a\" * 1.0)))) * 1.0) / var\"PK\") ^ (var\"sub_elas_a\" * 1.0) - var\"PK†A\""
   ]
  },
  {
   "attachments": {},
   "cell_type": "markdown",
   "metadata": {},
   "source": [
    "PL†B"
   ]
  },
  {
   "cell_type": "code",
   "execution_count": 115,
   "metadata": {},
   "outputs": [
    {
     "data": {
      "text/plain": [
       "3.49229146934249e-7"
      ]
     },
     "metadata": {},
     "output_type": "display_data"
    }
   ],
   "source": [
    "60.0 * (0.6 * (var\"PL†B\" / 60.0) ^ ((var\"sub_elas_b\" * 1.0 - 1.0) / (var\"sub_elas_b\" * 1.0)) + 0.4 * (var\"PK†B\" / 40.0) ^ ((var\"sub_elas_b\" * 1.0 - 1.0) / (var\"sub_elas_b\" * 1.0))) ^ (1.0 / ((var\"sub_elas_b\" * 1.0 - 1.0) / (var\"sub_elas_b\" * 1.0))) * ((((0.6 * (var\"PL\" / 1.0) ^ (1.0 - var\"sub_elas_b\" * 1.0) + 0.4 * (var\"PK\" / 1.0) ^ (1.0 - var\"sub_elas_b\" * 1.0)) ^ (1.0 / (1.0 - var\"sub_elas_b\" * 1.0)) * (0.6 * (var\"PL†B\" / 60.0) ^ ((var\"sub_elas_b\" * 1.0 - 1.0) / (var\"sub_elas_b\" * 1.0)) + 0.4 * (var\"PK†B\" / 40.0) ^ ((var\"sub_elas_b\" * 1.0 - 1.0) / (var\"sub_elas_b\" * 1.0))) ^ (1.0 / ((var\"sub_elas_b\" * 1.0 - 1.0) / (var\"sub_elas_b\" * 1.0)))) * 1.0) / var\"PL\") ^ (var\"sub_elas_b\" * 1.0) - var\"PL†B\""
   ]
  },
  {
   "attachments": {},
   "cell_type": "markdown",
   "metadata": {},
   "source": [
    "PK†B"
   ]
  },
  {
   "cell_type": "code",
   "execution_count": 116,
   "metadata": {},
   "outputs": [
    {
     "data": {
      "text/plain": [
       "-3.3803848253910473e-7"
      ]
     },
     "metadata": {},
     "output_type": "display_data"
    }
   ],
   "source": [
    "40.0 * (0.6 * (var\"PL†B\" / 60.0) ^ ((var\"sub_elas_b\" * 1.0 - 1.0) / (var\"sub_elas_b\" * 1.0)) + 0.4 * (var\"PK†B\" / 40.0) ^ ((var\"sub_elas_b\" * 1.0 - 1.0) / (var\"sub_elas_b\" * 1.0))) ^ (1.0 / ((var\"sub_elas_b\" * 1.0 - 1.0) / (var\"sub_elas_b\" * 1.0))) * ((((0.6 * (var\"PL\" / 1.0) ^ (1.0 - var\"sub_elas_b\" * 1.0) + 0.4 * (var\"PK\" / 1.0) ^ (1.0 - var\"sub_elas_b\" * 1.0)) ^ (1.0 / (1.0 - var\"sub_elas_b\" * 1.0)) * (0.6 * (var\"PL†B\" / 60.0) ^ ((var\"sub_elas_b\" * 1.0 - 1.0) / (var\"sub_elas_b\" * 1.0)) + 0.4 * (var\"PK†B\" / 40.0) ^ ((var\"sub_elas_b\" * 1.0 - 1.0) / (var\"sub_elas_b\" * 1.0))) ^ (1.0 / ((var\"sub_elas_b\" * 1.0 - 1.0) / (var\"sub_elas_b\" * 1.0)))) * 1.0) / var\"PK\") ^ (var\"sub_elas_b\" * 1.0) - var\"PK†B\""
   ]
  },
  {
   "attachments": {},
   "cell_type": "markdown",
   "metadata": {},
   "source": [
    "PX†W: 109.82976879429108 vs 109.8739"
   ]
  },
  {
   "cell_type": "code",
   "execution_count": 156,
   "metadata": {},
   "outputs": [
    {
     "data": {
      "text/plain": [
       "107.19078780407948"
      ]
     },
     "metadata": {},
     "output_type": "display_data"
    }
   ],
   "source": [
    "# \"input.quantity\"\n",
    "(100.0 + var\"diff\") *\n",
    " (0.55\n",
    "# \"y_over_y_bar\"\n",
    "  # \"y: theta\"\n",
    "# (0.52380952381 \n",
    "    # (0.5\n",
    "    # \"y:get_comp_demand_name\" #should this ALWAYS be DEMAND???\n",
    " * ((var\"PX†W\"\n",
    "# + var\"diff\"\n",
    ") \n",
    "  # \"y:i.quantity\"\n",
    "/ (100.0 \n",
    "+ var\"diff\"\n",
    ")) \n",
    "  # \"y: ^ρ\" \n",
    "^ ((var\"sub_elas_w\" * 1.0 - 1.0) / (var\"sub_elas_w\" * 1.0)) +\n",
    "  # \"y: theta\" \n",
    "# 0.47619047619 \n",
    "0.5\n",
    "  # \"y:get_comp_demand_name\"\n",
    " * ((var\"PY†W\"\n",
    "# + var\"diff\"\n",
    "  # \"y:i.quantity\"\n",
    ") / (100.0\n",
    "# + var\"diff\"\n",
    "))\n",
    "  # \"y: ^ρ\" \n",
    "^ ((var\"sub_elas_w\" * 1.0 - 1.0) / (var\"sub_elas_w\" * 1.0))\n",
    "  # \"y: ^1/ρ\"\n",
    ") ^ (1.0 / ((var\"sub_elas_w\" * 1.0 - 1.0) / (var\"sub_elas_w\" * 1.0))) *\n",
    "# \"create_cost_expr\"\n",
    "((((\n",
    "  # \"cost: theta\"\n",
    "  # 0.5\n",
    "  0.55\n",
    "  # 0.52380952381 \n",
    "  # \"cost: get_jump_variable_for_commodity(jm, input.commodity)\"\n",
    " * (var\"PX\" \n",
    "  # \"cost: benchmark(input.commod)\"\n",
    " / 1.0) \n",
    "  # \"cost: 1-elas\"\n",
    " ^ (1.0 - var\"sub_elas_w\" * 1.0) \n",
    "+ \n",
    "  # \"cost: theta\"\n",
    "0.5\n",
    "# 0.47619047619\n",
    "  # \"cost: get_jump_variable_for_commodity(jm, input.commodity)\"\n",
    " * (var\"PY\" \n",
    "  # \"cost: benchmark(input.commod)\"\n",
    "/ 1.0) \n",
    "  # \"cost: 1-elas\"\n",
    "^ (1.0 - var\"sub_elas_w\" * 1.0)) \n",
    "  # \"cost:  1/1-elas\"\n",
    "^ (1.0 / (1.0 - var\"sub_elas_w\" * 1.0)) \n",
    "* (\n",
    "  # \"cost->y_over_y_bar\"\n",
    "  # \"cost->y: theta\"\n",
    "# 0.52380952381 \n",
    "    # 0.5\n",
    "    0.55\n",
    "    # \"cost->y:get_comp_demand_name\" #should this ALWAYS be DEMAND???\n",
    " * ((var\"PX†W\"\n",
    "# + var\"diff\"\n",
    "  # \"cost->y:i.quantity\"\n",
    ") / (100.0\n",
    " + var\"diff\"\n",
    " )) \n",
    "  #  \"cost->y: ^ρ\"\n",
    " ^ ((var\"sub_elas_w\" * 1.0 - 1.0) / (var\"sub_elas_w\" * 1.0)) + \n",
    "  #  \"cost->y: theta\"\n",
    "# 0.47619047619\n",
    " 0.5\n",
    "  # \"cost->y:get_comp_demand_name\" #should this ALWAYS be DEMAND???\n",
    "  * ((var\"PY†W\"\n",
    " # + var\"diff\"\n",
    "  # \"cost->y:i.quantity\"\n",
    " ) / (100.0\n",
    "# + var\"diff\"\n",
    " )) \n",
    "  # \"cost->y: ^ρ\"\n",
    " ^ ((var\"sub_elas_w\" * 1.0 - 1.0) / (var\"sub_elas_w\" * 1.0))) \n",
    "    # \"cost->y: ^1/ρ\"\n",
    " ^ (1.0 / ((var\"sub_elas_w\" * 1.0 - 1.0) / (var\"sub_elas_w\" * 1.0)))) \n",
    "#  \"get_commodity_benchmark\"\n",
    " * 1.0) \n",
    "#  \"get_jump_variable_for_commodity\"\n",
    " / var\"PX\") ^\n",
    "#  \"s.elas\"\n",
    " (var\"sub_elas_w\" * 1.0) #- var\"PX†W\""
   ]
  },
  {
   "attachments": {},
   "cell_type": "markdown",
   "metadata": {},
   "source": [
    "With 0.5 for both share params: with MPSGE.jl values set, 109.82976879429108 as matches the results. With GAMS values set, 109.84192386634355 <br>\n",
    "With 0.55 for what I believe to be ΘWiPX: with MPSGE.jl values set, 107.17892415325743. With the GAMS values set, 107.19078780407948<br>\n",
    "With ΘWiPX=0.52380952381 and ΘWiPY=0.47619047619: with MPSGE.jl values set, 109.82571589469462. With the GAMS values set <b><u>109.83787251928246</u></b> as matches the GAMS result!\n"
   ]
  },
  {
   "cell_type": "code",
   "execution_count": 118,
   "metadata": {},
   "outputs": [
    {
     "data": {
      "text/plain": [
       "0.004023866343544569"
      ]
     },
     "metadata": {},
     "output_type": "display_data"
    }
   ],
   "source": [
    "(100.0 + var\"diff\") * (0.5  * (var\"PX†W\"   / (100.0 + var\"diff\"  ))    ^ ((var\"sub_elas_w\" * 1.0 - 1.0) / (var\"sub_elas_w\" * 1.0)) +    0.5    * ((var\"PY†W\"  ) / (100.0    ))   ^ ((var\"sub_elas_w\" * 1.0 - 1.0) / (var\"sub_elas_w\" * 1.0))   ) ^ (1.0 / ((var\"sub_elas_w\" * 1.0 - 1.0) / (var\"sub_elas_w\" * 1.0)))   * \n",
    "((((0.5\n",
    " * (var\"PX\" / 1.0) ^ (1.0 - var\"sub_elas_w\" * 1.0) + 0.5 * (var\"PY\" / 1.0) ^ (1.0 - var\"sub_elas_w\" * 1.0)) ^ (1.0 / (1.0 - var\"sub_elas_w\" * 1.0)) * (0.5 * (var\"PX†W\" / (100.0 + var\"diff\")) ^ ((var\"sub_elas_w\" * 1.0 - 1.0) / (var\"sub_elas_w\" * 1.0)) + 0.5 * (var\"PY†W\" / 100.0) ^ ((var\"sub_elas_w\" * 1.0 - 1.0) / (var\"sub_elas_w\" * 1.0))) ^ (1.0 / ((var\"sub_elas_w\" * 1.0 - 1.0) / (var\"sub_elas_w\" * 1.0)))) * 1.0) / var\"PX\") ^ (var\"sub_elas_w\" * 1.0) - var\"PX†W\""
   ]
  },
  {
   "cell_type": "markdown",
   "metadata": {},
   "source": []
  },
  {
   "cell_type": "code",
   "execution_count": 119,
   "metadata": {},
   "outputs": [
    {
     "data": {
      "text/plain": [
       "109.8379"
      ]
     },
     "metadata": {},
     "output_type": "display_data"
    }
   ],
   "source": [
    "var\"PX†W\""
   ]
  },
  {
   "attachments": {},
   "cell_type": "markdown",
   "metadata": {},
   "source": [
    "  ┴  PX†W"
   ]
  },
  {
   "cell_type": "code",
   "execution_count": 120,
   "metadata": {},
   "outputs": [
    {
     "data": {
      "text/plain": [
       "0.004023866343544569"
      ]
     },
     "metadata": {},
     "output_type": "display_data"
    }
   ],
   "source": [
    "(100.0 + var\"diff\") *\n",
    " (0.5 * (var\"PX†W\" / (100.0 + var\"diff\")) ^ ((var\"sub_elas_w\" * 1.0 - 1.0) / (var\"sub_elas_w\" * 1.0)) + 0.5 * (var\"PY†W\" / 100.0) ^ ((var\"sub_elas_w\" * 1.0 - 1.0) / (var\"sub_elas_w\" * 1.0))) ^ (1.0 / ((sub_elas_w * 1.0 - 1.0) / (sub_elas_w * 1.0))) * \n",
    "((((0.5 * (PX / 1.0) ^ (1.0 - var\"sub_elas_w\" * 1.0) + 0.5 * (var\"PY\" / 1.0) ^ (1.0 - var\"sub_elas_w\" * 1.0)) ^ (1.0 / (1.0 - var\"sub_elas_w\" * 1.0)) * (0.5 * (var\"PX†W\" / (100.0 + var\"diff\")) ^ ((var\"sub_elas_w\" * 1.0 - 1.0) / (var\"sub_elas_w\" * 1.0)) + 0.5 * (var\"PY†W\" / 100.0) ^ ((var\"sub_elas_w\" * 1.0 - 1.0) / (var\"sub_elas_w\" * 1.0))) ^ (1.0 / ((var\"sub_elas_w\" * 1.0 - 1.0) / (var\"sub_elas_w\" * 1.0)))) * 1.0) / PX) ^ (var\"sub_elas_w\" * 1.0) - var\"PX†W\""
   ]
  },
  {
   "attachments": {},
   "cell_type": "markdown",
   "metadata": {},
   "source": [
    "PY†W: 100.15523611484365 vs 100.1626"
   ]
  },
  {
   "cell_type": "code",
   "execution_count": 127,
   "metadata": {},
   "outputs": [
    {
     "data": {
      "text/plain": [
       "105.18239922267419"
      ]
     },
     "metadata": {},
     "output_type": "display_data"
    }
   ],
   "source": [
    "100.0 * (\n",
    "  # 0.52380952381 # The value suggested by the ipynb 110/210\n",
    "  # .55 # The value as updated now (1/30/23), 110/200\n",
    "  0.5  #unchanged from diff = 0\n",
    "   * ((var\"PX†W\"\n",
    "#  + var\"diff\"\n",
    ")/ (100.0\n",
    " + var\"diff\"\n",
    " )) ^ ((var\"sub_elas_w\" * 1.0 - 1.0) / (var\"sub_elas_w\" * 1.0)) + \n",
    " 0.5 #unchanged\n",
    "#  0.47619047619 # The value suggested by the ipynb 100/210\n",
    "  * (var\"PY†W\" / 100.0) ^ ((var\"sub_elas_w\" * 1.0 - 1.0) / (var\"sub_elas_w\" * 1.0))) ^ (1.0 / ((var\"sub_elas_w\" * 1.0 - 1.0) / (var\"sub_elas_w\" * 1.0))) * ((((\n",
    "    # 0.52380952381 # The value suggested by the ipynb 110/210 \n",
    "    0.55 # The value as updated now (1/30/23), 110/200\n",
    "    # 0.5  #unchanged from diff = 0\n",
    "     * (var\"PX\" / 1.0) ^ (1.0 - var\"sub_elas_w\" * 1.0) + \n",
    "  0.5 #unchanged\n",
    "  # 0.47619047619 # The value suggested by the ipynb 100/210\n",
    "  * (var\"PY\" / 1.0) ^ (1.0 - var\"sub_elas_w\" * 1.0)) ^ (1.0 / (1.0 - var\"sub_elas_w\" * 1.0)) *(\n",
    "  # 0.55 # The value as updated now (1/30/23), 110/200\n",
    "  0.5\n",
    "  # 0.52380952381 # The value suggested by the ipynb 110/210 \n",
    "  * ((var\"PX†W\"\n",
    "# + var\"diff\"\n",
    ")/ (100.0\n",
    "  + var\"diff\"\n",
    "  )) ^ ((var\"sub_elas_w\" * 1.0 - 1.0) / (var\"sub_elas_w\" * 1.0)) + \n",
    "  0.5  #unchanged\n",
    "  # 0.47619047619 # The value suggested by the ipynb 100/210 \n",
    "   * (var\"PY†W\" / 100.0) ^ ((var\"sub_elas_w\" * 1.0 - 1.0) / (var\"sub_elas_w\" * 1.0))) ^ (1.0 / ((var\"sub_elas_w\" * 1.0 - 1.0) / (var\"sub_elas_w\" * 1.0)))) * 1.0) / var\"PY\") ^ (var\"sub_elas_w\" * 1.0) #- var\"PY†W\""
   ]
  },
  {
   "attachments": {},
   "cell_type": "markdown",
   "metadata": {},
   "source": [
    "Compensated Supply\n",
    "<br>PX‡A: 79.99999999999976"
   ]
  },
  {
   "cell_type": "code",
   "execution_count": 142,
   "metadata": {},
   "outputs": [
    {
     "data": {
      "text/plain": [
       "80.0000000043603"
      ]
     },
     "metadata": {},
     "output_type": "display_data"
    }
   ],
   "source": [
    "80.0 * (0.4 * (var\"PL†A\" / 40.0) ^ ((var\"sub_elas_a\" * 1.0 - 1.0) / (var\"sub_elas_a\" * 1.0)) + 0.6 * (var\"PK†A\" / 60.0) ^ ((var\"sub_elas_a\" * 1.0 - 1.0) / (var\"sub_elas_a\" * 1.0))) ^ (1.0 / ((var\"sub_elas_a\" * 1.0 - 1.0) / (var\"sub_elas_a\" * 1.0))) * (var\"PX\" / ((((80.0 * 1.0) / (80.0 * 1.0 + 20.0 * 1.0)) * (var\"PX\" / 1.0) ^ (1.0 + var\"t_elas_a\" * 1.0) + ((20.0 * 1.0) / (80.0 * 1.0 + 20.0 * 1.0)) * (var\"PY\" / 1.0) ^ (1.0 + var\"t_elas_a\" * 1.0)) ^ (1.0 / (1.0 + var\"t_elas_a\" * 1.0)) * 1.0)) ^ (var\"t_elas_a\" * 1.0) #- var\"PX‡A\""
   ]
  },
  {
   "attachments": {},
   "cell_type": "markdown",
   "metadata": {},
   "source": [
    "PY‡A"
   ]
  },
  {
   "cell_type": "code",
   "execution_count": 143,
   "metadata": {},
   "outputs": [
    {
     "data": {
      "text/plain": [
       "1.090075585352679e-9"
      ]
     },
     "metadata": {},
     "output_type": "display_data"
    }
   ],
   "source": [
    "20.0 * (0.4 * (var\"PL†A\" / 40.0) ^ ((var\"sub_elas_a\" * 1.0 - 1.0) / (var\"sub_elas_a\" * 1.0)) + 0.6 * (var\"PK†A\" / 60.0) ^ ((var\"sub_elas_a\" * 1.0 - 1.0) / (var\"sub_elas_a\" * 1.0))) ^ (1.0 / ((var\"sub_elas_a\" * 1.0 - 1.0) / (var\"sub_elas_a\" * 1.0))) * (var\"PY\" / ((((80.0 * 1.0) / (80.0 * 1.0 + 20.0 * 1.0)) * (var\"PX\" / 1.0) ^ (1.0 + var\"t_elas_a\" * 1.0) + ((20.0 * 1.0) / (80.0 * 1.0 + 20.0 * 1.0)) * (var\"PY\" / 1.0) ^ (1.0 + var\"t_elas_a\" * 1.0)) ^ (1.0 / (1.0 + var\"t_elas_a\" * 1.0)) * 1.0)) ^ (var\"t_elas_a\" * 1.0) - var\"PY‡A\""
   ]
  },
  {
   "attachments": {},
   "cell_type": "markdown",
   "metadata": {},
   "source": [
    "PX‡B"
   ]
  },
  {
   "cell_type": "code",
   "execution_count": 144,
   "metadata": {},
   "outputs": [
    {
     "data": {
      "text/plain": [
       "4.843947465360543e-10"
      ]
     },
     "metadata": {},
     "output_type": "display_data"
    }
   ],
   "source": [
    "20.0 * (0.6 * (var\"PL†B\" / 60.0) ^ ((var\"sub_elas_b\" * 1.0 - 1.0) / (var\"sub_elas_b\" * 1.0)) + 0.4 * (var\"PK†B\" / 40.0) ^ ((var\"sub_elas_b\" * 1.0 - 1.0) / (var\"sub_elas_b\" * 1.0))) ^ (1.0 / ((var\"sub_elas_b\" * 1.0 - 1.0) / (var\"sub_elas_b\" * 1.0))) * (var\"PX\" / ((((20.0 * 1.0) / (20.0 * 1.0 + 80.0 * 1.0)) * (var\"PX\" / 1.0) ^ (1.0 + var\"t_elas_b\" * 1.0) + ((80.0 * 1.0) / (20.0 * 1.0 + 80.0 * 1.0)) * (var\"PY\" / 1.0) ^ (1.0 + var\"t_elas_b\" * 1.0)) ^ (1.0 / (1.0 + var\"t_elas_b\" * 1.0)) * 1.0)) ^ (var\"t_elas_b\" * 1.0) - var\"PX‡B\""
   ]
  },
  {
   "attachments": {},
   "cell_type": "markdown",
   "metadata": {},
   "source": [
    "PY‡B"
   ]
  },
  {
   "cell_type": "code",
   "execution_count": 145,
   "metadata": {},
   "outputs": [
    {
     "data": {
      "text/plain": [
       "1.937578986144217e-9"
      ]
     },
     "metadata": {},
     "output_type": "display_data"
    }
   ],
   "source": [
    "80.0 * (0.6 * (var\"PL†B\" / 60.0) ^ ((var\"sub_elas_b\" * 1.0 - 1.0) / (var\"sub_elas_b\" * 1.0)) + 0.4 * (var\"PK†B\" / 40.0) ^ ((var\"sub_elas_b\" * 1.0 - 1.0) / (var\"sub_elas_b\" * 1.0))) ^ (1.0 / ((var\"sub_elas_b\" * 1.0 - 1.0) / (var\"sub_elas_b\" * 1.0))) * (var\"PY\" / ((((20.0 * 1.0) / (20.0 * 1.0 + 80.0 * 1.0)) * (var\"PX\" / 1.0) ^ (1.0 + var\"t_elas_b\" * 1.0) + ((80.0 * 1.0) / (20.0 * 1.0 + 80.0 * 1.0)) * (var\"PY\" / 1.0) ^ (1.0 + var\"t_elas_b\" * 1.0)) ^ (1.0 / (1.0 + var\"t_elas_b\" * 1.0)) * 1.0)) ^ (var\"t_elas_b\" * 1.0) - var\"PY‡B\""
   ]
  },
  {
   "attachments": {},
   "cell_type": "markdown",
   "metadata": {},
   "source": [
    "PW‡W: 199.99999999999946, with GAMS, the subtraction equation = 0.014756012951039565"
   ]
  },
  {
   "cell_type": "code",
   "execution_count": 182,
   "metadata": {},
   "outputs": [
    {
     "data": {
      "text/plain": [
       "0.014756012951039565"
      ]
     },
     "metadata": {},
     "output_type": "display_data"
    }
   ],
   "source": [
    "200.0 * (0.5 * (var\"PX†W\" / (100.0 + var\"diff\")) ^ ((var\"sub_elas_w\" * 1.0 - 1.0) / (var\"sub_elas_w\" * 1.0)) + 0.5 * (var\"PY†W\" / 100.0) ^ ((var\"sub_elas_w\" * 1.0 - 1.0) / (var\"sub_elas_w\" * 1.0))) ^ (1.0 / ((var\"sub_elas_w\" * 1.0 - 1.0) / (var\"sub_elas_w\" * 1.0))) * (var\"PW\" / ((+(((200.0 * 1.0) / +(200.0 * 1.0)) * (var\"PW\" / 1.0) ^ (1.0 + 0.0))) ^ (1.0 / (1.0 + 0.0)) * 1.0)) ^ 0.0 - var\"PW‡W\""
   ]
  },
  {
   "attachments": {},
   "cell_type": "markdown",
   "metadata": {},
   "source": [
    "Final Demand\n",
    "<br> PW = 1, CONS=200"
   ]
  },
  {
   "cell_type": "code",
   "execution_count": 148,
   "metadata": {},
   "outputs": [
    {
     "data": {
      "text/plain": [
       "0.0"
      ]
     },
     "metadata": {},
     "output_type": "display_data"
    }
   ],
   "source": [
    "200.0 * (var\"CONS\" / 200.0) * (1.0 / var\"PW\") - var\"PWρCONS\"\n"
   ]
  },
  {
   "cell_type": "code",
   "execution_count": 149,
   "metadata": {},
   "outputs": [
    {
     "data": {
      "text/plain": [
       "1.2977564267657726e-7"
      ]
     },
     "metadata": {},
     "output_type": "display_data"
    }
   ],
   "source": [
    "(var\"PL\" * var\"PL†A\" + var\"PK\" * var\"PK†A\") - (var\"PX\" * var\"PX‡A\" + var\"PY\" * var\"PY‡A\")\n"
   ]
  },
  {
   "cell_type": "code",
   "execution_count": 150,
   "metadata": {},
   "outputs": [
    {
     "data": {
      "text/plain": [
       "3.6689726812255685e-8"
      ]
     },
     "metadata": {},
     "output_type": "display_data"
    }
   ],
   "source": [
    "(var\"PL\" * var\"PL†B\" + var\"PK\" * var\"PK†B\") - (var\"PX\" * var\"PX‡B\" + var\"PY\" * var\"PY‡B\")\n"
   ]
  },
  {
   "cell_type": "code",
   "execution_count": 151,
   "metadata": {},
   "outputs": [
    {
     "data": {
      "text/plain": [
       "-3.0476069809992623e-6"
      ]
     },
     "metadata": {},
     "output_type": "display_data"
    }
   ],
   "source": [
    "(var\"PX\" * var\"PX†W\" + var\"PY\" * var\"PY†W\") - +(var\"PW\" * var\"PW‡W\")\n"
   ]
  },
  {
   "attachments": {},
   "cell_type": "markdown",
   "metadata": {},
   "source": [
    "Market Clearance <br>\n",
    "PY"
   ]
  },
  {
   "cell_type": "code",
   "execution_count": 152,
   "metadata": {},
   "outputs": [
    {
     "data": {
      "text/plain": [
       "2.7623270000276534e-5"
      ]
     },
     "metadata": {},
     "output_type": "display_data"
    }
   ],
   "source": [
    "(0.0 + var\"A\" * var\"PY‡A\" + var\"B\" * var\"PY‡B\") - (0.0 + var\"W\" * var\"PY†W\")\n"
   ]
  },
  {
   "attachments": {},
   "cell_type": "markdown",
   "metadata": {},
   "source": [
    "PX"
   ]
  },
  {
   "cell_type": "code",
   "execution_count": 153,
   "metadata": {},
   "outputs": [
    {
     "data": {
      "text/plain": [
       "-0.95231105"
      ]
     },
     "metadata": {},
     "output_type": "display_data"
    }
   ],
   "source": [
    "# (0.0 + var\"A\" * var\"PX‡A\" + var\"B\" * var\"PX‡B\")\n",
    " - (0.0 + var\"W\") \n",
    "#  0.95231105* var\"PX†W\"\n",
    "#  )\n"
   ]
  },
  {
   "cell_type": "code",
   "execution_count": 155,
   "metadata": {},
   "outputs": [
    {
     "data": {
      "text/plain": [
       "-2.327879501251573e-5"
      ]
     },
     "metadata": {},
     "output_type": "display_data"
    }
   ],
   "source": [
    "(0.0 + var\"A\" * var\"PX‡A\" + var\"B\" * var\"PX‡B\") - (0.0 + var\"W\" * var\"PX†W\")\n"
   ]
  },
  {
   "attachments": {},
   "cell_type": "markdown",
   "metadata": {},
   "source": [
    "PW=1, PW‡W ~200, PWρCONS = 200, so why is W wrong?"
   ]
  },
  {
   "cell_type": "code",
   "execution_count": 156,
   "metadata": {},
   "outputs": [
    {
     "data": {
      "text/plain": [
       "-9.537790000000001"
      ]
     },
     "metadata": {},
     "output_type": "display_data"
    }
   ],
   "source": [
    "(0.0 + var\"W\" * var\"PW‡W\") - (0.0 + var\"PWρCONS\")\n"
   ]
  },
  {
   "cell_type": "code",
   "execution_count": 157,
   "metadata": {},
   "outputs": [
    {
     "data": {
      "text/plain": [
       "-9.537790000000001"
      ]
     },
     "metadata": {},
     "output_type": "display_data"
    }
   ],
   "source": [
    "(0.0 + 0.95231105 * var\"PW‡W\") - (0.0 + var\"PWρCONS\")\n"
   ]
  },
  {
   "attachments": {},
   "cell_type": "markdown",
   "metadata": {},
   "source": [
    "PL"
   ]
  },
  {
   "cell_type": "code",
   "execution_count": 158,
   "metadata": {},
   "outputs": [
    {
     "data": {
      "text/plain": [
       "0.9383229787756033"
      ]
     },
     "metadata": {},
     "output_type": "display_data"
    }
   ],
   "source": [
    "(9.523731636960406-9.537790000000001)+0.9523813418151985"
   ]
  },
  {
   "cell_type": "code",
   "execution_count": 159,
   "metadata": {},
   "outputs": [
    {
     "data": {
      "text/plain": [
       "-1.7239133853763633e-7"
      ]
     },
     "metadata": {},
     "output_type": "display_data"
    }
   ],
   "source": [
    "(0.0 + 100.0) - (0.0 + var\"A\" * var\"PL†A\" + var\"B\" * var\"PL†B\")\n"
   ]
  },
  {
   "attachments": {},
   "cell_type": "markdown",
   "metadata": {},
   "source": [
    "PK"
   ]
  },
  {
   "cell_type": "code",
   "execution_count": 160,
   "metadata": {},
   "outputs": [
    {
     "data": {
      "text/plain": [
       "-9.92779689568124e-8"
      ]
     },
     "metadata": {},
     "output_type": "display_data"
    }
   ],
   "source": [
    "(0.0 + 100.0) - (0.0 + var\"A\" * var\"PK†A\" + var\"B\" * var\"PK†B\")\n"
   ]
  },
  {
   "attachments": {},
   "cell_type": "markdown",
   "metadata": {},
   "source": [
    "Income Balance:\n",
    "<br>CONS"
   ]
  },
  {
   "cell_type": "code",
   "execution_count": 169,
   "metadata": {},
   "outputs": [
    {
     "data": {
      "text/plain": [
       "-9.537788999999975"
      ]
     },
     "metadata": {},
     "output_type": "display_data"
    }
   ],
   "source": [
    "((100) * var\"PL\" + (100.0) * var\"PK\") - var\"CONS\"\n"
   ]
  },
  {
   "cell_type": "code",
   "execution_count": 171,
   "metadata": {},
   "outputs": [
    {
     "data": {
      "text/plain": [
       "0.96111831"
      ]
     },
     "metadata": {},
     "output_type": "display_data"
    }
   ],
   "source": [
    "var\"PK\""
   ]
  },
  {
   "cell_type": "code",
   "execution_count": null,
   "metadata": {},
   "outputs": [
    {
     "name": "stdout",
     "output_type": "stream",
     "text": [
      "sub_elas_1"
     ]
    },
    {
     "name": "stdout",
     "output_type": "stream",
     "text": [
      "\n",
      "sub_elas_1\n",
      "sub_elas_1\n"
     ]
    },
    {
     "name": "stdout",
     "output_type": "stream",
     "text": [
      "sub_elas_1\n",
      "sub_elas_1\n",
      "sub_elas_1\n"
     ]
    },
    {
     "name": "stdout",
     "output_type": "stream",
     "text": [
      "Path 5.0.03 (Fri Jun 26 10:05:33 2020)\n",
      "Written by Todd Munson, Steven Dirkse, Youngdae Kim, and Michael Ferris\n",
      "\n",
      "Crash Log\n",
      "major  func  diff  size  residual    step       prox   (label)\n"
     ]
    },
    {
     "name": "stdout",
     "output_type": "stream",
     "text": [
      "    0     0             0.0000e+00             0.0e+00 (F_X)\n",
      "\n",
      "Major Iteration Log\n",
      "major minor  func  grad  residual    step  type prox    inorm  (label)\n",
      "    0     0     1     1 0.0000e+00           I 0.0e+00 0.0e+00 (F_X)\n",
      "\n",
      "Major Iterations. . . . 0\n"
     ]
    },
    {
     "name": "stdout",
     "output_type": "stream",
     "text": [
      "Minor Iterations. . . . 0\n",
      "Restarts. . . . . . . . 0\n",
      "Crash Iterations. . . . 0\n",
      "Gradient Steps. . . . . 0\n",
      "Function Evaluations. . 1\n",
      "Gradient Evaluations. . 1\n"
     ]
    },
    {
     "name": "stdout",
     "output_type": "stream",
     "text": [
      "Basis Time. . . . . . . 0.000000\n",
      "Total Time. . . . . . . 0.140000\n",
      "Residual. . . . . . . . 0.000000e+00\n"
     ]
    },
    {
     "data": {
      "text/plain": [
       "MPSGE model with 3 sectors, 5 commodities and 1 consumers.\n",
       "  Sectors: X (bm=1.0), Y (bm=1.0), U (bm=1.0)\n",
       "  Commodities: PX (bm=1.0), PY (bm=1.0), PU (bm=1.0), PL (bm=1.0), PK (bm=1.0)\n",
       "  Consumers: RA (bm=150.0)\n",
       "Solution:\n",
       "  X:\t1.0\n",
       "  Y:\t1.0\n",
       "  U:\t1.0\n",
       "  PX:\t1.0\n",
       "  PY:\t1.0\n",
       "  PU:\t1.0\n",
       "  PL:\t1.0\n",
       "  PK:\t1.0\n",
       "  PX‡X:\t100.0\n",
       "  PY‡Y:\t50.0\n",
       "  PU‡U:\t150.0\n",
       "  PL†X:\t50.0\n",
       "  PK†X:\t50.0\n",
       "  PL†Y:\t20.0\n",
       "  PK†Y:\t30.0\n",
       "  PX†U:\t100.0\n",
       "  PY†U:\t50.0\n",
       "  RA:\t150.0\n",
       "  PUρRA:\t150.0\n"
      ]
     },
     "metadata": {},
     "output_type": "display_data"
    }
   ],
   "source": [
    "m = Model()\n",
    "\n",
    "@parameter(m, endow, 1.0)\n",
    "@parameter(m, diff, 0.0)\n",
    "\n",
    "@sector(m, X)\n",
    "@sector(m, Y)\n",
    "@sector(m, U)\n",
    "\n",
    "@commodity(m, PX)\n",
    "@commodity(m, PY)\n",
    "@commodity(m, PU)\n",
    "@commodity(m, PL)\n",
    "@commodity(m, PK)\n",
    "\n",
    "@consumer(m, RA, benchmark = 150.)\n",
    "\n",
    "@production(m, X, 0, 1, [Output(PX, 100)], [Input(PL, :(50+$diff)), Input(PK, 50)])\n",
    "@production(m, Y, 0, 1, [Output(PY, 50)], [Input(PL, 20), Input(PK, 30)])\n",
    "@production(m, U, 0, 1, [Output(PU, 150)], [Input(PX, 100), Input(PY, 50)]) \n",
    "\n",
    "@demand(m, RA, 1.0, [Demand(PU, 150)], [Endowment(PL, :(70 * $endow)), Endowment(PK, 80.)])\n",
    "solve!(m)"
   ]
  },
  {
   "cell_type": "code",
   "execution_count": 32,
   "metadata": {},
   "outputs": [
    {
     "data": {
      "text/latex": [
       "$$ \\begin{alignat*}{3}\\\n",
       "& \\text{Compensated Demand} \\quad && \\quad && \\\\\n",
       "& \\quad (50.0 + diff) * ((PL†X / (50.0 + diff)) ^ {((50.0 + diff) * 1.0) / +(100.0 * 1.0)} * (PK†X / 50.0) ^ {(50.0 * 1.0) / +(100.0 * 1.0)}) * (((((PL / 1.0) ^ {0.5} * (PK / 1.0) ^ {0.5}) * ((PL†X / (50.0 + diff)) ^ {0.5} * (PK†X / 50.0) ^ {0.5})) * 1.0) / PL) ^ {1.0} - PL†X\\quad && \\perp \\quad && PL†X\\\\\n",
       "& \\quad 50.0 * ((PL†X / (50.0 + diff)) ^ {((50.0 + diff) * 1.0) / +(100.0 * 1.0)} * (PK†X / 50.0) ^ {(50.0 * 1.0) / +(100.0 * 1.0)}) * (((((PL / 1.0) ^ {0.5} * (PK / 1.0) ^ {0.5}) * ((PL†X / (50.0 + diff)) ^ {0.5} * (PK†X / 50.0) ^ {0.5})) * 1.0) / PK) ^ {1.0} - PK†X\\quad && \\perp \\quad && PK†X\\\\\n",
       "& \\quad 20.0 * ((PL†Y / 20.0) ^ {(20.0 * 1.0) / +(50.0 * 1.0)} * (PK†Y / 30.0) ^ {(30.0 * 1.0) / +(50.0 * 1.0)}) * (((((PL / 1.0) ^ {0.4} * (PK / 1.0) ^ {0.6}) * ((PL†Y / 20.0) ^ {0.4} * (PK†Y / 30.0) ^ {0.6})) * 1.0) / PL) ^ {1.0} - PL†Y\\quad && \\perp \\quad && PL†Y\\\\\n",
       "& \\quad 30.0 * ((PL†Y / 20.0) ^ {(20.0 * 1.0) / +(50.0 * 1.0)} * (PK†Y / 30.0) ^ {(30.0 * 1.0) / +(50.0 * 1.0)}) * (((((PL / 1.0) ^ {0.4} * (PK / 1.0) ^ {0.6}) * ((PL†Y / 20.0) ^ {0.4} * (PK†Y / 30.0) ^ {0.6})) * 1.0) / PK) ^ {1.0} - PK†Y\\quad && \\perp \\quad && PK†Y\\\\\n",
       "& \\quad 100.0 * ((PX†U / 100.0) ^ {(100.0 * 1.0) / +(150.0 * 1.0)} * (PY†U / 50.0) ^ {(50.0 * 1.0) / +(150.0 * 1.0)}) * (((((PX / 1.0) ^ {0.6666666666666666} * (PY / 1.0) ^ {0.3333333333333333}) * ((PX†U / 100.0) ^ {0.6666666666666666} * (PY†U / 50.0) ^ {0.3333333333333333})) * 1.0) / PX) ^ {1.0} - PX†U\\quad && \\perp \\quad && PX†U\\\\\n",
       "& \\quad 50.0 * ((PX†U / 100.0) ^ {(100.0 * 1.0) / +(150.0 * 1.0)} * (PY†U / 50.0) ^ {(50.0 * 1.0) / +(150.0 * 1.0)}) * (((((PX / 1.0) ^ {0.6666666666666666} * (PY / 1.0) ^ {0.3333333333333333}) * ((PX†U / 100.0) ^ {0.6666666666666666} * (PY†U / 50.0) ^ {0.3333333333333333})) * 1.0) / PY) ^ {1.0} - PY†U\\quad && \\perp \\quad && PY†U\\\\\n",
       "& \\text{Compensated Supply} \\quad && \\quad && \\\\\n",
       "& \\quad 100.0 * ((PL†X / (50.0 + diff)) ^ {((50.0 + diff) * 1.0) / +(100.0 * 1.0)} * (PK†X / 50.0) ^ {(50.0 * 1.0) / +(100.0 * 1.0)}) * (PX / ((+(((100.0 * 1.0) / +(100.0 * 1.0)) * (PX / 1.0) ^ {1.0 + 0.0})) ^ {1.0 / (1.0 + 0.0)} * 1.0)) ^ {0.0} - PX‡X\\quad && \\perp \\quad && PX‡X\\\\\n",
       "& \\quad 50.0 * ((PL†Y / 20.0) ^ {(20.0 * 1.0) / +(50.0 * 1.0)} * (PK†Y / 30.0) ^ {(30.0 * 1.0) / +(50.0 * 1.0)}) * (PY / ((+(((50.0 * 1.0) / +(50.0 * 1.0)) * (PY / 1.0) ^ {1.0 + 0.0})) ^ {1.0 / (1.0 + 0.0)} * 1.0)) ^ {0.0} - PY‡Y\\quad && \\perp \\quad && PY‡Y\\\\\n",
       "& \\quad 150.0 * ((PX†U / 100.0) ^ {(100.0 * 1.0) / +(150.0 * 1.0)} * (PY†U / 50.0) ^ {(50.0 * 1.0) / +(150.0 * 1.0)}) * (PU / ((+(((150.0 * 1.0) / +(150.0 * 1.0)) * (PU / 1.0) ^ {1.0 + 0.0})) ^ {1.0 / (1.0 + 0.0)} * 1.0)) ^ {0.0} - PU‡U\\quad && \\perp \\quad && PU‡U\\\\\n",
       "& \\text{Final Demand} \\quad && \\quad && \\\\\n",
       "& \\quad 150.0 * (RA / 150.0) * (1.0 / PU) - PUρRA\\quad && \\perp \\quad && PUρRA\\\\\n",
       "& \\text{Zero Profit} \\quad && \\quad && \\\\\n",
       "& \\quad (PL * PL†X + PK * PK†X) - +(PX * PX‡X)\\quad && \\perp \\quad && 0.0 <X\\\\\n",
       "& \\quad (PL * PL†Y + PK * PK†Y) - +(PY * PY‡Y)\\quad && \\perp \\quad && 0.0 <Y\\\\\n",
       "& \\quad (PX * PX†U + PY * PY†U) - +(PU * PU‡U)\\quad && \\perp \\quad && 0.0 <U\\\\\n",
       "& \\text{Market clearance} \\quad && \\quad && \\\\\n",
       "& \\quad (0.0 + 80.0) - (0.0 + X * PK†X + Y * PK†Y)\\quad && \\perp \\quad && 0.001 <PK\\\\\n",
       "& \\quad (0.0 + X * PX‡X) - (0.0 + U * PX†U)\\quad && \\perp \\quad && 0.001 <PX\\\\\n",
       "& \\quad (0.0 + 70.0 * endow) - (0.0 + X * PL†X + Y * PL†Y)\\quad && \\perp \\quad && 0.001 <PL\\\\\n",
       "& \\quad (0.0 + Y * PY‡Y) - (0.0 + U * PY†U)\\quad && \\perp \\quad && 0.001 <PY\\\\\n",
       "& \\quad (0.0 + U * PU‡U) - (0.0 + PUρRA)\\quad && \\perp \\quad && 0.001 <PU\\\\\n",
       "& \\text{Income balance} \\quad && \\quad && \\\\\n",
       "& \\quad ((70.0 * endow) * PL + 80.0 * PK) - RA\\quad && \\perp \\quad && 0.0 <RA\\\\\n",
       "\\end{alignat*}\n",
       " $$\n"
      ],
      "text/plain": [
       "Mixed complementarity problem with 19 constraints:\n",
       "  Compensated Demand\n",
       "    (50.0 + diff) * ((PL†X / (50.0 + diff)) ^ (((50.0 + diff) * 1.0) / +(100.0 * 1.0)) * (PK†X / 50.0) ^ ((50.0 * 1.0) / +(100.0 * 1.0))) * (((((PL / 1.0) ^ 0.5 * (PK / 1.0) ^ 0.5) * ((PL†X / (50.0 + diff)) ^ 0.5 * (PK†X / 50.0) ^ 0.5)) * 1.0) / PL) ^ 1.0 - PL†X                              ┴  PL†X\n",
       "    50.0 * ((PL†X / (50.0 + diff)) ^ (((50.0 + diff) * 1.0) / +(100.0 * 1.0)) * (PK†X / 50.0) ^ ((50.0 * 1.0) / +(100.0 * 1.0))) * (((((PL / 1.0) ^ 0.5 * (PK / 1.0) ^ 0.5) * ((PL†X / (50.0 + diff)) ^ 0.5 * (PK†X / 50.0) ^ 0.5)) * 1.0) / PK) ^ 1.0 - PK†X                                       ┴  PK†X\n",
       "    20.0 * ((PL†Y / 20.0) ^ ((20.0 * 1.0) / +(50.0 * 1.0)) * (PK†Y / 30.0) ^ ((30.0 * 1.0) / +(50.0 * 1.0))) * (((((PL / 1.0) ^ 0.4 * (PK / 1.0) ^ 0.6) * ((PL†Y / 20.0) ^ 0.4 * (PK†Y / 30.0) ^ 0.6)) * 1.0) / PL) ^ 1.0 - PL†Y                                                                    ┴  PL†Y\n",
       "    30.0 * ((PL†Y / 20.0) ^ ((20.0 * 1.0) / +(50.0 * 1.0)) * (PK†Y / 30.0) ^ ((30.0 * 1.0) / +(50.0 * 1.0))) * (((((PL / 1.0) ^ 0.4 * (PK / 1.0) ^ 0.6) * ((PL†Y / 20.0) ^ 0.4 * (PK†Y / 30.0) ^ 0.6)) * 1.0) / PK) ^ 1.0 - PK†Y                                                                    ┴  PK†Y\n",
       "    100.0 * ((PX†U / 100.0) ^ ((100.0 * 1.0) / +(150.0 * 1.0)) * (PY†U / 50.0) ^ ((50.0 * 1.0) / +(150.0 * 1.0))) * (((((PX / 1.0) ^ 0.6666666666666666 * (PY / 1.0) ^ 0.3333333333333333) * ((PX†U / 100.0) ^ 0.6666666666666666 * (PY†U / 50.0) ^ 0.3333333333333333)) * 1.0) / PX) ^ 1.0 - PX†U  ┴  PX†U\n",
       "    50.0 * ((PX†U / 100.0) ^ ((100.0 * 1.0) / +(150.0 * 1.0)) * (PY†U / 50.0) ^ ((50.0 * 1.0) / +(150.0 * 1.0))) * (((((PX / 1.0) ^ 0.6666666666666666 * (PY / 1.0) ^ 0.3333333333333333) * ((PX†U / 100.0) ^ 0.6666666666666666 * (PY†U / 50.0) ^ 0.3333333333333333)) * 1.0) / PY) ^ 1.0 - PY†U   ┴  PY†U\n",
       "  Compensated Supply\n",
       "    100.0 * ((PL†X / (50.0 + diff)) ^ (((50.0 + diff) * 1.0) / +(100.0 * 1.0)) * (PK†X / 50.0) ^ ((50.0 * 1.0) / +(100.0 * 1.0))) * (PX / ((+(((100.0 * 1.0) / +(100.0 * 1.0)) * (PX / 1.0) ^ (1.0 + 0.0))) ^ (1.0 / (1.0 + 0.0)) * 1.0)) ^ 0.0 - PX‡X                                              ┴  PX‡X\n",
       "    50.0 * ((PL†Y / 20.0) ^ ((20.0 * 1.0) / +(50.0 * 1.0)) * (PK†Y / 30.0) ^ ((30.0 * 1.0) / +(50.0 * 1.0))) * (PY / ((+(((50.0 * 1.0) / +(50.0 * 1.0)) * (PY / 1.0) ^ (1.0 + 0.0))) ^ (1.0 / (1.0 + 0.0)) * 1.0)) ^ 0.0 - PY‡Y                                                                     ┴  PY‡Y\n",
       "    150.0 * ((PX†U / 100.0) ^ ((100.0 * 1.0) / +(150.0 * 1.0)) * (PY†U / 50.0) ^ ((50.0 * 1.0) / +(150.0 * 1.0))) * (PU / ((+(((150.0 * 1.0) / +(150.0 * 1.0)) * (PU / 1.0) ^ (1.0 + 0.0))) ^ (1.0 / (1.0 + 0.0)) * 1.0)) ^ 0.0 - PU‡U                                                              ┴  PU‡U\n",
       "  Final Demand\n",
       "    150.0 * (RA / 150.0) * (1.0 / PU) - PUρRA                                                                                                                                                                                                                                                       ┴  PUρRA\n",
       "  Zero Profit\n",
       "    (PL * PL†X + PK * PK†X) - +(PX * PX‡X)                                                                                                                                                                                                                                                          ┴  0.0 < X\n",
       "    (PL * PL†Y + PK * PK†Y) - +(PY * PY‡Y)                                                                                                                                                                                                                                                          ┴  0.0 < Y\n",
       "    (PX * PX†U + PY * PY†U) - +(PU * PU‡U)                                                                                                                                                                                                                                                          ┴  0.0 < U\n",
       "  Market clearance\n",
       "    (0.0 + 80.0) - (0.0 + X * PK†X + Y * PK†Y)                                                                                                                                                                                                                                                      ┴  0.001 < PK\n",
       "    (0.0 + X * PX‡X) - (0.0 + U * PX†U)                                                                                                                                                                                                                                                             ┴  0.001 < PX\n",
       "    (0.0 + 70.0 * endow) - (0.0 + X * PL†X + Y * PL†Y)                                                                                                                                                                                                                                              ┴  0.001 < PL\n",
       "    (0.0 + Y * PY‡Y) - (0.0 + U * PY†U)                                                                                                                                                                                                                                                             ┴  0.001 < PY\n",
       "    (0.0 + U * PU‡U) - (0.0 + PUρRA)                                                                                                                                                                                                                                                                ┴  0.001 < PU\n",
       "  Income balance\n",
       "    ((70.0 * endow) * PL + 80.0 * PK) - RA                                                                                                                                                                                                                                                          ┴  0.0 < RA\n"
      ]
     },
     "metadata": {},
     "output_type": "display_data"
    }
   ],
   "source": [
    "algebraic_version(m)"
   ]
  },
  {
   "cell_type": "code",
   "execution_count": 33,
   "metadata": {},
   "outputs": [
    {
     "ename": "MethodError",
     "evalue": "MethodError: no method matching set_value(::Int64, ::Float64)\nClosest candidates are:\n  set_value(!Matched::JuMP.NonlinearParameter, ::Number) at C:\\Users\\Eli\\.julia\\packages\\JuMP\\zn6NT\\src\\nlp.jl:154\n  set_value(!Matched::MPSGE.CommodityRef, ::Float64) at c:\\Users\\Eli\\.julia\\dev\\MPSGE\\src\\model.jl:661\n  set_value(!Matched::MPSGE.AuxRef, ::Float64) at c:\\Users\\Eli\\.julia\\dev\\MPSGE\\src\\model.jl:651\n  ...",
     "output_type": "error",
     "traceback": [
      "MethodError: no method matching set_value(::Int64, ::Float64)\n",
      "Closest candidates are:\n",
      "  set_value(!Matched::JuMP.NonlinearParameter, ::Number) at C:\\Users\\Eli\\.julia\\packages\\JuMP\\zn6NT\\src\\nlp.jl:154\n",
      "  set_value(!Matched::MPSGE.CommodityRef, ::Float64) at c:\\Users\\Eli\\.julia\\dev\\MPSGE\\src\\model.jl:661\n",
      "  set_value(!Matched::MPSGE.AuxRef, ::Float64) at c:\\Users\\Eli\\.julia\\dev\\MPSGE\\src\\model.jl:651\n",
      "  ...\n",
      "\n",
      "Stacktrace:\n",
      " [1] top-level scope\n",
      "   @ c:\\Users\\Eli\\.julia\\dev\\MPSGE\\examples\\InputDiffParamTest.ipynb:1"
     ]
    }
   ],
   "source": [
    "set_value(diff, 10.0)\n",
    "set_fixed!(RA, true)\n",
    "solve!(m)"
   ]
  },
  {
   "cell_type": "markdown",
   "metadata": {},
   "source": [
    "copy and paste results into Excel to turn into  var\"Variable\" = Value;\n",
    "\n",
    "Any variable that is given a value can no longer be updated with set_value\n"
   ]
  },
  {
   "attachments": {},
   "cell_type": "markdown",
   "metadata": {},
   "source": [
    "This WAS MPSGE.jl + DIFF IN INPUT-> PL of X: from updating diff = 10 and set_fixed(RA, true), not match to GAMS"
   ]
  },
  {
   "cell_type": "code",
   "execution_count": 34,
   "metadata": {},
   "outputs": [],
   "source": [
    "var\"X\" = 0.907085116015307;\n",
    "var\"Y\" = 1.0099816812365;\n",
    "var\"U\" = 0.940163081141929;\n",
    "var\"PX\" = 1.10243237351448;\n",
    "var\"PY\" = 0.990116965766566;\n",
    "var\"PU\" = 1.06364525277147;\n",
    "var\"PL\" = 1.06493506229893;\n",
    "var\"PK\" = 0.943181817041456;\n",
    "var\"PX‡X\" = 100.000000061341;\n",
    "var\"PY‡Y\" = 50.0000000276231;\n",
    "var\"PU‡U\" = 150.000000000967;\n",
    "var\"PL†X\" = 56.4660485536119;\n",
    "var\"PK†X\" = 53.1292711343664;\n",
    "var\"PL†Y\" = 18.5948796353724;\n",
    "var\"PK†Y\" = 31.4928770648795;\n",
    "var\"PX†U\" = 96.4816779936831;\n",
    "var\"PY†U\" = 53.7131111648588;\n",
    "var\"RA\" = 150;\n",
    "var\"PUρRA\" = 141.024462172411;\n",
    "var\"diff\" = 10 ;\n",
    "var\"endow\" = 1;"
   ]
  },
  {
   "attachments": {},
   "cell_type": "markdown",
   "metadata": {},
   "source": [
    "GAMS + DIFF IN INPUT -> PL of X: from updating diff=10, not RA.FX = RA.FX"
   ]
  },
  {
   "cell_type": "code",
   "execution_count": 35,
   "metadata": {},
   "outputs": [],
   "source": [
    "var\"X\" = 0.90209303;\n",
    "var\"Y\" = 1.00998168;\n",
    "var\"U\" = 0.93671049;\n",
    "var\"PX\" = 1.10853311;\n",
    "var\"PY\" = 0.99011696;\n",
    "var\"PU\" = 1.06756571;\n",
    "var\"PL\" = 1.06493506;\n",
    "var\"PK\" = 0.94318182;\n",
    "var\"PX‡X\" = 100;\n",
    "var\"PY‡Y\" = 50;\n",
    "var\"PU‡U\" = 150;\n",
    "var\"PL†X\" = 56.77852579;\n",
    "var\"PK†X\" = 53.42328265;\n",
    "var\"PL†Y\" = 18.59487971;\n",
    "var\"PK†Y\" = 31.49287695;\n",
    "var\"PX†U\" = 96.30435869;\n",
    "var\"PY†U\" = 53.91109057;\n",
    "var\"RA\" = 150;\n",
    "var\"PUρRA\" = 140.5066;\n",
    "var\"diff\" = 10 ;\n",
    "var\"endow\" = 1;"
   ]
  },
  {
   "attachments": {},
   "cell_type": "markdown",
   "metadata": {},
   "source": [
    "This is MPSGE.jl + diff in output of X, from updating diff = 10 and set_fixed(RA, true), ~ match to GAMS"
   ]
  },
  {
   "cell_type": "code",
   "execution_count": 36,
   "metadata": {},
   "outputs": [],
   "source": [
    "var\"X\" = 1.0000000000544 ;\n",
    "var\"Y\" = 1.00000000000066 ;\n",
    "var\"U\" = 1.0656022367644 ;\n",
    "var\"PX\" = 0.909090908368919 ;\n",
    "var\"PY\" = 0.999999999222552 ;\n",
    "var\"PU\" = 0.938436467833448 ;\n",
    "var\"PL\" = 0.999999999157994 ;\n",
    "var\"PK\" = 0.999999999269399 ;\n",
    "var\"PX‡X\" = 109.999999994235 ;\n",
    "var\"PY‡Y\" = 50.0000000001482 ;\n",
    "var\"PU‡U\" = 150.000000000481 ;\n",
    "var\"PL†X\" = 49.9999999971192 ;\n",
    "var\"PK†X\" = 49.9999999971148 ;\n",
    "var\"PL†Y\" = 20.0000000001045 ;\n",
    "var\"PK†Y\" = 30.0000000000426 ;\n",
    "var\"PX†U\" = 103.228011545968 ;\n",
    "var\"PY†U\" = 46.921823429979 ;\n",
    "var\" RA\" = 150 ;\n",
    "var\"PUρRA\" = 159.840335515262 ;\n",
    "var\"diff\" = 10 ;\n"
   ]
  },
  {
   "cell_type": "markdown",
   "metadata": {},
   "source": [
    "GAMS for diff=10, RA.FX = 150, SAME as no RA.FX"
   ]
  },
  {
   "cell_type": "code",
   "execution_count": 37,
   "metadata": {},
   "outputs": [],
   "source": [
    "var\"X\" = 1 ;\n",
    "var\"Y\" = 1 ;\n",
    "var\"U\" = 1.06560224 ;\n",
    "var\"PX\" = 0.90909091 ;\n",
    "var\"PY\" = 1 ;\n",
    "var\"PU\" = 0.93843647 ;\n",
    "var\"PL\" = 1 ;\n",
    "var\"PK\" = 1 ;\n",
    "var\"PX‡X\" = 110 ;\n",
    "var\"PY‡Y\" = 50 ;\n",
    "var\"PU‡U\" = 150 ;\n",
    "var\"PL†X\" = 50 ;\n",
    "var\"PK†X\" = 50 ;\n",
    "var\"PL†Y\" = 20 ;\n",
    "var\"PK†Y\" = 30 ;\n",
    "var\"PX†U\" = 103.228 ;\n",
    "var\"PY†U\" = 46.92182343 ;\n",
    "var\" RA\" = 150 ;\n",
    "var\"PUρRA\" = 159.8403 ;\n",
    "var\"diff\" = 10 ;"
   ]
  },
  {
   "cell_type": "code",
   "execution_count": 38,
   "metadata": {},
   "outputs": [
    {
     "ename": "MethodError",
     "evalue": "MethodError: no method matching set_value(::Int64, ::Float64)\nClosest candidates are:\n  set_value(!Matched::JuMP.NonlinearParameter, ::Number) at C:\\Users\\Eli\\.julia\\packages\\JuMP\\zn6NT\\src\\nlp.jl:154\n  set_value(!Matched::MPSGE.CommodityRef, ::Float64) at c:\\Users\\Eli\\.julia\\dev\\MPSGE\\src\\model.jl:661\n  set_value(!Matched::MPSGE.AuxRef, ::Float64) at c:\\Users\\Eli\\.julia\\dev\\MPSGE\\src\\model.jl:651\n  ...",
     "output_type": "error",
     "traceback": [
      "MethodError: no method matching set_value(::Int64, ::Float64)\n",
      "Closest candidates are:\n",
      "  set_value(!Matched::JuMP.NonlinearParameter, ::Number) at C:\\Users\\Eli\\.julia\\packages\\JuMP\\zn6NT\\src\\nlp.jl:154\n",
      "  set_value(!Matched::MPSGE.CommodityRef, ::Float64) at c:\\Users\\Eli\\.julia\\dev\\MPSGE\\src\\model.jl:661\n",
      "  set_value(!Matched::MPSGE.AuxRef, ::Float64) at c:\\Users\\Eli\\.julia\\dev\\MPSGE\\src\\model.jl:651\n",
      "  ...\n",
      "\n",
      "Stacktrace:\n",
      " [1] top-level scope\n",
      "   @ c:\\Users\\Eli\\.julia\\dev\\MPSGE\\examples\\InputDiffParamTest.ipynb:1"
     ]
    }
   ],
   "source": [
    "set_value(diff, 10.0)\n",
    "set_value(endow, 1.1)\n",
    "set_fixed!(RA, true)\n",
    "solve!(m)"
   ]
  },
  {
   "cell_type": "markdown",
   "metadata": {},
   "source": [
    "set_value(diff, 10.0)\n",
    "set_value(endow, 1.1)\n",
    "set_fixed!(RA, true)"
   ]
  },
  {
   "cell_type": "code",
   "execution_count": 39,
   "metadata": {},
   "outputs": [],
   "source": [
    "var\"X\" = 1.04904713847483 ;\n",
    "var\"Y\" = 1.03886011792587 ;\n",
    "var\"U\" = 1.11408336425776 ;\n",
    "var\"PX\" = 0.907215362082662 ;\n",
    "var\"PY\" = 1.00751453099342 ;\n",
    "var\"PU\" = 0.939486844766213 ;\n",
    "var\"PL\" = 0.951515148888152 ;\n",
    "var\"PK\" = 1.04666666566031 ;\n",
    "var\"PX‡X\" = 109.977284836133 ;\n",
    "var\"PY‡Y\" = 50.0000000174636 ;\n",
    "var\"PU‡U\" = 150.000000000728 ;\n",
    "var\"PL†X\" = 52.4285306016761 ;\n",
    "var\"PK†X\" = 47.6623005410971 ;\n",
    "var\"PL†Y\" = 21.177057063675 ;\n",
    "var\"PK†Y\" = 28.8778050917323 ;\n",
    "var\"PX†U\" = 103.557201960118 ;\n",
    "var\"PY†U\" = 46.6239848677298 ;\n",
    "var\" RA\" = 157 ;\n",
    "var\"PUρRA\" = 167.112504639448 ;\n",
    "var\"diff\" = 10 ;"
   ]
  },
  {
   "cell_type": "markdown",
   "metadata": {},
   "source": [
    "GAMS diff=10, endow=1.1, RA.FX=80+70*1.1 SAME as NO RA.FX"
   ]
  },
  {
   "cell_type": "code",
   "execution_count": 40,
   "metadata": {},
   "outputs": [],
   "source": [
    "var\"X\" = 1.04880885 ;\n",
    "var\"Y\" = 1.03886012 ;\n",
    "var\"U\" = 1.11406803 ;\n",
    "var\"PX\" = 0.9072341 ;\n",
    "var\"PY\" = 1.00751453 ;\n",
    "var\"PU\" = 0.93949978 ;\n",
    "var\"PL\" = 0.95151515 ;\n",
    "var\"PK\" = 1.04666667 ;\n",
    "var\"PX‡X\" = 110 ;\n",
    "var\"PY‡Y\" = 50 ;\n",
    "var\"PU‡U\" = 150 ;\n",
    "var\"PL†X\" = 52.44044241 ;\n",
    "var\"PK†X\" = 47.67312946 ;\n",
    "var\"PL†Y\" = 21.17705706 ;\n",
    "var\"PK†Y\" = 28.87780508 ;\n",
    "var\"PX†U\" = 103.5565 ;\n",
    "var\"PY†U\" = 46.6246268 ;\n",
    "var\" RA\" = 157 ;\n",
    "var\"PUρRA\" = 167.1102 ;\n",
    "# var\"diff\" = 10 ;\n",
    "var\"diff\" = 0 ;"
   ]
  },
  {
   "cell_type": "markdown",
   "metadata": {},
   "source": [
    "GAMS for diff=10, PX.FX=1"
   ]
  },
  {
   "cell_type": "code",
   "execution_count": 41,
   "metadata": {},
   "outputs": [],
   "source": [
    "var\"X\" = 1 ;\n",
    "var\"Y\" = 1 ;\n",
    "var\"U\" = 1.06560224 ;\n",
    "var\"PX\" = 1 ;\n",
    "var\"PY\" = 1.1 ;\n",
    "var\"PU\" = 1.03228012 ;\n",
    "var\"PL\" = 1.1 ;\n",
    "var\"PK\" = 1.1 ;\n",
    "var\"PX‡X\" = 110 ;\n",
    "var\"PY‡Y\" = 50 ;\n",
    "var\"PU‡U\" = 150 ;\n",
    "var\"PL†X\" = 50 ;\n",
    "var\"PK†X\" = 50 ;\n",
    "var\"PL†Y\" = 20 ;\n",
    "var\"PK†Y\" = 30 ;\n",
    "var\"PX†U\" = 103.228 ;\n",
    "var\"PY†U\" = 46.92182343 ;\n",
    "var\" RA\" = 165 ;\n",
    "var\"PUρRA\" = 159.840335515262 ;\n",
    "var\"diff\" = 10 ;"
   ]
  },
  {
   "cell_type": "code",
   "execution_count": 42,
   "metadata": {},
   "outputs": [],
   "source": [
    "var\"X\" = 1.04904713847483 ;\n",
    "var\"Y\" = 1.03886011792587 ;\n",
    "var\"U\" = 1.11408336425776 ;\n",
    "var\"PX\" = 0.907215362082662 ;\n",
    "var\"PY\" = 1.00751453099342 ;\n",
    "var\"PU\" = 0.939486844766213 ;\n",
    "var\"PL\" = 0.951515148888152 ;\n",
    "var\"PK\" = 1.04666666566031 ;\n",
    "var\"PX‡X\" = 109.977284836133 ;\n",
    "var\"PY‡Y\" = 50.0000000174636 ;\n",
    "var\"PU‡U\" = 150.000000000728 ;\n",
    "var\"PL†X\" = 52.4285306016761 ;\n",
    "var\"PK†X\" = 47.6623005410971 ;\n",
    "var\"PL†Y\" = 21.177057063675 ;\n",
    "var\"PK†Y\" = 28.8778050917323 ;\n",
    "var\"PX†U\" = 103.557201960118 ;\n",
    "var\"PY†U\" = 46.6239848677298 ;\n",
    "var\" RA\" = 157 ;\n",
    "var\"PUρRA\" = 167.112504639448 ;\n",
    "var\"diff\" = 10 ;"
   ]
  },
  {
   "attachments": {},
   "cell_type": "markdown",
   "metadata": {},
   "source": [
    "set_value(diff, 10.0)\n",
    "set_value(endow, 1.1)\n",
    "set_fixed!(RA, false)"
   ]
  },
  {
   "cell_type": "code",
   "execution_count": 43,
   "metadata": {},
   "outputs": [],
   "source": [
    "var\"X\" = 1.03523426518343 ;\n",
    "var\"Y\" = 1.03886011829416 ;\n",
    "var\"U\" = 1.11318877431167 ;\n",
    "var\"PX\" = 1.02338957692563 ;\n",
    "var\"PY\" = 1.1351639913029 ;\n",
    "var\"PU\" = 1.05936802743385 ;\n",
    "var\"PL\" = 1.07206963405921 ;\n",
    "var\"PK\" = 1.1792765990823 ;\n",
    "var\"PX‡X\" = 111.310479273694 ;\n",
    "var\"PY‡Y\" = 50.0000000039924 ;\n",
    "var\"PU‡U\" = 150.000000097099 ;\n",
    "var\"PL†X\" = 53.1280714406104 ;\n",
    "var\"PK†X\" = 48.2982467638607 ;\n",
    "var\"PL†Y\" = 21.177057057939 ;\n",
    "var\"PK†Y\" = 28.8778050837489 ;\n",
    "var\"PX†U\" = 103.515616409909 ;\n",
    "var\"PY†U\" = 46.6614531888854 ;\n",
    "var\" RA\" = 176.891489749144 ;\n",
    "var\"PUρRA\" = 166.978316299905 ;\n",
    "var\"diff\" = 10;"
   ]
  },
  {
   "cell_type": "markdown",
   "metadata": {},
   "source": [
    " Compensated Demand\n"
   ]
  },
  {
   "cell_type": "markdown",
   "metadata": {},
   "source": [
    "PL†X"
   ]
  },
  {
   "cell_type": "code",
   "execution_count": 44,
   "metadata": {},
   "outputs": [
    {
     "data": {
      "text/plain": [
       "0.6966456532467049"
      ]
     },
     "metadata": {},
     "output_type": "display_data"
    }
   ],
   "source": [
    "(50.0+var\"diff\") * ((var\"PL†X\" / (50.0+var\"diff\")) ^ (((50.0) * 1.0) / +((100.0 ) * 1.0)) * (var\"PK†X\" / 50.0) ^ ((50.0 * 1.0) / +((100.0 ) * 1.0))) * (((((var\"PL\" / 1.0) ^ ((50.0 * 1.0) / +((100.0 ) * 1.0)) * (var\"PK\" / 1.0) ^ ((50.0 * 1.0) / +((100.0 ) * 1.0))) * ((var\"PL†X\" / (50.0+var\"diff\")) ^ (((50.0) * 1.0) / +((100.0 ) * 1.0)) * (var\"PK†X\" / 50.0) ^ ((50.0 * 1.0) / +((100.0 ) * 1.0)))) * 1.0) / PL) ^ 1.0 - var\"PL†X\""
   ]
  },
  {
   "attachments": {},
   "cell_type": "markdown",
   "metadata": {},
   "source": [
    "With GAMS values <br>\n",
    "ABOVE: Adding +diff to *1* of the numerators in the exponent of (PL:X/50+diff) BUT NOT the other one! -4.185437774140155e-9 , OR ALSO to the denominators of that exponent and the adjascent PK:X, -4.515321450071497e-9"
   ]
  },
  {
   "cell_type": "markdown",
   "metadata": {},
   "source": [
    "PK†X"
   ]
  },
  {
   "cell_type": "code",
   "execution_count": 45,
   "metadata": {},
   "outputs": [
    {
     "data": {
      "text/plain": [
       "-7.682900310833432"
      ]
     },
     "metadata": {},
     "output_type": "display_data"
    }
   ],
   "source": [
    "(50.0) * ((var\"PL†X\" / (50.0+var\"diff\")) ^ (((50.0+var\"diff\") * 1.0) / +((100.0+var\"diff\" ) * 1.0)) * (var\"PK†X\" / 50.0) ^ (((50.0) * 1.0) / +((100.0+var\"diff\" ) * 1.0))) * (((((var\"PL\" / 1.0) ^ ((50.0 * 1.0) / +((100.0 ) * 1.0)) * (var\"PK\" / 1.0) ^ ((50.0 * 1.0) / +((100.0 ) * 1.0))) * ((var\"PL†X\" / (50.0+var\"diff\")) ^ (((50.0) * 1.0) / +((100.0 ) * 1.0)) * (var\"PK†X\" / 50.0) ^ (((50.0) * 1.0) / +((100.0 ) * 1.0)))) * 1.0) / PK) ^ 1.0 - var\"PK†X\""
   ]
  },
  {
   "cell_type": "markdown",
   "metadata": {},
   "source": [
    "PL†Y"
   ]
  },
  {
   "cell_type": "code",
   "execution_count": 46,
   "metadata": {},
   "outputs": [
    {
     "data": {
      "text/plain": [
       "2.1099900493481982e-8"
      ]
     },
     "metadata": {},
     "output_type": "display_data"
    }
   ],
   "source": [
    "20.0 * ((var\"PL†Y\" / 20.0) ^ ((20.0 * 1.0) / +(50.0 * 1.0)) * (var\"PK†Y\" / 30.0) ^ ((30.0 * 1.0) / +(50.0 * 1.0))) * (((((var\"PL\" / 1.0) ^ ((20.0 * 1.0) / +(50.0 * 1.0)) * (var\"PK\" / 1.0) ^ ((30.0 * 1.0) / +(50.0 * 1.0))) * ((var\"PL†Y\" / 20.0) ^ ((20.0 * 1.0) / +(50.0 * 1.0)) * (var\"PK†Y\" / 30.0) ^ ((30.0 * 1.0) / +(50.0 * 1.0)))) * 1.0) / PL) ^ 1.0 - var\"PL†Y\""
   ]
  },
  {
   "cell_type": "markdown",
   "metadata": {},
   "source": [
    "PK†Y"
   ]
  },
  {
   "cell_type": "code",
   "execution_count": 47,
   "metadata": {},
   "outputs": [
    {
     "data": {
      "text/plain": [
       "-1.5569384004265885e-8"
      ]
     },
     "metadata": {},
     "output_type": "display_data"
    }
   ],
   "source": [
    "30.0 * ((var\"PL†Y\" / 20.0) ^ ((20.0 * 1.0) / +(50.0 * 1.0)) * (var\"PK†Y\" / 30.0) ^ ((30.0 * 1.0) / +(50.0 * 1.0))) * (((((var\"PL\" / 1.0) ^ ((20.0 * 1.0) / +(50.0 * 1.0)) * (var\"PK\" / 1.0) ^ ((30.0 * 1.0) / +(50.0 * 1.0))) * ((var\"PL†Y\" / 20.0) ^ ((20.0 * 1.0) / +(50.0 * 1.0)) * (var\"PK†Y\" / 30.0) ^ ((30.0 * 1.0) / +(50.0 * 1.0)))) * 1.0) / PK) ^ 1.0 - var\"PK†Y\""
   ]
  },
  {
   "cell_type": "markdown",
   "metadata": {},
   "source": [
    "PX†U"
   ]
  },
  {
   "cell_type": "code",
   "execution_count": 48,
   "metadata": {},
   "outputs": [
    {
     "data": {
      "text/plain": [
       "6.712691913435265e-8"
      ]
     },
     "metadata": {},
     "output_type": "display_data"
    }
   ],
   "source": [
    "100.0 * ((var\"PX†U\" / 100.0) ^ ((100.0 * 1.0) / +(150.0 * 1.0)) * (var\"PY†U\" / 50.0) ^ ((50.0 * 1.0) / +(150.0 * 1.0))) * (((((var\"PX\" / 1.0) ^ ((100.0 * 1.0) / +(150.0 * 1.0)) * (var\"PY\" /1.0) ^ ((50.0 * 1.0) / +(150.0 * 1.0))) * ((var\"PX†U\" / 100.0) ^ ((100.0 * 1.0) / +(150.0 * 1.0)) * (var\"PY†U\" / 50.0) ^ ((50.0 * 1.0) / +(150.0 * 1.0)))) * 1.0) / PX) ^ 1.0 - var\"PX†U\""
   ]
  },
  {
   "cell_type": "markdown",
   "metadata": {},
   "source": [
    "PY†U"
   ]
  },
  {
   "cell_type": "code",
   "execution_count": 49,
   "metadata": {},
   "outputs": [
    {
     "data": {
      "text/plain": [
       "2.988659986158382e-8"
      ]
     },
     "metadata": {},
     "output_type": "display_data"
    }
   ],
   "source": [
    "50.0 * ((var\"PX†U\" / 100.0) ^ ((100.0 * 1.0) / +(150.0 * 1.0)) * (var\"PY†U\" / 50.0) ^ ((50.0 * 1.0) / +(150.0 * 1.0))) * (((((var\"PX\" / 1.0) ^ ((100.0 * 1.0) / +(150.0 * 1.0)) * (var\"PY\" /1.0) ^ ((50.0 * 1.0) / +(150.0 * 1.0))) * ((var\"PX†U\" / 100.0) ^ ((100.0 * 1.0) / +(150.0 * 1.0)) * (var\"PY†U\" / 50.0) ^ ((50.0 * 1.0) / +(150.0 * 1.0)))) * 1.0) / PY) ^ 1.0 - var\"PY†U\""
   ]
  },
  {
   "cell_type": "markdown",
   "metadata": {},
   "source": [
    "  Compensated Supply\n"
   ]
  },
  {
   "cell_type": "markdown",
   "metadata": {},
   "source": [
    "PX‡X"
   ]
  },
  {
   "cell_type": "code",
   "execution_count": 50,
   "metadata": {},
   "outputs": [
    {
     "data": {
      "text/plain": [
       "-19.191435875898804"
      ]
     },
     "metadata": {},
     "output_type": "display_data"
    }
   ],
   "source": [
    "(100.0 ) * ((var\"PL†X\" / (50.0+var\"diff\")) ^ (((50.0+var\"diff\") * 1.0) / +((100.0+var\"diff\" ) * 1.0)) * (var\"PK†X\" / 50.0) ^ ((50.0 * 1.0) / +((100.0+var\"diff\" ) * 1.0))) * ((var\"PX\" / (+((((100.0 ) * 1.0) / +((100.0 ) * 1.0)) * (var\"PX\" / 1.0) ^ (1.0 + 0.0))) ^ (1.0 / (1.0 + 0.0))) / 1.0) ^ 0.0 - var\"PX‡X\" "
   ]
  },
  {
   "attachments": {},
   "cell_type": "markdown",
   "metadata": {},
   "source": [
    "Above: Added +var\"diff\" to the numerator of the exponenet of PL:X. Hypothesis is that it either SHOULD be there (or - less likely - that MPSGE is wrong)"
   ]
  },
  {
   "cell_type": "markdown",
   "metadata": {},
   "source": [
    "PY‡Y"
   ]
  },
  {
   "cell_type": "code",
   "execution_count": 51,
   "metadata": {},
   "outputs": [
    {
     "data": {
      "text/plain": [
       "-2.396873810539546e-10"
      ]
     },
     "metadata": {},
     "output_type": "display_data"
    }
   ],
   "source": [
    "50.0 * ((var\"PL†Y\" / 20.0) ^ ((20.0 * 1.0) / +(50.0 * 1.0)) * (var\"PK†Y\" / 30.0) ^ ((30.0 * 1.0) / +(50.0 * 1.0))) * ((var\"PY\" /(+(((50.0 * 1.0) / +(50.0 * 1.0)) * (var\"PY\" /1.0) ^ (1.0 + 0.0))) ^ (1.0 / (1.0 + 0.0))) / 1.0) ^ 0.0 - var\"PY‡Y\""
   ]
  },
  {
   "cell_type": "markdown",
   "metadata": {},
   "source": [
    "PU‡U"
   ]
  },
  {
   "cell_type": "code",
   "execution_count": 52,
   "metadata": {},
   "outputs": [
    {
     "data": {
      "text/plain": [
       "-2.269189280923456e-10"
      ]
     },
     "metadata": {},
     "output_type": "display_data"
    }
   ],
   "source": [
    "150.0 * ((var\"PX†U\" / 100.0) ^ ((100.0 * 1.0) / +(150.0 * 1.0)) * (var\"PY†U\" / 50.0) ^ ((50.0 * 1.0) / +(150.0 * 1.0))) * ((var\"PU\" / (+(((150.0 * 1.0) / +(150.0 * 1.0)) * (var\"PU\" / 1.0) ^ (1.0 + 0.0))) ^ (1.0 / (1.0 + 0.0))) / 1.0) ^ 0.0 - var\"PU‡U\""
   ]
  },
  {
   "cell_type": "markdown",
   "metadata": {},
   "source": [
    "  Final Demand\n"
   ]
  },
  {
   "cell_type": "code",
   "execution_count": 53,
   "metadata": {},
   "outputs": [
    {
     "data": {
      "text/plain": [
       "-25.384464007278154"
      ]
     },
     "metadata": {},
     "output_type": "display_data"
    }
   ],
   "source": [
    "150.0 * (\n",
    "    # 165\n",
    "    # 157 \n",
    "var\"RA\"\n",
    " / 150.0) * (1.0 / var\"PU\") - var\"PUρRA\""
   ]
  },
  {
   "cell_type": "markdown",
   "metadata": {},
   "source": [
    "  Zero Profit\n"
   ]
  },
  {
   "cell_type": "code",
   "execution_count": 54,
   "metadata": {},
   "outputs": [
    {
     "data": {
      "text/plain": [
       "1.6352998954971554e-9"
      ]
     },
     "metadata": {},
     "output_type": "display_data"
    }
   ],
   "source": [
    "(var\"PL\" * var\"PL†X\" + var\"PK\" * var\"PK†X\") - +(var\"PX\" * var\"PX‡X\")"
   ]
  },
  {
   "cell_type": "code",
   "execution_count": 55,
   "metadata": {},
   "outputs": [
    {
     "data": {
      "text/plain": [
       "9.003599643619964e-9"
      ]
     },
     "metadata": {},
     "output_type": "display_data"
    }
   ],
   "source": [
    "(var\"PL\" * var\"PL†Y\" + var\"PK\" * var\"PK†Y\") - +(var\"PY\" * var\"PY‡Y\")"
   ]
  },
  {
   "cell_type": "code",
   "execution_count": 56,
   "metadata": {},
   "outputs": [
    {
     "data": {
      "text/plain": [
       "1.0688012253012857e-7"
      ]
     },
     "metadata": {},
     "output_type": "display_data"
    }
   ],
   "source": [
    "(var\"PX\" * var\"PX†U\" + var\"PY\" * var\"PY†U\") - +(var\"PU\" * var\"PU‡U\")"
   ]
  },
  {
   "cell_type": "markdown",
   "metadata": {},
   "source": [
    "  Market clearance\n"
   ]
  },
  {
   "cell_type": "code",
   "execution_count": 57,
   "metadata": {},
   "outputs": [
    {
     "data": {
      "text/plain": [
       "-6.999999998765759"
      ]
     },
     "metadata": {},
     "output_type": "display_data"
    }
   ],
   "source": [
    "(0.0 + 70.0 * \n",
    "# 1.1\n",
    "# 1.0\n",
    "var\"endow\"\n",
    ") - (0.0 + var\"X\" * var\"PL†X\" + var\"Y\" * var\"PL†Y\")"
   ]
  },
  {
   "cell_type": "code",
   "execution_count": 58,
   "metadata": {},
   "outputs": [
    {
     "data": {
      "text/plain": [
       "-3.612385057749634e-9"
      ]
     },
     "metadata": {},
     "output_type": "display_data"
    }
   ],
   "source": [
    "(0.0 + 80.0) - (0.0 + var\"X\" * var\"PK†X\" + var\"Y\" * var\"PK†Y\")"
   ]
  },
  {
   "cell_type": "code",
   "execution_count": 59,
   "metadata": {},
   "outputs": [
    {
     "data": {
      "text/plain": [
       "-4.506500772549771e-8"
      ]
     },
     "metadata": {},
     "output_type": "display_data"
    }
   ],
   "source": [
    "(0.0 + var\"U\" * var\"PU‡U\") - (0.0 + var\"PUρRA\")"
   ]
  },
  {
   "cell_type": "code",
   "execution_count": 60,
   "metadata": {},
   "outputs": [
    {
     "data": {
      "text/plain": [
       "3.591883768194748e-8"
      ]
     },
     "metadata": {},
     "output_type": "display_data"
    }
   ],
   "source": [
    "(0.0 + var\"Y\" * var\"PY‡Y\") - (0.0 + var\"U\" * var\"PY†U\")"
   ]
  },
  {
   "cell_type": "code",
   "execution_count": 61,
   "metadata": {},
   "outputs": [
    {
     "data": {
      "text/plain": [
       "6.465444357672823e-8"
      ]
     },
     "metadata": {},
     "output_type": "display_data"
    }
   ],
   "source": [
    "(0.0 + var\"X\" * var\"PX‡X\") - (0.0 + var\"U\" * var\"PX†U\")"
   ]
  },
  {
   "cell_type": "markdown",
   "metadata": {},
   "source": [
    "  Income balance\n"
   ]
  },
  {
   "cell_type": "code",
   "execution_count": 62,
   "metadata": {},
   "outputs": [
    {
     "data": {
      "text/plain": [
       "19.38700231072869"
      ]
     },
     "metadata": {},
     "output_type": "display_data"
    }
   ],
   "source": [
    "((70.0 *\n",
    "# 1.0\n",
    "# 1.1 \n",
    "var\"endow\"\n",
    ") * var\"PL\" + 80.0 * var\"PK\") - \n",
    "# 157\n",
    "# 165\n",
    "var\"RA\""
   ]
  },
  {
   "cell_type": "code",
   "execution_count": 63,
   "metadata": {},
   "outputs": [
    {
     "ename": "MethodError",
     "evalue": "MethodError: no method matching set_value(::Int64, ::Float64)\nClosest candidates are:\n  set_value(!Matched::JuMP.NonlinearParameter, ::Number) at C:\\Users\\Eli\\.julia\\packages\\JuMP\\zn6NT\\src\\nlp.jl:154\n  set_value(!Matched::MPSGE.CommodityRef, ::Float64) at c:\\Users\\Eli\\.julia\\dev\\MPSGE\\src\\model.jl:661\n  set_value(!Matched::MPSGE.AuxRef, ::Float64) at c:\\Users\\Eli\\.julia\\dev\\MPSGE\\src\\model.jl:651\n  ...",
     "output_type": "error",
     "traceback": [
      "MethodError: no method matching set_value(::Int64, ::Float64)\n",
      "Closest candidates are:\n",
      "  set_value(!Matched::JuMP.NonlinearParameter, ::Number) at C:\\Users\\Eli\\.julia\\packages\\JuMP\\zn6NT\\src\\nlp.jl:154\n",
      "  set_value(!Matched::MPSGE.CommodityRef, ::Float64) at c:\\Users\\Eli\\.julia\\dev\\MPSGE\\src\\model.jl:661\n",
      "  set_value(!Matched::MPSGE.AuxRef, ::Float64) at c:\\Users\\Eli\\.julia\\dev\\MPSGE\\src\\model.jl:651\n",
      "  ...\n",
      "\n",
      "Stacktrace:\n",
      " [1] top-level scope\n",
      "   @ c:\\Users\\Eli\\.julia\\dev\\MPSGE\\examples\\InputDiffParamTest.ipynb:1"
     ]
    }
   ],
   "source": [
    "set_value(diff,10.)\n",
    "set_fixed!(PX, true)\n",
    "# set_value(endow, 1.1)\n",
    "# set_value(RA,165.)\n",
    "# set_fixed!(RA,true)\n",
    "solve!(m)"
   ]
  },
  {
   "cell_type": "code",
   "execution_count": 64,
   "metadata": {},
   "outputs": [],
   "source": []
  }
 ],
 "metadata": {
  "kernelspec": {
   "display_name": "Julia 1.8.5",
   "language": "julia",
   "name": "julia-1.8"
  },
  "language_info": {
   "file_extension": ".jl",
   "mimetype": "application/julia",
   "name": "julia",
   "version": "1.8.5"
  },
  "orig_nbformat": 4,
  "vscode": {
   "interpreter": {
    "hash": "21729f1b7f2a6115a8ac6e11ddfc83af4bcd3abcc69ae9bcbc60331b8ffed3d1"
   }
  }
 },
 "nbformat": 4,
 "nbformat_minor": 2
}
