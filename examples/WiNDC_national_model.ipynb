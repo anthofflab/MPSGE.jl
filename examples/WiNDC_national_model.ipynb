{
 "cells": [
  {
   "cell_type": "markdown",
   "metadata": {},
   "source": [
    "# WiNDC National Model\n",
    "\n",
    "You will need to point to the correct locations for a few objects, listed below"
   ]
  },
  {
   "cell_type": "code",
   "execution_count": null,
   "metadata": {},
   "outputs": [],
   "source": [
    "parameter_path = raw\"C:\\Users\\mphillipson\\Documents\\Modeling\\MPSGE_dev_testing\\nationaldata_julia\\DAAData.jld2\"\n",
    "set_path = raw\"C:\\Users\\mphillipson\\Documents\\Modeling\\MPSGE_dev_testing\\nationaldata_julia\\Indices.jld2\";"
   ]
  },
  {
   "cell_type": "code",
   "execution_count": 2,
   "metadata": {},
   "outputs": [],
   "source": [
    "using MPSGE_MP\n",
    "\n",
    "using CSV, DataFrames, JLD2\n",
    "\n",
    "using JuMP"
   ]
  },
  {
   "cell_type": "code",
   "execution_count": 3,
   "metadata": {},
   "outputs": [],
   "source": [
    "P= load(parameter_path)[\"data\"] # load in date from saved Notebook output Dict, named P\n",
    "S= load(set_path)[\"data\"] # load in date from saved Notebook output Dict, named P\n",
    "\n",
    "\n",
    "I = [i for i∈S[:i] if i∉[:use,:oth]]\n",
    "J = [i for i∈S[:j] if i∉[:use,:oth]]\n",
    "VA = [va for va∈S[:va] if va!=:othtax]\n",
    "FD = S[:fd]\n",
    "TS = S[:ts]\n",
    "YR = S[:yr]\n",
    "M = S[:m]\n",
    "\n",
    "a_0 = P[:a_0]\n",
    "id_0 = P[:id_0]\n",
    "ys_0 = P[:ys_0]\n",
    "tm_0 = P[:tm_0]\n",
    "va_0 = P[:va_0]\n",
    "md_0 = P[:md_0]\n",
    "fd_0 = P[:fd_0]\n",
    "m_0 = P[:m_0]\n",
    "ty_0 = P[:ty_0]\n",
    "ms_0 = P[:ms_0]\n",
    "bopdef_0 = P[:bopdef_0]\n",
    "x_0 = P[:x_0]\n",
    "ta_0 = P[:ta_0]\n",
    "#s_0 = P[:s_0]\n",
    "fs_0 = P[:fs_0]\n",
    "y_0 = P[:y_0];\n",
    "\n",
    "\n",
    "ta = deepcopy(ta_0) *0\n",
    "ty = deepcopy(ty_0)\n",
    "tm = deepcopy(tm_0) *0;\n",
    "\n",
    "1;"
   ]
  },
  {
   "cell_type": "code",
   "execution_count": 4,
   "metadata": {},
   "outputs": [],
   "source": [
    "yr = Symbol(2017)\n",
    "\n",
    "WiNnat = MPSGEModel()\n",
    "\n",
    "y_ = [j for j∈J if sum(ys_0[yr,j,i] for i∈I) !=0]\n",
    "a_ = [i_ for i_∈I if a_0[yr,i_]!=0]\n",
    "\n",
    "@sectors(WiNnat,begin\n",
    "    Y, (index = [y_],)\n",
    "    A, (index = [a_],)\n",
    "    MS, (index = [M],)\n",
    "end)\n",
    "\n",
    "@commodities(WiNnat,begin\n",
    "    PA, (index = [a_],)\n",
    "    PY, (index = [y_],)\n",
    "    PVA, (index = [VA],)\n",
    "    PM, (index = [M],)\n",
    "    PFX\n",
    "end)\n",
    "\n",
    "@consumer(WiNnat, RA)\n",
    "\n",
    "\n",
    "for j∈y_\n",
    "    add_production!(WiNnat, Y[j],\n",
    "        ScalarNest(:t; elasticity = 0, children = [\n",
    "            ScalarOutput(PY[i],ys_0[yr,j,i]; taxes = [Tax(RA,ty[yr,j])]) for i∈I if ys_0[yr,j,i]>0\n",
    "        ]),\n",
    "        ScalarNest(:s; elasticity = 0, children = [\n",
    "            [ScalarInput(PA[i], id_0[yr,i,j]) for i∈a_ if id_0[yr,i,j]>0];\n",
    "            [ScalarNest(:va; elasticity =  1, children = \n",
    "                [ScalarInput(PVA[va], va_0[yr,va,j]) for va∈VA if va_0[yr,va,j]>0])\n",
    "            ];\n",
    "        ])\n",
    "    )\n",
    "end\n",
    "\n",
    "\n",
    "for m∈M\n",
    "    add_production!(WiNnat, MS[m],\n",
    "        ScalarNest(:t; elasticity = 0, children = [\n",
    "            ScalarOutput(PM[m], sum(ms_0[yr,i,m] for i∈I))\n",
    "        ]),\n",
    "        ScalarNest(:s; elasticity = 0, children = [\n",
    "            ScalarInput(PY[i], ms_0[yr,i,m]) for i∈I if ms_0[yr,i,m]>0\n",
    "        ])\n",
    "    )\n",
    "end\n",
    "\n",
    "\n",
    "for i∈a_\n",
    "    add_production!(WiNnat, A[i],\n",
    "        ScalarNest(:t; elasticity=2, children = [\n",
    "            [ScalarOutput(PA[i], a_0[yr,i], taxes=[Tax(RA,ta[yr,i])],reference_price=1-ta_0[yr,i])];\n",
    "            [ScalarOutput(PFX, x_0[yr,i])]\n",
    "        ]),\n",
    "        ScalarNest(:s; elasticity=0, children = [\n",
    "            [ScalarInput(PM[m], md_0[yr,m,i]) for m∈M if md_0[yr,m,i]>0];\n",
    "            ScalarNest(:dm; elasticity = 2, children = [\n",
    "                ifelse(y_0[yr,i]>0, [ScalarInput(PY[i], y_0[yr,i])],[]);\n",
    "                ifelse(m_0[yr,i]>0, [ScalarInput(PFX, m_0[yr,i], taxes = [Tax(RA,tm[yr,i])],reference_price=1+tm_0[yr,i])],[]);\n",
    "            ])\n",
    "        ])\n",
    "    )\n",
    "end\n",
    "\n",
    "\n",
    "add_demand!(WiNnat,\n",
    "    RA,\n",
    "    [ScalarDem(PA[i], fd_0[yr,i,:pce]) for i∈a_],\n",
    "    [\n",
    "        [ScalarEndowment(PY[i], fs_0[yr,i]) for i∈I];\n",
    "        [ScalarEndowment(PFX, bopdef_0[yr])];\n",
    "        [ScalarEndowment(PA[i], -sum(fd_0[yr,i,xfd] for xfd∈FD if xfd!=:pce)) for i∈a_];\n",
    "        [ScalarEndowment(PVA[va], sum(va_0[yr,va,j] for j∈J)) for va∈VA]\n",
    "    ]\n",
    ");"
   ]
  },
  {
   "cell_type": "code",
   "execution_count": 5,
   "metadata": {},
   "outputs": [
    {
     "data": {
      "text/plain": [
       "A JuMP Model\n",
       "Feasibility problem with:\n",
       "Variables: 286\n",
       "`Vector{NonlinearExpr}`-in-`MathOptInterface.Complements`: 279 constraints\n",
       "`Vector{AffExpr}`-in-`MathOptInterface.Complements`: 7 constraints\n",
       "`VariableRef`-in-`MathOptInterface.GreaterThan{Float64}`: 284 constraints\n",
       "Model mode: AUTOMATIC\n",
       "CachingOptimizer state: EMPTY_OPTIMIZER\n",
       "Solver name: Path 5.0.03\n",
       "Names registered in the model: A, MS, PA, PFX, PM, PVA, PY, RA, Y, income_balance, market_clearance, zero_profit"
      ]
     },
     "metadata": {},
     "output_type": "display_data"
    }
   ],
   "source": [
    "jm = build!(WiNnat)"
   ]
  },
  {
   "cell_type": "code",
   "execution_count": 6,
   "metadata": {},
   "outputs": [
    {
     "name": "stdout",
     "output_type": "stream",
     "text": [
      "Reading options file C:\\Users\\MPHILL~1\\AppData\\Local\\Temp\\jl_A0A5.tmp\n",
      " > cumulative_iteration_limit 10000\n",
      "Read of options file complete.\n",
      "\n",
      "Path 5.0.03 (Fri Jun 26 10:05:33 2020)\n",
      "Written by Todd Munson, Steven Dirkse, Youngdae Kim, and Michael Ferris\n",
      "\n",
      "Preprocessed size   : 285\n",
      "\n",
      "Crash Log\n",
      "major  func  diff  size  residual    step       prox   (label)\n",
      "    0     0             3.7941e+02             0.0e+00 (f[  154])\n",
      "    1     1     0   285 1.8806e+01  1.0e+00    0.0e+00 (f[  286])\n",
      "pn_search terminated: no basis change.\n",
      "\n",
      "Major Iteration Log\n",
      "major minor  func  grad  residual    step  type prox    inorm  (label)\n",
      "    0     0     2     2 1.8806e+01           I 0.0e+00 1.8e+01 (f[  286])\n",
      "    1     1     3     3 9.8401e-02  1.0e+00 SO 0.0e+00 5.7e-02 (f[  154])\n",
      "    2     1     4     4 2.7437e-06  1.0e+00 SO 0.0e+00 1.6e-06 (f[  154])\n",
      "    3     1     5     5 6.9515e-11  1.0e+00 SO 0.0e+00 5.6e-11 (f[  283])\n",
      "\n",
      "Major Iterations. . . . 3\n",
      "Minor Iterations. . . . 3\n",
      "Restarts. . . . . . . . 0\n",
      "Crash Iterations. . . . 1\n",
      "Gradient Steps. . . . . 0\n",
      "Function Evaluations. . 5\n",
      "Gradient Evaluations. . 5\n",
      "Basis Time. . . . . . . 0.000000\n",
      "Total Time. . . . . . . 0.078000\n",
      "Residual. . . . . . . . 6.951512e-11\n",
      "Postsolved residual: 6.9515e-11\n"
     ]
    }
   ],
   "source": [
    "fix(get_variable(RA),12453.896315446877; force = true)\n",
    "\n",
    "solve!(WiNnat; :cumulative_iteration_limit => 10_000)\n",
    "\n",
    "df = generate_report(WiNnat);"
   ]
  },
  {
   "cell_type": "code",
   "execution_count": 7,
   "metadata": {},
   "outputs": [
    {
     "data": {
      "text/html": [
       "<div><div style = \"float: left;\"><span>286×3 DataFrame</span></div><div style = \"float: right;\"><span style = \"font-style: italic;\">261 rows omitted</span></div><div style = \"clear: both;\"></div></div><div class = \"data-frame\" style = \"overflow-x: scroll;\"><table class = \"data-frame\" style = \"margin-bottom: 6px;\"><thead><tr class = \"header\"><th class = \"rowNumber\" style = \"font-weight: bold; text-align: right;\">Row</th><th style = \"text-align: left;\">var</th><th style = \"text-align: left;\">value</th><th style = \"text-align: left;\">margin</th></tr><tr class = \"subheader headerLastRow\"><th class = \"rowNumber\" style = \"font-weight: bold; text-align: right;\"></th><th title = \"VariableRef\" style = \"text-align: left;\">GenericV…</th><th title = \"Float64\" style = \"text-align: left;\">Float64</th><th title = \"Float64\" style = \"text-align: left;\">Float64</th></tr></thead><tbody><tr><td class = \"rowNumber\" style = \"font-weight: bold; text-align: right;\">1</td><td style = \"text-align: left;\">A[ppd]</td><td style = \"text-align: right;\">1.01599</td><td style = \"text-align: right;\">-5.68434e-14</td></tr><tr><td class = \"rowNumber\" style = \"font-weight: bold; text-align: right;\">2</td><td style = \"text-align: left;\">A[res]</td><td style = \"text-align: right;\">1.03671</td><td style = \"text-align: right;\">-3.41061e-13</td></tr><tr><td class = \"rowNumber\" style = \"font-weight: bold; text-align: right;\">3</td><td style = \"text-align: left;\">A[com]</td><td style = \"text-align: right;\">1.00095</td><td style = \"text-align: right;\">-3.97904e-13</td></tr><tr><td class = \"rowNumber\" style = \"font-weight: bold; text-align: right;\">4</td><td style = \"text-align: left;\">A[amb]</td><td style = \"text-align: right;\">0.970346</td><td style = \"text-align: right;\">-4.54747e-13</td></tr><tr><td class = \"rowNumber\" style = \"font-weight: bold; text-align: right;\">5</td><td style = \"text-align: left;\">A[fbp]</td><td style = \"text-align: right;\">1.04186</td><td style = \"text-align: right;\">2.27374e-13</td></tr><tr><td class = \"rowNumber\" style = \"font-weight: bold; text-align: right;\">6</td><td style = \"text-align: left;\">A[rec]</td><td style = \"text-align: right;\">1.02538</td><td style = \"text-align: right;\">-2.84217e-14</td></tr><tr><td class = \"rowNumber\" style = \"font-weight: bold; text-align: right;\">7</td><td style = \"text-align: left;\">A[con]</td><td style = \"text-align: right;\">0.998505</td><td style = \"text-align: right;\">0.0</td></tr><tr><td class = \"rowNumber\" style = \"font-weight: bold; text-align: right;\">8</td><td style = \"text-align: left;\">A[agr]</td><td style = \"text-align: right;\">1.0236</td><td style = \"text-align: right;\">-5.68434e-14</td></tr><tr><td class = \"rowNumber\" style = \"font-weight: bold; text-align: right;\">9</td><td style = \"text-align: left;\">A[eec]</td><td style = \"text-align: right;\">1.00721</td><td style = \"text-align: right;\">0.0</td></tr><tr><td class = \"rowNumber\" style = \"font-weight: bold; text-align: right;\">10</td><td style = \"text-align: left;\">A[fnd]</td><td style = \"text-align: right;\">1.0</td><td style = \"text-align: right;\">-1.7053e-13</td></tr><tr><td class = \"rowNumber\" style = \"font-weight: bold; text-align: right;\">11</td><td style = \"text-align: left;\">A[pub]</td><td style = \"text-align: right;\">0.995391</td><td style = \"text-align: right;\">-1.63425e-13</td></tr><tr><td class = \"rowNumber\" style = \"font-weight: bold; text-align: right;\">12</td><td style = \"text-align: left;\">A[hou]</td><td style = \"text-align: right;\">0.94734</td><td style = \"text-align: right;\">0.0</td></tr><tr><td class = \"rowNumber\" style = \"font-weight: bold; text-align: right;\">13</td><td style = \"text-align: left;\">A[ins]</td><td style = \"text-align: right;\">0.995012</td><td style = \"text-align: right;\">-6.82121e-13</td></tr><tr><td style = \"text-align: right;\">&vellip;</td><td style = \"text-align: right;\">&vellip;</td><td style = \"text-align: right;\">&vellip;</td><td style = \"text-align: right;\">&vellip;</td></tr><tr><td class = \"rowNumber\" style = \"font-weight: bold; text-align: right;\">275</td><td style = \"text-align: left;\">PA[otr]</td><td style = \"text-align: right;\">0.960961</td><td style = \"text-align: right;\">-1.3145e-13</td></tr><tr><td class = \"rowNumber\" style = \"font-weight: bold; text-align: right;\">276</td><td style = \"text-align: left;\">PA[min]</td><td style = \"text-align: right;\">0.9334</td><td style = \"text-align: right;\">3.37508e-14</td></tr><tr><td class = \"rowNumber\" style = \"font-weight: bold; text-align: right;\">277</td><td style = \"text-align: left;\">PVA[surplus]</td><td style = \"text-align: right;\">0.98421</td><td style = \"text-align: right;\">-2.00089e-11</td></tr><tr><td class = \"rowNumber\" style = \"font-weight: bold; text-align: right;\">278</td><td style = \"text-align: left;\">PVA[compen]</td><td style = \"text-align: right;\">0.9916</td><td style = \"text-align: right;\">5.82077e-11</td></tr><tr><td class = \"rowNumber\" style = \"font-weight: bold; text-align: right;\">279</td><td style = \"text-align: left;\">RA</td><td style = \"text-align: right;\">12453.9</td><td style = \"text-align: right;\">2.72848e-11</td></tr><tr><td class = \"rowNumber\" style = \"font-weight: bold; text-align: right;\">280</td><td style = \"text-align: left;\">MS[trn]</td><td style = \"text-align: right;\">1.02748</td><td style = \"text-align: right;\">5.68434e-14</td></tr><tr><td class = \"rowNumber\" style = \"font-weight: bold; text-align: right;\">281</td><td style = \"text-align: left;\">MS[trd]</td><td style = \"text-align: right;\">1.02279</td><td style = \"text-align: right;\">4.54747e-13</td></tr><tr><td class = \"rowNumber\" style = \"font-weight: bold; text-align: right;\">282</td><td style = \"text-align: left;\">PY[fbt]</td><td style = \"text-align: right;\">0.976877</td><td style = \"text-align: right;\">0.0</td></tr><tr><td class = \"rowNumber\" style = \"font-weight: bold; text-align: right;\">283</td><td style = \"text-align: left;\">PY[mvt]</td><td style = \"text-align: right;\">0.978123</td><td style = \"text-align: right;\">0.0</td></tr><tr><td class = \"rowNumber\" style = \"font-weight: bold; text-align: right;\">284</td><td style = \"text-align: left;\">PY[gmt]</td><td style = \"text-align: right;\">0.977747</td><td style = \"text-align: right;\">5.68434e-14</td></tr><tr><td class = \"rowNumber\" style = \"font-weight: bold; text-align: right;\">285</td><td style = \"text-align: left;\">PM[trn]</td><td style = \"text-align: right;\">0.957631</td><td style = \"text-align: right;\">-6.25278e-13</td></tr><tr><td class = \"rowNumber\" style = \"font-weight: bold; text-align: right;\">286</td><td style = \"text-align: left;\">PM[trd]</td><td style = \"text-align: right;\">0.975541</td><td style = \"text-align: right;\">1.36424e-12</td></tr></tbody></table></div>"
      ],
      "text/latex": [
       "\\begin{tabular}{r|ccc}\n",
       "\t& var & value & margin\\\\\n",
       "\t\\hline\n",
       "\t& GenericV… & Float64 & Float64\\\\\n",
       "\t\\hline\n",
       "\t1 & $ A_{ppd} $ & 1.01599 & -5.68434e-14 \\\\\n",
       "\t2 & $ A_{res} $ & 1.03671 & -3.41061e-13 \\\\\n",
       "\t3 & $ A_{com} $ & 1.00095 & -3.97904e-13 \\\\\n",
       "\t4 & $ A_{amb} $ & 0.970346 & -4.54747e-13 \\\\\n",
       "\t5 & $ A_{fbp} $ & 1.04186 & 2.27374e-13 \\\\\n",
       "\t6 & $ A_{rec} $ & 1.02538 & -2.84217e-14 \\\\\n",
       "\t7 & $ A_{con} $ & 0.998505 & 0.0 \\\\\n",
       "\t8 & $ A_{agr} $ & 1.0236 & -5.68434e-14 \\\\\n",
       "\t9 & $ A_{eec} $ & 1.00721 & 0.0 \\\\\n",
       "\t10 & $ A_{fnd} $ & 1.0 & -1.7053e-13 \\\\\n",
       "\t11 & $ A_{pub} $ & 0.995391 & -1.63425e-13 \\\\\n",
       "\t12 & $ A_{hou} $ & 0.94734 & 0.0 \\\\\n",
       "\t13 & $ A_{ins} $ & 0.995012 & -6.82121e-13 \\\\\n",
       "\t14 & $ A_{tex} $ & 1.02456 & 5.68434e-14 \\\\\n",
       "\t15 & $ A_{leg} $ & 1.00539 & 5.68434e-14 \\\\\n",
       "\t16 & $ A_{fen} $ & 1.0042 & 1.98175e-14 \\\\\n",
       "\t17 & $ A_{uti} $ & 1.02048 & -1.13687e-13 \\\\\n",
       "\t18 & $ A_{nmp} $ & 1.00572 & 0.0 \\\\\n",
       "\t19 & $ A_{brd} $ & 1.02314 & 2.27374e-13 \\\\\n",
       "\t20 & $ A_{bnk} $ & 0.982248 & 1.13687e-13 \\\\\n",
       "\t21 & $ A_{ore} $ & 1.00425 & 0.0 \\\\\n",
       "\t22 & $ A_{edu} $ & 0.971904 & 3.97904e-13 \\\\\n",
       "\t23 & $ A_{ote} $ & 1.00326 & 5.68434e-14 \\\\\n",
       "\t24 & $ A_{man} $ & 1.01576 & 0.0 \\\\\n",
       "\t$\\dots$ & $\\dots$ & $\\dots$ & $\\dots$ \\\\\n",
       "\\end{tabular}\n"
      ],
      "text/plain": [
       "\u001b[1m286×3 DataFrame\u001b[0m\n",
       "\u001b[1m Row \u001b[0m│\u001b[1m var          \u001b[0m\u001b[1m value        \u001b[0m\u001b[1m margin       \u001b[0m\n",
       "     │\u001b[90m GenericV…    \u001b[0m\u001b[90m Float64      \u001b[0m\u001b[90m Float64      \u001b[0m\n",
       "─────┼──────────────────────────────────────────\n",
       "   1 │ A[ppd]            1.01599   -5.68434e-14\n",
       "   2 │ A[res]            1.03671   -3.41061e-13\n",
       "   3 │ A[com]            1.00095   -3.97904e-13\n",
       "   4 │ A[amb]            0.970346  -4.54747e-13\n",
       "   5 │ A[fbp]            1.04186    2.27374e-13\n",
       "   6 │ A[rec]            1.02538   -2.84217e-14\n",
       "   7 │ A[con]            0.998505   0.0\n",
       "   8 │ A[agr]            1.0236    -5.68434e-14\n",
       "  ⋮  │      ⋮             ⋮             ⋮\n",
       " 280 │ MS[trn]           1.02748    5.68434e-14\n",
       " 281 │ MS[trd]           1.02279    4.54747e-13\n",
       " 282 │ PY[fbt]           0.976877   0.0\n",
       " 283 │ PY[mvt]           0.978123   0.0\n",
       " 284 │ PY[gmt]           0.977747   5.68434e-14\n",
       " 285 │ PM[trn]           0.957631  -6.25278e-13\n",
       " 286 │ PM[trd]           0.975541   1.36424e-12\n",
       "\u001b[36m                                271 rows omitted\u001b[0m"
      ]
     },
     "metadata": {},
     "output_type": "display_data"
    }
   ],
   "source": [
    "df"
   ]
  },
  {
   "cell_type": "code",
   "execution_count": 8,
   "metadata": {},
   "outputs": [],
   "source": []
  },
  {
   "cell_type": "code",
   "execution_count": 9,
   "metadata": {},
   "outputs": [],
   "source": []
  }
 ],
 "metadata": {
  "kernelspec": {
   "display_name": "Julia 1.9.2",
   "language": "julia",
   "name": "julia-1.9"
  },
  "language_info": {
   "file_extension": ".jl",
   "mimetype": "application/julia",
   "name": "julia",
   "version": "1.9.2"
  }
 },
 "nbformat": 4,
 "nbformat_minor": 2
}
