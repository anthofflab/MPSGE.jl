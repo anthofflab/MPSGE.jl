{
 "cells": [
  {
   "cell_type": "markdown",
   "metadata": {},
   "source": [
    "# WiNDC National Model\n",
    "\n",
    "You will need to point to the correct locations for a few objects, listed below"
   ]
  },
  {
   "cell_type": "code",
   "execution_count": 12,
   "metadata": {},
   "outputs": [],
   "source": [
    "parameter_path = raw\"C:\\Users\\mphillipson\\Documents\\Modeling\\MPSGE_dev_testing\\nationaldata_julia\\DAAData.jld2\"\n",
    "set_path = raw\"C:\\Users\\mphillipson\\Documents\\Modeling\\MPSGE_dev_testing\\nationaldata_julia\\Indices.jld2\";"
   ]
  },
  {
   "cell_type": "code",
   "execution_count": 13,
   "metadata": {},
   "outputs": [],
   "source": [
    "using MPSGE_MP\n",
    "\n",
    "using CSV, DataFrames, JLD2\n",
    "\n",
    "using JuMP"
   ]
  },
  {
   "cell_type": "code",
   "execution_count": 14,
   "metadata": {},
   "outputs": [],
   "source": [
    "P= load(parameter_path)[\"data\"] # load in date from saved Notebook output Dict, named P\n",
    "S= load(set_path)[\"data\"] # load in date from saved Notebook output Dict, named P\n",
    "\n",
    "\n",
    "I = [i for i∈S[:i] if i∉[:use,:oth]]\n",
    "J = [i for i∈S[:j] if i∉[:use,:oth]]\n",
    "VA = [va for va∈S[:va] if va!=:othtax]\n",
    "FD = S[:fd]\n",
    "TS = S[:ts]\n",
    "YR = S[:yr]\n",
    "M = S[:m]\n",
    "\n",
    "a_0 = P[:a_0]\n",
    "id_0 = P[:id_0]\n",
    "ys_0 = P[:ys_0]\n",
    "tm_0 = P[:tm_0]\n",
    "va_0 = P[:va_0]\n",
    "md_0 = P[:md_0]\n",
    "fd_0 = P[:fd_0]\n",
    "m_0 = P[:m_0]\n",
    "ty_0 = P[:ty_0]\n",
    "ms_0 = P[:ms_0]\n",
    "bopdef_0 = P[:bopdef_0]\n",
    "x_0 = P[:x_0]\n",
    "ta_0 = P[:ta_0]\n",
    "#s_0 = P[:s_0]\n",
    "fs_0 = P[:fs_0]\n",
    "y_0 = P[:y_0];\n",
    "\n",
    "\n",
    "\n",
    "1;"
   ]
  },
  {
   "cell_type": "code",
   "execution_count": 15,
   "metadata": {},
   "outputs": [],
   "source": [
    "yr = Symbol(2017)\n",
    "\n",
    "WiNnat = MPSGEModel()\n",
    "\n",
    "#y_ = [j for j∈J if sum(ys_0[yr,j,i] for i∈I) !=0]\n",
    "#a_ = [i_ for i_∈I if a_0[yr,i_]!=0]\n",
    "\n",
    "\n",
    "@parameters(WiNnat, begin\n",
    "    ta, ta_0[yr,J], (index = [J],)\n",
    "    ty, ty_0[yr,J], (index = [J],)\n",
    "    tm, tm_0[yr,J], (index = [J],)\n",
    "end)\n",
    "\n",
    "@sectors(WiNnat,begin\n",
    "    Y, (index = [J], description = \"Sectoral Production\")\n",
    "    A, (index = [I], description = \"Armington Supply\")\n",
    "    MS, (index = [M],description = \"Margin Supply\")\n",
    "end)\n",
    "\n",
    "@commodities(WiNnat,begin\n",
    "    PA, (index = [I],  description = \"Armington Price\")\n",
    "    PY, (index = [J],  description = \"Supply\")\n",
    "    PVA, (index = [VA],description = \"Value-added\")\n",
    "    PM, (index = [M],  description = \"Foreign Exachange\")\n",
    "    PFX\n",
    "end)\n",
    "\n",
    "@consumer(WiNnat, RA, description = \"Representative Agent\")\n",
    "\n",
    "\n",
    "for j∈J\n",
    "    add_production!(WiNnat, Y[j],\n",
    "        ScalarNest(:t; elasticity = 0, children = [\n",
    "            ScalarOutput(PY[i],ys_0[yr,j,i]; taxes = [Tax(RA,ty[j])]) for i∈I\n",
    "        ]),\n",
    "        ScalarNest(:s; elasticity = 0, children = [\n",
    "            [ScalarInput(PA[i], id_0[yr,i,j]) for i∈I]; \n",
    "            [ScalarNest(:va; elasticity =  1, children = \n",
    "                [ScalarInput(PVA[va], va_0[yr,va,j]) for va∈VA])\n",
    "            ];\n",
    "        ])\n",
    "    )\n",
    "end\n",
    "\n",
    "\n",
    "for m∈M\n",
    "    add_production!(WiNnat, MS[m],\n",
    "        ScalarNest(:t; elasticity = 0, children = [\n",
    "            ScalarOutput(PM[m], sum(ms_0[yr,i,m] for i∈I))\n",
    "        ]),\n",
    "        ScalarNest(:s; elasticity = 0, children = [\n",
    "            ScalarInput(PY[i], ms_0[yr,i,m]) for i∈I\n",
    "        ])\n",
    "    )\n",
    "end\n",
    "\n",
    "\n",
    "for i∈I\n",
    "    add_production!(WiNnat, A[i],\n",
    "        ScalarNest(:t; elasticity=2, children = [\n",
    "            [ScalarOutput(PA[i], a_0[yr,i], taxes=[Tax(RA,ta[i])],reference_price=1-ta_0[yr,i])];\n",
    "            [ScalarOutput(PFX, x_0[yr,i])]\n",
    "        ]),\n",
    "        ScalarNest(:s; elasticity=0, children = [\n",
    "            [ScalarInput(PM[m], md_0[yr,m,i]) for m∈M];\n",
    "            ScalarNest(:dm; elasticity = 2, children = [\n",
    "                ScalarInput(PY[i], y_0[yr,i]),\n",
    "                ScalarInput(PFX, m_0[yr,i], taxes = [Tax(RA,tm[i])],reference_price=1+tm_0[yr,i])\n",
    "            ])\n",
    "        ])\n",
    "    )\n",
    "end\n",
    "\n",
    "\n",
    "add_demand!(WiNnat, RA,\n",
    "    [ScalarDem(PA[i], fd_0[yr,i,:pce]) for i∈I],\n",
    "    [\n",
    "        [ScalarEndowment(PY[i], fs_0[yr,i]) for i∈I];\n",
    "        [ScalarEndowment(PFX, bopdef_0[yr])];\n",
    "        [ScalarEndowment(PA[i], -sum(fd_0[yr,i,xfd] for xfd∈FD if xfd!=:pce)) for i∈I];\n",
    "        [ScalarEndowment(PVA[va], sum(va_0[yr,va,j] for j∈J)) for va∈VA]\n",
    "    ]\n",
    ");\n",
    "\n",
    "build!(WiNnat);"
   ]
  },
  {
   "cell_type": "markdown",
   "metadata": {},
   "source": [
    "# Benchmark "
   ]
  },
  {
   "cell_type": "code",
   "execution_count": 16,
   "metadata": {},
   "outputs": [
    {
     "name": "stdout",
     "output_type": "stream",
     "text": [
      "Reading options file C:\\Users\\MPHILL~1\\AppData\\Local\\Temp\\jl_D89.tmp\n",
      " > cumulative_iteration_limit 0\n",
      "Read of options file complete.\n",
      "\n",
      "Path 5.0.03 (Fri Jun 26 10:05:33 2020)\n",
      "Written by Todd Munson, Steven Dirkse, Youngdae Kim, and Michael Ferris\n",
      "Preprocessed size   : 292\n",
      "\n",
      "Major Iteration Log\n",
      "major minor  func  grad  residual    step  type prox    inorm  (label)\n",
      "    0     0     1     1 4.1722e-12           I 0.0e+00 1.8e-12 (f[  503])\n",
      "\n",
      "Major Iterations. . . . 0\n",
      "Minor Iterations. . . . 0\n",
      "Restarts. . . . . . . . 0\n",
      "Crash Iterations. . . . 0\n",
      "Gradient Steps. . . . . 0\n",
      "Function Evaluations. . 1\n",
      "Gradient Evaluations. . 1\n",
      "Basis Time. . . . . . . 0.000000\n",
      "Total Time. . . . . . . 0.000000\n",
      "Residual. . . . . . . . 4.172191e-12\n",
      "Postsolved residual: 4.1722e-12\n"
     ]
    }
   ],
   "source": [
    "solve!(WiNnat; :cumulative_iteration_limit => 0)\n",
    "\n",
    "df_benchmark = generate_report(WiNnat);"
   ]
  },
  {
   "cell_type": "markdown",
   "metadata": {},
   "source": [
    "# Counterfactual"
   ]
  },
  {
   "cell_type": "code",
   "execution_count": 17,
   "metadata": {},
   "outputs": [
    {
     "name": "stdout",
     "output_type": "stream",
     "text": [
      "Reading options file C:\\Users\\MPHILL~1\\AppData\\Local\\Temp\\jl_E16.tmp\n",
      " > cumulative_iteration_limit 10000\n",
      "Read of options file complete.\n",
      "\n",
      "Path 5.0.03 (Fri Jun 26 10:05:33 2020)\n",
      "Written by Todd Munson, Steven Dirkse, Youngdae Kim, and Michael Ferris\n",
      "\n",
      "Zero:     3 Single:     0 Double:     0\n",
      "Preprocessed size   : 288\n",
      "\n",
      "Crash Log\n",
      "major  func  diff  size  residual    step       prox   (label)\n",
      "    0     0             3.2840e+02             0.0e+00 (f[  299])\n",
      "    1     1     0   288 3.9192e+00  1.0e+00    3.3e+00 (f[  299])\n",
      "pn_search terminated: no basis change.\n",
      "\n",
      "Major Iteration Log\n",
      "major minor  func  grad  residual    step  type prox    inorm  (label)\n",
      "    0     0     2     2 3.9192e+00           I 3.9e-02 8.8e-01 (f[  299])\n",
      "    1     1     3     3 9.3103e-02  1.0e+00 SO 1.6e-02 5.6e-02 (f[  505])\n",
      "    2     1     4     4 5.5702e-05  1.0e+00 SO 6.3e-03 4.3e-05 (f[  260])\n",
      "    3     1     5     5 1.3248e-08  1.0e+00 SO 5.6e-06 1.1e-08 (f[  331])\n",
      "\n",
      "Major Iterations. . . . 3\n",
      "Minor Iterations. . . . 3\n",
      "Restarts. . . . . . . . 0\n",
      "Crash Iterations. . . . 1\n",
      "Gradient Steps. . . . . 0\n",
      "Function Evaluations. . 5\n",
      "Gradient Evaluations. . 5\n",
      "Basis Time. . . . . . . 0.016000\n",
      "Total Time. . . . . . . 0.032000\n",
      "Residual. . . . . . . . 1.324795e-08\n"
     ]
    },
    {
     "name": "stdout",
     "output_type": "stream",
     "text": [
      "Postsolved residual: 1.3248e-08\n"
     ]
    }
   ],
   "source": [
    "fix(RA,12453.896315446877)\n",
    "\n",
    "set_value!(ta,0)\n",
    "set_value!(tm,0)\n",
    "\n",
    "solve!(WiNnat; :cumulative_iteration_limit => 10_000)\n",
    "\n",
    "df = generate_report(WiNnat);"
   ]
  },
  {
   "cell_type": "code",
   "execution_count": 18,
   "metadata": {},
   "outputs": [
    {
     "data": {
      "text/html": [
       "<div><div style = \"float: left;\"><span>289×3 DataFrame</span></div><div style = \"float: right;\"><span style = \"font-style: italic;\">264 rows omitted</span></div><div style = \"clear: both;\"></div></div><div class = \"data-frame\" style = \"overflow-x: scroll;\"><table class = \"data-frame\" style = \"margin-bottom: 6px;\"><thead><tr class = \"header\"><th class = \"rowNumber\" style = \"font-weight: bold; text-align: right;\">Row</th><th style = \"text-align: left;\">var</th><th style = \"text-align: left;\">value</th><th style = \"text-align: left;\">margin</th></tr><tr class = \"subheader headerLastRow\"><th class = \"rowNumber\" style = \"font-weight: bold; text-align: right;\"></th><th title = \"VariableRef\" style = \"text-align: left;\">GenericV…</th><th title = \"Float64\" style = \"text-align: left;\">Float64</th><th title = \"Float64\" style = \"text-align: left;\">Float64</th></tr></thead><tbody><tr><td class = \"rowNumber\" style = \"font-weight: bold; text-align: right;\">1</td><td style = \"text-align: left;\">PA[pip]</td><td style = \"text-align: right;\">0.94824</td><td style = \"text-align: right;\">1.11201e-8</td></tr><tr><td class = \"rowNumber\" style = \"font-weight: bold; text-align: right;\">2</td><td style = \"text-align: left;\">RA</td><td style = \"text-align: right;\">12453.9</td><td style = \"text-align: right;\">8.3528e-9</td></tr><tr><td class = \"rowNumber\" style = \"font-weight: bold; text-align: right;\">3</td><td style = \"text-align: left;\">A[pip]</td><td style = \"text-align: right;\">0.999342</td><td style = \"text-align: right;\">3.60385e-9</td></tr><tr><td class = \"rowNumber\" style = \"font-weight: bold; text-align: right;\">4</td><td style = \"text-align: left;\">PVA[surplus]</td><td style = \"text-align: right;\">0.948073</td><td style = \"text-align: right;\">3.72893e-11</td></tr><tr><td class = \"rowNumber\" style = \"font-weight: bold; text-align: right;\">5</td><td style = \"text-align: left;\">PA[hou]</td><td style = \"text-align: right;\">0.948065</td><td style = \"text-align: right;\">1.86446e-11</td></tr><tr><td class = \"rowNumber\" style = \"font-weight: bold; text-align: right;\">6</td><td style = \"text-align: left;\">PA[alt]</td><td style = \"text-align: right;\">0.947923</td><td style = \"text-align: right;\">1.79057e-11</td></tr><tr><td class = \"rowNumber\" style = \"font-weight: bold; text-align: right;\">7</td><td style = \"text-align: left;\">PA[hos]</td><td style = \"text-align: right;\">0.947955</td><td style = \"text-align: right;\">1.22782e-11</td></tr><tr><td class = \"rowNumber\" style = \"font-weight: bold; text-align: right;\">8</td><td style = \"text-align: left;\">PA[res]</td><td style = \"text-align: right;\">0.947895</td><td style = \"text-align: right;\">1.03455e-11</td></tr><tr><td class = \"rowNumber\" style = \"font-weight: bold; text-align: right;\">9</td><td style = \"text-align: left;\">PA[pub]</td><td style = \"text-align: right;\">0.947905</td><td style = \"text-align: right;\">6.99174e-12</td></tr><tr><td class = \"rowNumber\" style = \"font-weight: bold; text-align: right;\">10</td><td style = \"text-align: left;\">PA[bnk]</td><td style = \"text-align: right;\">0.94804</td><td style = \"text-align: right;\">6.99174e-12</td></tr><tr><td class = \"rowNumber\" style = \"font-weight: bold; text-align: right;\">11</td><td style = \"text-align: left;\">A[oil]</td><td style = \"text-align: right;\">0.999879</td><td style = \"text-align: right;\">6.98286e-12</td></tr><tr><td class = \"rowNumber\" style = \"font-weight: bold; text-align: right;\">12</td><td style = \"text-align: left;\">Y[pip]</td><td style = \"text-align: right;\">1.00026</td><td style = \"text-align: right;\">6.60405e-12</td></tr><tr><td class = \"rowNumber\" style = \"font-weight: bold; text-align: right;\">13</td><td style = \"text-align: left;\">PA[amb]</td><td style = \"text-align: right;\">0.948022</td><td style = \"text-align: right;\">6.36646e-12</td></tr><tr><td style = \"text-align: right;\">&vellip;</td><td style = \"text-align: right;\">&vellip;</td><td style = \"text-align: right;\">&vellip;</td><td style = \"text-align: right;\">&vellip;</td></tr><tr><td class = \"rowNumber\" style = \"font-weight: bold; text-align: right;\">278</td><td style = \"text-align: left;\">Y[nmp]</td><td style = \"text-align: right;\">1.00006</td><td style = \"text-align: right;\">-1.15263e-12</td></tr><tr><td class = \"rowNumber\" style = \"font-weight: bold; text-align: right;\">279</td><td style = \"text-align: left;\">PA[uti]</td><td style = \"text-align: right;\">0.948039</td><td style = \"text-align: right;\">-1.3074e-12</td></tr><tr><td class = \"rowNumber\" style = \"font-weight: bold; text-align: right;\">280</td><td style = \"text-align: left;\">PY[pmt]</td><td style = \"text-align: right;\">0.947838</td><td style = \"text-align: right;\">-1.64645e-12</td></tr><tr><td class = \"rowNumber\" style = \"font-weight: bold; text-align: right;\">281</td><td style = \"text-align: left;\">PA[con]</td><td style = \"text-align: right;\">0.94796</td><td style = \"text-align: right;\">-2.95586e-12</td></tr><tr><td class = \"rowNumber\" style = \"font-weight: bold; text-align: right;\">282</td><td style = \"text-align: left;\">PY[pet]</td><td style = \"text-align: right;\">0.948001</td><td style = \"text-align: right;\">-4.88853e-12</td></tr><tr><td class = \"rowNumber\" style = \"font-weight: bold; text-align: right;\">283</td><td style = \"text-align: left;\">PA[che]</td><td style = \"text-align: right;\">0.947866</td><td style = \"text-align: right;\">-5.68434e-12</td></tr><tr><td class = \"rowNumber\" style = \"font-weight: bold; text-align: right;\">284</td><td style = \"text-align: left;\">PA[osv]</td><td style = \"text-align: right;\">0.947989</td><td style = \"text-align: right;\">-6.25278e-12</td></tr><tr><td class = \"rowNumber\" style = \"font-weight: bold; text-align: right;\">285</td><td style = \"text-align: left;\">PA[mot]</td><td style = \"text-align: right;\">0.94787</td><td style = \"text-align: right;\">-7.27596e-12</td></tr><tr><td class = \"rowNumber\" style = \"font-weight: bold; text-align: right;\">286</td><td style = \"text-align: left;\">PA[pet]</td><td style = \"text-align: right;\">0.948003</td><td style = \"text-align: right;\">-1.40403e-11</td></tr><tr><td class = \"rowNumber\" style = \"font-weight: bold; text-align: right;\">287</td><td style = \"text-align: left;\">PY[oil]</td><td style = \"text-align: right;\">0.948034</td><td style = \"text-align: right;\">-1.50877e-11</td></tr><tr><td class = \"rowNumber\" style = \"font-weight: bold; text-align: right;\">288</td><td style = \"text-align: left;\">PVA[compen]</td><td style = \"text-align: right;\">0.948115</td><td style = \"text-align: right;\">-2.18279e-11</td></tr><tr><td class = \"rowNumber\" style = \"font-weight: bold; text-align: right;\">289</td><td style = \"text-align: left;\">PFX</td><td style = \"text-align: right;\">0.947848</td><td style = \"text-align: right;\">-6.23345e-9</td></tr></tbody></table></div>"
      ],
      "text/latex": [
       "\\begin{tabular}{r|ccc}\n",
       "\t& var & value & margin\\\\\n",
       "\t\\hline\n",
       "\t& GenericV… & Float64 & Float64\\\\\n",
       "\t\\hline\n",
       "\t1 & $ PA_{pip} $ & 0.94824 & 1.11201e-8 \\\\\n",
       "\t2 & $ RA $ & 12453.9 & 8.3528e-9 \\\\\n",
       "\t3 & $ A_{pip} $ & 0.999342 & 3.60385e-9 \\\\\n",
       "\t4 & $ PVA_{surplus} $ & 0.948073 & 3.72893e-11 \\\\\n",
       "\t5 & $ PA_{hou} $ & 0.948065 & 1.86446e-11 \\\\\n",
       "\t6 & $ PA_{alt} $ & 0.947923 & 1.79057e-11 \\\\\n",
       "\t7 & $ PA_{hos} $ & 0.947955 & 1.22782e-11 \\\\\n",
       "\t8 & $ PA_{res} $ & 0.947895 & 1.03455e-11 \\\\\n",
       "\t9 & $ PA_{pub} $ & 0.947905 & 6.99174e-12 \\\\\n",
       "\t10 & $ PA_{bnk} $ & 0.94804 & 6.99174e-12 \\\\\n",
       "\t11 & $ A_{oil} $ & 0.999879 & 6.98286e-12 \\\\\n",
       "\t12 & $ Y_{pip} $ & 1.00026 & 6.60405e-12 \\\\\n",
       "\t13 & $ PA_{amb} $ & 0.948022 & 6.36646e-12 \\\\\n",
       "\t14 & $ PA_{sec} $ & 0.948045 & 6.16751e-12 \\\\\n",
       "\t15 & $ PA_{fbp} $ & 0.947473 & 4.3201e-12 \\\\\n",
       "\t16 & $ PA_{ins} $ & 0.948049 & 4.03588e-12 \\\\\n",
       "\t17 & $ PA_{oil} $ & 0.94798 & 3.25831e-12 \\\\\n",
       "\t18 & $ PA_{rnt} $ & 0.948005 & 2.91323e-12 \\\\\n",
       "\t19 & $ PA_{ote} $ & 0.948013 & 2.84217e-12 \\\\\n",
       "\t20 & $ PA_{nrs} $ & 0.947893 & 2.24532e-12 \\\\\n",
       "\t21 & $ PY_{cep} $ & 0.948067 & 2.22755e-12 \\\\\n",
       "\t22 & $ PA_{brd} $ & 0.94803 & 2.21689e-12 \\\\\n",
       "\t23 & $ PA_{edu} $ & 0.948085 & 2.16005e-12 \\\\\n",
       "\t24 & $ Y_{min} $ & 1.00008 & 2.13474e-12 \\\\\n",
       "\t$\\dots$ & $\\dots$ & $\\dots$ & $\\dots$ \\\\\n",
       "\\end{tabular}\n"
      ],
      "text/plain": [
       "\u001b[1m289×3 DataFrame\u001b[0m\n",
       "\u001b[1m Row \u001b[0m│\u001b[1m var          \u001b[0m\u001b[1m value        \u001b[0m\u001b[1m margin       \u001b[0m\n",
       "     │\u001b[90m GenericV…    \u001b[0m\u001b[90m Float64      \u001b[0m\u001b[90m Float64      \u001b[0m\n",
       "─────┼──────────────────────────────────────────\n",
       "   1 │ PA[pip]           0.94824    1.11201e-8\n",
       "   2 │ RA            12453.9        8.3528e-9\n",
       "   3 │ A[pip]            0.999342   3.60385e-9\n",
       "   4 │ PVA[surplus]      0.948073   3.72893e-11\n",
       "   5 │ PA[hou]           0.948065   1.86446e-11\n",
       "   6 │ PA[alt]           0.947923   1.79057e-11\n",
       "   7 │ PA[hos]           0.947955   1.22782e-11\n",
       "   8 │ PA[res]           0.947895   1.03455e-11\n",
       "  ⋮  │      ⋮             ⋮             ⋮\n",
       " 283 │ PA[che]           0.947866  -5.68434e-12\n",
       " 284 │ PA[osv]           0.947989  -6.25278e-12\n",
       " 285 │ PA[mot]           0.94787   -7.27596e-12\n",
       " 286 │ PA[pet]           0.948003  -1.40403e-11\n",
       " 287 │ PY[oil]           0.948034  -1.50877e-11\n",
       " 288 │ PVA[compen]       0.948115  -2.18279e-11\n",
       " 289 │ PFX               0.947848  -6.23345e-9\n",
       "\u001b[36m                                274 rows omitted\u001b[0m"
      ]
     },
     "metadata": {},
     "output_type": "display_data"
    }
   ],
   "source": [
    "df |>\n",
    "    x -> sort(x, :margin, rev=true)"
   ]
  },
  {
   "cell_type": "code",
   "execution_count": 19,
   "metadata": {},
   "outputs": [],
   "source": []
  }
 ],
 "metadata": {
  "kernelspec": {
   "display_name": "Julia 1.9.2",
   "language": "julia",
   "name": "julia-1.9"
  },
  "language_info": {
   "file_extension": ".jl",
   "mimetype": "application/julia",
   "name": "julia",
   "version": "1.9.2"
  }
 },
 "nbformat": 4,
 "nbformat_minor": 2
}
