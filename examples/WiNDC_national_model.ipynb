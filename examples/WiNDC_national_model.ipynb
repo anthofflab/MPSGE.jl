{
 "cells": [
  {
   "cell_type": "markdown",
   "metadata": {},
   "source": [
    "# WiNDC National Model\n",
    "\n",
    "You will need to point to the correct locations for a few objects, listed below"
   ]
  },
  {
   "cell_type": "code",
   "execution_count": 1,
   "metadata": {},
   "outputs": [],
   "source": [
    "parameter_path = raw\"C:\\Users\\mphillipson\\Documents\\Modeling\\MPSGE_dev_testing\\nationaldata_julia\\DAAData.jld2\"\n",
    "set_path = raw\"C:\\Users\\mphillipson\\Documents\\Modeling\\MPSGE_dev_testing\\nationaldata_julia\\Indices.jld2\";"
   ]
  },
  {
   "cell_type": "code",
   "execution_count": 2,
   "metadata": {},
   "outputs": [],
   "source": [
    "using MPSGE_MP\n",
    "\n",
    "using CSV, DataFrames, JLD2\n",
    "\n",
    "using JuMP"
   ]
  },
  {
   "cell_type": "code",
   "execution_count": 3,
   "metadata": {},
   "outputs": [],
   "source": [
    "P= load(parameter_path)[\"data\"] # load in date from saved Notebook output Dict, named P\n",
    "S= load(set_path)[\"data\"] # load in date from saved Notebook output Dict, named P\n",
    "\n",
    "\n",
    "I = [i for i∈S[:i] if i∉[:use,:oth]]\n",
    "J = [i for i∈S[:j] if i∉[:use,:oth]]\n",
    "VA = [va for va∈S[:va] if va!=:othtax]\n",
    "FD = S[:fd]\n",
    "TS = S[:ts]\n",
    "YR = S[:yr]\n",
    "M = S[:m]\n",
    "\n",
    "a_0 = P[:a_0]\n",
    "id_0 = P[:id_0]\n",
    "ys_0 = P[:ys_0]\n",
    "tm_0 = P[:tm_0]\n",
    "va_0 = P[:va_0]\n",
    "md_0 = P[:md_0]\n",
    "fd_0 = P[:fd_0]\n",
    "m_0 = P[:m_0]\n",
    "ty_0 = P[:ty_0]\n",
    "ms_0 = P[:ms_0]\n",
    "bopdef_0 = P[:bopdef_0]\n",
    "x_0 = P[:x_0]\n",
    "ta_0 = P[:ta_0]\n",
    "#s_0 = P[:s_0]\n",
    "fs_0 = P[:fs_0]\n",
    "y_0 = P[:y_0];\n",
    "\n",
    "\n",
    "\n",
    "1;"
   ]
  },
  {
   "cell_type": "code",
   "execution_count": 13,
   "metadata": {},
   "outputs": [],
   "source": [
    "yr = Symbol(2017)\n",
    "\n",
    "WiNnat = MPSGEModel()\n",
    "\n",
    "#y_ = [j for j∈J if sum(ys_0[yr,j,i] for i∈I) !=0]\n",
    "#a_ = [i_ for i_∈I if a_0[yr,i_]!=0]\n",
    "\n",
    "\n",
    "@parameters(WiNnat, begin\n",
    "    ta, ta_0[yr,J], (index = [J],)\n",
    "    ty, ty_0[yr,J], (index = [J],)\n",
    "    tm, tm_0[yr,J], (index = [J],)\n",
    "end)\n",
    "\n",
    "@sectors(WiNnat,begin\n",
    "    Y, (index = [J], description = \"Sectoral Production\")\n",
    "    A, (index = [I], description = \"Armington Supply\")\n",
    "    MS, (index = [M],description = \"Margin Supply\")\n",
    "end)\n",
    "\n",
    "@commodities(WiNnat,begin\n",
    "    PA, (index = [I],  description = \"Armington Price\")\n",
    "    PY, (index = [J],  description = \"Supply\")\n",
    "    PVA, (index = [VA],description = \"Value-added\")\n",
    "    PM, (index = [M],  description = \"Foreign Exachange\")\n",
    "    PFX\n",
    "end)\n",
    "\n",
    "@consumer(WiNnat, RA, description = \"Representative Agent\")\n",
    "\n",
    "for j∈J\n",
    "    @production(WiNnat, Y[j], [t=0, s = 0, va => s = 1], begin\n",
    "        [@Output(PY[i],ys_0[yr,j,i], t, taxes = [Tax(RA,ty[j])]) for i∈I]... \n",
    "        [@Input(PA[i], id_0[yr,i,j], s) for i∈I]...\n",
    "        [@Input(PVA[va], va_0[yr,va,j], va) for va∈VA]...\n",
    "    end)\n",
    "end\n",
    "\n",
    "\n",
    "\n",
    "for m∈M\n",
    "    @production(WiNnat, MS[m], [t = 0, s = 0], begin\n",
    "        [@Output(PM[m], sum(ms_0[yr,i,m] for i∈I), t)]...\n",
    "        [@Input(PY[i], ms_0[yr,i,m], s) for i∈I]...\n",
    "    end)\n",
    "end\n",
    "\n",
    "for i∈I\n",
    "    @production(WiNnat, A[i], [t = 2, s = 0, dm => s = 2], begin\n",
    "        [@Output(PA[i], a_0[yr,i], t, taxes=[Tax(RA,ta[i])],reference_price=1-ta_0[yr,i])]...\n",
    "        [@Output(PFX, x_0[yr,i], t)]...\n",
    "        [@Input(PM[m], md_0[yr,m,i], s) for m∈M]...\n",
    "        @Input(PY[i], y_0[yr,i], dm)\n",
    "        @Input(PFX, m_0[yr,i], dm, taxes = [Tax(RA,tm[i])],reference_price=1+tm_0[yr,i])\n",
    "    end)\n",
    "end\n",
    "\n",
    "\n",
    "add_demand!(WiNnat, RA,\n",
    "    [ScalarDem(PA[i], fd_0[yr,i,:pce]) for i∈I],\n",
    "    [\n",
    "        [ScalarEndowment(PY[i], fs_0[yr,i]) for i∈I];\n",
    "        [ScalarEndowment(PFX, bopdef_0[yr])];\n",
    "        [ScalarEndowment(PA[i], -sum(fd_0[yr,i,xfd] for xfd∈FD if xfd!=:pce)) for i∈I];\n",
    "        [ScalarEndowment(PVA[va], sum(va_0[yr,va,j] for j∈J)) for va∈VA]\n",
    "    ]\n",
    ");\n",
    "\n",
    "build!(WiNnat);"
   ]
  },
  {
   "cell_type": "markdown",
   "metadata": {},
   "source": [
    "# Benchmark "
   ]
  },
  {
   "cell_type": "code",
   "execution_count": 14,
   "metadata": {},
   "outputs": [
    {
     "name": "stdout",
     "output_type": "stream",
     "text": [
      "Reading options file C:\\Users\\MPHILL~1\\AppData\\Local\\Temp\\jl_2630.tmp\n",
      " > cumulative_iteration_limit 0\n",
      "Read of options file complete.\n",
      "\n",
      "Path 5.0.03 (Fri Jun 26 10:05:33 2020)\n",
      "Written by Todd Munson, Steven Dirkse, Youngdae Kim, and Michael Ferris\n",
      "Preprocessed size   : 292\n",
      "\n",
      "Major Iteration Log\n",
      "major minor  func  grad  residual    step  type prox    inorm  (label)\n",
      "    0     0     1     1 5.2077e-12           I 0.0e+00 2.4e-12 (zero_profit[Y(:)\n",
      "\n",
      "Major Iterations. . . . 0\n",
      "Minor Iterations. . . . 0\n",
      "Restarts. . . . . . . . 0\n",
      "Crash Iterations. . . . 0\n",
      "Gradient Steps. . . . . 0\n",
      "Function Evaluations. . 1\n",
      "Gradient Evaluations. . 1\n",
      "Basis Time. . . . . . . 0.000000\n",
      "Total Time. . . . . . . 0.062000\n",
      "Residual. . . . . . . . 5.207662e-12\n",
      "Postsolved residual: 5.2077e-12\n"
     ]
    }
   ],
   "source": [
    "solve!(WiNnat; :cumulative_iteration_limit => 0)\n",
    "\n",
    "df_benchmark = generate_report(WiNnat);"
   ]
  },
  {
   "cell_type": "markdown",
   "metadata": {},
   "source": [
    "# Counterfactual"
   ]
  },
  {
   "cell_type": "code",
   "execution_count": 15,
   "metadata": {},
   "outputs": [
    {
     "name": "stdout",
     "output_type": "stream",
     "text": [
      "Reading options file C:\\Users\\MPHILL~1\\AppData\\Local\\Temp\\jl_2D74.tmp\n",
      " > cumulative_iteration_limit 10000\n",
      "Read of options file complete.\n",
      "\n",
      "Path 5.0.03 (Fri Jun 26 10:05:33 2020)\n",
      "Written by Todd Munson, Steven Dirkse, Youngdae Kim, and Michael Ferris\n",
      "\n",
      "Zero:     3 Single:     0 Double:     0\n",
      "Preprocessed size   : 288\n",
      "\n",
      "Crash Log\n",
      "major  func  diff  size  residual    step       prox   (label)\n",
      "    0     0             5.0521e+02             0.0e+00 (zero_profit[A(:pet,))\n",
      "    1     1     0   288 3.7275e+01  1.0e+00    5.1e+00 (market_clearance[PFX)\n",
      "pn_search terminated: no basis change.\n",
      "\n",
      "Major Iteration Log\n",
      "major minor  func  grad  residual    step  type prox    inorm  (label)\n",
      "    0     0     2     2 3.7275e+01           I 3.7e-01 3.7e+01 (market_clearanc)\n",
      "    1     1     3     3 8.9265e-01  1.0e+00 SO 1.5e-01 8.6e-01 (market_clearanc)\n",
      "    2     1     4     4 1.3717e-02  1.0e+00 SO 6.0e-02 1.1e-02 (market_clearanc)\n",
      "    3     1     5     5 4.7088e-04  1.0e+00 SO 1.4e-03 4.1e-04 (market_clearanc)\n",
      "    4     1     6     6 3.4569e-07  1.0e+00 SO 4.7e-05 2.8e-07 (market_clearanc)\n",
      "\n",
      "Major Iterations. . . . 4\n",
      "Minor Iterations. . . . 4\n",
      "Restarts. . . . . . . . 0\n",
      "Crash Iterations. . . . 1\n",
      "Gradient Steps. . . . . 0\n",
      "Function Evaluations. . 6\n",
      "Gradient Evaluations. . 6\n",
      "Basis Time. . . . . . . 0.015000\n",
      "Total Time. . . . . . . 0.031000\n",
      "Residual. . . . . . . . 3.456883e-07\n",
      "Postsolved residual: 3.4569e-07\n"
     ]
    }
   ],
   "source": [
    "fix(RA,12453.896315446877)\n",
    "\n",
    "set_value!(ta,0)\n",
    "set_value!(tm,0)\n",
    "\n",
    "solve!(WiNnat; :cumulative_iteration_limit => 10_000)\n",
    "\n",
    "df = generate_report(WiNnat);"
   ]
  },
  {
   "cell_type": "code",
   "execution_count": 16,
   "metadata": {},
   "outputs": [
    {
     "data": {
      "text/html": [
       "<div><div style = \"float: left;\"><span>289×3 DataFrame</span></div><div style = \"float: right;\"><span style = \"font-style: italic;\">264 rows omitted</span></div><div style = \"clear: both;\"></div></div><div class = \"data-frame\" style = \"overflow-x: scroll;\"><table class = \"data-frame\" style = \"margin-bottom: 6px;\"><thead><tr class = \"header\"><th class = \"rowNumber\" style = \"font-weight: bold; text-align: right;\">Row</th><th style = \"text-align: left;\">var</th><th style = \"text-align: left;\">value</th><th style = \"text-align: left;\">margin</th></tr><tr class = \"subheader headerLastRow\"><th class = \"rowNumber\" style = \"font-weight: bold; text-align: right;\"></th><th title = \"VariableRef\" style = \"text-align: left;\">GenericV…</th><th title = \"Float64\" style = \"text-align: left;\">Float64</th><th title = \"Float64\" style = \"text-align: left;\">Float64</th></tr></thead><tbody><tr><td class = \"rowNumber\" style = \"font-weight: bold; text-align: right;\">1</td><td style = \"text-align: left;\">PA[pip]</td><td style = \"text-align: right;\">0.765399</td><td style = \"text-align: right;\">2.80046e-7</td></tr><tr><td class = \"rowNumber\" style = \"font-weight: bold; text-align: right;\">2</td><td style = \"text-align: left;\">RA</td><td style = \"text-align: right;\">12453.9</td><td style = \"text-align: right;\">1.41681e-7</td></tr><tr><td class = \"rowNumber\" style = \"font-weight: bold; text-align: right;\">3</td><td style = \"text-align: left;\">PY[oil]</td><td style = \"text-align: right;\">0.962449</td><td style = \"text-align: right;\">4.92587e-10</td></tr><tr><td class = \"rowNumber\" style = \"font-weight: bold; text-align: right;\">4</td><td style = \"text-align: left;\">PA[pet]</td><td style = \"text-align: right;\">0.81741</td><td style = \"text-align: right;\">3.89207e-10</td></tr><tr><td class = \"rowNumber\" style = \"font-weight: bold; text-align: right;\">5</td><td style = \"text-align: left;\">PA[amb]</td><td style = \"text-align: right;\">0.983718</td><td style = \"text-align: right;\">2.83308e-10</td></tr><tr><td class = \"rowNumber\" style = \"font-weight: bold; text-align: right;\">6</td><td style = \"text-align: left;\">PA[hos]</td><td style = \"text-align: right;\">0.978616</td><td style = \"text-align: right;\">2.64208e-10</td></tr><tr><td class = \"rowNumber\" style = \"font-weight: bold; text-align: right;\">7</td><td style = \"text-align: left;\">PA[osv]</td><td style = \"text-align: right;\">0.957477</td><td style = \"text-align: right;\">1.43245e-10</td></tr><tr><td class = \"rowNumber\" style = \"font-weight: bold; text-align: right;\">8</td><td style = \"text-align: left;\">PA[res]</td><td style = \"text-align: right;\">0.910259</td><td style = \"text-align: right;\">1.39835e-10</td></tr><tr><td class = \"rowNumber\" style = \"font-weight: bold; text-align: right;\">9</td><td style = \"text-align: left;\">PA[alt]</td><td style = \"text-align: right;\">0.878068</td><td style = \"text-align: right;\">1.14142e-10</td></tr><tr><td class = \"rowNumber\" style = \"font-weight: bold; text-align: right;\">10</td><td style = \"text-align: left;\">PA[mot]</td><td style = \"text-align: right;\">0.930961</td><td style = \"text-align: right;\">1.01181e-10</td></tr><tr><td class = \"rowNumber\" style = \"font-weight: bold; text-align: right;\">11</td><td style = \"text-align: left;\">PA[edu]</td><td style = \"text-align: right;\">0.985823</td><td style = \"text-align: right;\">9.54969e-11</td></tr><tr><td class = \"rowNumber\" style = \"font-weight: bold; text-align: right;\">12</td><td style = \"text-align: left;\">PA[sec]</td><td style = \"text-align: right;\">0.982465</td><td style = \"text-align: right;\">8.79083e-11</td></tr><tr><td class = \"rowNumber\" style = \"font-weight: bold; text-align: right;\">13</td><td style = \"text-align: left;\">PA[soc]</td><td style = \"text-align: right;\">0.978075</td><td style = \"text-align: right;\">8.60894e-11</td></tr><tr><td style = \"text-align: right;\">&vellip;</td><td style = \"text-align: right;\">&vellip;</td><td style = \"text-align: right;\">&vellip;</td><td style = \"text-align: right;\">&vellip;</td></tr><tr><td class = \"rowNumber\" style = \"font-weight: bold; text-align: right;\">278</td><td style = \"text-align: left;\">PA[pub]</td><td style = \"text-align: right;\">0.956631</td><td style = \"text-align: right;\">-2.22826e-11</td></tr><tr><td class = \"rowNumber\" style = \"font-weight: bold; text-align: right;\">279</td><td style = \"text-align: left;\">PA[ote]</td><td style = \"text-align: right;\">0.962371</td><td style = \"text-align: right;\">-3.94778e-11</td></tr><tr><td class = \"rowNumber\" style = \"font-weight: bold; text-align: right;\">280</td><td style = \"text-align: left;\">PA[agr]</td><td style = \"text-align: right;\">0.965882</td><td style = \"text-align: right;\">-5.18128e-11</td></tr><tr><td class = \"rowNumber\" style = \"font-weight: bold; text-align: right;\">281</td><td style = \"text-align: left;\">PA[bnk]</td><td style = \"text-align: right;\">0.976887</td><td style = \"text-align: right;\">-8.24798e-11</td></tr><tr><td class = \"rowNumber\" style = \"font-weight: bold; text-align: right;\">282</td><td style = \"text-align: left;\">PY[che]</td><td style = \"text-align: right;\">0.957112</td><td style = \"text-align: right;\">-9.67764e-11</td></tr><tr><td class = \"rowNumber\" style = \"font-weight: bold; text-align: right;\">283</td><td style = \"text-align: left;\">PA[che]</td><td style = \"text-align: right;\">0.943033</td><td style = \"text-align: right;\">-1.09594e-10</td></tr><tr><td class = \"rowNumber\" style = \"font-weight: bold; text-align: right;\">284</td><td style = \"text-align: left;\">PA[brd]</td><td style = \"text-align: right;\">0.9063</td><td style = \"text-align: right;\">-1.55808e-10</td></tr><tr><td class = \"rowNumber\" style = \"font-weight: bold; text-align: right;\">285</td><td style = \"text-align: left;\">PA[rnt]</td><td style = \"text-align: right;\">0.922222</td><td style = \"text-align: right;\">-1.89232e-10</td></tr><tr><td class = \"rowNumber\" style = \"font-weight: bold; text-align: right;\">286</td><td style = \"text-align: left;\">Y[pip]</td><td style = \"text-align: right;\">1.02836</td><td style = \"text-align: right;\">-8.65654e-10</td></tr><tr><td class = \"rowNumber\" style = \"font-weight: bold; text-align: right;\">287</td><td style = \"text-align: left;\">PA[hou]</td><td style = \"text-align: right;\">0.983841</td><td style = \"text-align: right;\">-1.68689e-9</td></tr><tr><td class = \"rowNumber\" style = \"font-weight: bold; text-align: right;\">288</td><td style = \"text-align: left;\">A[pip]</td><td style = \"text-align: right;\">1.09214</td><td style = \"text-align: right;\">-9.30333e-8</td></tr><tr><td class = \"rowNumber\" style = \"font-weight: bold; text-align: right;\">289</td><td style = \"text-align: left;\">PFX</td><td style = \"text-align: right;\">0.973933</td><td style = \"text-align: right;\">-1.80043e-7</td></tr></tbody></table></div>"
      ],
      "text/latex": [
       "\\begin{tabular}{r|ccc}\n",
       "\t& var & value & margin\\\\\n",
       "\t\\hline\n",
       "\t& GenericV… & Float64 & Float64\\\\\n",
       "\t\\hline\n",
       "\t1 & $ PA_{pip} $ & 0.765399 & 2.80046e-7 \\\\\n",
       "\t2 & $ RA $ & 12453.9 & 1.41681e-7 \\\\\n",
       "\t3 & $ PY_{oil} $ & 0.962449 & 4.92587e-10 \\\\\n",
       "\t4 & $ PA_{pet} $ & 0.81741 & 3.89207e-10 \\\\\n",
       "\t5 & $ PA_{amb} $ & 0.983718 & 2.83308e-10 \\\\\n",
       "\t6 & $ PA_{hos} $ & 0.978616 & 2.64208e-10 \\\\\n",
       "\t7 & $ PA_{osv} $ & 0.957477 & 1.43245e-10 \\\\\n",
       "\t8 & $ PA_{res} $ & 0.910259 & 1.39835e-10 \\\\\n",
       "\t9 & $ PA_{alt} $ & 0.878068 & 1.14142e-10 \\\\\n",
       "\t10 & $ PA_{mot} $ & 0.930961 & 1.01181e-10 \\\\\n",
       "\t11 & $ PA_{edu} $ & 0.985823 & 9.54969e-11 \\\\\n",
       "\t12 & $ PA_{sec} $ & 0.982465 & 8.79083e-11 \\\\\n",
       "\t13 & $ PA_{soc} $ & 0.978075 & 8.60894e-11 \\\\\n",
       "\t14 & $ PY_{pet} $ & 0.944946 & 8.48121e-11 \\\\\n",
       "\t15 & $ PA_{nrs} $ & 0.9703 & 8.43556e-11 \\\\\n",
       "\t16 & $ PA_{cep} $ & 0.958859 & 8.30482e-11 \\\\\n",
       "\t17 & $ PA_{mmf} $ & 0.935773 & 4.99085e-11 \\\\\n",
       "\t18 & $ PA_{tsv} $ & 0.978629 & 4.75211e-11 \\\\\n",
       "\t19 & $ PA_{mch} $ & 0.950257 & 3.40492e-11 \\\\\n",
       "\t20 & $ PA_{eec} $ & 0.939716 & 3.24292e-11 \\\\\n",
       "\t21 & $ PY_{mot} $ & 0.951096 & 2.94227e-11 \\\\\n",
       "\t22 & $ PA_{fpd} $ & 0.929476 & 2.84501e-11 \\\\\n",
       "\t23 & $ PA_{rec} $ & 0.92764 & 2.70859e-11 \\\\\n",
       "\t24 & $ PY_{mch} $ & 0.968808 & 2.54552e-11 \\\\\n",
       "\t$\\dots$ & $\\dots$ & $\\dots$ & $\\dots$ \\\\\n",
       "\\end{tabular}\n"
      ],
      "text/plain": [
       "\u001b[1m289×3 DataFrame\u001b[0m\n",
       "\u001b[1m Row \u001b[0m│\u001b[1m var       \u001b[0m\u001b[1m value        \u001b[0m\u001b[1m margin       \u001b[0m\n",
       "     │\u001b[90m GenericV… \u001b[0m\u001b[90m Float64      \u001b[0m\u001b[90m Float64      \u001b[0m\n",
       "─────┼───────────────────────────────────────\n",
       "   1 │ PA[pip]        0.765399   2.80046e-7\n",
       "   2 │ RA         12453.9        1.41681e-7\n",
       "   3 │ PY[oil]        0.962449   4.92587e-10\n",
       "   4 │ PA[pet]        0.81741    3.89207e-10\n",
       "   5 │ PA[amb]        0.983718   2.83308e-10\n",
       "   6 │ PA[hos]        0.978616   2.64208e-10\n",
       "   7 │ PA[osv]        0.957477   1.43245e-10\n",
       "   8 │ PA[res]        0.910259   1.39835e-10\n",
       "  ⋮  │     ⋮           ⋮             ⋮\n",
       " 283 │ PA[che]        0.943033  -1.09594e-10\n",
       " 284 │ PA[brd]        0.9063    -1.55808e-10\n",
       " 285 │ PA[rnt]        0.922222  -1.89232e-10\n",
       " 286 │ Y[pip]         1.02836   -8.65654e-10\n",
       " 287 │ PA[hou]        0.983841  -1.68689e-9\n",
       " 288 │ A[pip]         1.09214   -9.30333e-8\n",
       " 289 │ PFX            0.973933  -1.80043e-7\n",
       "\u001b[36m                             274 rows omitted\u001b[0m"
      ]
     },
     "metadata": {},
     "output_type": "display_data"
    }
   ],
   "source": [
    "df |>\n",
    "    x -> sort(x, :margin, rev=true)"
   ]
  },
  {
   "cell_type": "code",
   "execution_count": null,
   "metadata": {},
   "outputs": [],
   "source": [
    "value.(Y)"
   ]
  },
  {
   "cell_type": "code",
   "execution_count": null,
   "metadata": {},
   "outputs": [],
   "source": []
  }
 ],
 "metadata": {
  "kernelspec": {
   "display_name": "Julia 1.9.2",
   "language": "julia",
   "name": "julia-1.9"
  },
  "language_info": {
   "file_extension": ".jl",
   "mimetype": "application/julia",
   "name": "julia",
   "version": "1.9.2"
  }
 },
 "nbformat": 4,
 "nbformat_minor": 2
}
