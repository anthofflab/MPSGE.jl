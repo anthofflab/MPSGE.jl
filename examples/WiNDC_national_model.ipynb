{
 "cells": [
  {
   "cell_type": "markdown",
   "metadata": {},
   "source": [
    "# WiNDC National Model\n",
    "\n",
    "You will need to point to the correct locations for a few objects, listed below"
   ]
  },
  {
   "cell_type": "code",
   "execution_count": 1,
   "metadata": {},
   "outputs": [],
   "source": [
    "parameter_path = raw\"C:\\Users\\mphillipson\\Documents\\Modeling\\MPSGE_dev_testing\\nationaldata_julia\\DAAData.jld2\"\n",
    "set_path = raw\"C:\\Users\\mphillipson\\Documents\\Modeling\\MPSGE_dev_testing\\nationaldata_julia\\Indices.jld2\";"
   ]
  },
  {
   "cell_type": "code",
   "execution_count": 2,
   "metadata": {},
   "outputs": [],
   "source": [
    "using MPSGE_MP\n",
    "\n",
    "using CSV, DataFrames, JLD2\n",
    "\n",
    "using JuMP"
   ]
  },
  {
   "cell_type": "code",
   "execution_count": 3,
   "metadata": {},
   "outputs": [],
   "source": [
    "P= load(parameter_path)[\"data\"] # load in date from saved Notebook output Dict, named P\n",
    "S= load(set_path)[\"data\"] # load in date from saved Notebook output Dict, named P\n",
    "\n",
    "\n",
    "I = [i for i∈S[:i] if i∉[:use,:oth]]\n",
    "J = [i for i∈S[:j] if i∉[:use,:oth]]\n",
    "VA = [va for va∈S[:va] if va!=:othtax]\n",
    "FD = S[:fd]\n",
    "TS = S[:ts]\n",
    "YR = S[:yr]\n",
    "M = S[:m]\n",
    "\n",
    "a_0 = P[:a_0]\n",
    "id_0 = P[:id_0]\n",
    "ys_0 = P[:ys_0]\n",
    "tm_0 = P[:tm_0]\n",
    "va_0 = P[:va_0]\n",
    "md_0 = P[:md_0]\n",
    "fd_0 = P[:fd_0]\n",
    "m_0 = P[:m_0]\n",
    "ty_0 = P[:ty_0]\n",
    "ms_0 = P[:ms_0]\n",
    "bopdef_0 = P[:bopdef_0]\n",
    "x_0 = P[:x_0]\n",
    "ta_0 = P[:ta_0]\n",
    "#s_0 = P[:s_0]\n",
    "fs_0 = P[:fs_0]\n",
    "y_0 = P[:y_0];\n",
    "\n",
    "\n",
    "ta = deepcopy(ta_0) *0\n",
    "ty = deepcopy(ty_0)\n",
    "tm = deepcopy(tm_0) *0;\n",
    "\n",
    "1;"
   ]
  },
  {
   "cell_type": "code",
   "execution_count": 9,
   "metadata": {},
   "outputs": [],
   "source": [
    "yr = Symbol(2017)\n",
    "\n",
    "WiNnat = MPSGEModel()\n",
    "\n",
    "#y_ = [j for j∈J if sum(ys_0[yr,j,i] for i∈I) !=0]\n",
    "#a_ = [i_ for i_∈I if a_0[yr,i_]!=0]\n",
    "\n",
    "@sectors(WiNnat,begin\n",
    "    Y, (index = [J], description = \"Sectoral Production\")\n",
    "    A, (index = [I], description = \"Armington Supply\")\n",
    "    MS, (index = [M],description = \"Margin Supply\")\n",
    "end)\n",
    "\n",
    "@commodities(WiNnat,begin\n",
    "    PA, (index = [I],  description = \"Armington Price\")\n",
    "    PY, (index = [J],  description = \"Supply\")\n",
    "    PVA, (index = [VA],description = \"Value-added\")\n",
    "    PM, (index = [M],  description = \"Foreign Exachange\")\n",
    "    PFX\n",
    "end)\n",
    "\n",
    "@consumer(WiNnat, RA, description = \"Representative Agent\")\n",
    "\n",
    "\n",
    "for j∈J\n",
    "    add_production!(WiNnat, Y[j],\n",
    "        ScalarNest(:t; elasticity = 0, children = [\n",
    "            ScalarOutput(PY[i],ys_0[yr,j,i]; taxes = [Tax(RA,ty[yr,j])]) for i∈I\n",
    "        ]),\n",
    "        ScalarNest(:s; elasticity = 0, children = [\n",
    "            [ScalarInput(PA[i], id_0[yr,i,j]) for i∈I]; \n",
    "            [ScalarNest(:va; elasticity =  1, children = \n",
    "                [ScalarInput(PVA[va], va_0[yr,va,j]) for va∈VA])\n",
    "            ];\n",
    "        ])\n",
    "    )\n",
    "end\n",
    "\n",
    "\n",
    "for m∈M\n",
    "    add_production!(WiNnat, MS[m],\n",
    "        ScalarNest(:t; elasticity = 0, children = [\n",
    "            ScalarOutput(PM[m], sum(ms_0[yr,i,m] for i∈I))\n",
    "        ]),\n",
    "        ScalarNest(:s; elasticity = 0, children = [\n",
    "            ScalarInput(PY[i], ms_0[yr,i,m]) for i∈I\n",
    "        ])\n",
    "    )\n",
    "end\n",
    "\n",
    "\n",
    "for i∈I\n",
    "    add_production!(WiNnat, A[i],\n",
    "        ScalarNest(:t; elasticity=2, children = [\n",
    "            [ScalarOutput(PA[i], a_0[yr,i], taxes=[Tax(RA,ta[yr,i])],reference_price=1-ta_0[yr,i])];\n",
    "            [ScalarOutput(PFX, x_0[yr,i])]\n",
    "        ]),\n",
    "        ScalarNest(:s; elasticity=0, children = [\n",
    "            [ScalarInput(PM[m], md_0[yr,m,i]) for m∈M];\n",
    "            ScalarNest(:dm; elasticity = 2, children = [\n",
    "                ScalarInput(PY[i], y_0[yr,i]),\n",
    "                ScalarInput(PFX, m_0[yr,i], taxes = [Tax(RA,tm[yr,i])],reference_price=1+tm_0[yr,i])\n",
    "            ])\n",
    "        ])\n",
    "    )\n",
    "end\n",
    "\n",
    "\n",
    "add_demand!(WiNnat, RA,\n",
    "    [ScalarDem(PA[i], fd_0[yr,i,:pce]) for i∈I],\n",
    "    [\n",
    "        [ScalarEndowment(PY[i], fs_0[yr,i]) for i∈I];\n",
    "        [ScalarEndowment(PFX, bopdef_0[yr])];\n",
    "        [ScalarEndowment(PA[i], -sum(fd_0[yr,i,xfd] for xfd∈FD if xfd!=:pce)) for i∈I];\n",
    "        [ScalarEndowment(PVA[va], sum(va_0[yr,va,j] for j∈J)) for va∈VA]\n",
    "    ]\n",
    ");"
   ]
  },
  {
   "cell_type": "code",
   "execution_count": 10,
   "metadata": {},
   "outputs": [
    {
     "data": {
      "text/plain": [
       "A JuMP Model\n",
       "Feasibility problem with:\n",
       "Variables: 292\n",
       "`Vector{NonlinearExpr}`-in-`MathOptInterface.Complements`: 282 constraints\n",
       "`Vector{AffExpr}`-in-`MathOptInterface.Complements`: 7 constraints\n",
       "`VariableRef`-in-`MathOptInterface.GreaterThan{Float64}`: 290 constraints\n",
       "Model mode: AUTOMATIC\n",
       "CachingOptimizer state: EMPTY_OPTIMIZER\n",
       "Solver name: Path 5.0.03\n",
       "Names registered in the model: A, MS, PA, PFX, PM, PVA, PY, RA, Y, income_balance, market_clearance, zero_profit"
      ]
     },
     "metadata": {},
     "output_type": "display_data"
    }
   ],
   "source": [
    "jm = build!(WiNnat)"
   ]
  },
  {
   "cell_type": "code",
   "execution_count": 11,
   "metadata": {},
   "outputs": [
    {
     "name": "stdout",
     "output_type": "stream",
     "text": [
      "Reading options file C:\\Users\\MPHILL~1\\AppData\\Local\\Temp\\jl_4FE.tmp\n",
      " > cumulative_iteration_limit 10000\n",
      "Read of options file complete.\n",
      "\n",
      "Path 5.0.03 (Fri Jun 26 10:05:33 2020)\n",
      "Written by Todd Munson, Steven Dirkse, Youngdae Kim, and Michael Ferris\n",
      "\n",
      "Zero:     3 Single:     0 Double:     0\n",
      "Preprocessed size   : 288\n",
      "\n",
      "Crash Log\n",
      "major  func  diff  size  residual    step       prox   (label)\n",
      "    0     0             3.7941e+02             0.0e+00 (f[  155])\n",
      "    1     1     0   288 1.9248e+01  1.0e+00    3.8e+00 (f[  292])\n",
      "pn_search terminated: no basis change.\n",
      "\n",
      "Major Iteration Log\n",
      "major minor  func  grad  residual    step  type prox    inorm  (label)\n",
      "    0     0     2     2 1.9248e+01           I 1.9e-01 1.9e+01 (f[  292])\n",
      "    1     1     3     3 5.3145e-01  1.0e+00 SO 7.7e-02 4.2e-01 (f[  292])\n",
      "    2     1     4     4 4.7337e-03  1.0e+00 SO 3.1e-02 3.2e-03 (f[  116])\n",
      "    3     1     5     5 5.6381e-05  1.0e+00 SO 4.7e-04 4.8e-05 (f[  187])\n",
      "    4     1     6     6 6.4209e-09  1.0e+00 SO 5.6e-06 5.4e-09 (f[  187])\n",
      "\n",
      "Major Iterations. . . . 4\n",
      "Minor Iterations. . . . 4\n",
      "Restarts. . . . . . . . 0\n",
      "Crash Iterations. . . . 1\n",
      "Gradient Steps. . . . . 0\n",
      "Function Evaluations. . 6\n",
      "Gradient Evaluations. . 6\n",
      "Basis Time. . . . . . . 0.000000\n",
      "Total Time. . . . . . . 0.093000\n",
      "Residual. . . . . . . . 6.420857e-09\n",
      "Postsolved residual: 6.4209e-09\n"
     ]
    }
   ],
   "source": [
    "fix(RA,12453.896315446877)\n",
    "\n",
    "solve!(WiNnat; :cumulative_iteration_limit => 10_000)\n",
    "\n",
    "df = generate_report(WiNnat);"
   ]
  },
  {
   "cell_type": "code",
   "execution_count": 12,
   "metadata": {},
   "outputs": [
    {
     "data": {
      "text/html": [
       "<div><div style = \"float: left;\"><span>289×3 DataFrame</span></div><div style = \"float: right;\"><span style = \"font-style: italic;\">264 rows omitted</span></div><div style = \"clear: both;\"></div></div><div class = \"data-frame\" style = \"overflow-x: scroll;\"><table class = \"data-frame\" style = \"margin-bottom: 6px;\"><thead><tr class = \"header\"><th class = \"rowNumber\" style = \"font-weight: bold; text-align: right;\">Row</th><th style = \"text-align: left;\">var</th><th style = \"text-align: left;\">value</th><th style = \"text-align: left;\">margin</th></tr><tr class = \"subheader headerLastRow\"><th class = \"rowNumber\" style = \"font-weight: bold; text-align: right;\"></th><th title = \"VariableRef\" style = \"text-align: left;\">GenericV…</th><th title = \"Float64\" style = \"text-align: left;\">Float64</th><th title = \"Float64\" style = \"text-align: left;\">Float64</th></tr></thead><tbody><tr><td class = \"rowNumber\" style = \"font-weight: bold; text-align: right;\">1</td><td style = \"text-align: left;\">PA[pip]</td><td style = \"text-align: right;\">0.779861</td><td style = \"text-align: right;\">5.36439e-9</td></tr><tr><td class = \"rowNumber\" style = \"font-weight: bold; text-align: right;\">2</td><td style = \"text-align: left;\">RA</td><td style = \"text-align: right;\">12453.9</td><td style = \"text-align: right;\">2.09184e-10</td></tr><tr><td class = \"rowNumber\" style = \"font-weight: bold; text-align: right;\">3</td><td style = \"text-align: left;\">PVA[compen]</td><td style = \"text-align: right;\">0.9916</td><td style = \"text-align: right;\">3.27418e-11</td></tr><tr><td class = \"rowNumber\" style = \"font-weight: bold; text-align: right;\">4</td><td style = \"text-align: left;\">PA[pet]</td><td style = \"text-align: right;\">0.820925</td><td style = \"text-align: right;\">1.3074e-11</td></tr><tr><td class = \"rowNumber\" style = \"font-weight: bold; text-align: right;\">5</td><td style = \"text-align: left;\">PY[oil]</td><td style = \"text-align: right;\">0.970186</td><td style = \"text-align: right;\">1.06866e-11</td></tr><tr><td class = \"rowNumber\" style = \"font-weight: bold; text-align: right;\">6</td><td style = \"text-align: left;\">PY[mch]</td><td style = \"text-align: right;\">0.965957</td><td style = \"text-align: right;\">6.59384e-12</td></tr><tr><td class = \"rowNumber\" style = \"font-weight: bold; text-align: right;\">7</td><td style = \"text-align: left;\">PA[mot]</td><td style = \"text-align: right;\">0.929959</td><td style = \"text-align: right;\">4.77485e-12</td></tr><tr><td class = \"rowNumber\" style = \"font-weight: bold; text-align: right;\">8</td><td style = \"text-align: left;\">PY[pet]</td><td style = \"text-align: right;\">0.95076</td><td style = \"text-align: right;\">2.6148e-12</td></tr><tr><td class = \"rowNumber\" style = \"font-weight: bold; text-align: right;\">9</td><td style = \"text-align: left;\">PA[rnt]</td><td style = \"text-align: right;\">0.932068</td><td style = \"text-align: right;\">2.359e-12</td></tr><tr><td class = \"rowNumber\" style = \"font-weight: bold; text-align: right;\">10</td><td style = \"text-align: left;\">PY[tsv]</td><td style = \"text-align: right;\">0.976674</td><td style = \"text-align: right;\">1.85063e-12</td></tr><tr><td class = \"rowNumber\" style = \"font-weight: bold; text-align: right;\">11</td><td style = \"text-align: left;\">PA[hos]</td><td style = \"text-align: right;\">0.971306</td><td style = \"text-align: right;\">1.81899e-12</td></tr><tr><td class = \"rowNumber\" style = \"font-weight: bold; text-align: right;\">12</td><td style = \"text-align: left;\">PA[uti]</td><td style = \"text-align: right;\">0.919269</td><td style = \"text-align: right;\">1.42109e-12</td></tr><tr><td class = \"rowNumber\" style = \"font-weight: bold; text-align: right;\">13</td><td style = \"text-align: left;\">PM[trd]</td><td style = \"text-align: right;\">0.975541</td><td style = \"text-align: right;\">1.36424e-12</td></tr><tr><td style = \"text-align: right;\">&vellip;</td><td style = \"text-align: right;\">&vellip;</td><td style = \"text-align: right;\">&vellip;</td><td style = \"text-align: right;\">&vellip;</td></tr><tr><td class = \"rowNumber\" style = \"font-weight: bold; text-align: right;\">278</td><td style = \"text-align: left;\">PA[tsv]</td><td style = \"text-align: right;\">0.974258</td><td style = \"text-align: right;\">-2.38742e-12</td></tr><tr><td class = \"rowNumber\" style = \"font-weight: bold; text-align: right;\">279</td><td style = \"text-align: left;\">PA[bnk]</td><td style = \"text-align: right;\">0.979008</td><td style = \"text-align: right;\">-4.20641e-12</td></tr><tr><td class = \"rowNumber\" style = \"font-weight: bold; text-align: right;\">280</td><td style = \"text-align: left;\">PA[hou]</td><td style = \"text-align: right;\">1.00056</td><td style = \"text-align: right;\">-4.3201e-12</td></tr><tr><td class = \"rowNumber\" style = \"font-weight: bold; text-align: right;\">281</td><td style = \"text-align: left;\">PA[che]</td><td style = \"text-align: right;\">0.944644</td><td style = \"text-align: right;\">-4.3201e-12</td></tr><tr><td class = \"rowNumber\" style = \"font-weight: bold; text-align: right;\">282</td><td style = \"text-align: left;\">PA[alt]</td><td style = \"text-align: right;\">0.876066</td><td style = \"text-align: right;\">-4.94538e-12</td></tr><tr><td class = \"rowNumber\" style = \"font-weight: bold; text-align: right;\">283</td><td style = \"text-align: left;\">PY[pmt]</td><td style = \"text-align: right;\">0.962191</td><td style = \"text-align: right;\">-6.1472e-12</td></tr><tr><td class = \"rowNumber\" style = \"font-weight: bold; text-align: right;\">284</td><td style = \"text-align: left;\">PA[res]</td><td style = \"text-align: right;\">0.905439</td><td style = \"text-align: right;\">-6.48015e-12</td></tr><tr><td class = \"rowNumber\" style = \"font-weight: bold; text-align: right;\">285</td><td style = \"text-align: left;\">PA[fbp]</td><td style = \"text-align: right;\">0.905582</td><td style = \"text-align: right;\">-1.15961e-11</td></tr><tr><td class = \"rowNumber\" style = \"font-weight: bold; text-align: right;\">286</td><td style = \"text-align: left;\">Y[pip]</td><td style = \"text-align: right;\">1.02794</td><td style = \"text-align: right;\">-1.23914e-11</td></tr><tr><td class = \"rowNumber\" style = \"font-weight: bold; text-align: right;\">287</td><td style = \"text-align: left;\">PVA[surplus]</td><td style = \"text-align: right;\">0.98421</td><td style = \"text-align: right;\">-2.27374e-11</td></tr><tr><td class = \"rowNumber\" style = \"font-weight: bold; text-align: right;\">288</td><td style = \"text-align: left;\">A[pip]</td><td style = \"text-align: right;\">1.06223</td><td style = \"text-align: right;\">-5.391e-10</td></tr><tr><td class = \"rowNumber\" style = \"font-weight: bold; text-align: right;\">289</td><td style = \"text-align: left;\">PFX</td><td style = \"text-align: right;\">0.97386</td><td style = \"text-align: right;\">-3.487e-9</td></tr></tbody></table></div>"
      ],
      "text/latex": [
       "\\begin{tabular}{r|ccc}\n",
       "\t& var & value & margin\\\\\n",
       "\t\\hline\n",
       "\t& GenericV… & Float64 & Float64\\\\\n",
       "\t\\hline\n",
       "\t1 & $ PA_{pip} $ & 0.779861 & 5.36439e-9 \\\\\n",
       "\t2 & $ RA $ & 12453.9 & 2.09184e-10 \\\\\n",
       "\t3 & $ PVA_{compen} $ & 0.9916 & 3.27418e-11 \\\\\n",
       "\t4 & $ PA_{pet} $ & 0.820925 & 1.3074e-11 \\\\\n",
       "\t5 & $ PY_{oil} $ & 0.970186 & 1.06866e-11 \\\\\n",
       "\t6 & $ PY_{mch} $ & 0.965957 & 6.59384e-12 \\\\\n",
       "\t7 & $ PA_{mot} $ & 0.929959 & 4.77485e-12 \\\\\n",
       "\t8 & $ PY_{pet} $ & 0.95076 & 2.6148e-12 \\\\\n",
       "\t9 & $ PA_{rnt} $ & 0.932068 & 2.359e-12 \\\\\n",
       "\t10 & $ PY_{tsv} $ & 0.976674 & 1.85063e-12 \\\\\n",
       "\t11 & $ PA_{hos} $ & 0.971306 & 1.81899e-12 \\\\\n",
       "\t12 & $ PA_{uti} $ & 0.919269 & 1.42109e-12 \\\\\n",
       "\t13 & $ PM_{trd} $ & 0.975541 & 1.36424e-12 \\\\\n",
       "\t14 & $ Y_{hou} $ & 0.946697 & 1.16529e-12 \\\\\n",
       "\t15 & $ PA_{nrs} $ & 0.961224 & 9.66338e-13 \\\\\n",
       "\t16 & $ A_{tsv} $ & 1.00198 & 9.09495e-13 \\\\\n",
       "\t17 & $ PA_{mmf} $ & 0.933638 & 9.09495e-13 \\\\\n",
       "\t18 & $ A_{fbp} $ & 1.04186 & 7.95808e-13 \\\\\n",
       "\t19 & $ Y_{slg} $ & 1.0 & 7.44294e-13 \\\\\n",
       "\t20 & $ PY_{wht} $ & 0.974988 & 6.6902e-13 \\\\\n",
       "\t21 & $ Y_{wht} $ & 1.02303 & 6.60805e-13 \\\\\n",
       "\t22 & $ PA_{adm} $ & 0.967722 & 6.39488e-13 \\\\\n",
       "\t23 & $ PM_{trn} $ & 0.957631 & 6.25278e-13 \\\\\n",
       "\t24 & $ PA_{wht} $ & 0.975015 & 5.48728e-13 \\\\\n",
       "\t$\\dots$ & $\\dots$ & $\\dots$ & $\\dots$ \\\\\n",
       "\\end{tabular}\n"
      ],
      "text/plain": [
       "\u001b[1m289×3 DataFrame\u001b[0m\n",
       "\u001b[1m Row \u001b[0m│\u001b[1m var          \u001b[0m\u001b[1m value        \u001b[0m\u001b[1m margin       \u001b[0m\n",
       "     │\u001b[90m GenericV…    \u001b[0m\u001b[90m Float64      \u001b[0m\u001b[90m Float64      \u001b[0m\n",
       "─────┼──────────────────────────────────────────\n",
       "   1 │ PA[pip]           0.779861   5.36439e-9\n",
       "   2 │ RA            12453.9        2.09184e-10\n",
       "   3 │ PVA[compen]       0.9916     3.27418e-11\n",
       "   4 │ PA[pet]           0.820925   1.3074e-11\n",
       "   5 │ PY[oil]           0.970186   1.06866e-11\n",
       "   6 │ PY[mch]           0.965957   6.59384e-12\n",
       "   7 │ PA[mot]           0.929959   4.77485e-12\n",
       "   8 │ PY[pet]           0.95076    2.6148e-12\n",
       "  ⋮  │      ⋮             ⋮             ⋮\n",
       " 283 │ PY[pmt]           0.962191  -6.1472e-12\n",
       " 284 │ PA[res]           0.905439  -6.48015e-12\n",
       " 285 │ PA[fbp]           0.905582  -1.15961e-11\n",
       " 286 │ Y[pip]            1.02794   -1.23914e-11\n",
       " 287 │ PVA[surplus]      0.98421   -2.27374e-11\n",
       " 288 │ A[pip]            1.06223   -5.391e-10\n",
       " 289 │ PFX               0.97386   -3.487e-9\n",
       "\u001b[36m                                274 rows omitted\u001b[0m"
      ]
     },
     "metadata": {},
     "output_type": "display_data"
    }
   ],
   "source": [
    "df |>\n",
    "    x -> sort(x, :margin, rev=true)"
   ]
  },
  {
   "cell_type": "code",
   "execution_count": null,
   "metadata": {},
   "outputs": [],
   "source": []
  }
 ],
 "metadata": {
  "kernelspec": {
   "display_name": "Julia 1.9.2",
   "language": "julia",
   "name": "julia-1.9"
  },
  "language_info": {
   "file_extension": ".jl",
   "mimetype": "application/julia",
   "name": "julia",
   "version": "1.9.2"
  }
 },
 "nbformat": 4,
 "nbformat_minor": 2
}
