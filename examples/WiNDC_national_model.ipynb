{
 "cells": [
  {
   "cell_type": "markdown",
   "metadata": {},
   "source": [
    "# WiNDC National Model\n",
    "\n",
    "You will need to point to the correct locations for a few objects, listed below"
   ]
  },
  {
   "cell_type": "code",
   "execution_count": 1,
   "metadata": {},
   "outputs": [],
   "source": [
    "parameter_path = raw\"C:\\Users\\mphillipson\\Documents\\Modeling\\MPSGE_dev_testing\\nationaldata_julia\\DAAData.jld2\"\n",
    "set_path = raw\"C:\\Users\\mphillipson\\Documents\\Modeling\\MPSGE_dev_testing\\nationaldata_julia\\Indices.jld2\";"
   ]
  },
  {
   "cell_type": "code",
   "execution_count": 2,
   "metadata": {},
   "outputs": [],
   "source": [
    "using MPSGE_MP\n",
    "\n",
    "using CSV, DataFrames, JLD2\n",
    "\n",
    "using JuMP"
   ]
  },
  {
   "cell_type": "code",
   "execution_count": 3,
   "metadata": {},
   "outputs": [],
   "source": [
    "P= load(parameter_path)[\"data\"] # load in date from saved Notebook output Dict, named P\n",
    "S= load(set_path)[\"data\"] # load in date from saved Notebook output Dict, named P\n",
    "\n",
    "\n",
    "I = [i for i∈S[:i] if i∉[:use,:oth]]\n",
    "J = [i for i∈S[:j] if i∉[:use,:oth]]\n",
    "VA = [va for va∈S[:va] if va!=:othtax]\n",
    "FD = S[:fd]\n",
    "TS = S[:ts]\n",
    "YR = S[:yr]\n",
    "M = S[:m]\n",
    "\n",
    "a_0 = P[:a_0]\n",
    "id_0 = P[:id_0]\n",
    "ys_0 = P[:ys_0]\n",
    "tm_0 = P[:tm_0]\n",
    "va_0 = P[:va_0]\n",
    "md_0 = P[:md_0]\n",
    "fd_0 = P[:fd_0]\n",
    "m_0 = P[:m_0]\n",
    "ty_0 = P[:ty_0]\n",
    "ms_0 = P[:ms_0]\n",
    "bopdef_0 = P[:bopdef_0]\n",
    "x_0 = P[:x_0]\n",
    "ta_0 = P[:ta_0]\n",
    "#s_0 = P[:s_0]\n",
    "fs_0 = P[:fs_0]\n",
    "y_0 = P[:y_0];\n",
    "\n",
    "\n",
    "\n",
    "1;"
   ]
  },
  {
   "cell_type": "code",
   "execution_count": 30,
   "metadata": {},
   "outputs": [],
   "source": [
    "yr = Symbol(2017)\n",
    "\n",
    "WiNnat = MPSGEModel()\n",
    "\n",
    "#y_ = [j for j∈J if sum(ys_0[yr,j,i] for i∈I) !=0]\n",
    "#a_ = [i_ for i_∈I if a_0[yr,i_]!=0]\n",
    "\n",
    "\n",
    "@parameters(WiNnat, begin\n",
    "    ta, ta_0[yr,J], (index = [J],)\n",
    "    ty, ty_0[yr,J], (index = [J],)\n",
    "    tm, tm_0[yr,J], (index = [J],)\n",
    "end)\n",
    "\n",
    "@sectors(WiNnat,begin\n",
    "    Y, (index = [J], description = \"Sectoral Production\")\n",
    "    A, (index = [I], description = \"Armington Supply\")\n",
    "    MS, (index = [M],description = \"Margin Supply\")\n",
    "end)\n",
    "\n",
    "@commodities(WiNnat,begin\n",
    "    PA, (index = [I],  description = \"Armington Price\")\n",
    "    PY, (index = [J],  description = \"Supply\")\n",
    "    PVA, (index = [VA],description = \"Value-added\")\n",
    "    PM, (index = [M],  description = \"Foreign Exachange\")\n",
    "    PFX\n",
    "end)\n",
    "\n",
    "@consumer(WiNnat, RA, description = \"Representative Agent\")\n",
    "\n",
    "for j∈J\n",
    "    @production(WiNnat, Y[j], [t=0, s = 0, va => s = 1], begin\n",
    "        [@output(PY[i],ys_0[yr,j,i], t, taxes = [Tax(RA,ty[j])]) for i∈I]... \n",
    "        [@input(PA[i], id_0[yr,i,j], s) for i∈I]...\n",
    "        [@input(PVA[va], va_0[yr,va,j], va) for va∈VA]...\n",
    "    end)\n",
    "end\n",
    "\n",
    "\n",
    "\n",
    "for m∈M\n",
    "    @production(WiNnat, MS[m], [t = 0, s = 0], begin\n",
    "        [@output(PM[m], sum(ms_0[yr,i,m] for i∈I), t)]...\n",
    "        [@input(PY[i], ms_0[yr,i,m], s) for i∈I]...\n",
    "    end)\n",
    "end\n",
    "\n",
    "for i∈I\n",
    "    @production(WiNnat, A[i], [t = 2, s = 0, dm => s = 2], begin\n",
    "        [@output(PA[i], a_0[yr,i], t, taxes=[Tax(RA,ta[i])],reference_price=1-ta_0[yr,i])]...\n",
    "        [@output(PFX, x_0[yr,i], t)]...\n",
    "        [@input(PM[m], md_0[yr,m,i], s) for m∈M]...\n",
    "        @input(PY[i], y_0[yr,i], dm)\n",
    "        @input(PFX, m_0[yr,i], dm, taxes = [Tax(RA,tm[i])],reference_price=1+tm_0[yr,i])\n",
    "    end)\n",
    "end\n",
    "\n",
    "@demand(WiNnat, RA, begin\n",
    "    [@final_demand(PA[i], fd_0[yr,i,:pce]) for i∈I]...\n",
    "    end,begin\n",
    "    [@endowment(PY[i], fs_0[yr,i]) for i∈I]...\n",
    "    @endowment(PFX, bopdef_0[yr])\n",
    "    [@endowment(PA[i], -sum(fd_0[yr,i,xfd] for xfd∈FD if xfd!=:pce)) for i∈I]...\n",
    "    [@endowment(PVA[va], sum(va_0[yr,va,j] for j∈J)) for va∈VA]...\n",
    "end)\n",
    "\n",
    "1;"
   ]
  },
  {
   "cell_type": "markdown",
   "metadata": {},
   "source": [
    "# Benchmark "
   ]
  },
  {
   "cell_type": "code",
   "execution_count": 32,
   "metadata": {},
   "outputs": [
    {
     "name": "stdout",
     "output_type": "stream",
     "text": [
      "Reading options file C:\\Users\\MPHILL~1\\AppData\\Local\\Temp\\jl_F7F.tmp\n",
      " > cumulative_iteration_limit 0\n",
      "Read of options file complete.\n",
      "\n",
      "Path 5.0.03 (Fri Jun 26 10:05:33 2020)\n",
      "Written by Todd Munson, Steven Dirkse, Youngdae Kim, and Michael Ferris\n",
      "Preprocessed size   : 292\n",
      "\n",
      "Major Iteration Log\n",
      "major minor  func  grad  residual    step  type prox    inorm  (label)\n",
      "    0     0     1     1 1.3289e+01           I 0.0e+00 1.2e+01 (income_balance[)\n",
      "\n",
      "Major Iterations. . . . 0\n",
      "Minor Iterations. . . . 0\n",
      "Restarts. . . . . . . . 0\n",
      "Crash Iterations. . . . 0\n",
      "Gradient Steps. . . . . 0\n",
      "Function Evaluations. . 1\n",
      "Gradient Evaluations. . 1\n",
      "Basis Time. . . . . . . 0.000000\n",
      "Total Time. . . . . . . 0.000000\n",
      "Residual. . . . . . . . 1.328888e+01\n",
      "Postsolved residual: 1.3289e+01\n"
     ]
    }
   ],
   "source": [
    "#fix(RA, sum(fd_0[yr,i,:pce] for i∈I))\n",
    "\n",
    "solve!(WiNnat; cumulative_iteration_limit = 0)\n",
    "\n",
    "df_benchmark = generate_report(WiNnat);"
   ]
  },
  {
   "cell_type": "code",
   "execution_count": 33,
   "metadata": {},
   "outputs": [
    {
     "data": {
      "text/html": [
       "<div><div style = \"float: left;\"><span>289×3 DataFrame</span></div><div style = \"float: right;\"><span style = \"font-style: italic;\">264 rows omitted</span></div><div style = \"clear: both;\"></div></div><div class = \"data-frame\" style = \"overflow-x: scroll;\"><table class = \"data-frame\" style = \"margin-bottom: 6px;\"><thead><tr class = \"header\"><th class = \"rowNumber\" style = \"font-weight: bold; text-align: right;\">Row</th><th style = \"text-align: left;\">var</th><th style = \"text-align: left;\">value</th><th style = \"text-align: left;\">margin</th></tr><tr class = \"subheader headerLastRow\"><th class = \"rowNumber\" style = \"font-weight: bold; text-align: right;\"></th><th title = \"VariableRef\" style = \"text-align: left;\">GenericV…</th><th title = \"Float64\" style = \"text-align: left;\">Float64</th><th title = \"Float64\" style = \"text-align: left;\">Float64</th></tr></thead><tbody><tr><td class = \"rowNumber\" style = \"font-weight: bold; text-align: right;\">1</td><td style = \"text-align: left;\">A[che]</td><td style = \"text-align: right;\">1.0</td><td style = \"text-align: right;\">-1.58339</td></tr><tr><td class = \"rowNumber\" style = \"font-weight: bold; text-align: right;\">2</td><td style = \"text-align: left;\">A[mot]</td><td style = \"text-align: right;\">1.0</td><td style = \"text-align: right;\">-1.53541</td></tr><tr><td class = \"rowNumber\" style = \"font-weight: bold; text-align: right;\">3</td><td style = \"text-align: left;\">A[mch]</td><td style = \"text-align: right;\">1.0</td><td style = \"text-align: right;\">-1.14018</td></tr><tr><td class = \"rowNumber\" style = \"font-weight: bold; text-align: right;\">4</td><td style = \"text-align: left;\">A[fmt]</td><td style = \"text-align: right;\">1.0</td><td style = \"text-align: right;\">-1.05731</td></tr><tr><td class = \"rowNumber\" style = \"font-weight: bold; text-align: right;\">5</td><td style = \"text-align: left;\">A[fbp]</td><td style = \"text-align: right;\">1.0</td><td style = \"text-align: right;\">-0.917182</td></tr><tr><td class = \"rowNumber\" style = \"font-weight: bold; text-align: right;\">6</td><td style = \"text-align: left;\">A[alt]</td><td style = \"text-align: right;\">1.0</td><td style = \"text-align: right;\">-0.908723</td></tr><tr><td class = \"rowNumber\" style = \"font-weight: bold; text-align: right;\">7</td><td style = \"text-align: left;\">A[pla]</td><td style = \"text-align: right;\">1.0</td><td style = \"text-align: right;\">-0.877608</td></tr><tr><td class = \"rowNumber\" style = \"font-weight: bold; text-align: right;\">8</td><td style = \"text-align: left;\">A[eec]</td><td style = \"text-align: right;\">1.0</td><td style = \"text-align: right;\">-0.800249</td></tr><tr><td class = \"rowNumber\" style = \"font-weight: bold; text-align: right;\">9</td><td style = \"text-align: left;\">A[tex]</td><td style = \"text-align: right;\">1.0</td><td style = \"text-align: right;\">-0.71533</td></tr><tr><td class = \"rowNumber\" style = \"font-weight: bold; text-align: right;\">10</td><td style = \"text-align: left;\">A[mmf]</td><td style = \"text-align: right;\">1.0</td><td style = \"text-align: right;\">-0.704073</td></tr><tr><td class = \"rowNumber\" style = \"font-weight: bold; text-align: right;\">11</td><td style = \"text-align: left;\">A[ote]</td><td style = \"text-align: right;\">1.0</td><td style = \"text-align: right;\">-0.608529</td></tr><tr><td class = \"rowNumber\" style = \"font-weight: bold; text-align: right;\">12</td><td style = \"text-align: left;\">A[nmp]</td><td style = \"text-align: right;\">1.0</td><td style = \"text-align: right;\">-0.375491</td></tr><tr><td class = \"rowNumber\" style = \"font-weight: bold; text-align: right;\">13</td><td style = \"text-align: left;\">A[cep]</td><td style = \"text-align: right;\">1.0</td><td style = \"text-align: right;\">-0.336096</td></tr><tr><td style = \"text-align: right;\">&vellip;</td><td style = \"text-align: right;\">&vellip;</td><td style = \"text-align: right;\">&vellip;</td><td style = \"text-align: right;\">&vellip;</td></tr><tr><td class = \"rowNumber\" style = \"font-weight: bold; text-align: right;\">278</td><td style = \"text-align: left;\">A[uti]</td><td style = \"text-align: right;\">1.0</td><td style = \"text-align: right;\">2.59348e-13</td></tr><tr><td class = \"rowNumber\" style = \"font-weight: bold; text-align: right;\">279</td><td style = \"text-align: left;\">PA[fmt]</td><td style = \"text-align: right;\">1.0</td><td style = \"text-align: right;\">3.19744e-13</td></tr><tr><td class = \"rowNumber\" style = \"font-weight: bold; text-align: right;\">280</td><td style = \"text-align: left;\">Y[fdd]</td><td style = \"text-align: right;\">1.0</td><td style = \"text-align: right;\">3.41061e-13</td></tr><tr><td class = \"rowNumber\" style = \"font-weight: bold; text-align: right;\">281</td><td style = \"text-align: left;\">Y[ins]</td><td style = \"text-align: right;\">1.0</td><td style = \"text-align: right;\">3.69482e-13</td></tr><tr><td class = \"rowNumber\" style = \"font-weight: bold; text-align: right;\">282</td><td style = \"text-align: left;\">Y[pet]</td><td style = \"text-align: right;\">1.0</td><td style = \"text-align: right;\">4.06786e-13</td></tr><tr><td class = \"rowNumber\" style = \"font-weight: bold; text-align: right;\">283</td><td style = \"text-align: left;\">PY[com]</td><td style = \"text-align: right;\">1.0</td><td style = \"text-align: right;\">4.54747e-13</td></tr><tr><td class = \"rowNumber\" style = \"font-weight: bold; text-align: right;\">284</td><td style = \"text-align: left;\">PFX</td><td style = \"text-align: right;\">1.0</td><td style = \"text-align: right;\">4.54747e-13</td></tr><tr><td class = \"rowNumber\" style = \"font-weight: bold; text-align: right;\">285</td><td style = \"text-align: left;\">Y[ore]</td><td style = \"text-align: right;\">1.0</td><td style = \"text-align: right;\">6.39488e-13</td></tr><tr><td class = \"rowNumber\" style = \"font-weight: bold; text-align: right;\">286</td><td style = \"text-align: left;\">A[tsv]</td><td style = \"text-align: right;\">1.0</td><td style = \"text-align: right;\">9.8499e-13</td></tr><tr><td class = \"rowNumber\" style = \"font-weight: bold; text-align: right;\">287</td><td style = \"text-align: left;\">PY[tsv]</td><td style = \"text-align: right;\">1.0</td><td style = \"text-align: right;\">1.59162e-12</td></tr><tr><td class = \"rowNumber\" style = \"font-weight: bold; text-align: right;\">288</td><td style = \"text-align: left;\">PVA[compen]</td><td style = \"text-align: right;\">1.0</td><td style = \"text-align: right;\">1.81899e-12</td></tr><tr><td class = \"rowNumber\" style = \"font-weight: bold; text-align: right;\">289</td><td style = \"text-align: left;\">RA</td><td style = \"text-align: right;\">13138.8</td><td style = \"text-align: right;\">12.3032</td></tr></tbody></table></div>"
      ],
      "text/latex": [
       "\\begin{tabular}{r|ccc}\n",
       "\t& var & value & margin\\\\\n",
       "\t\\hline\n",
       "\t& GenericV… & Float64 & Float64\\\\\n",
       "\t\\hline\n",
       "\t1 & $ A_{che} $ & 1.0 & -1.58339 \\\\\n",
       "\t2 & $ A_{mot} $ & 1.0 & -1.53541 \\\\\n",
       "\t3 & $ A_{mch} $ & 1.0 & -1.14018 \\\\\n",
       "\t4 & $ A_{fmt} $ & 1.0 & -1.05731 \\\\\n",
       "\t5 & $ A_{fbp} $ & 1.0 & -0.917182 \\\\\n",
       "\t6 & $ A_{alt} $ & 1.0 & -0.908723 \\\\\n",
       "\t7 & $ A_{pla} $ & 1.0 & -0.877608 \\\\\n",
       "\t8 & $ A_{eec} $ & 1.0 & -0.800249 \\\\\n",
       "\t9 & $ A_{tex} $ & 1.0 & -0.71533 \\\\\n",
       "\t10 & $ A_{mmf} $ & 1.0 & -0.704073 \\\\\n",
       "\t11 & $ A_{ote} $ & 1.0 & -0.608529 \\\\\n",
       "\t12 & $ A_{nmp} $ & 1.0 & -0.375491 \\\\\n",
       "\t13 & $ A_{cep} $ & 1.0 & -0.336096 \\\\\n",
       "\t14 & $ A_{pet} $ & 1.0 & -0.264459 \\\\\n",
       "\t15 & $ A_{pmt} $ & 1.0 & -0.155317 \\\\\n",
       "\t16 & $ A_{ppd} $ & 1.0 & -0.128081 \\\\\n",
       "\t17 & $ A_{wpd} $ & 1.0 & -0.0773847 \\\\\n",
       "\t18 & $ A_{agr} $ & 1.0 & -0.0650246 \\\\\n",
       "\t19 & $ A_{oil} $ & 1.0 & -0.0395272 \\\\\n",
       "\t20 & $ A_{fpd} $ & 1.0 & -0.00842738 \\\\\n",
       "\t21 & $ A_{fof} $ & 1.0 & -0.00449162 \\\\\n",
       "\t22 & $ A_{pri} $ & 1.0 & -0.000884497 \\\\\n",
       "\t23 & $ Y_{slg} $ & 1.0 & -1.81899e-12 \\\\\n",
       "\t24 & $ PVA_{surplus} $ & 1.0 & -1.81899e-12 \\\\\n",
       "\t$\\dots$ & $\\dots$ & $\\dots$ & $\\dots$ \\\\\n",
       "\\end{tabular}\n"
      ],
      "text/plain": [
       "\u001b[1m289×3 DataFrame\u001b[0m\n",
       "\u001b[1m Row \u001b[0m│\u001b[1m var         \u001b[0m\u001b[1m value   \u001b[0m\u001b[1m margin       \u001b[0m\n",
       "     │\u001b[90m GenericV…   \u001b[0m\u001b[90m Float64 \u001b[0m\u001b[90m Float64      \u001b[0m\n",
       "─────┼────────────────────────────────────\n",
       "   1 │ A[che]           1.0  -1.58339\n",
       "   2 │ A[mot]           1.0  -1.53541\n",
       "   3 │ A[mch]           1.0  -1.14018\n",
       "   4 │ A[fmt]           1.0  -1.05731\n",
       "   5 │ A[fbp]           1.0  -0.917182\n",
       "   6 │ A[alt]           1.0  -0.908723\n",
       "   7 │ A[pla]           1.0  -0.877608\n",
       "   8 │ A[eec]           1.0  -0.800249\n",
       "  ⋮  │      ⋮          ⋮          ⋮\n",
       " 283 │ PY[com]          1.0   4.54747e-13\n",
       " 284 │ PFX              1.0   4.54747e-13\n",
       " 285 │ Y[ore]           1.0   6.39488e-13\n",
       " 286 │ A[tsv]           1.0   9.8499e-13\n",
       " 287 │ PY[tsv]          1.0   1.59162e-12\n",
       " 288 │ PVA[compen]      1.0   1.81899e-12\n",
       " 289 │ RA           13138.8  12.3032\n",
       "\u001b[36m                          274 rows omitted\u001b[0m"
      ]
     },
     "metadata": {},
     "output_type": "display_data"
    }
   ],
   "source": [
    "df_benchmark |>\n",
    "    x -> sort(x, :margin)"
   ]
  },
  {
   "cell_type": "code",
   "execution_count": null,
   "metadata": {},
   "outputs": [],
   "source": []
  },
  {
   "cell_type": "markdown",
   "metadata": {},
   "source": [
    "# Counterfactual"
   ]
  },
  {
   "cell_type": "code",
   "execution_count": 20,
   "metadata": {},
   "outputs": [
    {
     "name": "stdout",
     "output_type": "stream",
     "text": [
      "Reading options file C:\\Users\\MPHILL~1\\AppData\\Local\\Temp\\jl_C370.tmp\n",
      " > cumulative_iteration_limit 10000\n",
      "Read of options file complete.\n",
      "\n",
      "Path 5.0.03 (Fri Jun 26 10:05:33 2020)\n",
      "Written by Todd Munson, Steven Dirkse, Youngdae Kim, and Michael Ferris\n",
      "\n",
      "Zero:     3 Single:     0 Double:     0\n",
      "Preprocessed size   : 288\n",
      "\n",
      "Crash Log\n",
      "major  func  diff  size  residual    step       prox   (label)\n",
      "    0     0             5.0521e+02             0.0e+00 (zero_profit[A(:pet,))\n",
      "    1     1     0   288 3.6325e+01  1.0e+00    5.1e+00 (market_clearance[PFX)\n",
      "pn_search terminated: no basis change.\n",
      "\n",
      "Major Iteration Log\n",
      "major minor  func  grad  residual    step  type prox    inorm  (label)\n",
      "    0     0     2     2 3.6325e+01           I 3.6e-01 3.6e+01 (market_clearanc)\n",
      "    1     1     3     3 1.1756e+00  1.0e+00 SO 1.5e-01 9.1e-01 (market_clearanc)\n",
      "    2     1     4     4 1.6501e-02  1.0e+00 SO 5.8e-02 1.3e-02 (market_clearanc)\n",
      "    3     1     5     5 3.2813e-04  1.0e+00 SO 1.7e-03 2.8e-04 (market_clearanc)\n",
      "    4     1     6     6 1.7257e-07  1.0e+00 SO 3.3e-05 1.4e-07 (market_clearanc)\n",
      "\n",
      "Major Iterations. . . . 4\n",
      "Minor Iterations. . . . 4\n",
      "Restarts. . . . . . . . 0\n",
      "Crash Iterations. . . . 1\n",
      "Gradient Steps. . . . . 0\n",
      "Function Evaluations. . 6\n",
      "Gradient Evaluations. . 6\n",
      "Basis Time. . . . . . . 0.032000\n",
      "Total Time. . . . . . . 0.032000\n",
      "Residual. . . . . . . . 1.725702e-07\n",
      "Postsolved residual: 1.7257e-07\n"
     ]
    }
   ],
   "source": [
    "fix(RA,12453.896315446877)\n",
    "\n",
    "set_value!(ta,0)\n",
    "set_value!(tm,0)\n",
    "\n",
    "solve!(WiNnat; :cumulative_iteration_limit => 10_000)\n",
    "\n",
    "df = generate_report(WiNnat);"
   ]
  },
  {
   "cell_type": "code",
   "execution_count": 21,
   "metadata": {},
   "outputs": [
    {
     "data": {
      "text/html": [
       "<div><div style = \"float: left;\"><span>289×3 DataFrame</span></div><div style = \"float: right;\"><span style = \"font-style: italic;\">264 rows omitted</span></div><div style = \"clear: both;\"></div></div><div class = \"data-frame\" style = \"overflow-x: scroll;\"><table class = \"data-frame\" style = \"margin-bottom: 6px;\"><thead><tr class = \"header\"><th class = \"rowNumber\" style = \"font-weight: bold; text-align: right;\">Row</th><th style = \"text-align: left;\">var</th><th style = \"text-align: left;\">value</th><th style = \"text-align: left;\">margin</th></tr><tr class = \"subheader headerLastRow\"><th class = \"rowNumber\" style = \"font-weight: bold; text-align: right;\"></th><th title = \"VariableRef\" style = \"text-align: left;\">GenericV…</th><th title = \"Float64\" style = \"text-align: left;\">Float64</th><th title = \"Float64\" style = \"text-align: left;\">Float64</th></tr></thead><tbody><tr><td class = \"rowNumber\" style = \"font-weight: bold; text-align: right;\">1</td><td style = \"text-align: left;\">PA[pip]</td><td style = \"text-align: right;\">0.779862</td><td style = \"text-align: right;\">1.39383e-7</td></tr><tr><td class = \"rowNumber\" style = \"font-weight: bold; text-align: right;\">2</td><td style = \"text-align: left;\">RA</td><td style = \"text-align: right;\">12453.9</td><td style = \"text-align: right;\">6.86305e-8</td></tr><tr><td class = \"rowNumber\" style = \"font-weight: bold; text-align: right;\">3</td><td style = \"text-align: left;\">PY[oil]</td><td style = \"text-align: right;\">0.970186</td><td style = \"text-align: right;\">2.8993e-10</td></tr><tr><td class = \"rowNumber\" style = \"font-weight: bold; text-align: right;\">4</td><td style = \"text-align: left;\">PA[pet]</td><td style = \"text-align: right;\">0.820925</td><td style = \"text-align: right;\">2.48349e-10</td></tr><tr><td class = \"rowNumber\" style = \"font-weight: bold; text-align: right;\">5</td><td style = \"text-align: left;\">PVA[compen]</td><td style = \"text-align: right;\">0.9916</td><td style = \"text-align: right;\">7.09406e-11</td></tr><tr><td class = \"rowNumber\" style = \"font-weight: bold; text-align: right;\">6</td><td style = \"text-align: left;\">PY[pet]</td><td style = \"text-align: right;\">0.95076</td><td style = \"text-align: right;\">5.68434e-11</td></tr><tr><td class = \"rowNumber\" style = \"font-weight: bold; text-align: right;\">7</td><td style = \"text-align: left;\">PA[alt]</td><td style = \"text-align: right;\">0.876066</td><td style = \"text-align: right;\">4.66116e-11</td></tr><tr><td class = \"rowNumber\" style = \"font-weight: bold; text-align: right;\">8</td><td style = \"text-align: left;\">PA[cep]</td><td style = \"text-align: right;\">0.957657</td><td style = \"text-align: right;\">2.71143e-11</td></tr><tr><td class = \"rowNumber\" style = \"font-weight: bold; text-align: right;\">9</td><td style = \"text-align: left;\">PA[mot]</td><td style = \"text-align: right;\">0.929959</td><td style = \"text-align: right;\">2.251e-11</td></tr><tr><td class = \"rowNumber\" style = \"font-weight: bold; text-align: right;\">10</td><td style = \"text-align: left;\">PA[uti]</td><td style = \"text-align: right;\">0.919269</td><td style = \"text-align: right;\">1.93268e-11</td></tr><tr><td class = \"rowNumber\" style = \"font-weight: bold; text-align: right;\">11</td><td style = \"text-align: left;\">PA[oil]</td><td style = \"text-align: right;\">0.944984</td><td style = \"text-align: right;\">1.57789e-11</td></tr><tr><td class = \"rowNumber\" style = \"font-weight: bold; text-align: right;\">12</td><td style = \"text-align: left;\">PA[eec]</td><td style = \"text-align: right;\">0.937841</td><td style = \"text-align: right;\">9.80549e-12</td></tr><tr><td class = \"rowNumber\" style = \"font-weight: bold; text-align: right;\">13</td><td style = \"text-align: left;\">PA[mmf]</td><td style = \"text-align: right;\">0.933638</td><td style = \"text-align: right;\">8.01492e-12</td></tr><tr><td style = \"text-align: right;\">&vellip;</td><td style = \"text-align: right;\">&vellip;</td><td style = \"text-align: right;\">&vellip;</td><td style = \"text-align: right;\">&vellip;</td></tr><tr><td class = \"rowNumber\" style = \"font-weight: bold; text-align: right;\">278</td><td style = \"text-align: left;\">PA[sec]</td><td style = \"text-align: right;\">0.973614</td><td style = \"text-align: right;\">-1.56035e-11</td></tr><tr><td class = \"rowNumber\" style = \"font-weight: bold; text-align: right;\">279</td><td style = \"text-align: left;\">PA[res]</td><td style = \"text-align: right;\">0.905439</td><td style = \"text-align: right;\">-1.8872e-11</td></tr><tr><td class = \"rowNumber\" style = \"font-weight: bold; text-align: right;\">280</td><td style = \"text-align: left;\">PA[ote]</td><td style = \"text-align: right;\">0.961442</td><td style = \"text-align: right;\">-2.24816e-11</td></tr><tr><td class = \"rowNumber\" style = \"font-weight: bold; text-align: right;\">281</td><td style = \"text-align: left;\">PA[brd]</td><td style = \"text-align: right;\">0.912848</td><td style = \"text-align: right;\">-2.51248e-11</td></tr><tr><td class = \"rowNumber\" style = \"font-weight: bold; text-align: right;\">282</td><td style = \"text-align: left;\">PA[bnk]</td><td style = \"text-align: right;\">0.979008</td><td style = \"text-align: right;\">-2.54659e-11</td></tr><tr><td class = \"rowNumber\" style = \"font-weight: bold; text-align: right;\">283</td><td style = \"text-align: left;\">PA[fbp]</td><td style = \"text-align: right;\">0.905582</td><td style = \"text-align: right;\">-3.11502e-11</td></tr><tr><td class = \"rowNumber\" style = \"font-weight: bold; text-align: right;\">284</td><td style = \"text-align: left;\">PA[rnt]</td><td style = \"text-align: right;\">0.932068</td><td style = \"text-align: right;\">-3.40918e-11</td></tr><tr><td class = \"rowNumber\" style = \"font-weight: bold; text-align: right;\">285</td><td style = \"text-align: left;\">PA[hou]</td><td style = \"text-align: right;\">1.00056</td><td style = \"text-align: right;\">-2.00998e-10</td></tr><tr><td class = \"rowNumber\" style = \"font-weight: bold; text-align: right;\">286</td><td style = \"text-align: left;\">PVA[surplus]</td><td style = \"text-align: right;\">0.98421</td><td style = \"text-align: right;\">-3.57431e-10</td></tr><tr><td class = \"rowNumber\" style = \"font-weight: bold; text-align: right;\">287</td><td style = \"text-align: left;\">Y[pip]</td><td style = \"text-align: right;\">1.02794</td><td style = \"text-align: right;\">-4.11926e-10</td></tr><tr><td class = \"rowNumber\" style = \"font-weight: bold; text-align: right;\">288</td><td style = \"text-align: left;\">A[pip]</td><td style = \"text-align: right;\">1.06223</td><td style = \"text-align: right;\">-4.54719e-8</td></tr><tr><td class = \"rowNumber\" style = \"font-weight: bold; text-align: right;\">289</td><td style = \"text-align: left;\">PFX</td><td style = \"text-align: right;\">0.97386</td><td style = \"text-align: right;\">-9.10211e-8</td></tr></tbody></table></div>"
      ],
      "text/latex": [
       "\\begin{tabular}{r|ccc}\n",
       "\t& var & value & margin\\\\\n",
       "\t\\hline\n",
       "\t& GenericV… & Float64 & Float64\\\\\n",
       "\t\\hline\n",
       "\t1 & $ PA_{pip} $ & 0.779862 & 1.39383e-7 \\\\\n",
       "\t2 & $ RA $ & 12453.9 & 6.86305e-8 \\\\\n",
       "\t3 & $ PY_{oil} $ & 0.970186 & 2.8993e-10 \\\\\n",
       "\t4 & $ PA_{pet} $ & 0.820925 & 2.48349e-10 \\\\\n",
       "\t5 & $ PVA_{compen} $ & 0.9916 & 7.09406e-11 \\\\\n",
       "\t6 & $ PY_{pet} $ & 0.95076 & 5.68434e-11 \\\\\n",
       "\t7 & $ PA_{alt} $ & 0.876066 & 4.66116e-11 \\\\\n",
       "\t8 & $ PA_{cep} $ & 0.957657 & 2.71143e-11 \\\\\n",
       "\t9 & $ PA_{mot} $ & 0.929959 & 2.251e-11 \\\\\n",
       "\t10 & $ PA_{uti} $ & 0.919269 & 1.93268e-11 \\\\\n",
       "\t11 & $ PA_{oil} $ & 0.944984 & 1.57789e-11 \\\\\n",
       "\t12 & $ PA_{eec} $ & 0.937841 & 9.80549e-12 \\\\\n",
       "\t13 & $ PA_{mmf} $ & 0.933638 & 8.01492e-12 \\\\\n",
       "\t14 & $ PY_{mot} $ & 0.950392 & 7.7307e-12 \\\\\n",
       "\t15 & $ PA_{nrs} $ & 0.961224 & 7.10543e-12 \\\\\n",
       "\t16 & $ PA_{fpd} $ & 0.926863 & 6.6791e-12 \\\\\n",
       "\t17 & $ Y_{ote} $ & 1.00279 & 5.40012e-12 \\\\\n",
       "\t18 & $ Y_{pmt} $ & 1.01859 & 5.23981e-12 \\\\\n",
       "\t19 & $ PY_{mch} $ & 0.965957 & 4.94538e-12 \\\\\n",
       "\t20 & $ Y_{smn} $ & 0.970472 & 4.67737e-12 \\\\\n",
       "\t21 & $ PA_{mch} $ & 0.947639 & 4.54747e-12 \\\\\n",
       "\t22 & $ Y_{cep} $ & 0.985267 & 4.28546e-12 \\\\\n",
       "\t23 & $ Y_{alt} $ & 0.849291 & 4.11482e-12 \\\\\n",
       "\t24 & $ Y_{fof} $ & 1.012 & 4.01679e-12 \\\\\n",
       "\t$\\dots$ & $\\dots$ & $\\dots$ & $\\dots$ \\\\\n",
       "\\end{tabular}\n"
      ],
      "text/plain": [
       "\u001b[1m289×3 DataFrame\u001b[0m\n",
       "\u001b[1m Row \u001b[0m│\u001b[1m var          \u001b[0m\u001b[1m value        \u001b[0m\u001b[1m margin       \u001b[0m\n",
       "     │\u001b[90m GenericV…    \u001b[0m\u001b[90m Float64      \u001b[0m\u001b[90m Float64      \u001b[0m\n",
       "─────┼──────────────────────────────────────────\n",
       "   1 │ PA[pip]           0.779862   1.39383e-7\n",
       "   2 │ RA            12453.9        6.86305e-8\n",
       "   3 │ PY[oil]           0.970186   2.8993e-10\n",
       "   4 │ PA[pet]           0.820925   2.48349e-10\n",
       "   5 │ PVA[compen]       0.9916     7.09406e-11\n",
       "   6 │ PY[pet]           0.95076    5.68434e-11\n",
       "   7 │ PA[alt]           0.876066   4.66116e-11\n",
       "   8 │ PA[cep]           0.957657   2.71143e-11\n",
       "  ⋮  │      ⋮             ⋮             ⋮\n",
       " 283 │ PA[fbp]           0.905582  -3.11502e-11\n",
       " 284 │ PA[rnt]           0.932068  -3.40918e-11\n",
       " 285 │ PA[hou]           1.00056   -2.00998e-10\n",
       " 286 │ PVA[surplus]      0.98421   -3.57431e-10\n",
       " 287 │ Y[pip]            1.02794   -4.11926e-10\n",
       " 288 │ A[pip]            1.06223   -4.54719e-8\n",
       " 289 │ PFX               0.97386   -9.10211e-8\n",
       "\u001b[36m                                274 rows omitted\u001b[0m"
      ]
     },
     "metadata": {},
     "output_type": "display_data"
    }
   ],
   "source": [
    "df |>\n",
    "    x -> sort(x, :margin, rev=true)"
   ]
  },
  {
   "cell_type": "code",
   "execution_count": 22,
   "metadata": {},
   "outputs": [
    {
     "data": {
      "text/plain": [
       "1-dimensional DenseAxisArray{Float64,1,...} with index sets:\n",
       "    Dimension 1, [:ppd, :res, :com, :amb, :fbp, :rec, :con, :agr, :eec, :fnd  …  :wtt, :wpd, :wht, :wrh, :ott, :che, :air, :mmf, :otr, :min]\n",
       "And data, a 71-element Vector{Float64}:\n",
       " 1.0187953968971066\n",
       " 1.0391645102222005\n",
       " 0.9992135081062237\n",
       " 0.96924160781193\n",
       " 1.044019876708247\n",
       " 1.0255766610783152\n",
       " 0.9987278473193703\n",
       " 1.0265093778213463\n",
       " 0.9934230640379637\n",
       " 1.000000000000002\n",
       " ⋮\n",
       " 1.0065181451956613\n",
       " 1.0230309803527575\n",
       " 1.019430323816299\n",
       " 1.0234945511351317\n",
       " 1.0054452574139805\n",
       " 1.085347914095757\n",
       " 0.9969695826772481\n",
       " 1.0224548485723481\n",
       " 1.0168041982593283"
      ]
     },
     "metadata": {},
     "output_type": "display_data"
    }
   ],
   "source": [
    "value.(Y)"
   ]
  },
  {
   "cell_type": "code",
   "execution_count": 10,
   "metadata": {},
   "outputs": [],
   "source": []
  }
 ],
 "metadata": {
  "kernelspec": {
   "display_name": "Julia 1.9.2",
   "language": "julia",
   "name": "julia-1.9"
  },
  "language_info": {
   "file_extension": ".jl",
   "mimetype": "application/julia",
   "name": "julia",
   "version": "1.9.2"
  }
 },
 "nbformat": 4,
 "nbformat_minor": 2
}
