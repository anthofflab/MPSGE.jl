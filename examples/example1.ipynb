{
 "cells": [
  {
   "cell_type": "code",
   "execution_count": 1,
   "metadata": {},
   "outputs": [],
   "source": [
    "using MPSGE"
   ]
  },
  {
   "cell_type": "code",
   "execution_count": 2,
   "metadata": {},
   "outputs": [
    {
     "data": {
      "text/plain": [
       "MPSGE model with 3 sectors and 1 consumers.\n",
       "  Sectors:\n",
       "    X\n",
       "    Y\n",
       "    U\n",
       "  Consumers:\n",
       "    RA\n"
      ]
     },
     "execution_count": 2,
     "metadata": {},
     "output_type": "execute_result"
    }
   ],
   "source": [
    "m = Model()\n",
    "\n",
    "add!(m, Sector(:X, 1, 100, :L, 50, :K, 50))\n",
    "add!(m, Sector(:Y, 1, 50, :L, 20, :K, 30))\n",
    "add!(m, Sector(:U, 1, 150, :X, 100, :Y, 50))\n",
    "\n",
    "add!(m, Consumer(\n",
    "    name=:RA,\n",
    "    demand_name=:U,\n",
    "    endowments=[Endowment(:L, 70), Endowment(:K, 80)])\n",
    ")"
   ]
  },
  {
   "cell_type": "code",
   "execution_count": 3,
   "metadata": {},
   "outputs": [
    {
     "name": "stderr",
     "output_type": "stream",
     "text": [
      "┌ Warning: Disabling output because PATH.jl does not support writing to this `stdout`. Are you using Atom-Hydrogen or Jupyter? See: https://github.com/odow/PATH.jl/issues/10.\n",
      "└ @ PATHSolver C:\\Users\\david\\.julia\\packages\\PATHSolver\\fB6ZO\\src\\C_API.jl:517\n"
     ]
    },
    {
     "data": {
      "text/plain": [
       "MPSGE model with 3 sectors and 1 consumers.\n",
       "  Sectors:\n",
       "    X\n",
       "    Y\n",
       "    U\n",
       "  Consumers:\n",
       "    RA\n",
       "Solution:\n",
       "  X: level=1.0000000011233605, price=1.0\n",
       "  Y: level=1.000000002171063, price=0.9999999995086057\n",
       "  U: level=1.0000000017082662, price=0.9999999998549345\n",
       "  RA: level=150.00000021568718\n"
      ]
     },
     "execution_count": 3,
     "metadata": {},
     "output_type": "execute_result"
    }
   ],
   "source": [
    "solve!(m)"
   ]
  },
  {
   "cell_type": "code",
   "execution_count": 4,
   "metadata": {},
   "outputs": [
    {
     "data": {
      "text/latex": [
       "$$ \\begin{alignat*}{1}\\text{feasibility}\\\\\n",
       "\\text{Subject to} \\quad & X \\geq 0.0\\\\\n",
       " & PX \\geq 1.0\\\\\n",
       " & Y \\geq 0.0\\\\\n",
       " & PY \\geq 0.001\\\\\n",
       " & U \\geq 0.0\\\\\n",
       " & PU \\geq 0.001\\\\\n",
       " & PL \\geq 0.001\\\\\n",
       " & PK \\geq 0.001\\\\\n",
       " & PX \\leq 1.0\\\\\n",
       "\\text{With NL expressions} \\quad & subexpression_{1}: (50.0 * (PL ^ 0.5 * PK ^ 0.5)) / PL - LX\\\\\n",
       " & subexpression_{2}: (50.0 * (PL ^ 0.5 * PK ^ 0.5)) / PK - KX\\\\\n",
       " & subexpression_{3}: (20.0 * (PL ^ 0.4 * PK ^ 0.6)) / PL - LY\\\\\n",
       " & subexpression_{4}: (30.0 * (PL ^ 0.4 * PK ^ 0.6)) / PK - KY\\\\\n",
       " & subexpression_{5}: (100.0 * (PX ^ 0.6666666666666666 * PY ^ 0.3333333333333333)) / PX - XU\\\\\n",
       " & subexpression_{6}: (50.0 * (PX ^ 0.6666666666666666 * PY ^ 0.3333333333333333)) / PY - YU\\\\\n",
       " & subexpression_{7}: (PL * LX + PK * KX) - 100.0 * PX\\\\\n",
       " & subexpression_{8}: (PL * LY + PK * KY) - 50.0 * PY\\\\\n",
       " & subexpression_{9}: (PX * XU + PY * YU) - 150.0 * PU\\\\\n",
       " & subexpression_{10}: (+(XU * U) + 0.0) - 100.0 * X\\\\\n",
       " & subexpression_{11}: (+(YU * U) + 0.0) - 50.0 * Y\\\\\n",
       " & subexpression_{12}: (0.0 + +(RA / PU)) - 150.0 * U\\\\\n",
       " & subexpression_{13}: ((KX * X + KY * Y) + 0.0) - 80.0\\\\\n",
       " & subexpression_{14}: ((LX * X + LY * Y) + 0.0) - 70.0\\\\\n",
       " & subexpression_{15}: (70.0 * PL + 80.0 * PK) - RA\\\\\n",
       "\\end{alignat*}\n",
       " $$"
      ],
      "text/plain": [
       "A JuMP Model\n",
       "Feasibility problem with:\n",
       "Variables: 15\n",
       "`JuMP.VariableRef`-in-`MathOptInterface.GreaterThan{Float64}`: 8 constraints\n",
       "`JuMP.VariableRef`-in-`MathOptInterface.LessThan{Float64}`: 1 constraint\n",
       "Model mode: AUTOMATIC\n",
       "CachingOptimizer state: NO_OPTIMIZER\n",
       "Solver name: No optimizer attached.\n",
       "Names registered in the model: KX, KY, LX, LY, PK, PL, PU, PX, PY, RA, U, X, XU, Y, YU"
      ]
     },
     "execution_count": 4,
     "metadata": {},
     "output_type": "execute_result"
    }
   ],
   "source": [
    "m._jump_model"
   ]
  },
  {
   "cell_type": "code",
   "execution_count": 5,
   "metadata": {},
   "outputs": [
    {
     "name": "stdout",
     "output_type": "stream",
     "text": [
      "X:\t1.0000000011233605\n",
      "PX:\t1.0\n",
      "LX:\t49.999999910253834\n",
      "KX:\t49.99999988646134\n",
      "Y:\t1.000000002171063\n",
      "PY:\t0.9999999995086057\n",
      "LY:\t19.999999947163264\n",
      "KY:\t29.99999995525836\n",
      "U:\t1.0000000017082662\n",
      "PU:\t0.9999999998549345\n",
      "XU:\t99.99999998539701\n",
      "YU:\t50.000000011937786\n",
      "PL:\t1.0000000031662621\n",
      "PK:\t0.9999999999256106\n",
      "RA:\t150.00000021568718\n"
     ]
    }
   ],
   "source": [
    "for n in MPSGE.JuMP.all_variables(m._jump_model)\n",
    "    println(\"$n:\\t$(MPSGE.Complementarity.result_value(n))\")\n",
    "end"
   ]
  }
 ],
 "metadata": {
  "kernelspec": {
   "display_name": "Julia 1.5.3",
   "language": "julia",
   "name": "julia-1.5"
  },
  "language_info": {
   "file_extension": ".jl",
   "mimetype": "application/julia",
   "name": "julia",
   "version": "1.5.3"
  }
 },
 "nbformat": 4,
 "nbformat_minor": 4
}
