{
 "cells": [
  {
   "cell_type": "code",
   "execution_count": 3,
   "metadata": {},
   "outputs": [],
   "source": [
    "using MPSGE"
   ]
  },
  {
   "cell_type": "code",
   "execution_count": null,
   "metadata": {},
   "outputs": [
    {
     "name": "stdout",
     "output_type": "stream",
     "text": [
      "Reading options file C:\\Users\\Eli\\AppData\\Local\\Temp\\jl_9342.tmp\n",
      " > cumulative_iteration_limit 0\n",
      "Read of options file complete.\n",
      "\n",
      "Path 5.0.03 (Fri Jun 26 10:05:33 2020)\n",
      "Written by Todd Munson, Steven Dirkse, Youngdae Kim, and Michael Ferris\n",
      "\n",
      "Major Iteration Log\n",
      "major minor  func  grad  residual    step  type prox    inorm  (label)\n",
      "    0     0     1     1 0.0000e+00           I 0.0e+00 0.0e+00 (F_A)\n",
      "\n",
      "Major Iterations. . . . 0\n",
      "Minor Iterations. . . . 0\n",
      "Restarts. . . . . . . . 0\n",
      "Crash Iterations. . . . 0\n",
      "Gradient Steps. . . . . 0\n",
      "Function Evaluations. . 1\n",
      "Gradient Evaluations. . 1\n",
      "Basis Time. . . . . . . 0.000000\n",
      "Total Time. . . . . . . 0.000000\n",
      "Residual. . . . . . . . 0.000000e+00\n"
     ]
    },
    {
     "data": {
      "text/plain": [
       "MPSGE model with 3 sectors, 5 commodities and 1 consumers.\n",
       "  Sectors: A (bm=1.0), B (bm=1.0), W (bm=1.0)\n",
       "  Commodities: PX (bm=1.0), PY (bm=1.0), PW (bm=1.0), PL (bm=1.0), PK (bm=1.0)\n",
       "  Consumers: CONS (bm=200.0)\n",
       "Solution:\n",
       "  A:\t1.0\n",
       "  B:\t1.0\n",
       "  W:\t1.0\n",
       "  PX:\t1.0\n",
       "  PY:\t1.0\n",
       "  PW:\t1.0\n",
       "  PL:\t1.0\n",
       "  PK:\t1.0\n",
       "  PX‡A:\t80.0\n",
       "  PY‡A:\t20.0\n",
       "  PX‡B:\t20.0\n",
       "  PY‡B:\t80.0\n",
       "  PW‡W:\t200.0\n",
       "  PL†A:\t40.0\n",
       "  PK†A:\t60.0\n",
       "  PL†B:\t60.0\n",
       "  PK†B:\t40.0\n",
       "  PX†W:\t100.0\n",
       "  PY†W:\t100.0\n",
       "  CONS:\t200.0\n",
       "  PWρCONS:\t200.0\n"
      ]
     },
     "metadata": {},
     "output_type": "display_data"
    }
   ],
   "source": [
    "# Re- running with substitution elasticities back to 1 (Cobb-Douglas), but with joint Production and non-0 elasticities of transformation\n",
    "m = Model()\n",
    "\n",
    "@parameter(m, diff, 0.0)\n",
    "@parameter(m, t_elas_a, 0.0)\n",
    "@parameter(m, t_elas_b, 0.0)\n",
    "\n",
    "@sector(m, A)\n",
    "@sector(m, B)\n",
    "@sector(m, W)\n",
    "\n",
    "@commodity(m, PX)\n",
    "@commodity(m, PY)\n",
    "@commodity(m, PW)\n",
    "@commodity(m, PL)\n",
    "@commodity(m, PK)\n",
    "\n",
    "@consumer(m, CONS, benchmark=200.0)\n",
    "\n",
    "# @production(m, A, 0, 1, [Output(PX, 80), Output(PY, 20)], [Input(PL, 40), Input(PK, 60)])\n",
    "@production(m, A, :($t_elas_a*1.), 1, [Output(PX, 80), Output(PY, 20)], [Input(PL, 40), Input(PK, 60)])\n",
    "# @production(m, B, 0, 1, [Output(PX, 20), Output(PY, 80)], [Input(PL, 60), Input(PK, 40)])\n",
    "# @production(m, B, :($t_elas_b*1.), 1, [Output(PX, 20), Output(PY, 80)], [Input(PL, 60), Input(PK, 40)])\n",
    "@production(m, B, :($t_elas_b*1.), 1, [Output(PX, :(20+$diff)), Output(PY, 80)], [Input(PL, 60), Input(PK, 40)])\n",
    "@production(m, W, 0, 1, [Output(PW, 200.0)],[Input(PX, :(100.0+$diff)), Input(PY, 100.0)])\n",
    "# @production(m, W, 0, 1, [Output(PW, 200.0)], [Input(PX, 100.0), Input(PY, 100.0)])\n",
    "# @production(m, W, 0.,1, [Output(PW, :(200.0+$diff))], [Input(PX, :(100.0+$diff)), Input(PY, 100.0)])\n",
    "\n",
    "@demand(m, CONS, 1., [Demand(PW, 200.)], [Endowment(PL, 100.0), Endowment(PK, 100.0)])\n",
    "\n",
    "solve!(m, cumulative_iteration_limit=0)"
   ]
  },
  {
   "cell_type": "code",
   "execution_count": 159,
   "metadata": {},
   "outputs": [
    {
     "data": {
      "text/latex": [
       "$$ \\begin{alignat*}{3}\\\n",
       "& \\text{Compensated Demand} \\quad && \\quad && \\\\\n",
       "& \\quad 40.0 * ((PL†A / 40.0) ^ {(40.0 * 1.0) / (80.0 * 1.0 + 20.0 * 1.0)} * (PK†A / 60.0) ^ {(60.0 * 1.0) / (80.0 * 1.0 + 20.0 * 1.0)}) * (((((PL / 1.0) ^ {(40.0 * 1.0) / (80.0 * 1.0 + 20.0 * 1.0)} * (PK / 1.0) ^ {(60.0 * 1.0) / (80.0 * 1.0 + 20.0 * 1.0)}) * ((PL†A / 40.0) ^ {(40.0 * 1.0) / (80.0 * 1.0 + 20.0 * 1.0)} * (PK†A / 60.0) ^ {(60.0 * 1.0) / (80.0 * 1.0 + 20.0 * 1.0)})) * 1.0) / PL) ^ {1.0} - PL†A\\quad && \\perp \\quad && PL†A\\\\\n",
       "& \\quad 60.0 * ((PL†A / 40.0) ^ {(40.0 * 1.0) / (80.0 * 1.0 + 20.0 * 1.0)} * (PK†A / 60.0) ^ {(60.0 * 1.0) / (80.0 * 1.0 + 20.0 * 1.0)}) * (((((PL / 1.0) ^ {(40.0 * 1.0) / (80.0 * 1.0 + 20.0 * 1.0)} * (PK / 1.0) ^ {(60.0 * 1.0) / (80.0 * 1.0 + 20.0 * 1.0)}) * ((PL†A / 40.0) ^ {(40.0 * 1.0) / (80.0 * 1.0 + 20.0 * 1.0)} * (PK†A / 60.0) ^ {(60.0 * 1.0) / (80.0 * 1.0 + 20.0 * 1.0)})) * 1.0) / PK) ^ {1.0} - PK†A\\quad && \\perp \\quad && PK†A\\\\\n",
       "& \\quad 60.0 * ((PL†B / 60.0) ^ {(60.0 * 1.0) / ((20.0 + diff) * 1.0 + 80.0 * 1.0)} * (PK†B / 40.0) ^ {(40.0 * 1.0) / ((20.0 + diff) * 1.0 + 80.0 * 1.0)}) * (((((PL / 1.0) ^ {(60.0 * 1.0) / ((20.0 + diff) * 1.0 + 80.0 * 1.0)} * (PK / 1.0) ^ {(40.0 * 1.0) / ((20.0 + diff) * 1.0 + 80.0 * 1.0)}) * ((PL†B / 60.0) ^ {(60.0 * 1.0) / ((20.0 + diff) * 1.0 + 80.0 * 1.0)} * (PK†B / 40.0) ^ {(40.0 * 1.0) / ((20.0 + diff) * 1.0 + 80.0 * 1.0)})) * 1.0) / PL) ^ {1.0} - PL†B\\quad && \\perp \\quad && PL†B\\\\\n",
       "& \\quad 40.0 * ((PL†B / 60.0) ^ {(60.0 * 1.0) / ((20.0 + diff) * 1.0 + 80.0 * 1.0)} * (PK†B / 40.0) ^ {(40.0 * 1.0) / ((20.0 + diff) * 1.0 + 80.0 * 1.0)}) * (((((PL / 1.0) ^ {(60.0 * 1.0) / ((20.0 + diff) * 1.0 + 80.0 * 1.0)} * (PK / 1.0) ^ {(40.0 * 1.0) / ((20.0 + diff) * 1.0 + 80.0 * 1.0)}) * ((PL†B / 60.0) ^ {(60.0 * 1.0) / ((20.0 + diff) * 1.0 + 80.0 * 1.0)} * (PK†B / 40.0) ^ {(40.0 * 1.0) / ((20.0 + diff) * 1.0 + 80.0 * 1.0)})) * 1.0) / PK) ^ {1.0} - PK†B\\quad && \\perp \\quad && PK†B\\\\\n",
       "& \\quad (100.0 + diff) * ((PX†W / (100.0 + diff)) ^ {((100.0 + diff) * 1.0) / +(200.0 * 1.0)} * (PY†W / 100.0) ^ {(100.0 * 1.0) / +(200.0 * 1.0)}) * (((((PX / 1.0) ^ {((100.0 + diff) * 1.0) / +(200.0 * 1.0)} * (PY / 1.0) ^ {(100.0 * 1.0) / +(200.0 * 1.0)}) * ((PX†W / (100.0 + diff)) ^ {((100.0 + diff) * 1.0) / +(200.0 * 1.0)} * (PY†W / 100.0) ^ {(100.0 * 1.0) / +(200.0 * 1.0)})) * 1.0) / PX) ^ {1.0} - PX†W\\quad && \\perp \\quad && PX†W\\\\\n",
       "& \\quad 100.0 * ((PX†W / (100.0 + diff)) ^ {((100.0 + diff) * 1.0) / +(200.0 * 1.0)} * (PY†W / 100.0) ^ {(100.0 * 1.0) / +(200.0 * 1.0)}) * (((((PX / 1.0) ^ {((100.0 + diff) * 1.0) / +(200.0 * 1.0)} * (PY / 1.0) ^ {(100.0 * 1.0) / +(200.0 * 1.0)}) * ((PX†W / (100.0 + diff)) ^ {((100.0 + diff) * 1.0) / +(200.0 * 1.0)} * (PY†W / 100.0) ^ {(100.0 * 1.0) / +(200.0 * 1.0)})) * 1.0) / PY) ^ {1.0} - PY†W\\quad && \\perp \\quad && PY†W\\\\\n",
       "& \\text{Compensated Supply} \\quad && \\quad && \\\\\n",
       "& \\quad 80.0 * ((PL†A / 40.0) ^ {(40.0 * 1.0) / (80.0 * 1.0 + 20.0 * 1.0)} * (PK†A / 60.0) ^ {(60.0 * 1.0) / (80.0 * 1.0 + 20.0 * 1.0)}) * ((PX / (((80.0 * 1.0) / (80.0 * 1.0 + 20.0 * 1.0)) * (PX / 1.0) ^ {1.0 + t_elas_a * 1.0} + ((20.0 * 1.0) / (80.0 * 1.0 + 20.0 * 1.0)) * (PY / 1.0) ^ {1.0 + t_elas_a * 1.0}) ^ {1.0 / (1.0 + t_elas_a * 1.0)}) / 1.0) ^ {t_elas_a * 1.0} - PX‡A\\quad && \\perp \\quad && PX‡A\\\\\n",
       "& \\quad 20.0 * ((PL†A / 40.0) ^ {(40.0 * 1.0) / (80.0 * 1.0 + 20.0 * 1.0)} * (PK†A / 60.0) ^ {(60.0 * 1.0) / (80.0 * 1.0 + 20.0 * 1.0)}) * ((PY / (((80.0 * 1.0) / (80.0 * 1.0 + 20.0 * 1.0)) * (PX / 1.0) ^ {1.0 + t_elas_a * 1.0} + ((20.0 * 1.0) / (80.0 * 1.0 + 20.0 * 1.0)) * (PY / 1.0) ^ {1.0 + t_elas_a * 1.0}) ^ {1.0 / (1.0 + t_elas_a * 1.0)}) / 1.0) ^ {t_elas_a * 1.0} - PY‡A\\quad && \\perp \\quad && PY‡A\\\\\n",
       "& \\quad (20.0 + diff) * ((PL†B / 60.0) ^ {(60.0 * 1.0) / ((20.0 + diff) * 1.0 + 80.0 * 1.0)} * (PK†B / 40.0) ^ {(40.0 * 1.0) / ((20.0 + diff) * 1.0 + 80.0 * 1.0)}) * ((PX / ((((20.0 + diff) * 1.0) / ((20.0 + diff) * 1.0 + 80.0 * 1.0)) * (PX / 1.0) ^ {1.0 + t_elas_b * 1.0} + ((80.0 * 1.0) / ((20.0 + diff) * 1.0 + 80.0 * 1.0)) * (PY / 1.0) ^ {1.0 + t_elas_b * 1.0}) ^ {1.0 / (1.0 + t_elas_b * 1.0)}) / 1.0) ^ {t_elas_b * 1.0} - PX‡B\\quad && \\perp \\quad && PX‡B\\\\\n",
       "& \\quad 80.0 * ((PL†B / 60.0) ^ {(60.0 * 1.0) / ((20.0 + diff) * 1.0 + 80.0 * 1.0)} * (PK†B / 40.0) ^ {(40.0 * 1.0) / ((20.0 + diff) * 1.0 + 80.0 * 1.0)}) * ((PY / ((((20.0 + diff) * 1.0) / ((20.0 + diff) * 1.0 + 80.0 * 1.0)) * (PX / 1.0) ^ {1.0 + t_elas_b * 1.0} + ((80.0 * 1.0) / ((20.0 + diff) * 1.0 + 80.0 * 1.0)) * (PY / 1.0) ^ {1.0 + t_elas_b * 1.0}) ^ {1.0 / (1.0 + t_elas_b * 1.0)}) / 1.0) ^ {t_elas_b * 1.0} - PY‡B\\quad && \\perp \\quad && PY‡B\\\\\n",
       "& \\quad 200.0 * ((PX†W / (100.0 + diff)) ^ {((100.0 + diff) * 1.0) / +(200.0 * 1.0)} * (PY†W / 100.0) ^ {(100.0 * 1.0) / +(200.0 * 1.0)}) * ((PW / (+(((200.0 * 1.0) / +(200.0 * 1.0)) * (PW / 1.0) ^ {1.0 + 0.0})) ^ {1.0 / (1.0 + 0.0)}) / 1.0) ^ {0.0} - PW‡W\\quad && \\perp \\quad && PW‡W\\\\\n",
       "& \\text{Final Demand} \\quad && \\quad && \\\\\n",
       "& \\quad 200.0 * (CONS / 200.0) * (1.0 / PW) - PWρCONS\\quad && \\perp \\quad && PWρCONS\\\\\n",
       "& \\text{Zero Profit} \\quad && \\quad && \\\\\n",
       "& \\quad (PL * PL†A + PK * PK†A) - (PX * PX‡A + PY * PY‡A)\\quad && \\perp \\quad && 0.0 <A\\\\\n",
       "& \\quad (PL * PL†B + PK * PK†B) - (PX * PX‡B + PY * PY‡B)\\quad && \\perp \\quad && 0.0 <B\\\\\n",
       "& \\quad (PX * PX†W + PY * PY†W) - +(PW * PW‡W)\\quad && \\perp \\quad && 0.0 <W\\\\\n",
       "& \\text{Market clearance} \\quad && \\quad && \\\\\n",
       "& \\quad (0.0 + W * PW‡W) - (0.0 + PWρCONS)\\quad && \\perp \\quad && 0.001 <PW\\\\\n",
       "& \\quad (0.0 + A * PX‡A + B * PX‡B) - (0.0 + W * PX†W)\\quad && \\perp \\quad && 0.001 <PX\\\\\n",
       "& \\quad (0.0 + 100.0) - (0.0 + A * PL†A + B * PL†B)\\quad && \\perp \\quad && 0.001 <PL\\\\\n",
       "& \\quad (0.0 + 100.0) - (0.0 + A * PK†A + B * PK†B)\\quad && \\perp \\quad && 0.001 <PK\\\\\n",
       "& \\quad (0.0 + A * PY‡A + B * PY‡B) - (0.0 + W * PY†W)\\quad && \\perp \\quad && 0.001 <PY\\\\\n",
       "& \\text{Income balance} \\quad && \\quad && \\\\\n",
       "& \\quad (100.0 * PL + 100.0 * PK) - CONS\\quad && \\perp \\quad && 0.0 <CONS\\\\\n",
       "\\end{alignat*}\n",
       " $$\n"
      ],
      "text/plain": [
       "Mixed complementarity problem with 21 constraints:\n",
       "  Compensated Demand\n",
       "    40.0 * ((PL†A / 40.0) ^ ((40.0 * 1.0) / (80.0 * 1.0 + 20.0 * 1.0)) * (PK†A / 60.0) ^ ((60.0 * 1.0) / (80.0 * 1.0 + 20.0 * 1.0))) * (((((PL / 1.0) ^ ((40.0 * 1.0) / (80.0 * 1.0 + 20.0 * 1.0)) * (PK / 1.0) ^ ((60.0 * 1.0) / (80.0 * 1.0 + 20.0 * 1.0))) * ((PL†A / 40.0) ^ ((40.0 * 1.0) / (80.0 * 1.0 + 20.0 * 1.0)) * (PK†A / 60.0) ^ ((60.0 * 1.0) / (80.0 * 1.0 + 20.0 * 1.0)))) * 1.0) / PL) ^ 1.0 - PL†A                                                        ┴  PL†A\n",
       "    60.0 * ((PL†A / 40.0) ^ ((40.0 * 1.0) / (80.0 * 1.0 + 20.0 * 1.0)) * (PK†A / 60.0) ^ ((60.0 * 1.0) / (80.0 * 1.0 + 20.0 * 1.0))) * (((((PL / 1.0) ^ ((40.0 * 1.0) / (80.0 * 1.0 + 20.0 * 1.0)) * (PK / 1.0) ^ ((60.0 * 1.0) / (80.0 * 1.0 + 20.0 * 1.0))) * ((PL†A / 40.0) ^ ((40.0 * 1.0) / (80.0 * 1.0 + 20.0 * 1.0)) * (PK†A / 60.0) ^ ((60.0 * 1.0) / (80.0 * 1.0 + 20.0 * 1.0)))) * 1.0) / PK) ^ 1.0 - PK†A                                                        ┴  PK†A\n",
       "    60.0 * ((PL†B / 60.0) ^ ((60.0 * 1.0) / ((20.0 + diff) * 1.0 + 80.0 * 1.0)) * (PK†B / 40.0) ^ ((40.0 * 1.0) / ((20.0 + diff) * 1.0 + 80.0 * 1.0))) * (((((PL / 1.0) ^ ((60.0 * 1.0) / ((20.0 + diff) * 1.0 + 80.0 * 1.0)) * (PK / 1.0) ^ ((40.0 * 1.0) / ((20.0 + diff) * 1.0 + 80.0 * 1.0))) * ((PL†B / 60.0) ^ ((60.0 * 1.0) / ((20.0 + diff) * 1.0 + 80.0 * 1.0)) * (PK†B / 40.0) ^ ((40.0 * 1.0) / ((20.0 + diff) * 1.0 + 80.0 * 1.0)))) * 1.0) / PL) ^ 1.0 - PL†B  ┴  PL†B\n",
       "    40.0 * ((PL†B / 60.0) ^ ((60.0 * 1.0) / ((20.0 + diff) * 1.0 + 80.0 * 1.0)) * (PK†B / 40.0) ^ ((40.0 * 1.0) / ((20.0 + diff) * 1.0 + 80.0 * 1.0))) * (((((PL / 1.0) ^ ((60.0 * 1.0) / ((20.0 + diff) * 1.0 + 80.0 * 1.0)) * (PK / 1.0) ^ ((40.0 * 1.0) / ((20.0 + diff) * 1.0 + 80.0 * 1.0))) * ((PL†B / 60.0) ^ ((60.0 * 1.0) / ((20.0 + diff) * 1.0 + 80.0 * 1.0)) * (PK†B / 40.0) ^ ((40.0 * 1.0) / ((20.0 + diff) * 1.0 + 80.0 * 1.0)))) * 1.0) / PK) ^ 1.0 - PK†B  ┴  PK†B\n",
       "    (100.0 + diff) * ((PX†W / (100.0 + diff)) ^ (((100.0 + diff) * 1.0) / +(200.0 * 1.0)) * (PY†W / 100.0) ^ ((100.0 * 1.0) / +(200.0 * 1.0))) * (((((PX / 1.0) ^ (((100.0 + diff) * 1.0) / +(200.0 * 1.0)) * (PY / 1.0) ^ ((100.0 * 1.0) / +(200.0 * 1.0))) * ((PX†W / (100.0 + diff)) ^ (((100.0 + diff) * 1.0) / +(200.0 * 1.0)) * (PY†W / 100.0) ^ ((100.0 * 1.0) / +(200.0 * 1.0)))) * 1.0) / PX) ^ 1.0 - PX†W                                                         ┴  PX†W\n",
       "    100.0 * ((PX†W / (100.0 + diff)) ^ (((100.0 + diff) * 1.0) / +(200.0 * 1.0)) * (PY†W / 100.0) ^ ((100.0 * 1.0) / +(200.0 * 1.0))) * (((((PX / 1.0) ^ (((100.0 + diff) * 1.0) / +(200.0 * 1.0)) * (PY / 1.0) ^ ((100.0 * 1.0) / +(200.0 * 1.0))) * ((PX†W / (100.0 + diff)) ^ (((100.0 + diff) * 1.0) / +(200.0 * 1.0)) * (PY†W / 100.0) ^ ((100.0 * 1.0) / +(200.0 * 1.0)))) * 1.0) / PY) ^ 1.0 - PY†W                                                                  ┴  PY†W\n",
       "  Compensated Supply\n",
       "    80.0 * ((PL†A / 40.0) ^ ((40.0 * 1.0) / (80.0 * 1.0 + 20.0 * 1.0)) * (PK†A / 60.0) ^ ((60.0 * 1.0) / (80.0 * 1.0 + 20.0 * 1.0))) * ((PX / (((80.0 * 1.0) / (80.0 * 1.0 + 20.0 * 1.0)) * (PX / 1.0) ^ (1.0 + t_elas_a * 1.0) + ((20.0 * 1.0) / (80.0 * 1.0 + 20.0 * 1.0)) * (PY / 1.0) ^ (1.0 + t_elas_a * 1.0)) ^ (1.0 / (1.0 + t_elas_a * 1.0))) / 1.0) ^ (t_elas_a * 1.0) - PX‡A                                                                                      ┴  PX‡A\n",
       "    20.0 * ((PL†A / 40.0) ^ ((40.0 * 1.0) / (80.0 * 1.0 + 20.0 * 1.0)) * (PK†A / 60.0) ^ ((60.0 * 1.0) / (80.0 * 1.0 + 20.0 * 1.0))) * ((PY / (((80.0 * 1.0) / (80.0 * 1.0 + 20.0 * 1.0)) * (PX / 1.0) ^ (1.0 + t_elas_a * 1.0) + ((20.0 * 1.0) / (80.0 * 1.0 + 20.0 * 1.0)) * (PY / 1.0) ^ (1.0 + t_elas_a * 1.0)) ^ (1.0 / (1.0 + t_elas_a * 1.0))) / 1.0) ^ (t_elas_a * 1.0) - PY‡A                                                                                      ┴  PY‡A\n",
       "    (20.0 + diff) * ((PL†B / 60.0) ^ ((60.0 * 1.0) / ((20.0 + diff) * 1.0 + 80.0 * 1.0)) * (PK†B / 40.0) ^ ((40.0 * 1.0) / ((20.0 + diff) * 1.0 + 80.0 * 1.0))) * ((PX / ((((20.0 + diff) * 1.0) / ((20.0 + diff) * 1.0 + 80.0 * 1.0)) * (PX / 1.0) ^ (1.0 + t_elas_b * 1.0) + ((80.0 * 1.0) / ((20.0 + diff) * 1.0 + 80.0 * 1.0)) * (PY / 1.0) ^ (1.0 + t_elas_b * 1.0)) ^ (1.0 / (1.0 + t_elas_b * 1.0))) / 1.0) ^ (t_elas_b * 1.0) - PX‡B                                ┴  PX‡B\n",
       "    80.0 * ((PL†B / 60.0) ^ ((60.0 * 1.0) / ((20.0 + diff) * 1.0 + 80.0 * 1.0)) * (PK†B / 40.0) ^ ((40.0 * 1.0) / ((20.0 + diff) * 1.0 + 80.0 * 1.0))) * ((PY / ((((20.0 + diff) * 1.0) / ((20.0 + diff) * 1.0 + 80.0 * 1.0)) * (PX / 1.0) ^ (1.0 + t_elas_b * 1.0) + ((80.0 * 1.0) / ((20.0 + diff) * 1.0 + 80.0 * 1.0)) * (PY / 1.0) ^ (1.0 + t_elas_b * 1.0)) ^ (1.0 / (1.0 + t_elas_b * 1.0))) / 1.0) ^ (t_elas_b * 1.0) - PY‡B                                         ┴  PY‡B\n",
       "    200.0 * ((PX†W / (100.0 + diff)) ^ (((100.0 + diff) * 1.0) / +(200.0 * 1.0)) * (PY†W / 100.0) ^ ((100.0 * 1.0) / +(200.0 * 1.0))) * ((PW / (+(((200.0 * 1.0) / +(200.0 * 1.0)) * (PW / 1.0) ^ (1.0 + 0.0))) ^ (1.0 / (1.0 + 0.0))) / 1.0) ^ 0.0 - PW‡W                                                                                                                                                                                                                  ┴  PW‡W\n",
       "  Final Demand\n",
       "    200.0 * (CONS / 200.0) * (1.0 / PW) - PWρCONS                                                                                                                                                                                                                                                                                                                                                                                                                           ┴  PWρCONS\n",
       "  Zero Profit\n",
       "    (PL * PL†A + PK * PK†A) - (PX * PX‡A + PY * PY‡A)                                                                                                                                                                                                                                                                                                                                                                                                                       ┴  0.0 < A\n",
       "    (PL * PL†B + PK * PK†B) - (PX * PX‡B + PY * PY‡B)                                                                                                                                                                                                                                                                                                                                                                                                                       ┴  0.0 < B\n",
       "    (PX * PX†W + PY * PY†W) - +(PW * PW‡W)                                                                                                                                                                                                                                                                                                                                                                                                                                  ┴  0.0 < W\n",
       "  Market clearance\n",
       "    (0.0 + W * PW‡W) - (0.0 + PWρCONS)                                                                                                                                                                                                                                                                                                                                                                                                                                      ┴  0.001 < PW\n",
       "    (0.0 + A * PX‡A + B * PX‡B) - (0.0 + W * PX†W)                                                                                                                                                                                                                                                                                                                                                                                                                          ┴  0.001 < PX\n",
       "    (0.0 + 100.0) - (0.0 + A * PL†A + B * PL†B)                                                                                                                                                                                                                                                                                                                                                                                                                             ┴  0.001 < PL\n",
       "    (0.0 + 100.0) - (0.0 + A * PK†A + B * PK†B)                                                                                                                                                                                                                                                                                                                                                                                                                             ┴  0.001 < PK\n",
       "    (0.0 + A * PY‡A + B * PY‡B) - (0.0 + W * PY†W)                                                                                                                                                                                                                                                                                                                                                                                                                          ┴  0.001 < PY\n",
       "  Income balance\n",
       "    (100.0 * PL + 100.0 * PK) - CONS                                                                                                                                                                                                                                                                                                                                                                                                                                        ┴  0.0 < CONS\n"
      ]
     },
     "metadata": {},
     "output_type": "display_data"
    }
   ],
   "source": [
    "algebraic_version(m)"
   ]
  },
  {
   "cell_type": "code",
   "execution_count": 273,
   "metadata": {},
   "outputs": [],
   "source": [
    "var\"A\" = 1;\n",
    "var\"B\" = 1;\n",
    "var\"W\" = 1;\n",
    "var\"PX\" = 1;\n",
    "var\"PY\" = 1;\n",
    "var\"PW\" = 1;\n",
    "var\"PL\" = 1;\n",
    "var\"PK\" = 1;\n",
    "var\"PX‡A\" = 80;\n",
    "var\"PY‡A\" = 20;\n",
    "var\"PX‡B\" = 20;\n",
    "var\"PY‡B\" = 80;\n",
    "var\"PW‡W\" = 200;\n",
    "var\"PL†A\" = 40;\n",
    "var\"PK†A\" = 60;\n",
    "var\"PL†B\" = 60;\n",
    "var\"PK†B\" = 40;\n",
    "var\"PX†W\" = 100;\n",
    "var\"PY†W\" = 100;\n",
    "var\"CONS\" = 200;\n",
    "var\"PWρCONS\" = 200;\n",
    "var\"diff\"=0.0;"
   ]
  },
  {
   "cell_type": "markdown",
   "metadata": {},
   "source": [
    "Running with +diff in output of W"
   ]
  },
  {
   "cell_type": "code",
   "execution_count": 2,
   "metadata": {},
   "outputs": [
    {
     "name": "stdout",
     "output_type": "stream",
     "text": [
      "Reading options file C:\\Users\\Eli\\AppData\\Local\\Temp\\jl_C59F.tmp\n",
      " > cumulative_iteration_limit 0\n",
      "Read of options file complete.\n",
      "\n",
      "Path 5.0.03 (Fri Jun 26 10:05:33 2020)\n",
      "Written by Todd Munson, Steven Dirkse, Youngdae Kim, and Michael Ferris\n"
     ]
    },
    {
     "name": "stdout",
     "output_type": "stream",
     "text": [
      "\n",
      "Major Iteration Log\n",
      "major minor  func  grad  residual    step  type prox    inorm  (label)\n",
      "    0     0     1     1 0.0000e+00           I 0.0e+00 0.0e+00 (F_A)\n",
      "\n",
      "Major Iterations. . . . 0\n",
      "Minor Iterations. . . . 0\n",
      "Restarts. . . . . . . . 0\n",
      "Crash Iterations. . . . 0\n",
      "Gradient Steps. . . . . 0\n",
      "Function Evaluations. . 1\n",
      "Gradient Evaluations. . 1\n",
      "Basis Time. . . . . . . 0.000000\n",
      "Total Time. . . . . . . 0.141000\n",
      "Residual. . . . . . . . 0.000000e+00\n"
     ]
    },
    {
     "data": {
      "text/plain": [
       "MPSGE model with 3 sectors, 5 commodities and 1 consumers.\n",
       "  Sectors: A (bm=1.0), B (bm=1.0), W (bm=1.0)\n",
       "  Commodities: PX (bm=1.0), PY (bm=1.0), PW (bm=1.0), PL (bm=1.0), PK (bm=1.0)\n",
       "  Consumers: CONS (bm=200.0)\n",
       "Solution:\n",
       "  A:\t1.0\n",
       "  B:\t1.0\n",
       "  W:\t1.0\n",
       "  PX:\t1.0\n",
       "  PY:\t1.0\n",
       "  PW:\t1.0\n",
       "  PL:\t1.0\n",
       "  PK:\t1.0\n",
       "  PX‡A:\t80.0\n",
       "  PY‡A:\t20.0\n",
       "  PX‡B:\t20.0\n",
       "  PY‡B:\t80.0\n",
       "  PW‡W:\t200.0\n",
       "  PL†A:\t40.0\n",
       "  PK†A:\t60.0\n",
       "  PL†B:\t60.0\n",
       "  PK†B:\t40.0\n",
       "  PX†W:\t100.0\n",
       "  PY†W:\t100.0\n",
       "  CONS:\t200.0\n",
       "  PWρCONS:\t200.0\n"
      ]
     },
     "metadata": {},
     "output_type": "display_data"
    }
   ],
   "source": [
    "# Re- running with substitution elasticities back to 1 (Cobb-Douglas), but with joint Production and non-0 elasticities of transformation\n",
    "m = Model()\n",
    "\n",
    "@parameter(m, diff, 0.0)\n",
    "@parameter(m, t_elas_a, 0.0)\n",
    "@parameter(m, t_elas_b, 0.0)\n",
    "\n",
    "@sector(m, A)\n",
    "@sector(m, B)\n",
    "@sector(m, W)\n",
    "\n",
    "@commodity(m, PX)\n",
    "@commodity(m, PY)\n",
    "@commodity(m, PW)\n",
    "@commodity(m, PL)\n",
    "@commodity(m, PK)\n",
    "\n",
    "@consumer(m, CONS, benchmark=200.0)\n",
    "\n",
    "# @production(m, A, 0, 1, [Output(PX, 80), Output(PY, 20)], [Input(PL, 40), Input(PK, 60)])\n",
    "@production(m, A, :($t_elas_a*1.), 1, [Output(PX, 80), Output(PY, 20)], [Input(PL, 40), Input(PK, 60)])\n",
    "# @production(m, B, 0, 1, [Output(PX, 20), Output(PY, 80)], [Input(PL, 60), Input(PK, 40)])\n",
    "# @production(m, B, :($t_elas_b*1.), 1, [Output(PX, 20), Output(PY, 80)], [Input(PL, 60), Input(PK, 40)])\n",
    "@production(m, B, :($t_elas_b*1.), 1, [Output(PX, :(20+$diff)), Output(PY, 80)], [Input(PL, 60), Input(PK, 40)])\n",
    "@production(m, W, 0, 1, [Output(PW, :(200.0+$diff))],[Input(PX, :(100.0+$diff)), Input(PY, 100.0)])\n",
    "# @production(m, W, 0, 1, [Output(PW, 200.0)], [Input(PX, 100.0), Input(PY, 100.0)])\n",
    "# @production(m, W, 0.,1, [Output(PW, :(200.0+$diff))], [Input(PX, :(100.0+$diff)), Input(PY, 100.0)])\n",
    "\n",
    "@demand(m, CONS, 1., [Demand(PW, 200.)], [Endowment(PL, 100.0), Endowment(PK, 100.0)])\n",
    "\n",
    "solve!(m, cumulative_iteration_limit=0)"
   ]
  },
  {
   "cell_type": "markdown",
   "metadata": {},
   "source": [
    "Show Algebraic with 200+diff (diff in the output of W)"
   ]
  },
  {
   "cell_type": "code",
   "execution_count": 5,
   "metadata": {},
   "outputs": [
    {
     "data": {
      "text/latex": [
       "$$ \\begin{alignat*}{3}\\\n",
       "& \\text{Compensated Demand} \\quad && \\quad && \\\\\n",
       "& \\quad 40.0 * ((PL†A / 40.0) ^ {(40.0 * 1.0) / (80.0 * 1.0 + 20.0 * 1.0)} * (PK†A / 60.0) ^ {(60.0 * 1.0) / (80.0 * 1.0 + 20.0 * 1.0)}) * (((((PL / 1.0) ^ {(40.0 * 1.0) / (80.0 * 1.0 + 20.0 * 1.0)} * (PK / 1.0) ^ {(60.0 * 1.0) / (80.0 * 1.0 + 20.0 * 1.0)}) * ((PL†A / 40.0) ^ {(40.0 * 1.0) / (80.0 * 1.0 + 20.0 * 1.0)} * (PK†A / 60.0) ^ {(60.0 * 1.0) / (80.0 * 1.0 + 20.0 * 1.0)})) * 1.0) / PL) ^ {1.0} - PL†A\\quad && \\perp \\quad && PL†A\\\\\n",
       "& \\quad 60.0 * ((PL†A / 40.0) ^ {(40.0 * 1.0) / (80.0 * 1.0 + 20.0 * 1.0)} * (PK†A / 60.0) ^ {(60.0 * 1.0) / (80.0 * 1.0 + 20.0 * 1.0)}) * (((((PL / 1.0) ^ {(40.0 * 1.0) / (80.0 * 1.0 + 20.0 * 1.0)} * (PK / 1.0) ^ {(60.0 * 1.0) / (80.0 * 1.0 + 20.0 * 1.0)}) * ((PL†A / 40.0) ^ {(40.0 * 1.0) / (80.0 * 1.0 + 20.0 * 1.0)} * (PK†A / 60.0) ^ {(60.0 * 1.0) / (80.0 * 1.0 + 20.0 * 1.0)})) * 1.0) / PK) ^ {1.0} - PK†A\\quad && \\perp \\quad && PK†A\\\\\n",
       "& \\quad 60.0 * ((PL†B / 60.0) ^ {(60.0 * 1.0) / ((20.0 + diff) * 1.0 + 80.0 * 1.0)} * (PK†B / 40.0) ^ {(40.0 * 1.0) / ((20.0 + diff) * 1.0 + 80.0 * 1.0)}) * (((((PL / 1.0) ^ {(60.0 * 1.0) / ((20.0 + diff) * 1.0 + 80.0 * 1.0)} * (PK / 1.0) ^ {(40.0 * 1.0) / ((20.0 + diff) * 1.0 + 80.0 * 1.0)}) * ((PL†B / 60.0) ^ {(60.0 * 1.0) / ((20.0 + diff) * 1.0 + 80.0 * 1.0)} * (PK†B / 40.0) ^ {(40.0 * 1.0) / ((20.0 + diff) * 1.0 + 80.0 * 1.0)})) * 1.0) / PL) ^ {1.0} - PL†B\\quad && \\perp \\quad && PL†B\\\\\n",
       "& \\quad 40.0 * ((PL†B / 60.0) ^ {(60.0 * 1.0) / ((20.0 + diff) * 1.0 + 80.0 * 1.0)} * (PK†B / 40.0) ^ {(40.0 * 1.0) / ((20.0 + diff) * 1.0 + 80.0 * 1.0)}) * (((((PL / 1.0) ^ {(60.0 * 1.0) / ((20.0 + diff) * 1.0 + 80.0 * 1.0)} * (PK / 1.0) ^ {(40.0 * 1.0) / ((20.0 + diff) * 1.0 + 80.0 * 1.0)}) * ((PL†B / 60.0) ^ {(60.0 * 1.0) / ((20.0 + diff) * 1.0 + 80.0 * 1.0)} * (PK†B / 40.0) ^ {(40.0 * 1.0) / ((20.0 + diff) * 1.0 + 80.0 * 1.0)})) * 1.0) / PK) ^ {1.0} - PK†B\\quad && \\perp \\quad && PK†B\\\\\n",
       "& \\quad (100.0 + diff) * ((PX†W / (100.0 + diff)) ^ {((100.0 + diff) * 1.0) / +((200.0 + diff) * 1.0)} * (PY†W / 100.0) ^ {(100.0 * 1.0) / +((200.0 + diff) * 1.0)}) * (((((PX / 1.0) ^ {((100.0 + diff) * 1.0) / +((200.0 + diff) * 1.0)} * (PY / 1.0) ^ {(100.0 * 1.0) / +((200.0 + diff) * 1.0)}) * ((PX†W / (100.0 + diff)) ^ {((100.0 + diff) * 1.0) / +((200.0 + diff) * 1.0)} * (PY†W / 100.0) ^ {(100.0 * 1.0) / +((200.0 + diff) * 1.0)})) * 1.0) / PX) ^ {1.0} - PX†W\\quad && \\perp \\quad && PX†W\\\\\n",
       "& \\quad 100.0 * ((PX†W / (100.0 + diff)) ^ {((100.0 + diff) * 1.0) / +((200.0 + diff) * 1.0)} * (PY†W / 100.0) ^ {(100.0 * 1.0) / +((200.0 + diff) * 1.0)}) * (((((PX / 1.0) ^ {((100.0 + diff) * 1.0) / +((200.0 + diff) * 1.0)} * (PY / 1.0) ^ {(100.0 * 1.0) / +((200.0 + diff) * 1.0)}) * ((PX†W / (100.0 + diff)) ^ {((100.0 + diff) * 1.0) / +((200.0 + diff) * 1.0)} * (PY†W / 100.0) ^ {(100.0 * 1.0) / +((200.0 + diff) * 1.0)})) * 1.0) / PY) ^ {1.0} - PY†W\\quad && \\perp \\quad && PY†W\\\\\n",
       "& \\text{Compensated Supply} \\quad && \\quad && \\\\\n",
       "& \\quad 80.0 * ((PL†A / 40.0) ^ {(40.0 * 1.0) / (80.0 * 1.0 + 20.0 * 1.0)} * (PK†A / 60.0) ^ {(60.0 * 1.0) / (80.0 * 1.0 + 20.0 * 1.0)}) * ((PX / (((80.0 * 1.0) / (80.0 * 1.0 + 20.0 * 1.0)) * (PX / 1.0) ^ {1.0 + t_elas_a * 1.0} + ((20.0 * 1.0) / (80.0 * 1.0 + 20.0 * 1.0)) * (PY / 1.0) ^ {1.0 + t_elas_a * 1.0}) ^ {1.0 / (1.0 + t_elas_a * 1.0)}) / 1.0) ^ {t_elas_a * 1.0} - PX‡A\\quad && \\perp \\quad && PX‡A\\\\\n",
       "& \\quad 20.0 * ((PL†A / 40.0) ^ {(40.0 * 1.0) / (80.0 * 1.0 + 20.0 * 1.0)} * (PK†A / 60.0) ^ {(60.0 * 1.0) / (80.0 * 1.0 + 20.0 * 1.0)}) * ((PY / (((80.0 * 1.0) / (80.0 * 1.0 + 20.0 * 1.0)) * (PX / 1.0) ^ {1.0 + t_elas_a * 1.0} + ((20.0 * 1.0) / (80.0 * 1.0 + 20.0 * 1.0)) * (PY / 1.0) ^ {1.0 + t_elas_a * 1.0}) ^ {1.0 / (1.0 + t_elas_a * 1.0)}) / 1.0) ^ {t_elas_a * 1.0} - PY‡A\\quad && \\perp \\quad && PY‡A\\\\\n",
       "& \\quad (20.0 + diff) * ((PL†B / 60.0) ^ {(60.0 * 1.0) / ((20.0 + diff) * 1.0 + 80.0 * 1.0)} * (PK†B / 40.0) ^ {(40.0 * 1.0) / ((20.0 + diff) * 1.0 + 80.0 * 1.0)}) * ((PX / ((((20.0 + diff) * 1.0) / ((20.0 + diff) * 1.0 + 80.0 * 1.0)) * (PX / 1.0) ^ {1.0 + t_elas_b * 1.0} + ((80.0 * 1.0) / ((20.0 + diff) * 1.0 + 80.0 * 1.0)) * (PY / 1.0) ^ {1.0 + t_elas_b * 1.0}) ^ {1.0 / (1.0 + t_elas_b * 1.0)}) / 1.0) ^ {t_elas_b * 1.0} - PX‡B\\quad && \\perp \\quad && PX‡B\\\\\n",
       "& \\quad 80.0 * ((PL†B / 60.0) ^ {(60.0 * 1.0) / ((20.0 + diff) * 1.0 + 80.0 * 1.0)} * (PK†B / 40.0) ^ {(40.0 * 1.0) / ((20.0 + diff) * 1.0 + 80.0 * 1.0)}) * ((PY / ((((20.0 + diff) * 1.0) / ((20.0 + diff) * 1.0 + 80.0 * 1.0)) * (PX / 1.0) ^ {1.0 + t_elas_b * 1.0} + ((80.0 * 1.0) / ((20.0 + diff) * 1.0 + 80.0 * 1.0)) * (PY / 1.0) ^ {1.0 + t_elas_b * 1.0}) ^ {1.0 / (1.0 + t_elas_b * 1.0)}) / 1.0) ^ {t_elas_b * 1.0} - PY‡B\\quad && \\perp \\quad && PY‡B\\\\\n",
       "& \\quad (200.0 + diff) * ((PX†W / (100.0 + diff)) ^ {((100.0 + diff) * 1.0) / +((200.0 + diff) * 1.0)} * (PY†W / 100.0) ^ {(100.0 * 1.0) / +((200.0 + diff) * 1.0)}) * ((PW / (+((((200.0 + diff) * 1.0) / +((200.0 + diff) * 1.0)) * (PW / 1.0) ^ {1.0 + 0.0})) ^ {1.0 / (1.0 + 0.0)}) / 1.0) ^ {0.0} - PW‡W\\quad && \\perp \\quad && PW‡W\\\\\n",
       "& \\text{Final Demand} \\quad && \\quad && \\\\\n",
       "& \\quad 200.0 * (CONS / 200.0) * (1.0 / PW) - PWρCONS\\quad && \\perp \\quad && PWρCONS\\\\\n",
       "& \\text{Zero Profit} \\quad && \\quad && \\\\\n",
       "& \\quad (PL * PL†A + PK * PK†A) - (PX * PX‡A + PY * PY‡A)\\quad && \\perp \\quad && 0.0 <A\\\\\n",
       "& \\quad (PL * PL†B + PK * PK†B) - (PX * PX‡B + PY * PY‡B)\\quad && \\perp \\quad && 0.0 <B\\\\\n",
       "& \\quad (PX * PX†W + PY * PY†W) - +(PW * PW‡W)\\quad && \\perp \\quad && 0.0 <W\\\\\n",
       "& \\text{Market clearance} \\quad && \\quad && \\\\\n",
       "& \\quad (0.0 + A * PX‡A + B * PX‡B) - (0.0 + W * PX†W)\\quad && \\perp \\quad && 0.001 <PX\\\\\n",
       "& \\quad (0.0 + W * PW‡W) - (0.0 + PWρCONS)\\quad && \\perp \\quad && 0.001 <PW\\\\\n",
       "& \\quad (0.0 + 100.0) - (0.0 + A * PL†A + B * PL†B)\\quad && \\perp \\quad && 0.001 <PL\\\\\n",
       "& \\quad (0.0 + A * PY‡A + B * PY‡B) - (0.0 + W * PY†W)\\quad && \\perp \\quad && 0.001 <PY\\\\\n",
       "& \\quad (0.0 + 100.0) - (0.0 + A * PK†A + B * PK†B)\\quad && \\perp \\quad && 0.001 <PK\\\\\n",
       "& \\text{Income balance} \\quad && \\quad && \\\\\n",
       "& \\quad (100.0 * PL + 100.0 * PK) - CONS\\quad && \\perp \\quad && 0.0 <CONS\\\\\n",
       "\\end{alignat*}\n",
       " $$\n"
      ],
      "text/plain": [
       "Mixed complementarity problem with 21 constraints:\n",
       "  Compensated Demand\n",
       "    40.0 * ((PL†A / 40.0) ^ ((40.0 * 1.0) / (80.0 * 1.0 + 20.0 * 1.0)) * (PK†A / 60.0) ^ ((60.0 * 1.0) / (80.0 * 1.0 + 20.0 * 1.0))) * (((((PL / 1.0) ^ ((40.0 * 1.0) / (80.0 * 1.0 + 20.0 * 1.0)) * (PK / 1.0) ^ ((60.0 * 1.0) / (80.0 * 1.0 + 20.0 * 1.0))) * ((PL†A / 40.0) ^ ((40.0 * 1.0) / (80.0 * 1.0 + 20.0 * 1.0)) * (PK†A / 60.0) ^ ((60.0 * 1.0) / (80.0 * 1.0 + 20.0 * 1.0)))) * 1.0) / PL) ^ 1.0 - PL†A                                                        ┴  PL†A\n",
       "    60.0 * ((PL†A / 40.0) ^ ((40.0 * 1.0) / (80.0 * 1.0 + 20.0 * 1.0)) * (PK†A / 60.0) ^ ((60.0 * 1.0) / (80.0 * 1.0 + 20.0 * 1.0))) * (((((PL / 1.0) ^ ((40.0 * 1.0) / (80.0 * 1.0 + 20.0 * 1.0)) * (PK / 1.0) ^ ((60.0 * 1.0) / (80.0 * 1.0 + 20.0 * 1.0))) * ((PL†A / 40.0) ^ ((40.0 * 1.0) / (80.0 * 1.0 + 20.0 * 1.0)) * (PK†A / 60.0) ^ ((60.0 * 1.0) / (80.0 * 1.0 + 20.0 * 1.0)))) * 1.0) / PK) ^ 1.0 - PK†A                                                        ┴  PK†A\n",
       "    60.0 * ((PL†B / 60.0) ^ ((60.0 * 1.0) / ((20.0 + diff) * 1.0 + 80.0 * 1.0)) * (PK†B / 40.0) ^ ((40.0 * 1.0) / ((20.0 + diff) * 1.0 + 80.0 * 1.0))) * (((((PL / 1.0) ^ ((60.0 * 1.0) / ((20.0 + diff) * 1.0 + 80.0 * 1.0)) * (PK / 1.0) ^ ((40.0 * 1.0) / ((20.0 + diff) * 1.0 + 80.0 * 1.0))) * ((PL†B / 60.0) ^ ((60.0 * 1.0) / ((20.0 + diff) * 1.0 + 80.0 * 1.0)) * (PK†B / 40.0) ^ ((40.0 * 1.0) / ((20.0 + diff) * 1.0 + 80.0 * 1.0)))) * 1.0) / PL) ^ 1.0 - PL†B  ┴  PL†B\n",
       "    40.0 * ((PL†B / 60.0) ^ ((60.0 * 1.0) / ((20.0 + diff) * 1.0 + 80.0 * 1.0)) * (PK†B / 40.0) ^ ((40.0 * 1.0) / ((20.0 + diff) * 1.0 + 80.0 * 1.0))) * (((((PL / 1.0) ^ ((60.0 * 1.0) / ((20.0 + diff) * 1.0 + 80.0 * 1.0)) * (PK / 1.0) ^ ((40.0 * 1.0) / ((20.0 + diff) * 1.0 + 80.0 * 1.0))) * ((PL†B / 60.0) ^ ((60.0 * 1.0) / ((20.0 + diff) * 1.0 + 80.0 * 1.0)) * (PK†B / 40.0) ^ ((40.0 * 1.0) / ((20.0 + diff) * 1.0 + 80.0 * 1.0)))) * 1.0) / PK) ^ 1.0 - PK†B  ┴  PK†B\n",
       "    (100.0 + diff) * ((PX†W / (100.0 + diff)) ^ (((100.0 + diff) * 1.0) / +((200.0 + diff) * 1.0)) * (PY†W / 100.0) ^ ((100.0 * 1.0) / +((200.0 + diff) * 1.0))) * (((((PX / 1.0) ^ (((100.0 + diff) * 1.0) / +((200.0 + diff) * 1.0)) * (PY / 1.0) ^ ((100.0 * 1.0) / +((200.0 + diff) * 1.0))) * ((PX†W / (100.0 + diff)) ^ (((100.0 + diff) * 1.0) / +((200.0 + diff) * 1.0)) * (PY†W / 100.0) ^ ((100.0 * 1.0) / +((200.0 + diff) * 1.0)))) * 1.0) / PX) ^ 1.0 - PX†W   ┴  PX†W\n",
       "    100.0 * ((PX†W / (100.0 + diff)) ^ (((100.0 + diff) * 1.0) / +((200.0 + diff) * 1.0)) * (PY†W / 100.0) ^ ((100.0 * 1.0) / +((200.0 + diff) * 1.0))) * (((((PX / 1.0) ^ (((100.0 + diff) * 1.0) / +((200.0 + diff) * 1.0)) * (PY / 1.0) ^ ((100.0 * 1.0) / +((200.0 + diff) * 1.0))) * ((PX†W / (100.0 + diff)) ^ (((100.0 + diff) * 1.0) / +((200.0 + diff) * 1.0)) * (PY†W / 100.0) ^ ((100.0 * 1.0) / +((200.0 + diff) * 1.0)))) * 1.0) / PY) ^ 1.0 - PY†W            ┴  PY†W\n",
       "  Compensated Supply\n",
       "    80.0 * ((PL†A / 40.0) ^ ((40.0 * 1.0) / (80.0 * 1.0 + 20.0 * 1.0)) * (PK†A / 60.0) ^ ((60.0 * 1.0) / (80.0 * 1.0 + 20.0 * 1.0))) * ((PX / (((80.0 * 1.0) / (80.0 * 1.0 + 20.0 * 1.0)) * (PX / 1.0) ^ (1.0 + t_elas_a * 1.0) + ((20.0 * 1.0) / (80.0 * 1.0 + 20.0 * 1.0)) * (PY / 1.0) ^ (1.0 + t_elas_a * 1.0)) ^ (1.0 / (1.0 + t_elas_a * 1.0))) / 1.0) ^ (t_elas_a * 1.0) - PX‡A                                                                                      ┴  PX‡A\n",
       "    20.0 * ((PL†A / 40.0) ^ ((40.0 * 1.0) / (80.0 * 1.0 + 20.0 * 1.0)) * (PK†A / 60.0) ^ ((60.0 * 1.0) / (80.0 * 1.0 + 20.0 * 1.0))) * ((PY / (((80.0 * 1.0) / (80.0 * 1.0 + 20.0 * 1.0)) * (PX / 1.0) ^ (1.0 + t_elas_a * 1.0) + ((20.0 * 1.0) / (80.0 * 1.0 + 20.0 * 1.0)) * (PY / 1.0) ^ (1.0 + t_elas_a * 1.0)) ^ (1.0 / (1.0 + t_elas_a * 1.0))) / 1.0) ^ (t_elas_a * 1.0) - PY‡A                                                                                      ┴  PY‡A\n",
       "    (20.0 + diff) * ((PL†B / 60.0) ^ ((60.0 * 1.0) / ((20.0 + diff) * 1.0 + 80.0 * 1.0)) * (PK†B / 40.0) ^ ((40.0 * 1.0) / ((20.0 + diff) * 1.0 + 80.0 * 1.0))) * ((PX / ((((20.0 + diff) * 1.0) / ((20.0 + diff) * 1.0 + 80.0 * 1.0)) * (PX / 1.0) ^ (1.0 + t_elas_b * 1.0) + ((80.0 * 1.0) / ((20.0 + diff) * 1.0 + 80.0 * 1.0)) * (PY / 1.0) ^ (1.0 + t_elas_b * 1.0)) ^ (1.0 / (1.0 + t_elas_b * 1.0))) / 1.0) ^ (t_elas_b * 1.0) - PX‡B                                ┴  PX‡B\n",
       "    80.0 * ((PL†B / 60.0) ^ ((60.0 * 1.0) / ((20.0 + diff) * 1.0 + 80.0 * 1.0)) * (PK†B / 40.0) ^ ((40.0 * 1.0) / ((20.0 + diff) * 1.0 + 80.0 * 1.0))) * ((PY / ((((20.0 + diff) * 1.0) / ((20.0 + diff) * 1.0 + 80.0 * 1.0)) * (PX / 1.0) ^ (1.0 + t_elas_b * 1.0) + ((80.0 * 1.0) / ((20.0 + diff) * 1.0 + 80.0 * 1.0)) * (PY / 1.0) ^ (1.0 + t_elas_b * 1.0)) ^ (1.0 / (1.0 + t_elas_b * 1.0))) / 1.0) ^ (t_elas_b * 1.0) - PY‡B                                         ┴  PY‡B\n",
       "    (200.0 + diff) * ((PX†W / (100.0 + diff)) ^ (((100.0 + diff) * 1.0) / +((200.0 + diff) * 1.0)) * (PY†W / 100.0) ^ ((100.0 * 1.0) / +((200.0 + diff) * 1.0))) * ((PW / (+((((200.0 + diff) * 1.0) / +((200.0 + diff) * 1.0)) * (PW / 1.0) ^ (1.0 + 0.0))) ^ (1.0 / (1.0 + 0.0))) / 1.0) ^ 0.0 - PW‡W                                                                                                                                                                     ┴  PW‡W\n",
       "  Final Demand\n",
       "    200.0 * (CONS / 200.0) * (1.0 / PW) - PWρCONS                                                                                                                                                                                                                                                                                                                                                                                                                           ┴  PWρCONS\n",
       "  Zero Profit\n",
       "    (PL * PL†A + PK * PK†A) - (PX * PX‡A + PY * PY‡A)                                                                                                                                                                                                                                                                                                                                                                                                                       ┴  0.0 < A\n",
       "    (PL * PL†B + PK * PK†B) - (PX * PX‡B + PY * PY‡B)                                                                                                                                                                                                                                                                                                                                                                                                                       ┴  0.0 < B\n",
       "    (PX * PX†W + PY * PY†W) - +(PW * PW‡W)                                                                                                                                                                                                                                                                                                                                                                                                                                  ┴  0.0 < W\n",
       "  Market clearance\n",
       "    (0.0 + A * PX‡A + B * PX‡B) - (0.0 + W * PX†W)                                                                                                                                                                                                                                                                                                                                                                                                                          ┴  0.001 < PX\n",
       "    (0.0 + W * PW‡W) - (0.0 + PWρCONS)                                                                                                                                                                                                                                                                                                                                                                                                                                      ┴  0.001 < PW\n",
       "    (0.0 + 100.0) - (0.0 + A * PL†A + B * PL†B)                                                                                                                                                                                                                                                                                                                                                                                                                             ┴  0.001 < PL\n",
       "    (0.0 + A * PY‡A + B * PY‡B) - (0.0 + W * PY†W)                                                                                                                                                                                                                                                                                                                                                                                                                          ┴  0.001 < PY\n",
       "    (0.0 + 100.0) - (0.0 + A * PK†A + B * PK†B)                                                                                                                                                                                                                                                                                                                                                                                                                             ┴  0.001 < PK\n",
       "  Income balance\n",
       "    (100.0 * PL + 100.0 * PK) - CONS                                                                                                                                                                                                                                                                                                                                                                                                                                        ┴  0.0 < CONS\n"
      ]
     },
     "metadata": {},
     "output_type": "display_data"
    }
   ],
   "source": [
    "algebraic_version(m)"
   ]
  },
  {
   "cell_type": "code",
   "execution_count": 16,
   "metadata": {},
   "outputs": [],
   "source": [
    "var\"A\" = 1;\n",
    "var\"B\" = 1;\n",
    "var\"W\" = 1;\n",
    "var\"PX\" = 1;\n",
    "var\"PY\" = 1;\n",
    "var\"PW\" = 1;\n",
    "var\"PL\" = 1;\n",
    "var\"PK\" = 1;\n",
    "var\"PX‡A\" = 80;\n",
    "var\"PY‡A\" = 20;\n",
    "var\"PX‡B\" = 20;\n",
    "var\"PY‡B\" = 80;\n",
    "var\"PW‡W\" = 200;\n",
    "var\"PL†A\" = 40;\n",
    "var\"PK†A\" = 60;\n",
    "var\"PL†B\" = 60;\n",
    "var\"PK†B\" = 40;\n",
    "var\"PX†W\" = 100;\n",
    "var\"PY†W\" = 100;\n",
    "var\"CONS\" = 200;\n",
    "var\"PWρCONS\" = 200;\n",
    "var\"diff\"=0.0;\n",
    "var\"telasa\" = 0.0;\n",
    "var\"telasb\" = 0.0;"
   ]
  },
  {
   "cell_type": "markdown",
   "metadata": {},
   "source": [
    "Compensated Demand"
   ]
  },
  {
   "cell_type": "markdown",
   "metadata": {},
   "source": [
    "PL†A"
   ]
  },
  {
   "cell_type": "code",
   "execution_count": 7,
   "metadata": {},
   "outputs": [
    {
     "data": {
      "text/plain": [
       "-7.583622618767549e-11"
      ]
     },
     "metadata": {},
     "output_type": "display_data"
    }
   ],
   "source": [
    "40.0*((var\"PL†A\"/40.0)^((40.0*1.0)/(80.0*1.0+20.0*1.0))*(var\"PK†A\"/60.0)^((60.0*1.0)/(80.0*1.0+20.0*1.0)))*(((((var\"PL\"/1.0)^((40.0*1.0)/(80.0*1.0+20.0*1.0))*(var\"PK\"/1.0)^((60.0*1.0)/(80.0*1.0+20.0*1.0)))*((var\"PL†A\"/40.0)^((40.0*1.0)/(80.0*1.0+20.0*1.0))*(var\"PK†A\"/60.0)^((60.0*1.0)/(80.0*1.0+20.0*1.0))))*1.0)/var\"PL\")^1.0 - var\"PL†A\""
   ]
  },
  {
   "cell_type": "markdown",
   "metadata": {},
   "source": [
    "PK†A"
   ]
  },
  {
   "cell_type": "code",
   "execution_count": 8,
   "metadata": {},
   "outputs": [
    {
     "data": {
      "text/plain": [
       "4.980194034942542e-11"
      ]
     },
     "metadata": {},
     "output_type": "display_data"
    }
   ],
   "source": [
    "60.0* ((var\"PL†A\"/40.0)^((40.0*1.0)/(80.0*1.0+20.0*1.0)) *(var\"PK†A\"/60.0)^((60.0*1.0)/(80.0*1.0+20.0*1.0)))*(((((var\"PL\"/1.0)^((40.0*1.0)/(80.0*1.0+20.0*1.0))*(var\"PK\"/1.0)^((60.0*1.0)/(80.0*1.0+20.0*1.0)))*((var\"PL†A\"/40.0)^((40.0*1.0)/(80.0*1.0+20.0*1.0))*(var\"PK†A\"/60.0)^((60.0*1.0)/(80.0*1.0+20.0*1.0))))*1.0)/var\"PK\")^1.0 - var\"PK†A\""
   ]
  },
  {
   "cell_type": "markdown",
   "metadata": {},
   "source": [
    "PL†B"
   ]
  },
  {
   "cell_type": "code",
   "execution_count": 9,
   "metadata": {},
   "outputs": [
    {
     "data": {
      "text/plain": [
       "3.3713831726345234e-9"
      ]
     },
     "metadata": {},
     "output_type": "display_data"
    }
   ],
   "source": [
    "60.0*((var\"PL†B\"/60.0)^((60.0*1.0)/((20.0+ var\"diff\")*1.0+80.0*1.0))*(var\"PK†B\"/40.0)^((40.0*1.0)/((20.0+var\"diff\")*1.0+80.0*1.0)) )*(((((var\"PL\"/1.0)^((60.0*1.0)/((20.0+var\"diff\")*1.0+80.0*1.0))*(var\"PK\"/1.0)^((40.0*1.0)/((20.0+var\"diff\")*1.0+80.0*1.0)) )* ((var\"PL†B\"/60.0)^((60.0*1.0)/((20.0+var\"diff\")*1.0+80.0*1.0))*(var\"PK†B\"/40.0)^((40.0*1.0)/((20.0+var\"diff\")*1.0+80.0*1.0)) ))*1.0)/var\"PL\")^1.0 - var\"PL†B\""
   ]
  },
  {
   "cell_type": "markdown",
   "metadata": {},
   "source": [
    "PK†B"
   ]
  },
  {
   "cell_type": "code",
   "execution_count": 10,
   "metadata": {},
   "outputs": [
    {
     "data": {
      "text/plain": [
       "-5.74402747588465e-11"
      ]
     },
     "metadata": {},
     "output_type": "display_data"
    }
   ],
   "source": [
    "40.0*((var\"PL†B\"/60.0)^((60.0*1.0)/((20.0+var\"diff\")*1.0+80.0*1.0))*(var\"PK†B\"/40.0)^((40.0*1.0)/((20.0+var\"diff\")*1.0+80.0*1.0)))*(((((var\"PL\"/1.0)^((60.0*1.0)/((20.0+var\"diff\")*1.0+80.0*1.0))*(var\"PK\"/1.0)^((40.0*1.0)/((20.0+var\"diff\")*1.0+80.0*1.0)))*((var\"PL†B\"/60.0)^((60.0*1.0)/((20.0+var\"diff\")*1.0+80.0*1.0))*(var\"PK†B\"/40.0)^((40.0*1.0)/((20.0+var\"diff\")*1.0+80.0*1.0))))*1.0)/var\"PK\")^1.0-var\"PK†B\""
   ]
  },
  {
   "cell_type": "markdown",
   "metadata": {},
   "source": [
    "PX†W"
   ]
  },
  {
   "cell_type": "code",
   "execution_count": 11,
   "metadata": {},
   "outputs": [
    {
     "data": {
      "text/plain": [
       "-0.26664153103574506"
      ]
     },
     "metadata": {},
     "output_type": "display_data"
    }
   ],
   "source": [
    "(100.0+var\"diff\")*((var\"PX†W\"/(100.0+var\"diff\"))^(((100.0+var\"diff\")*1.0)/+(200.0*1.0))*(var\"PY†W\"/100.0)^((100.0*1.0)/+(200.0*1.0))) *(((((var\"PX\"/1.0)^(((100.0 + var\"diff\")*1.0)/+(200.0*1.0))*(var\"PY\"/1.0)^((100.0*1.0)/+(200.0*1.0)))*((var\"PX†W\"/(100.0+var\"diff\"))^(((100.0+var\"diff\")*1.0)/+(200.0*1.0))*(var\"PY†W\"/100.0)^((100.0*1.0)/+(200.0*1.0))))*1.0)/var\"PX\")^1.0 - var\"PX†W\"\n"
   ]
  },
  {
   "cell_type": "markdown",
   "metadata": {},
   "source": [
    "PX†W with 200+diff"
   ]
  },
  {
   "cell_type": "code",
   "execution_count": 12,
   "metadata": {},
   "outputs": [
    {
     "data": {
      "text/plain": [
       "2.2800932697464305e-8"
      ]
     },
     "metadata": {},
     "output_type": "display_data"
    }
   ],
   "source": [
    "(100.0+var\"diff\")*((var\"PX†W\"/(100.0+var\"diff\"))^(((100.0+var\"diff\")*1.0)/+((200.0+var\"diff\")*1.0))*(var\"PY†W\"/100.0)^((100.0*1.0)/+((200.0+var\"diff\")*1.0))) *(((((var\"PX\"/1.0)^(((100.0 + var\"diff\")*1.0)/+((200.0+var\"diff\")*1.0))*(var\"PY\"/1.0)^((100.0*1.0)/+((200.0+var\"diff\")*1.0)))*((var\"PX†W\"/(100.0+var\"diff\"))^(((100.0+var\"diff\")*1.0)/+((200.0+var\"diff\")*1.0))*(var\"PY†W\"/100.0)^((100.0*1.0)/+((200.0+var\"diff\")*1.0))))*1.0)/var\"PX\")^1.0 - var\"PX†W\"\n"
   ]
  },
  {
   "cell_type": "markdown",
   "metadata": {},
   "source": [
    "PY†W"
   ]
  },
  {
   "cell_type": "code",
   "execution_count": 13,
   "metadata": {},
   "outputs": [
    {
     "data": {
      "text/plain": [
       "-0.2838692608154503"
      ]
     },
     "metadata": {},
     "output_type": "display_data"
    }
   ],
   "source": [
    "100.0*((var\"PX†W\"/(100.0+var\"diff\"))^(((100.0+var\"diff\")*1.0)/+(200.0*1.0))*(var\"PY†W\"/100.0)^((100.0*1.0)/+(200.0*1.0)))*(((((var\"PX\"/1.0)^(((100.0+var\"diff\")*1.0)/+(200.0*1.0))*(var\"PY\"/1.0)^((100.0*1.0)/+(200.0*1.0)))*((var\"PX†W\"/(100.0+var\"diff\"))^(((100.0+var\"diff\")*1.0)/+(200.0*1.0))*(var\"PY†W\"/100.0)^((100.0*1.0)/+(200.0*1.0))))*1.0)/var\"PY\")^1.0-var\"PY†W\"\n"
   ]
  },
  {
   "cell_type": "markdown",
   "metadata": {},
   "source": [
    "PY†W with 200 +var\"diff\""
   ]
  },
  {
   "cell_type": "code",
   "execution_count": 14,
   "metadata": {},
   "outputs": [
    {
     "data": {
      "text/plain": [
       "5.664517743753095e-9"
      ]
     },
     "metadata": {},
     "output_type": "display_data"
    }
   ],
   "source": [
    "100.0*((var\"PX†W\"/(100.0+var\"diff\"))^(((100.0+var\"diff\")*1.0)/+(200.0*1.0+var\"diff\"))*(var\"PY†W\"/100.0)^((100.0*1.0)/+(200.0*1.0+var\"diff\")))*(((((var\"PX\"/1.0)^(((100.0+var\"diff\")*1.0)/+(200.0*1.0+var\"diff\"))*(var\"PY\"/1.0)^((100.0*1.0)/+(200.0*1.0+var\"diff\")))*((var\"PX†W\"/(100.0+var\"diff\"))^(((100.0+var\"diff\")*1.0)/+(200.0*1.0+var\"diff\"))*(var\"PY†W\"/100.0)^((100.0*1.0)/+(200.0*1.0+var\"diff\"))))*1.0)/var\"PY\")^1.0-var\"PY†W\""
   ]
  },
  {
   "cell_type": "markdown",
   "metadata": {},
   "source": [
    "Compensated Supply"
   ]
  },
  {
   "cell_type": "markdown",
   "metadata": {},
   "source": [
    "PX‡A"
   ]
  },
  {
   "cell_type": "code",
   "execution_count": 15,
   "metadata": {},
   "outputs": [
    {
     "data": {
      "text/plain": [
       "-1.6768382238296908e-9"
      ]
     },
     "metadata": {},
     "output_type": "display_data"
    }
   ],
   "source": [
    "80.0*((var\"PL†A\"/40.0)^((40.0*1.0)/(80.0*1.0+20.0*1.0))*(var\"PK†A\"/60.0)^((60.0*1.0)/(80.0*1.0+20.0*1.0)))*((var\"PX\"/(((80.0*1.0)/(80.0*1.0+20.0*1.0))*(var\"PX\"/1.0)^(1.0+var\"telasa\"*1.0) + ((20.0*1.0)/(80.0*1.0+20.0*1.0))*(var\"PY\"/1.0)^(1.0+var\"telasa\"*1.0))^(1.0/(1.0+var\"telasa\"*1.0)))/1.0)^(var\"telasa\"*1.0) -var\"PX‡A\""
   ]
  },
  {
   "cell_type": "markdown",
   "metadata": {},
   "source": [
    "PY‡A"
   ]
  },
  {
   "cell_type": "code",
   "execution_count": 16,
   "metadata": {},
   "outputs": [
    {
     "data": {
      "text/plain": [
       "-4.191349489701679e-10"
      ]
     },
     "metadata": {},
     "output_type": "display_data"
    }
   ],
   "source": [
    "20.0*((var\"PL†A\"/40.0)^((40.0*1.0)/(80.0*1.0+20.0*1.0))*(var\"PK†A\"/60.0)^((60.0*1.0)/(80.0*1.0+20.0*1.0)))*((var\"PY\"/(((80.0*1.0)/(80.0*1.0+20.0*1.0))*(var\"PX\"/1.0)^(1.0+var\"telasa\"*1.0) + ((20.0*1.0)/(80.0*1.0+20.0*1.0))*(var\"PY\"/1.0)^(1.0+var\"telasa\"*1.0))^(1.0/(1.0+var\"telasa\"*1.0)))/1.0)^(var\"telasa\"*1.0)-var\"PY‡A\""
   ]
  },
  {
   "cell_type": "markdown",
   "metadata": {},
   "source": [
    "PX‡B"
   ]
  },
  {
   "cell_type": "code",
   "execution_count": 17,
   "metadata": {},
   "outputs": [
    {
     "data": {
      "text/plain": [
       "-2.02888372768939e-10"
      ]
     },
     "metadata": {},
     "output_type": "display_data"
    }
   ],
   "source": [
    "(20.0+var\"diff\")*((var\"PL†B\"/60.0)^((60.0*1.0)/((20.0+var\"diff\")*1.0+80.0*1.0))*(var\"PK†B\"/40.0)^((40.0*1.0)/((20.0+var\"diff\")*1.0+80.0*1.0))) *((var\"PX\"/((((20.0+var\"diff\")*1.0)/((20.0+var\"diff\")*1.0+80.0*1.0))*(var\"PX\"/1.0)^(1.0+var\"telasb\"*1.0)+((80.0*1.0)/((20.0+var\"diff\")*1.0+80.0*1.0))*(var\"PY\"/1.0)^(1.0+var\"telasb\"*1.0))^(1.0/(1.0+var\"telasb\"*1.0)))/1.0)^(var\"telasb\"*1.0)-var\"PX‡B\""
   ]
  },
  {
   "cell_type": "markdown",
   "metadata": {},
   "source": [
    "PY‡B"
   ]
  },
  {
   "cell_type": "code",
   "execution_count": 18,
   "metadata": {},
   "outputs": [
    {
     "data": {
      "text/plain": [
       "-5.411635584096075e-10"
      ]
     },
     "metadata": {},
     "output_type": "display_data"
    }
   ],
   "source": [
    "80.0*((var\"PL†B\"/60.0)^((60.0*1.0)/((20.0+var\"diff\")*1.0+80.0*1.0))*(var\"PK†B\"/40.0)^((40.0*1.0)/((20.0+var\"diff\")*1.0+80.0*1.0)))*((var\"PY\"/((((20.0+var\"diff\")*1.0)/((20.0+var\"diff\")*1.0+80.0*1.0))*(var\"PX\"/1.0)^(1.0+var\"telasb\"*1.0)+((80.0*1.0)/((20.0+var\"diff\")*1.0+80.0*1.0))*(var\"PY\"/1.0)^(1.0+var\"telasb\"*1.0))^(1.0/(1.0+var\"telasb\"*1.0)))/1.0)^(var\"telasb\"*1.0) - var\"PY‡B\""
   ]
  },
  {
   "cell_type": "markdown",
   "metadata": {},
   "source": [
    "PW‡W"
   ]
  },
  {
   "cell_type": "code",
   "execution_count": 19,
   "metadata": {},
   "outputs": [
    {
     "data": {
      "text/plain": [
       "-10.000000000402537"
      ]
     },
     "metadata": {},
     "output_type": "display_data"
    }
   ],
   "source": [
    "200.0*((var\"PX†W\"/(100.0+var\"diff\"))^(((100.0+var\"diff\")*1.0)/+(200.0*1.0))*(var\"PY†W\"/100.0)^((100.0*1.0)/+(200.0*1.0))) *((var\"PW\"/(+(((200.0*1.0)/+(200.0*1.0))*(var\"PW\"/1.0)^(1.0+0.0)))^(1.0/(1.0+0.0)))/1.0)^0.0-var\"PW‡W\""
   ]
  },
  {
   "cell_type": "markdown",
   "metadata": {},
   "source": [
    "PW‡W with 200 + diff"
   ]
  },
  {
   "cell_type": "code",
   "execution_count": 20,
   "metadata": {},
   "outputs": [
    {
     "data": {
      "text/plain": [
       "-4.0250824895338155e-10"
      ]
     },
     "metadata": {},
     "output_type": "display_data"
    }
   ],
   "source": [
    "(200.0+var\"diff\")*((var\"PX†W\"/(100.0+var\"diff\"))^(((100.0+var\"diff\")*1.0)/+(200.0+var\"diff\"*1.0))*(var\"PY†W\"/100.0)^((100.0*1.0)/+(200.0+var\"diff\"*1.0))) *((var\"PW\"/(+(((200.0*1.0+var\"diff\")/+(200.0*1.0+var\"diff\"))*(var\"PW\"/1.0)^(1.0+0.0)))^(1.0/(1.0+0.0)))/1.0)^0.0-var\"PW‡W\""
   ]
  },
  {
   "cell_type": "markdown",
   "metadata": {},
   "source": [
    "Final Demand"
   ]
  },
  {
   "cell_type": "markdown",
   "metadata": {},
   "source": [
    "PWρCONS"
   ]
  },
  {
   "cell_type": "code",
   "execution_count": 21,
   "metadata": {},
   "outputs": [
    {
     "data": {
      "text/plain": [
       "4.0935864831226354e-7"
      ]
     },
     "metadata": {},
     "output_type": "display_data"
    }
   ],
   "source": [
    "200.0*(var\"CONS\"/200.0)*(1.0/var\"PW\") - var\"PWρCONS\""
   ]
  },
  {
   "cell_type": "markdown",
   "metadata": {},
   "source": [
    "Zero Profit"
   ]
  },
  {
   "cell_type": "code",
   "execution_count": 22,
   "metadata": {},
   "outputs": [
    {
     "data": {
      "text/plain": [
       "5.5879638694023015e-9"
      ]
     },
     "metadata": {},
     "output_type": "display_data"
    }
   ],
   "source": [
    "(var\"PL\"*var\"PL†A\"+var\"PK\"*var\"PK†A\")-(var\"PX\"*var\"PX‡A\"+var\"PY\"*var\"PY‡A\")"
   ]
  },
  {
   "cell_type": "code",
   "execution_count": 23,
   "metadata": {},
   "outputs": [
    {
     "data": {
      "text/plain": [
       "5.567045491261524e-9"
      ]
     },
     "metadata": {},
     "output_type": "display_data"
    }
   ],
   "source": [
    "(var\"PL\"*var\"PL†B\"+var\"PK\"*var\"PK†B\")-(var\"PX\"*var\"PX‡B\"+var\"PY\"*var\"PY‡B\")"
   ]
  },
  {
   "cell_type": "code",
   "execution_count": 24,
   "metadata": {},
   "outputs": [
    {
     "data": {
      "text/plain": [
       "-6.477307579189073e-9"
      ]
     },
     "metadata": {},
     "output_type": "display_data"
    }
   ],
   "source": [
    "(var\"PX\"*var\"PX†W\"+var\"PY\"*var\"PY†W\")-+(var\"PW\"*var\"PW‡W\")"
   ]
  },
  {
   "cell_type": "markdown",
   "metadata": {},
   "source": [
    "Market Clearance"
   ]
  },
  {
   "cell_type": "code",
   "execution_count": 25,
   "metadata": {},
   "outputs": [
    {
     "data": {
      "text/plain": [
       "1.036848118474154e-8"
      ]
     },
     "metadata": {},
     "output_type": "display_data"
    }
   ],
   "source": [
    "(0.0+var\"A\"*var\"PX‡A\"+var\"B\"*var\"PX‡B\")-(0.0+var\"W\"*var\"PX†W\")"
   ]
  },
  {
   "cell_type": "markdown",
   "metadata": {},
   "source": [
    "PWρCONS"
   ]
  },
  {
   "cell_type": "code",
   "execution_count": 26,
   "metadata": {},
   "outputs": [
    {
     "data": {
      "text/plain": [
       "-1.7186607692565303e-9"
      ]
     },
     "metadata": {},
     "output_type": "display_data"
    }
   ],
   "source": [
    "(0.0+var\"W\"*var\"PW‡W\")-(0.0+var\"PWρCONS\")"
   ]
  },
  {
   "cell_type": "code",
   "execution_count": 27,
   "metadata": {},
   "outputs": [
    {
     "data": {
      "text/plain": [
       "1.579245179073041e-8"
      ]
     },
     "metadata": {},
     "output_type": "display_data"
    }
   ],
   "source": [
    "(0.0+var\"A\"*var\"PY‡A\"+var\"B\"*var\"PY‡B\")-(0.0+var\"W\"*var\"PY†W\")"
   ]
  },
  {
   "cell_type": "code",
   "execution_count": 28,
   "metadata": {},
   "outputs": [
    {
     "data": {
      "text/plain": [
       "-8.510085081070429e-9"
      ]
     },
     "metadata": {},
     "output_type": "display_data"
    }
   ],
   "source": [
    "(0.0+100.0)-(0.0+var\"A\"*var\"PL†A\"+var\"B\"*var\"PL†B\")"
   ]
  },
  {
   "cell_type": "code",
   "execution_count": 29,
   "metadata": {},
   "outputs": [
    {
     "data": {
      "text/plain": [
       "-3.1601530281477608e-9"
      ]
     },
     "metadata": {},
     "output_type": "display_data"
    }
   ],
   "source": [
    "(0.0+100.0)-(0.0+var\"A\"*var\"PK†A\"+var\"B\"*var\"PK†B\")"
   ]
  },
  {
   "cell_type": "markdown",
   "metadata": {},
   "source": [
    "Income Balance"
   ]
  },
  {
   "cell_type": "markdown",
   "metadata": {},
   "source": [
    "CONS"
   ]
  },
  {
   "cell_type": "code",
   "execution_count": 30,
   "metadata": {},
   "outputs": [
    {
     "data": {
      "text/plain": [
       "-3.729076070158044e-7"
      ]
     },
     "metadata": {},
     "output_type": "display_data"
    }
   ],
   "source": [
    "(100.0*var\"PL\"+100.0*var\"PK\")-var\"CONS\""
   ]
  },
  {
   "cell_type": "code",
   "execution_count": 4,
   "metadata": {},
   "outputs": [
    {
     "name": "stdout",
     "output_type": "stream",
     "text": [
      "Reading options file C:\\Users\\Eli\\AppData\\Local\\Temp\\jl_F3DA.tmp\n",
      " > cumulative_iteration_limit 0\n",
      "Read of options file complete.\n",
      "\n",
      "Path 5.0.03 (Fri Jun 26 10:05:33 2020)\n",
      "Written by Todd Munson, Steven Dirkse, Youngdae Kim, and Michael Ferris\n"
     ]
    },
    {
     "name": "stdout",
     "output_type": "stream",
     "text": [
      "\n",
      "Major Iteration Log\n",
      "major minor  func  grad  residual    step  type prox    inorm  (label)\n",
      "    0     0     1     1 0.0000e+00           I 0.0e+00 0.0e+00 (F_A)\n",
      "\n",
      "Major Iterations. . . . 0\n",
      "Minor Iterations. . . . 0\n",
      "Restarts. . . . . . . . 0\n",
      "Crash Iterations. . . . 0\n",
      "Gradient Steps. . . . . 0\n",
      "Function Evaluations. . 1\n",
      "Gradient Evaluations. . 1\n",
      "Basis Time. . . . . . . 0.000000\n",
      "Total Time. . . . . . . 0.156000\n",
      "Residual. . . . . . . . 0.000000e+00\n"
     ]
    },
    {
     "data": {
      "text/plain": [
       "MPSGE model with 3 sectors, 5 commodities and 1 consumers.\n",
       "  Sectors: A (bm=1.0), B (bm=1.0), W (bm=1.0)\n",
       "  Commodities: PX (bm=1.0), PY (bm=1.0), PW (bm=1.0), PL (bm=1.0), PK (bm=1.0)\n",
       "  Consumers: CONS (bm=200.0)\n",
       "Solution:\n",
       "  A:\t1.0\n",
       "  B:\t1.0\n",
       "  W:\t1.0\n",
       "  PX:\t1.0\n",
       "  PY:\t1.0\n",
       "  PW:\t1.0\n",
       "  PL:\t1.0\n",
       "  PK:\t1.0\n",
       "  PX‡A:\t80.0\n",
       "  PY‡A:\t20.0\n",
       "  PX‡B:\t20.0\n",
       "  PY‡B:\t80.0\n",
       "  PW‡W:\t200.0\n",
       "  PL†A:\t40.0\n",
       "  PK†A:\t60.0\n",
       "  PL†B:\t60.0\n",
       "  PK†B:\t40.0\n",
       "  PX†W:\t100.0\n",
       "  PY†W:\t100.0\n",
       "  CONS:\t200.0\n",
       "  PWρCONS:\t200.0\n"
      ]
     },
     "metadata": {},
     "output_type": "display_data"
    }
   ],
   "source": [
    "# Re- running with substitution elasticities back to 1 (Cobb-Douglas), but with joint Production and non-0 elasticities of transformation\n",
    "m = Model()\n",
    "\n",
    "@parameter(m, diff, 0.0)\n",
    "@parameter(m, t_elas_a, 0.0)\n",
    "@parameter(m, t_elas_b, 0.0)\n",
    "\n",
    "@sector(m, A)\n",
    "@sector(m, B)\n",
    "@sector(m, W)\n",
    "\n",
    "@commodity(m, PX)\n",
    "@commodity(m, PY)\n",
    "@commodity(m, PW)\n",
    "@commodity(m, PL)\n",
    "@commodity(m, PK)\n",
    "\n",
    "@consumer(m, CONS, benchmark=200.0)\n",
    "\n",
    "# @production(m, A, 0, 1, [Output(PX, 80), Output(PY, 20)], [Input(PL, 40), Input(PK, 60)])\n",
    "@production(m, A, :($t_elas_a*1.), 1, [Output(PX, 80), Output(PY, 20)], [Input(PL, 40), Input(PK, 60)])\n",
    "# @production(m, B, 0, 1, [Output(PX, 20), Output(PY, 80)], [Input(PL, 60), Input(PK, 40)])\n",
    "# @production(m, B, :($t_elas_b*1.), 1, [Output(PX, 20), Output(PY, 80)], [Input(PL, 60), Input(PK, 40)])\n",
    "@production(m, B, :($t_elas_b*1.), 1, [Output(PX, :(20+$diff)), Output(PY, 80)], [Input(PL, 60), Input(PK, 40)])\n",
    "@production(m, W, 0, 1, [Output(PW, :(200.0+$diff))],[Input(PX, :(100.0+$diff)), Input(PY, 100.0)])\n",
    "# @production(m, W, 0, 1, [Output(PW, 200.0)], [Input(PX, 100.0), Input(PY, 100.0)])\n",
    "# @production(m, W, 0.,1, [Output(PW, :(200.0+$diff))], [Input(PX, :(100.0+$diff)), Input(PY, 100.0)])\n",
    "\n",
    "@demand(m, CONS, 1., [Demand(PW, 200.)], [Endowment(PL, :(100.0+$diff/2)), Endowment(PK, :(100.0+$diff/2))])\n",
    "\n",
    "solve!(m, cumulative_iteration_limit=0)"
   ]
  },
  {
   "cell_type": "code",
   "execution_count": 2,
   "metadata": {},
   "outputs": [
    {
     "ename": "UndefVarError",
     "evalue": "UndefVarError: set_value not defined",
     "output_type": "error",
     "traceback": [
      "UndefVarError: set_value not defined\n",
      "\n",
      "Stacktrace:\n",
      " [1] top-level scope\n",
      "   @ c:\\Users\\Eli\\.julia\\dev\\MPSGE\\examples\\testEquations.ipynb:1"
     ]
    }
   ],
   "source": [
    "set_value(diff, 10.0)\n",
    "set_value(CONS, 210.0)\n",
    "set_fixed!(CONS, true)\n",
    "solve!(m)"
   ]
  },
  {
   "cell_type": "markdown",
   "metadata": {},
   "source": [
    "MPSGE.jl with +diff in output in production of W, CONS=210 !, set_fixed(CONS)"
   ]
  },
  {
   "cell_type": "code",
   "execution_count": 6,
   "metadata": {},
   "outputs": [],
   "source": [
    "var\"A\" = 0.848485886929491;\n",
    "var\"B\" = 1.14982276793912;\n",
    "var\"W\" = 1.00355108681491;\n",
    "var\"PX\" = 1.02312782283895;\n",
    "var\"PY\" = 0.873668476267856;\n",
    "var\"PW\" = 0.949010930184911;\n",
    "var\"PL\" = 1.03145065992569;\n",
    "var\"PK\" = 0.968549336345234;\n",
    "var\"PX‡A\" = 80.0000000016527;\n",
    "var\"PY‡A\" = 20.0000000004131;\n",
    "var\"PX‡B\" = 30.0175729911844;\n",
    "var\"PY‡B\" = 80.0468613098252;\n",
    "var\"PW‡W\" = 210.000000030199;\n",
    "var\"PL†A\" = 38.5180209657083;\n",
    "var\"PK†A\" = 61.5292943577626;\n",
    "var\"PL†B\" = 58.5464166336778;\n",
    "var\"PK†B\" = 41.5657642555907;\n",
    "var\"PX†W\" = 102.031437317168;\n",
    "var\"PY†W\" = 108.623689208714;\n",
    "var\"CONS\" = 200;\n",
    "var\"PWρCONS\" = 210.745728263156;\n",
    "var\"diff\" = 10.0;\n",
    "var\"telasa\" = 0.0;\n",
    "var\"telasb\" = 0.0;"
   ]
  },
  {
   "cell_type": "code",
   "execution_count": 366,
   "metadata": {},
   "outputs": [
    {
     "data": {
      "text/latex": [
       "$$ \\begin{alignat*}{3}\\\n",
       "& \\text{Compensated Demand} \\quad && \\quad && \\\\\n",
       "& \\quad 40.0 * ((PL†A / 40.0) ^ {(40.0 * 1.0) / (80.0 * 1.0 + 20.0 * 1.0)} * (PK†A / 60.0) ^ {(60.0 * 1.0) / (80.0 * 1.0 + 20.0 * 1.0)}) * (((((PL / 1.0) ^ {(40.0 * 1.0) / (80.0 * 1.0 + 20.0 * 1.0)} * (PK / 1.0) ^ {(60.0 * 1.0) / (80.0 * 1.0 + 20.0 * 1.0)}) * ((PL†A / 40.0) ^ {(40.0 * 1.0) / (80.0 * 1.0 + 20.0 * 1.0)} * (PK†A / 60.0) ^ {(60.0 * 1.0) / (80.0 * 1.0 + 20.0 * 1.0)})) * 1.0) / PL) ^ {1.0} - PL†A\\quad && \\perp \\quad && PL†A\\\\\n",
       "& \\quad 60.0 * ((PL†A / 40.0) ^ {(40.0 * 1.0) / (80.0 * 1.0 + 20.0 * 1.0)} * (PK†A / 60.0) ^ {(60.0 * 1.0) / (80.0 * 1.0 + 20.0 * 1.0)}) * (((((PL / 1.0) ^ {(40.0 * 1.0) / (80.0 * 1.0 + 20.0 * 1.0)} * (PK / 1.0) ^ {(60.0 * 1.0) / (80.0 * 1.0 + 20.0 * 1.0)}) * ((PL†A / 40.0) ^ {(40.0 * 1.0) / (80.0 * 1.0 + 20.0 * 1.0)} * (PK†A / 60.0) ^ {(60.0 * 1.0) / (80.0 * 1.0 + 20.0 * 1.0)})) * 1.0) / PK) ^ {1.0} - PK†A\\quad && \\perp \\quad && PK†A\\\\\n",
       "& \\quad 60.0 * ((PL†B / 60.0) ^ {(60.0 * 1.0) / ((20.0 + diff) * 1.0 + 80.0 * 1.0)} * (PK†B / 40.0) ^ {(40.0 * 1.0) / ((20.0 + diff) * 1.0 + 80.0 * 1.0)}) * (((((PL / 1.0) ^ {(60.0 * 1.0) / ((20.0 + diff) * 1.0 + 80.0 * 1.0)} * (PK / 1.0) ^ {(40.0 * 1.0) / ((20.0 + diff) * 1.0 + 80.0 * 1.0)}) * ((PL†B / 60.0) ^ {(60.0 * 1.0) / ((20.0 + diff) * 1.0 + 80.0 * 1.0)} * (PK†B / 40.0) ^ {(40.0 * 1.0) / ((20.0 + diff) * 1.0 + 80.0 * 1.0)})) * 1.0) / PL) ^ {1.0} - PL†B\\quad && \\perp \\quad && PL†B\\\\\n",
       "& \\quad 40.0 * ((PL†B / 60.0) ^ {(60.0 * 1.0) / ((20.0 + diff) * 1.0 + 80.0 * 1.0)} * (PK†B / 40.0) ^ {(40.0 * 1.0) / ((20.0 + diff) * 1.0 + 80.0 * 1.0)}) * (((((PL / 1.0) ^ {(60.0 * 1.0) / ((20.0 + diff) * 1.0 + 80.0 * 1.0)} * (PK / 1.0) ^ {(40.0 * 1.0) / ((20.0 + diff) * 1.0 + 80.0 * 1.0)}) * ((PL†B / 60.0) ^ {(60.0 * 1.0) / ((20.0 + diff) * 1.0 + 80.0 * 1.0)} * (PK†B / 40.0) ^ {(40.0 * 1.0) / ((20.0 + diff) * 1.0 + 80.0 * 1.0)})) * 1.0) / PK) ^ {1.0} - PK†B\\quad && \\perp \\quad && PK†B\\\\\n",
       "& \\quad (100.0 + diff) * ((PX†W / (100.0 + diff)) ^ {((100.0 + diff) * 1.0) / +((200.0 + diff) * 1.0)} * (PY†W / 100.0) ^ {(100.0 * 1.0) / +((200.0 + diff) * 1.0)}) * (((((PX / 1.0) ^ {((100.0 + diff) * 1.0) / +((200.0 + diff) * 1.0)} * (PY / 1.0) ^ {(100.0 * 1.0) / +((200.0 + diff) * 1.0)}) * ((PX†W / (100.0 + diff)) ^ {((100.0 + diff) * 1.0) / +((200.0 + diff) * 1.0)} * (PY†W / 100.0) ^ {(100.0 * 1.0) / +((200.0 + diff) * 1.0)})) * 1.0) / PX) ^ {1.0} - PX†W\\quad && \\perp \\quad && PX†W\\\\\n",
       "& \\quad 100.0 * ((PX†W / (100.0 + diff)) ^ {((100.0 + diff) * 1.0) / +((200.0 + diff) * 1.0)} * (PY†W / 100.0) ^ {(100.0 * 1.0) / +((200.0 + diff) * 1.0)}) * (((((PX / 1.0) ^ {((100.0 + diff) * 1.0) / +((200.0 + diff) * 1.0)} * (PY / 1.0) ^ {(100.0 * 1.0) / +((200.0 + diff) * 1.0)}) * ((PX†W / (100.0 + diff)) ^ {((100.0 + diff) * 1.0) / +((200.0 + diff) * 1.0)} * (PY†W / 100.0) ^ {(100.0 * 1.0) / +((200.0 + diff) * 1.0)})) * 1.0) / PY) ^ {1.0} - PY†W\\quad && \\perp \\quad && PY†W\\\\\n",
       "& \\text{Compensated Supply} \\quad && \\quad && \\\\\n",
       "& \\quad 80.0 * ((PL†A / 40.0) ^ {(40.0 * 1.0) / (80.0 * 1.0 + 20.0 * 1.0)} * (PK†A / 60.0) ^ {(60.0 * 1.0) / (80.0 * 1.0 + 20.0 * 1.0)}) * ((PX / (((80.0 * 1.0) / (80.0 * 1.0 + 20.0 * 1.0)) * (PX / 1.0) ^ {1.0 + t_elas_a * 1.0} + ((20.0 * 1.0) / (80.0 * 1.0 + 20.0 * 1.0)) * (PY / 1.0) ^ {1.0 + t_elas_a * 1.0}) ^ {1.0 / (1.0 + t_elas_a * 1.0)}) / 1.0) ^ {t_elas_a * 1.0} - PX‡A\\quad && \\perp \\quad && PX‡A\\\\\n",
       "& \\quad 20.0 * ((PL†A / 40.0) ^ {(40.0 * 1.0) / (80.0 * 1.0 + 20.0 * 1.0)} * (PK†A / 60.0) ^ {(60.0 * 1.0) / (80.0 * 1.0 + 20.0 * 1.0)}) * ((PY / (((80.0 * 1.0) / (80.0 * 1.0 + 20.0 * 1.0)) * (PX / 1.0) ^ {1.0 + t_elas_a * 1.0} + ((20.0 * 1.0) / (80.0 * 1.0 + 20.0 * 1.0)) * (PY / 1.0) ^ {1.0 + t_elas_a * 1.0}) ^ {1.0 / (1.0 + t_elas_a * 1.0)}) / 1.0) ^ {t_elas_a * 1.0} - PY‡A\\quad && \\perp \\quad && PY‡A\\\\\n",
       "& \\quad (20.0 + diff) * ((PL†B / 60.0) ^ {(60.0 * 1.0) / ((20.0 + diff) * 1.0 + 80.0 * 1.0)} * (PK†B / 40.0) ^ {(40.0 * 1.0) / ((20.0 + diff) * 1.0 + 80.0 * 1.0)}) * ((PX / ((((20.0 + diff) * 1.0) / ((20.0 + diff) * 1.0 + 80.0 * 1.0)) * (PX / 1.0) ^ {1.0 + t_elas_b * 1.0} + ((80.0 * 1.0) / ((20.0 + diff) * 1.0 + 80.0 * 1.0)) * (PY / 1.0) ^ {1.0 + t_elas_b * 1.0}) ^ {1.0 / (1.0 + t_elas_b * 1.0)}) / 1.0) ^ {t_elas_b * 1.0} - PX‡B\\quad && \\perp \\quad && PX‡B\\\\\n",
       "& \\quad 80.0 * ((PL†B / 60.0) ^ {(60.0 * 1.0) / ((20.0 + diff) * 1.0 + 80.0 * 1.0)} * (PK†B / 40.0) ^ {(40.0 * 1.0) / ((20.0 + diff) * 1.0 + 80.0 * 1.0)}) * ((PY / ((((20.0 + diff) * 1.0) / ((20.0 + diff) * 1.0 + 80.0 * 1.0)) * (PX / 1.0) ^ {1.0 + t_elas_b * 1.0} + ((80.0 * 1.0) / ((20.0 + diff) * 1.0 + 80.0 * 1.0)) * (PY / 1.0) ^ {1.0 + t_elas_b * 1.0}) ^ {1.0 / (1.0 + t_elas_b * 1.0)}) / 1.0) ^ {t_elas_b * 1.0} - PY‡B\\quad && \\perp \\quad && PY‡B\\\\\n",
       "& \\quad (200.0 + diff) * ((PX†W / (100.0 + diff)) ^ {((100.0 + diff) * 1.0) / +((200.0 + diff) * 1.0)} * (PY†W / 100.0) ^ {(100.0 * 1.0) / +((200.0 + diff) * 1.0)}) * ((PW / (+((((200.0 + diff) * 1.0) / +((200.0 + diff) * 1.0)) * (PW / 1.0) ^ {1.0 + 0.0})) ^ {1.0 / (1.0 + 0.0)}) / 1.0) ^ {0.0} - PW‡W\\quad && \\perp \\quad && PW‡W\\\\\n",
       "& \\text{Final Demand} \\quad && \\quad && \\\\\n",
       "& \\quad 200.0 * (CONS / 200.0) * (1.0 / PW) - PWρCONS\\quad && \\perp \\quad && PWρCONS\\\\\n",
       "& \\text{Zero Profit} \\quad && \\quad && \\\\\n",
       "& \\quad (PL * PL†A + PK * PK†A) - (PX * PX‡A + PY * PY‡A)\\quad && \\perp \\quad && 0.0 <A\\\\\n",
       "& \\quad (PL * PL†B + PK * PK†B) - (PX * PX‡B + PY * PY‡B)\\quad && \\perp \\quad && 0.0 <B\\\\\n",
       "& \\quad (PX * PX†W + PY * PY†W) - +(PW * PW‡W)\\quad && \\perp \\quad && 0.0 <W\\\\\n",
       "& \\text{Market clearance} \\quad && \\quad && \\\\\n",
       "& \\quad (0.0 + 100.0) - (0.0 + A * PL†A + B * PL†B)\\quad && \\perp \\quad && 0.001 <PL\\\\\n",
       "& \\quad (0.0 + 100.0) - (0.0 + A * PK†A + B * PK†B)\\quad && \\perp \\quad && 0.001 <PK\\\\\n",
       "& \\quad (0.0 + W * PW‡W) - (0.0 + PWρCONS)\\quad && \\perp \\quad && 0.001 <PW\\\\\n",
       "& \\quad (0.0 + A * PX‡A + B * PX‡B) - (0.0 + W * PX†W)\\quad && \\perp \\quad && 0.001 <PX\\\\\n",
       "& \\quad (0.0 + A * PY‡A + B * PY‡B) - (0.0 + W * PY†W)\\quad && \\perp \\quad && 0.001 <PY\\\\\n",
       "& \\text{Income balance} \\quad && \\quad && \\\\\n",
       "& \\quad (100.0 * PL + 100.0 * PK) - CONS\\quad && \\perp \\quad && CONS = 200.0\\\\\n",
       "\\end{alignat*}\n",
       " $$\n"
      ],
      "text/plain": [
       "Mixed complementarity problem with 21 constraints:\n",
       "  Compensated Demand\n",
       "    40.0 * ((PL†A / 40.0) ^ ((40.0 * 1.0) / (80.0 * 1.0 + 20.0 * 1.0)) * (PK†A / 60.0) ^ ((60.0 * 1.0) / (80.0 * 1.0 + 20.0 * 1.0))) * (((((PL / 1.0) ^ ((40.0 * 1.0) / (80.0 * 1.0 + 20.0 * 1.0)) * (PK / 1.0) ^ ((60.0 * 1.0) / (80.0 * 1.0 + 20.0 * 1.0))) * ((PL†A / 40.0) ^ ((40.0 * 1.0) / (80.0 * 1.0 + 20.0 * 1.0)) * (PK†A / 60.0) ^ ((60.0 * 1.0) / (80.0 * 1.0 + 20.0 * 1.0)))) * 1.0) / PL) ^ 1.0 - PL†A                                                        ┴  PL†A\n",
       "    60.0 * ((PL†A / 40.0) ^ ((40.0 * 1.0) / (80.0 * 1.0 + 20.0 * 1.0)) * (PK†A / 60.0) ^ ((60.0 * 1.0) / (80.0 * 1.0 + 20.0 * 1.0))) * (((((PL / 1.0) ^ ((40.0 * 1.0) / (80.0 * 1.0 + 20.0 * 1.0)) * (PK / 1.0) ^ ((60.0 * 1.0) / (80.0 * 1.0 + 20.0 * 1.0))) * ((PL†A / 40.0) ^ ((40.0 * 1.0) / (80.0 * 1.0 + 20.0 * 1.0)) * (PK†A / 60.0) ^ ((60.0 * 1.0) / (80.0 * 1.0 + 20.0 * 1.0)))) * 1.0) / PK) ^ 1.0 - PK†A                                                        ┴  PK†A\n",
       "    60.0 * ((PL†B / 60.0) ^ ((60.0 * 1.0) / ((20.0 + diff) * 1.0 + 80.0 * 1.0)) * (PK†B / 40.0) ^ ((40.0 * 1.0) / ((20.0 + diff) * 1.0 + 80.0 * 1.0))) * (((((PL / 1.0) ^ ((60.0 * 1.0) / ((20.0 + diff) * 1.0 + 80.0 * 1.0)) * (PK / 1.0) ^ ((40.0 * 1.0) / ((20.0 + diff) * 1.0 + 80.0 * 1.0))) * ((PL†B / 60.0) ^ ((60.0 * 1.0) / ((20.0 + diff) * 1.0 + 80.0 * 1.0)) * (PK†B / 40.0) ^ ((40.0 * 1.0) / ((20.0 + diff) * 1.0 + 80.0 * 1.0)))) * 1.0) / PL) ^ 1.0 - PL†B  ┴  PL†B\n",
       "    40.0 * ((PL†B / 60.0) ^ ((60.0 * 1.0) / ((20.0 + diff) * 1.0 + 80.0 * 1.0)) * (PK†B / 40.0) ^ ((40.0 * 1.0) / ((20.0 + diff) * 1.0 + 80.0 * 1.0))) * (((((PL / 1.0) ^ ((60.0 * 1.0) / ((20.0 + diff) * 1.0 + 80.0 * 1.0)) * (PK / 1.0) ^ ((40.0 * 1.0) / ((20.0 + diff) * 1.0 + 80.0 * 1.0))) * ((PL†B / 60.0) ^ ((60.0 * 1.0) / ((20.0 + diff) * 1.0 + 80.0 * 1.0)) * (PK†B / 40.0) ^ ((40.0 * 1.0) / ((20.0 + diff) * 1.0 + 80.0 * 1.0)))) * 1.0) / PK) ^ 1.0 - PK†B  ┴  PK†B\n",
       "    (100.0 + diff) * ((PX†W / (100.0 + diff)) ^ (((100.0 + diff) * 1.0) / +((200.0 + diff) * 1.0)) * (PY†W / 100.0) ^ ((100.0 * 1.0) / +((200.0 + diff) * 1.0))) * (((((PX / 1.0) ^ (((100.0 + diff) * 1.0) / +((200.0 + diff) * 1.0)) * (PY / 1.0) ^ ((100.0 * 1.0) / +((200.0 + diff) * 1.0))) * ((PX†W / (100.0 + diff)) ^ (((100.0 + diff) * 1.0) / +((200.0 + diff) * 1.0)) * (PY†W / 100.0) ^ ((100.0 * 1.0) / +((200.0 + diff) * 1.0)))) * 1.0) / PX) ^ 1.0 - PX†W   ┴  PX†W\n",
       "    100.0 * ((PX†W / (100.0 + diff)) ^ (((100.0 + diff) * 1.0) / +((200.0 + diff) * 1.0)) * (PY†W / 100.0) ^ ((100.0 * 1.0) / +((200.0 + diff) * 1.0))) * (((((PX / 1.0) ^ (((100.0 + diff) * 1.0) / +((200.0 + diff) * 1.0)) * (PY / 1.0) ^ ((100.0 * 1.0) / +((200.0 + diff) * 1.0))) * ((PX†W / (100.0 + diff)) ^ (((100.0 + diff) * 1.0) / +((200.0 + diff) * 1.0)) * (PY†W / 100.0) ^ ((100.0 * 1.0) / +((200.0 + diff) * 1.0)))) * 1.0) / PY) ^ 1.0 - PY†W            ┴  PY†W\n",
       "  Compensated Supply\n",
       "    80.0 * ((PL†A / 40.0) ^ ((40.0 * 1.0) / (80.0 * 1.0 + 20.0 * 1.0)) * (PK†A / 60.0) ^ ((60.0 * 1.0) / (80.0 * 1.0 + 20.0 * 1.0))) * ((PX / (((80.0 * 1.0) / (80.0 * 1.0 + 20.0 * 1.0)) * (PX / 1.0) ^ (1.0 + t_elas_a * 1.0) + ((20.0 * 1.0) / (80.0 * 1.0 + 20.0 * 1.0)) * (PY / 1.0) ^ (1.0 + t_elas_a * 1.0)) ^ (1.0 / (1.0 + t_elas_a * 1.0))) / 1.0) ^ (t_elas_a * 1.0) - PX‡A                                                                                      ┴  PX‡A\n",
       "    20.0 * ((PL†A / 40.0) ^ ((40.0 * 1.0) / (80.0 * 1.0 + 20.0 * 1.0)) * (PK†A / 60.0) ^ ((60.0 * 1.0) / (80.0 * 1.0 + 20.0 * 1.0))) * ((PY / (((80.0 * 1.0) / (80.0 * 1.0 + 20.0 * 1.0)) * (PX / 1.0) ^ (1.0 + t_elas_a * 1.0) + ((20.0 * 1.0) / (80.0 * 1.0 + 20.0 * 1.0)) * (PY / 1.0) ^ (1.0 + t_elas_a * 1.0)) ^ (1.0 / (1.0 + t_elas_a * 1.0))) / 1.0) ^ (t_elas_a * 1.0) - PY‡A                                                                                      ┴  PY‡A\n",
       "    (20.0 + diff) * ((PL†B / 60.0) ^ ((60.0 * 1.0) / ((20.0 + diff) * 1.0 + 80.0 * 1.0)) * (PK†B / 40.0) ^ ((40.0 * 1.0) / ((20.0 + diff) * 1.0 + 80.0 * 1.0))) * ((PX / ((((20.0 + diff) * 1.0) / ((20.0 + diff) * 1.0 + 80.0 * 1.0)) * (PX / 1.0) ^ (1.0 + t_elas_b * 1.0) + ((80.0 * 1.0) / ((20.0 + diff) * 1.0 + 80.0 * 1.0)) * (PY / 1.0) ^ (1.0 + t_elas_b * 1.0)) ^ (1.0 / (1.0 + t_elas_b * 1.0))) / 1.0) ^ (t_elas_b * 1.0) - PX‡B                                ┴  PX‡B\n",
       "    80.0 * ((PL†B / 60.0) ^ ((60.0 * 1.0) / ((20.0 + diff) * 1.0 + 80.0 * 1.0)) * (PK†B / 40.0) ^ ((40.0 * 1.0) / ((20.0 + diff) * 1.0 + 80.0 * 1.0))) * ((PY / ((((20.0 + diff) * 1.0) / ((20.0 + diff) * 1.0 + 80.0 * 1.0)) * (PX / 1.0) ^ (1.0 + t_elas_b * 1.0) + ((80.0 * 1.0) / ((20.0 + diff) * 1.0 + 80.0 * 1.0)) * (PY / 1.0) ^ (1.0 + t_elas_b * 1.0)) ^ (1.0 / (1.0 + t_elas_b * 1.0))) / 1.0) ^ (t_elas_b * 1.0) - PY‡B                                         ┴  PY‡B\n",
       "    (200.0 + diff) * ((PX†W / (100.0 + diff)) ^ (((100.0 + diff) * 1.0) / +((200.0 + diff) * 1.0)) * (PY†W / 100.0) ^ ((100.0 * 1.0) / +((200.0 + diff) * 1.0))) * ((PW / (+((((200.0 + diff) * 1.0) / +((200.0 + diff) * 1.0)) * (PW / 1.0) ^ (1.0 + 0.0))) ^ (1.0 / (1.0 + 0.0))) / 1.0) ^ 0.0 - PW‡W                                                                                                                                                                     ┴  PW‡W\n",
       "  Final Demand\n",
       "    200.0 * (CONS / 200.0) * (1.0 / PW) - PWρCONS                                                                                                                                                                                                                                                                                                                                                                                                                           ┴  PWρCONS\n",
       "  Zero Profit\n",
       "    (PL * PL†A + PK * PK†A) - (PX * PX‡A + PY * PY‡A)                                                                                                                                                                                                                                                                                                                                                                                                                       ┴  0.0 < A\n",
       "    (PL * PL†B + PK * PK†B) - (PX * PX‡B + PY * PY‡B)                                                                                                                                                                                                                                                                                                                                                                                                                       ┴  0.0 < B\n",
       "    (PX * PX†W + PY * PY†W) - +(PW * PW‡W)                                                                                                                                                                                                                                                                                                                                                                                                                                  ┴  0.0 < W\n",
       "  Market clearance\n",
       "    (0.0 + 100.0) - (0.0 + A * PL†A + B * PL†B)                                                                                                                                                                                                                                                                                                                                                                                                                             ┴  0.001 < PL\n",
       "    (0.0 + 100.0) - (0.0 + A * PK†A + B * PK†B)                                                                                                                                                                                                                                                                                                                                                                                                                             ┴  0.001 < PK\n",
       "    (0.0 + W * PW‡W) - (0.0 + PWρCONS)                                                                                                                                                                                                                                                                                                                                                                                                                                      ┴  0.001 < PW\n",
       "    (0.0 + A * PX‡A + B * PX‡B) - (0.0 + W * PX†W)                                                                                                                                                                                                                                                                                                                                                                                                                          ┴  0.001 < PX\n",
       "    (0.0 + A * PY‡A + B * PY‡B) - (0.0 + W * PY†W)                                                                                                                                                                                                                                                                                                                                                                                                                          ┴  0.001 < PY\n",
       "  Income balance\n",
       "    (100.0 * PL + 100.0 * PK) - CONS                                                                                                                                                                                                                                                                                                                                                                                                                                        ┴  CONS = 200.0\n"
      ]
     },
     "metadata": {},
     "output_type": "display_data"
    }
   ],
   "source": [
    "algebraic_version(m)"
   ]
  },
  {
   "cell_type": "code",
   "execution_count": 42,
   "metadata": {},
   "outputs": [],
   "source": [
    "var\"A\" = 0.848485887028813;\n",
    "var\"B\" = 1.1498227676934;\n",
    "var\"W\" = 1.00116661474806;\n",
    "var\"PX\" = 1.02312782444076;\n",
    "var\"PY\" = 0.873668477712462;\n",
    "var\"PW\" = 0.996342963298626;\n",
    "var\"PL\" = 1.03145066159654;\n",
    "var\"PK\" = 0.968549337755956;\n",
    "var\"PX‡A\" = 79.9999999991213;\n",
    "var\"PY‡A\" = 19.9999999997803;\n",
    "var\"PX‡B\" = 30.0175729950135;\n",
    "var\"PY‡B\" = 80.046861320036;\n",
    "var\"PW‡W\" = 200.500185435383;\n",
    "var\"PL†A\" = 38.5180209646106;\n",
    "var\"PK†A\" = 61.5292943557501;\n",
    "var\"PL†B\" = 58.5464166427576;\n",
    "var\"PK†B\" = 41.5657642603034;\n",
    "var\"PX†W\" = 102.274444938631;\n",
    "var\"PY†W\" = 108.88239754489;\n",
    "var\"CONS\" = 200;\n",
    "var\"PWρCONS\" = 200.734091909485;\n",
    "var\"diff\" = 10.0;\n",
    "var\"telasa\" = 0.0;\n",
    "var\"telasb\" = 0.0;"
   ]
  },
  {
   "cell_type": "markdown",
   "metadata": {},
   "source": [
    "GAMS, 1st counterfactual"
   ]
  },
  {
   "cell_type": "code",
   "execution_count": 342,
   "metadata": {},
   "outputs": [],
   "source": [
    "var\"A\" = 0.84841618;\n",
    "var\"B\" = 1.15063251;\n",
    "var\"W\" = 1.00358509;\n",
    "var\"PX\" = 1.02314272;\n",
    "var\"PY\" = 0.87359232;\n",
    "var\"PW\" = 0.99642771;\n",
    "var\"PL\" = 1.03146507;\n",
    "var\"PK\" = 0.96853493;\n",
    "var\"PX‡A\" = 80;\n",
    "var\"PY‡A\" = 20;\n",
    "var\"PX‡B\" = 30;\n",
    "var\"PY‡B\" = 80;\n",
    "var\"PW‡W\" = 200.717;\n",
    "var\"PL†A\" = 38.51735423;\n",
    "var\"PK†A\" = 61.5300044;\n",
    "var\"PL†B\" = 58.50804067;\n",
    "var\"PK†B\" = 41.53971715;\n",
    "var\"PX†W\" = 102.3923;\n",
    "var\"PY†W\" = 109.0189;\n",
    "var\"CONS\" = 200;\n",
    "var\"PWρCONS\" = 200.717;\n",
    "var\"diff\" = 10.0;\n",
    "var\"telasa\" = 0.0;\n",
    "var\"telasb\" = 0.0;"
   ]
  },
  {
   "cell_type": "code",
   "execution_count": 64,
   "metadata": {},
   "outputs": [
    {
     "ename": "ErrorException",
     "evalue": "syntax: \"^\" is not a unary operator",
     "output_type": "error",
     "traceback": [
      "syntax: \"^\" is not a unary operator\n",
      "\n",
      "Stacktrace:\n",
      " [1] top-level scope\n",
      "   @ c:\\Users\\Eli\\.julia\\dev\\MPSGE\\examples\\testEquations.ipynb:1"
     ]
    }
   ],
   "source": [
    "set_value(PW, 1.0)\n",
    "set_fixed!(PW, true)\n",
    "# set_fixed!(CONS, false)\n",
    "solve!(m)\n",
    "\n",
    "set_value(t_elas_a,^2.0)\n",
    "set_value(t_elas_b,^1.5)\n",
    "solve!(m)"
   ]
  }
 ],
 "metadata": {
  "kernelspec": {
   "display_name": "Julia 1.8.1",
   "language": "julia",
   "name": "julia-1.8"
  },
  "language_info": {
   "file_extension": ".jl",
   "mimetype": "application/julia",
   "name": "julia",
   "version": "1.8.1"
  },
  "orig_nbformat": 4
 },
 "nbformat": 4,
 "nbformat_minor": 2
}
