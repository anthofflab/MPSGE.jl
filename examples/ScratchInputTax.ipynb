{
 "cells": [
  {
   "attachments": {},
   "cell_type": "markdown",
   "metadata": {},
   "source": [
    "GAMS: Itax=0.1, Intax in X, PL AND PK, endow=1.1, PL=1"
   ]
  },
  {
   "cell_type": "code",
   "execution_count": 179,
   "metadata": {},
   "outputs": [
    {
     "data": {
      "text/plain": [
       "0.0"
      ]
     },
     "metadata": {},
     "output_type": "display_data"
    }
   ],
   "source": [
    "var\"endow\"=1.1\n",
    "var\"X\" = 1.03413947\n",
    "var\"PL\"=1.0\n",
    "var\"PK\"=1.17638889\n",
    "var\"PX\"=1.13755342\n",
    "var\"Itax\"=0.1\n",
    "var\"Otax\"=0.0\n"
   ]
  },
  {
   "attachments": {},
   "cell_type": "markdown",
   "metadata": {},
   "source": [
    "????,PX=1?"
   ]
  },
  {
   "cell_type": "code",
   "execution_count": null,
   "metadata": {},
   "outputs": [
    {
     "data": {
      "text/plain": [
       "1.0152782"
      ]
     },
     "metadata": {},
     "output_type": "display_data"
    }
   ],
   "source": [
    "var\"endow\"=1.1\n",
    "var\"X\" = 1.01527820\n",
    "var\"PK\"=0.95759194\n",
    "var\"PL\"=0.86304640\n",
    "var\"PX\"=1.0\n",
    "var\"Itax\"=0.1\n",
    "var\"Otax\"=0.0\n"
   ]
  },
  {
   "cell_type": "code",
   "execution_count": 169,
   "metadata": {},
   "outputs": [
    {
     "data": {
      "text/plain": [
       "0.0"
      ]
     },
     "metadata": {},
     "output_type": "display_data"
    }
   ],
   "source": [
    "var\"endow\"=1.1\n",
    "var\"X\" = 1.04880885\n",
    "var\"PK\"=1.1\n",
    "var\"PL\"=1.0\n",
    "var\"PX\"=1.04880885\n",
    "var\"Itax\"=0.1\n",
    "var\"Otax\"=0.0\n"
   ]
  },
  {
   "attachments": {},
   "cell_type": "markdown",
   "metadata": {},
   "source": [
    "MPSGE.jl, Itax=0.1"
   ]
  },
  {
   "cell_type": "code",
   "execution_count": 145,
   "metadata": {},
   "outputs": [
    {
     "data": {
      "text/plain": [
       "0.0"
      ]
     },
     "metadata": {},
     "output_type": "display_data"
    }
   ],
   "source": [
    "var\"endow\"=1.1\n",
    "var\"X\"=  1.0614399473674703\n",
    "var\"PX\"=   1.0\n",
    "var\"PL\"=  0.9952726028229768\n",
    "var\"PK\"=   1.0047498516121258\n",
    "var\"Itax\"=0.1\n",
    "var\"Otax\"=0.0\n",
    "# PX‡X: 90.9090909090909\n",
    "# PY‡Y: 45.45454545454545\n",
    "# PU‡U: 149.99999999999997\n",
    "\n",
    "# RA:   160.66358897042522\n"
   ]
  },
  {
   "attachments": {},
   "cell_type": "markdown",
   "metadata": {},
   "source": [
    "MPSGE.jl with get_jump_expression_for_commodity_consumer_price in build_zeroprofit"
   ]
  },
  {
   "cell_type": "code",
   "execution_count": 157,
   "metadata": {},
   "outputs": [
    {
     "data": {
      "text/plain": [
       "0.0"
      ]
     },
     "metadata": {},
     "output_type": "display_data"
    }
   ],
   "source": [
    "var\"endow\"=1.1\n",
    "var\"X\"=  1.0132514636312302\n",
    "var\"PX\"=  1.1145766099943533\n",
    "var\"PL\"=  1.0\n",
    "var\"PK\"=   1.0266785285508306\n",
    "var\"Itax\"=0.1\n",
    "var\"Otax\"=0.0\n",
    "# PX‡X: 90.9090909090909\n",
    "# PY‡Y: 45.45454545454545\n",
    "# PU‡U: 149.99999999999997\n",
    "\n",
    "# RA:   160.66358897042522\n"
   ]
  },
  {
   "cell_type": "code",
   "execution_count": 185,
   "metadata": {},
   "outputs": [
    {
     "data": {
      "text/plain": [
       "11.253448266092441"
      ]
     },
     "metadata": {},
     "output_type": "display_data"
    }
   ],
   "source": [
    "# ((70.0 * var\"endow\") * var\"PL\" + 80.0 * var\"PK\") + ( 0.0 + (var\"Otax\" * 1.0) * 100.0 * var\"PX\" * var\"X\" \n",
    "#  + \n",
    "(var\"Itax\" * 1.0) * 50.0 * var\"PL\" * var\"X\" +  (var\"Itax\" *  1.0 ) * 50.0 * var\"PK\" * var\"X\"\n",
    "#  )"
   ]
  },
  {
   "attachments": {},
   "cell_type": "markdown",
   "metadata": {},
   "source": [
    "Benchmark"
   ]
  },
  {
   "cell_type": "code",
   "execution_count": 27,
   "metadata": {},
   "outputs": [
    {
     "data": {
      "text/plain": [
       "0.0"
      ]
     },
     "metadata": {},
     "output_type": "display_data"
    }
   ],
   "source": [
    "var\"endow\"=1\n",
    "var\"X\" = 1\n",
    "var\"PX\"=1.0\n",
    "var\"PL\"=1.0\n",
    "var\"PK\"=1.0\n",
    "var\"Itax\"=0.0\n",
    "var\"Otax\"=0.0\n"
   ]
  },
  {
   "attachments": {},
   "cell_type": "markdown",
   "metadata": {},
   "source": [
    "GAMS: PX=1"
   ]
  },
  {
   "cell_type": "code",
   "execution_count": 46,
   "metadata": {},
   "outputs": [
    {
     "data": {
      "text/plain": [
       "0.0"
      ]
     },
     "metadata": {},
     "output_type": "display_data"
    }
   ],
   "source": [
    "var\"endow\"=1.1\n",
    "var\"X\" = 1.04880885\n",
    "var\"PX\"=1.0\n",
    "var\"PL\"=0.95346259\n",
    "var\"PK\"=1.04880885\n",
    "var\"Itax\"=0.0\n",
    "var\"Otax\"=0.0\n",
    "# 157.32132743\n"
   ]
  },
  {
   "attachments": {},
   "cell_type": "markdown",
   "metadata": {},
   "source": [
    "GAMS: Otax=1"
   ]
  },
  {
   "cell_type": "code",
   "execution_count": 50,
   "metadata": {},
   "outputs": [
    {
     "data": {
      "text/plain": [
       "0.1"
      ]
     },
     "metadata": {},
     "output_type": "display_data"
    }
   ],
   "source": [
    "var\"endow\"=1.1\n",
    "var\"X\" = 1.04880885\n",
    "var\"PX\"=1.0\n",
    "var\"PL\"=0.85811633\n",
    "var\"PK\"=0.94392796\n",
    "var\"Itax\"=0.0\n",
    "var\"Otax\"=0.1 \n",
    "# 152.07728271000002 , should be \n",
    "# 157.32132743, but ? ...the expression would be built differently...? \n",
    "# I don't think so actually bc the Otax is already in there, even though it is 0 in this solve.\n"
   ]
  },
  {
   "cell_type": "markdown",
   "metadata": {},
   "source": [
    "Tax from inputs: 9.24227208343094\n",
    "Endowments after input tax: 143.061928\n",
    "\n"
   ]
  },
  {
   "cell_type": "code",
   "execution_count": 26,
   "metadata": {},
   "outputs": [
    {
     "data": {
      "text/plain": [
       "152.30420008343094"
      ]
     },
     "metadata": {},
     "output_type": "display_data"
    }
   ],
   "source": [
    "9.24227208343094 + 143.061928"
   ]
  },
  {
   "cell_type": "code",
   "execution_count": 60,
   "metadata": {},
   "outputs": [
    {
     "data": {
      "text/plain": [
       "0.1"
      ]
     },
     "metadata": {},
     "output_type": "display_data"
    }
   ],
   "source": [
    "var\"X\"=0.87832081\n",
    "var\"PX\"=1.07574196\n",
    "var\"PL\"=0.97416340\n",
    "var\"PK\"= 0.93647856\n",
    "var\"Itax\"=0.1"
   ]
  },
  {
   "cell_type": "code",
   "execution_count": 63,
   "metadata": {},
   "outputs": [
    {
     "data": {
      "text/plain": [
       "217.12569916022042"
      ]
     },
     "metadata": {},
     "output_type": "display_data"
    }
   ],
   "source": [
    "((100.0 * var\"PL\" + 100.0 * var\"PK\") + (0.0 + (var\"Otax\" * 1.0) * 80.0 * var\"PX\" * var\"X\" + (var\"Itax\" * 1.0) * 50.0 * var\"PL\" * var\"X\" + (var\"Itax\" * 1.0) * 50.0 * var\"PK\" * var\"X\"))\n",
    "100     *     PL +  100   *      PK                                                       +     TA            * 100                 *A  *PL**0.4*PK**0.6"
   ]
  },
  {
   "cell_type": "code",
   "execution_count": 62,
   "metadata": {},
   "outputs": [
    {
     "data": {
      "text/plain": [
       "0.1"
      ]
     },
     "metadata": {},
     "output_type": "display_data"
    }
   ],
   "source": [
    "var\"X\"=1.7312491724774404\n",
    "var\"PX\"=0.995888769645965\n",
    "var\"PL\"=1.0378488410596052\n",
    "var\"PK\"= 0.9604320441019296\n",
    "var\"Itax\"=0.1"
   ]
  },
  {
   "cell_type": "code",
   "execution_count": null,
   "metadata": {},
   "outputs": [],
   "source": [
    "TA            * 100                 *A  *PL**0.4*PK**0.6 == \n",
    "(var\"Itax\" * 1.0) * 50.0 * var\"PL\" * var\"X\" + (var\"Itax\" * 1.0) * 50.0 * var\"PK\" * var\"X\""
   ]
  },
  {
   "cell_type": "code",
   "execution_count": 64,
   "metadata": {},
   "outputs": [
    {
     "data": {
      "text/plain": [
       "0.87832081"
      ]
     },
     "metadata": {},
     "output_type": "display_data"
    }
   ],
   "source": [
    "var\"TA\"=0.1\n",
    "var\"PL\"= 0.97416340 \n",
    "var\"PK\"=  0.93647856\n",
    "var\"A\"=0.87832081"
   ]
  },
  {
   "cell_type": "code",
   "execution_count": 66,
   "metadata": {},
   "outputs": [
    {
     "data": {
      "text/plain": [
       "8.356118679017749"
      ]
     },
     "metadata": {},
     "output_type": "display_data"
    }
   ],
   "source": [
    "var\"TA\"            * 100                 *var\"A\"  *var\"PL\"^0.4*var\"PK\"^0.6"
   ]
  },
  {
   "cell_type": "code",
   "execution_count": 90,
   "metadata": {},
   "outputs": [
    {
     "data": {
      "text/plain": [
       "1.0199381585917175"
      ]
     },
     "metadata": {},
     "output_type": "display_data"
    }
   ],
   "source": [
    "var\"Itax\"=0.1\n",
    "var\"X\"=1.6070320263531335\n",
    "var\"PL\"= 0.9100851590284694\n",
    "var\"PK\"=  1.0803944193460175\n",
    "var\"PX\"= 1.0199381585917175"
   ]
  },
  {
   "cell_type": "code",
   "execution_count": 91,
   "metadata": {},
   "outputs": [
    {
     "data": {
      "text/plain": [
       "215.3154724244119"
      ]
     },
     "metadata": {},
     "output_type": "display_data"
    }
   ],
   "source": [
    "(100.0 * var\"PL\" + 100.0 * var\"PK\") + (0.0 + (var\"Otax\" * 1.0) * 80.0 * var\"PX\" * var\"X\" + (var\"Itax\" * 1.0) * 40.0 * var\"PL\" * var\"X\" + (var\"Itax\" * 1.0) * 60.0 * var\"PK\" * var\"X\")"
   ]
  },
  {
   "attachments": {},
   "cell_type": "markdown",
   "metadata": {},
   "source": [
    "The above Income Balance is correct with the values from the GAMS version of the variable results\n",
    "This suggests that the expression in income balance is fine, including the way the tax and variables are separate for the taxes <br>\n",
    "i.e. 40 * PL * Tax * X + 60 * PK * X * Tax instead of tax * 100 * PL^.04 * PK^0.6 as in GAMS example"
   ]
  },
  {
   "cell_type": "code",
   "execution_count": 76,
   "metadata": {},
   "outputs": [
    {
     "data": {
      "text/plain": [
       "14.62535997267435"
      ]
     },
     "metadata": {},
     "output_type": "display_data"
    }
   ],
   "source": [
    "(var\"Itax\" * 1.0) * 50.0 * var\"PL\" * var\"X\" + (var\"Itax\" * 1.0) * 50.0 * var\"PK\" * var\"X\""
   ]
  },
  {
   "cell_type": "code",
   "execution_count": 85,
   "metadata": {},
   "outputs": [
    {
     "data": {
      "text/plain": [
       "1"
      ]
     },
     "metadata": {},
     "output_type": "display_data"
    }
   ],
   "source": []
  },
  {
   "cell_type": "code",
   "execution_count": 77,
   "metadata": {},
   "outputs": [
    {
     "data": {
      "text/plain": [
       "10.0"
      ]
     },
     "metadata": {},
     "output_type": "display_data"
    }
   ],
   "source": [
    "(0.0 + (0.0 * 1.0) * 80.0 * 1.0 * 1.0 + (0.1 * 1.0) * 50.0 * 1.0 * 1.0 + (0.1 * 1.0) * 50.0 * 1.0 * 1.0)"
   ]
  },
  {
   "attachments": {},
   "cell_type": "markdown",
   "metadata": {},
   "source": [
    "PXX"
   ]
  },
  {
   "cell_type": "code",
   "execution_count": null,
   "metadata": {},
   "outputs": [],
   "source": [
    "# Subelas = 1\n",
    "(PL†X / 40.0) ^ ((40.0 * 1.0) / (40.0 * 1.0 + 60.0 * 1.0)) * (PK†X / 60.0) ^ ((60.0 * 1.0) / (40.0 * 1.0 + 60.0 * 1.0))"
   ]
  },
  {
   "attachments": {},
   "cell_type": "markdown",
   "metadata": {},
   "source": [
    "GAMS, other model: Itax on \"A\", PL and PK."
   ]
  },
  {
   "cell_type": "code",
   "execution_count": 133,
   "metadata": {},
   "outputs": [
    {
     "data": {
      "text/plain": [
       "41.43999066"
      ]
     },
     "metadata": {},
     "output_type": "display_data"
    }
   ],
   "source": [
    "var\"Otax\"=0.0\n",
    "var\"Itax\"=0.1\n",
    "var\"X\"=0.87832081\n",
    "var\"PL\"= 0.97416340 \n",
    "var\"PK\"=  0.93647856\n",
    "var\"PX\"=1.07574196\n",
    "var\"PY\"= 0.92959096\n",
    "var\"esub_x\" = 1.\n",
    "var\"PL†X\"=   39.06426058\n",
    "var\"PK†X\"=   60.95436890\n",
    "var\"PL†Y\"=   58.58817233\n",
    "var\"PK†Y\"=   41.43999066\n"
   ]
  },
  {
   "cell_type": "code",
   "execution_count": 140,
   "metadata": {},
   "outputs": [
    {
     "data": {
      "text/plain": [
       "1.024831715243016"
      ]
     },
     "metadata": {},
     "output_type": "display_data"
    }
   ],
   "source": [
    " \n",
    "# ifelse(esub_x * 1.0 == 0.0, \n",
    "# 80.0 * min(var\"PL†X\" / 40.0, var\"PK†X\" / 60.0) *\n",
    "# , \n",
    "# ifelse(\n",
    "# esub_x * 1.0 == 1.0, \n",
    "\n",
    "# 80.0 * (var\"PL†X\" / 40.0) ^ ((40.0 * 1.0) / (40.0 * 1.0 + 60.0 * 1.0)) * (var\"PK†X\" / 60.0) ^ ((60.0 * 1.0) / (40.0 * 1.0 + 60.0 * 1.0)) *\n",
    "\n",
    "# ,\n",
    "# 80 *  (((40.0 * 1.0) / (40.0 * 1.0 + 60.0 * 1.0)) * (var\"PL†X\" / 40.0) ^ ((var\"esub_x\" * 1.0 - 1.0) / (var\"esub_x\" * 1.0)) + ((60.0 * 1.0) / (40.0 * 1.0 + 60.0 * 1.0)) * (var\"PK†X\" / 60.0) ^ ((var\"esub_x\" * 1.0 - 1.0) / (var\"esub_x\" * 1.0))) ^ (1.0 / ((var\"esub_x\" * 1.0 - 1.0) / (var\"esub_x\" * 1.0))) *\n",
    "# )) \n",
    "# *\n",
    "#  (\n",
    "    var\"PX\" / ((((80.0 * 1.0) / (80.0 * 1.0 + 20.0 * 1.0)) * ((var\"PX\" * (1.0 - (0.0 + var\"Otax\" * 1.0))) / 1.0) ^ (1.0 + 2.0)\n",
    "     +\n",
    "      ((20.0 * 1.0) / (80.0 * 1.0 + 20.0 * 1.0)) * ((var\"PY\" * (1.0 - +0.0)) / 1.0) ^ (1.0 + 2.0)) ^ (1.0 / (1.0 + 2.0)) * 1.0)\n",
    "# ) ^ 2.0\n",
    "# - PX‡X"
   ]
  },
  {
   "cell_type": "code",
   "execution_count": 142,
   "metadata": {},
   "outputs": [
    {
     "data": {
      "text/plain": [
       "1.2448709333609216"
      ]
     },
     "metadata": {},
     "output_type": "display_data"
    }
   ],
   "source": [
    "((var\"PX\" * (1.0 - (0.0 + var\"Otax\" * 1.0))) / 1.0) ^ (1.0 + 2.0)"
   ]
  },
  {
   "cell_type": "code",
   "execution_count": null,
   "metadata": {},
   "outputs": [],
   "source": [
    "20.0 * \n",
    "# ifelse(esub_x * 1.0 == 0.0, min(PL†X / 40.0, PK†X / 60.0), \n",
    "ifelse(\n",
    "    esub_x * 1.0 == 1.0, (PL†X / 40.0) ^ ((40.0 * 1.0) / (40.0 * 1.0 + 60.0 * 1.0)) * (PK†X / 60.0) ^ ((60.0 * 1.0) / (40.0 * 1.0 + 60.0 * 1.0))\n",
    ", \n",
    "(((40.0 * 1.0) / (40.0 * 1.0 + 60.0 * 1.0)) * (PL†X / 40.0) ^ ((esub_x * 1.0 - 1.0) / (esub_x * 1.0)) + ((60.0 * 1.0) / (40.0 * 1.0 + 60.0 * 1.0)) * (PK†X / 60.0) ^ ((esub_x * 1.0 - 1.0) / (esub_x * 1.0))) ^ (1.0 / ((esub_x * 1.0 - 1.0) / (esub_x * 1.0))))\n",
    ")\n",
    " * (PY / ((((80.0 * 1.0) / (80.0 * 1.0 + 20.0 * 1.0)) * ((PX * (1.0 - (0.0 + Otax * 1.0))) / 1.0) ^ (1.0 + 2.0) + ((20.0 * 1.0) / (80.0 * 1.0 + 20.0 * 1.0)) * ((PY * (1.0 - +0.0)) / 1.0) ^ (1.0 + 2.0)) ^ (1.0 / (1.0 + 2.0)) * 1.0)) ^ 2.0 \n",
    "# - PY‡X"
   ]
  },
  {
   "cell_type": "code",
   "execution_count": 144,
   "metadata": {},
   "outputs": [
    {
     "data": {
      "text/plain": [
       "199.4218795904424"
      ]
     },
     "metadata": {},
     "output_type": "display_data"
    }
   ],
   "source": [
    "((100.0 * var\"PL\" + 100.0 * var\"PK\") + (0.0 + (var\"Otax\" * 1.0) * 80.0 * var\"PX\" * var\"X\" + (var\"Itax\" * 1.0) * 40.0 * var\"PL\" * var\"X\" + (var\"Itax\" * 1.0) * 60.0 * var\"PK\" * var\"X\")) \n",
    "# - RA"
   ]
  },
  {
   "cell_type": "markdown",
   "metadata": {},
   "source": [
    "GAMS: Itax=0.1, Intax in X, PL AND PK, endow=1.1, PL=1"
   ]
  },
  {
   "cell_type": "code",
   "execution_count": 196,
   "metadata": {},
   "outputs": [
    {
     "data": {
      "text/plain": [
       "28.11259199"
      ]
     },
     "metadata": {},
     "output_type": "display_data"
    }
   ],
   "source": [
    "var\"endow\"=1.1\n",
    "var\"X\" = 1.03413947\n",
    "var\"PL\"=1.0\n",
    "var\"PK\"=1.17638889\n",
    "var\"PX\"=1.13755342\n",
    "var\"Itax\"=0.1\n",
    "var\"Otax\"=0.0\n",
    "var\"PX‡X\"=100.\n",
    "var\"PY‡Y\"=50.\n",
    "var\"PL†X\"=   51.70697347\n",
    "var\"PK†X\"=   48.34937789\n",
    "var\"PL†Y\"=   22.04756052\n",
    "var\"PK†Y\"=   28.11259199"
   ]
  },
  {
   "attachments": {},
   "cell_type": "markdown",
   "metadata": {},
   "source": [
    "Sector/Activity X: <br>\n",
    "zero profit, with get_jump_expression_for_commodity_consumer_price in build_zeroprofit, & maybe that's it..."
   ]
  },
  {
   "cell_type": "code",
   "execution_count": 194,
   "metadata": {},
   "outputs": [
    {
     "data": {
      "text/plain": [
       "5.687766904028422"
      ]
     },
     "metadata": {},
     "output_type": "display_data"
    }
   ],
   "source": [
    "((var\"PL\" * (1.0 + (0.0 + var\"Itax\" * 1.0))) * var\"PL†X\" + (var\"PK\" * (1.0 + (0.0 + var\"Itax\" * 1.0))) * var\"PK†X\") -\n",
    " +((var\"PX\" * (1.0 - (0.0 + var\"Otax\" * 1.0))) * var\"PX‡X\")"
   ]
  },
  {
   "attachments": {},
   "cell_type": "markdown",
   "metadata": {},
   "source": [
    "Sector/Activity Y: <br>\n",
    "zero profit, with get_jump_expression_for_commodity_consumer_price in build_zeroprofit, & maybe that's it..."
   ]
  },
  {
   "cell_type": "code",
   "execution_count": 199,
   "metadata": {},
   "outputs": [
    {
     "data": {
      "text/plain": [
       "8.639353406138987"
      ]
     },
     "metadata": {},
     "output_type": "display_data"
    }
   ],
   "source": [
    "((var\"PL\" * (1.0 + (0.0 + var\"Itax\" * 1.0))) * var\"PL†Y\" + (var\"PK\" * (1.0 + (0.0 + var\"Itax\" * 1.0))) * var\"PK†Y\") - +((var\"PY\" * (1.0 - +0.0)) * var\"PY‡Y\")"
   ]
  },
  {
   "cell_type": "code",
   "execution_count": 198,
   "metadata": {},
   "outputs": [
    {
     "data": {
      "text/plain": [
       "0"
      ]
     },
     "metadata": {},
     "output_type": "display_data"
    }
   ],
   "source": [
    "var\"Itax\"=0"
   ]
  },
  {
   "cell_type": "code",
   "execution_count": null,
   "metadata": {},
   "outputs": [],
   "source": []
  }
 ],
 "metadata": {
  "kernelspec": {
   "display_name": "Julia 1.8.5",
   "language": "julia",
   "name": "julia-1.8"
  },
  "language_info": {
   "file_extension": ".jl",
   "mimetype": "application/julia",
   "name": "julia",
   "version": "1.8.5"
  },
  "orig_nbformat": 4
 },
 "nbformat": 4,
 "nbformat_minor": 2
}
