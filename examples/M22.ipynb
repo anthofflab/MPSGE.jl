{
 "cells": [
  {
   "cell_type": "code",
   "execution_count": 1,
   "metadata": {},
   "outputs": [],
   "source": [
    "using MPSGE_MP, JuMP"
   ]
  },
  {
   "cell_type": "code",
   "execution_count": 2,
   "metadata": {},
   "outputs": [],
   "source": [
    "M = MPSGEModel()\n",
    "\n",
    "@sectors(M,begin\n",
    "    X\n",
    "    Y\n",
    "    W\n",
    "end)\n",
    "\n",
    "@commodities(M,begin\n",
    "    PX\n",
    "    PY\n",
    "    PL\n",
    "    PK\n",
    "    PW\n",
    "end)\n",
    "\n",
    "@consumer(M, CONS)\n",
    "\n",
    "add_production!(M,\n",
    "    X,\n",
    "    ScalarNest(:t; elasticity = 0, children = \n",
    "        [ScalarOutput(PX, 120.)]\n",
    "    ),\n",
    "    ScalarNest(:s; elasticity = .5, children = [\n",
    "        ScalarInput(PY,20),\n",
    "        ScalarNest(:va; elasticity = 1, children = [\n",
    "            ScalarInput(PL, 40; taxes = [Tax(CONS, 0.5)]),\n",
    "            ScalarInput(PK, 60; taxes = [Tax(CONS, 0.5)])\n",
    "            ])\n",
    "        ]\n",
    "        ) \n",
    ")\n",
    "\n",
    "add_production!(M,\n",
    "    Y,\n",
    "    ScalarNest(:t; elasticity = 0, children = [\n",
    "        ScalarOutput(PY, 120),\n",
    "    ]),\n",
    "    ScalarNest(:s; elasticity = .75, children = [\n",
    "        ScalarInput(PX,20),\n",
    "        ScalarNest(:va; elasticity = 1, children = [\n",
    "            ScalarInput(PL, 60),\n",
    "            ScalarInput(PK, 40)\n",
    "        ])\n",
    "    ])\n",
    ")\n",
    "\n",
    "\n",
    "add_production!(M,\n",
    "    W,\n",
    "    ScalarNest(:t; elasticity = 0, children = [\n",
    "        ScalarOutput(PW, 200)\n",
    "    ]),\n",
    "    ScalarNest(:s, elasticity = 1, children = [\n",
    "        ScalarInput(PX, 100),\n",
    "        ScalarInput(PY, 100),\n",
    "    ])\n",
    ")\n",
    "\n",
    "add_demand!(M,\n",
    "    CONS,\n",
    "    [ScalarDem(PW, 200)],\n",
    "    [\n",
    "        ScalarEndowment(PL,100),\n",
    "        ScalarEndowment(PK,100)\n",
    "    ]\n",
    ")\n",
    "\n",
    "jm = build!(M);\n"
   ]
  },
  {
   "cell_type": "code",
   "execution_count": 7,
   "metadata": {},
   "outputs": [
    {
     "name": "stdout",
     "output_type": "stream",
     "text": [
      "Reading options file C:\\Users\\MPHILL~1\\AppData\\Local\\Temp\\jl_FADC.tmp\n",
      " > cumulative_iteration_limit 10000\n",
      "Read of options file complete.\n",
      "\n",
      "Path 5.0.03 (Fri Jun 26 10:05:33 2020)\n",
      "Written by Todd Munson, Steven Dirkse, Youngdae Kim, and Michael Ferris\n",
      "\n",
      "Preprocessed size   : 8\n",
      "\n",
      "Crash Log\n",
      "major  func  diff  size  residual    step       prox   (label)\n",
      "    0     0             6.9173e+01             0.0e+00 (f[    6])\n",
      "    1     1     0     8 2.9618e+00  1.0e+00    0.0e+00 (f[    5])\n",
      "pn_search terminated: no basis change.\n",
      "\n",
      "Major Iteration Log\n",
      "major minor  func  grad  residual    step  type prox    inorm  (label)\n",
      "    0     0     2     2 2.9618e+00           I 0.0e+00 1.9e+00 (f[    5])\n",
      "    1     1     3     3 2.4397e-02  1.0e+00 SO 0.0e+00 1.7e-02 (f[    9])\n",
      "    2     1     4     4 2.5675e-06  1.0e+00 SO 0.0e+00 2.1e-06 (f[    9])\n",
      "    3     1     5     5 1.0563e-13  1.0e+00 SO 0.0e+00 8.5e-14 (f[    4])\n",
      "\n",
      "Major Iterations. . . . 3\n",
      "Minor Iterations. . . . 3\n",
      "Restarts. . . . . . . . 0\n",
      "Crash Iterations. . . . 1\n",
      "Gradient Steps. . . . . 0\n",
      "Function Evaluations. . 5\n",
      "Gradient Evaluations. . 5\n",
      "Basis Time. . . . . . . 0.000000\n",
      "Total Time. . . . . . . 0.000000\n",
      "Residual. . . . . . . . 1.056298e-13\n"
     ]
    },
    {
     "name": "stdout",
     "output_type": "stream",
     "text": [
      "Postsolved residual: 1.0563e-13\n"
     ]
    }
   ],
   "source": [
    "fix(PW,1)\n",
    "\n",
    "solve!(M; :cumulative_iteration_limit => 10_000)\n",
    "df = generate_report(M);"
   ]
  },
  {
   "cell_type": "code",
   "execution_count": 8,
   "metadata": {},
   "outputs": [
    {
     "data": {
      "text/html": [
       "<div><div style = \"float: left;\"><span>9×3 DataFrame</span></div><div style = \"clear: both;\"></div></div><div class = \"data-frame\" style = \"overflow-x: scroll;\"><table class = \"data-frame\" style = \"margin-bottom: 6px;\"><thead><tr class = \"header\"><th class = \"rowNumber\" style = \"font-weight: bold; text-align: right;\">Row</th><th style = \"text-align: left;\">var</th><th style = \"text-align: left;\">value</th><th style = \"text-align: left;\">margin</th></tr><tr class = \"subheader headerLastRow\"><th class = \"rowNumber\" style = \"font-weight: bold; text-align: right;\"></th><th title = \"VariableRef\" style = \"text-align: left;\">GenericV…</th><th title = \"Float64\" style = \"text-align: left;\">Float64</th><th title = \"Float64\" style = \"text-align: left;\">Float64</th></tr></thead><tbody><tr><td class = \"rowNumber\" style = \"font-weight: bold; text-align: right;\">1</td><td style = \"text-align: left;\">X</td><td style = \"text-align: right;\">0.861867</td><td style = \"text-align: right;\">1.42109e-14</td></tr><tr><td class = \"rowNumber\" style = \"font-weight: bold; text-align: right;\">2</td><td style = \"text-align: left;\">W</td><td style = \"text-align: right;\">0.983827</td><td style = \"text-align: right;\">4.26326e-14</td></tr><tr><td class = \"rowNumber\" style = \"font-weight: bold; text-align: right;\">3</td><td style = \"text-align: left;\">Y</td><td style = \"text-align: right;\">1.10915</td><td style = \"text-align: right;\">0.0</td></tr><tr><td class = \"rowNumber\" style = \"font-weight: bold; text-align: right;\">4</td><td style = \"text-align: left;\">PY</td><td style = \"text-align: right;\">0.868686</td><td style = \"text-align: right;\">-2.84217e-14</td></tr><tr><td class = \"rowNumber\" style = \"font-weight: bold; text-align: right;\">5</td><td style = \"text-align: left;\">PW</td><td style = \"text-align: right;\">1.0</td><td style = \"text-align: right;\">0.0</td></tr><tr><td class = \"rowNumber\" style = \"font-weight: bold; text-align: right;\">6</td><td style = \"text-align: left;\">PL</td><td style = \"text-align: right;\">0.841191</td><td style = \"text-align: right;\">-7.10543e-14</td></tr><tr><td class = \"rowNumber\" style = \"font-weight: bold; text-align: right;\">7</td><td style = \"text-align: left;\">PX</td><td style = \"text-align: right;\">1.15116</td><td style = \"text-align: right;\">-7.10543e-15</td></tr><tr><td class = \"rowNumber\" style = \"font-weight: bold; text-align: right;\">8</td><td style = \"text-align: left;\">PK</td><td style = \"text-align: right;\">0.787062</td><td style = \"text-align: right;\">4.26326e-14</td></tr><tr><td class = \"rowNumber\" style = \"font-weight: bold; text-align: right;\">9</td><td style = \"text-align: left;\">CONS</td><td style = \"text-align: right;\">196.765</td><td style = \"text-align: right;\">0.0</td></tr></tbody></table></div>"
      ],
      "text/latex": [
       "\\begin{tabular}{r|ccc}\n",
       "\t& var & value & margin\\\\\n",
       "\t\\hline\n",
       "\t& GenericV… & Float64 & Float64\\\\\n",
       "\t\\hline\n",
       "\t1 & $ X $ & 0.861867 & 1.42109e-14 \\\\\n",
       "\t2 & $ W $ & 0.983827 & 4.26326e-14 \\\\\n",
       "\t3 & $ Y $ & 1.10915 & 0.0 \\\\\n",
       "\t4 & $ PY $ & 0.868686 & -2.84217e-14 \\\\\n",
       "\t5 & $ PW $ & 1.0 & 0.0 \\\\\n",
       "\t6 & $ PL $ & 0.841191 & -7.10543e-14 \\\\\n",
       "\t7 & $ PX $ & 1.15116 & -7.10543e-15 \\\\\n",
       "\t8 & $ PK $ & 0.787062 & 4.26326e-14 \\\\\n",
       "\t9 & $ CONS $ & 196.765 & 0.0 \\\\\n",
       "\\end{tabular}\n"
      ],
      "text/plain": [
       "\u001b[1m9×3 DataFrame\u001b[0m\n",
       "\u001b[1m Row \u001b[0m│\u001b[1m var       \u001b[0m\u001b[1m value      \u001b[0m\u001b[1m margin       \u001b[0m\n",
       "     │\u001b[90m GenericV… \u001b[0m\u001b[90m Float64    \u001b[0m\u001b[90m Float64      \u001b[0m\n",
       "─────┼─────────────────────────────────────\n",
       "   1 │ X            0.861867   1.42109e-14\n",
       "   2 │ W            0.983827   4.26326e-14\n",
       "   3 │ Y            1.10915    0.0\n",
       "   4 │ PY           0.868686  -2.84217e-14\n",
       "   5 │ PW           1.0        0.0\n",
       "   6 │ PL           0.841191  -7.10543e-14\n",
       "   7 │ PX           1.15116   -7.10543e-15\n",
       "   8 │ PK           0.787062   4.26326e-14\n",
       "   9 │ CONS       196.765      0.0"
      ]
     },
     "metadata": {},
     "output_type": "display_data"
    }
   ],
   "source": [
    "df"
   ]
  }
 ],
 "metadata": {
  "kernelspec": {
   "display_name": "Julia 1.9.2",
   "language": "julia",
   "name": "julia-1.9"
  },
  "language_info": {
   "file_extension": ".jl",
   "mimetype": "application/julia",
   "name": "julia",
   "version": "1.9.2"
  }
 },
 "nbformat": 4,
 "nbformat_minor": 2
}
