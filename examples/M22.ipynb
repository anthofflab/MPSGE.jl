{
 "cells": [
  {
   "cell_type": "code",
   "execution_count": 1,
   "metadata": {},
   "outputs": [],
   "source": [
    "using MPSGE_MP, JuMP"
   ]
  },
  {
   "cell_type": "code",
   "execution_count": 2,
   "metadata": {},
   "outputs": [],
   "source": [
    "M = MPSGEModel()\n",
    "\n",
    "@parameter(M, tax, 0)\n",
    "@parameter(M, σ, .5)\n",
    "@parameter(M, id, 120)\n",
    "\n",
    "@sectors(M,begin\n",
    "    X\n",
    "    Y\n",
    "    W\n",
    "end)\n",
    "\n",
    "@commodities(M,begin\n",
    "    PX\n",
    "    PY\n",
    "    PL\n",
    "    PK\n",
    "    PW\n",
    "end)\n",
    "\n",
    "@consumer(M, CONS)\n",
    "\n",
    "\n",
    "@production(\n",
    "    M, X,  [\n",
    "        Node(:s, σ),\n",
    "        Node(:t, 0),\n",
    "        Node(:va, 1; parent = :s)\n",
    "    ],\n",
    "    ScalarOutput(PX, id; parent = :t),\n",
    "    ScalarInput( PY, 20; parent = :s),\n",
    "    ScalarInput( PL, 40; parent = :va, taxes = [Tax(CONS, tax)]), #va\n",
    "    ScalarInput( PK, 60; parent = :va, taxes = [Tax(CONS, tax)])  #va\n",
    ")\n",
    "\n",
    "\n",
    "@production(\n",
    "    M, Y, [\n",
    "        Node(:t, 0),\n",
    "        Node(:s, .75),\n",
    "        Node(:va, 1; parent = :s)\n",
    "    ],\n",
    "    ScalarOutput(PY,120; parent = :t),\n",
    "    ScalarInput(PX, 20; parent = :s),\n",
    "    ScalarInput(PL, 60; parent = :va),\n",
    "    ScalarInput(PK, 40; parent = :va),\n",
    ")\n",
    "\n",
    "@production(\n",
    "    M, W, [\n",
    "        Node(:t, 0)\n",
    "        Node(:s, 1)\n",
    "    ],\n",
    "    ScalarOutput(PW, 200; parent = :t),\n",
    "    ScalarInput( PX, 100; parent = :s),\n",
    "    ScalarInput( PY, 100; parent = :s),\n",
    ")\n",
    "\n",
    "add_demand!(M,\n",
    "    CONS,\n",
    "    [ScalarDem(PW, 200)],\n",
    "    [\n",
    "        ScalarEndowment(PL,100),\n",
    "        ScalarEndowment(PK,100)\n",
    "    ]\n",
    ")\n",
    "\n",
    "jm = build!(M);\n"
   ]
  },
  {
   "cell_type": "markdown",
   "metadata": {},
   "source": [
    "# Benchmark"
   ]
  },
  {
   "cell_type": "code",
   "execution_count": 4,
   "metadata": {},
   "outputs": [
    {
     "name": "stdout",
     "output_type": "stream",
     "text": [
      "Reading options file C:\\Users\\MPHILL~1\\AppData\\Local\\Temp\\jl_C133.tmp\n",
      " > cumulative_iteration_limit 0\n",
      "Read of options file complete.\n",
      "\n",
      "Path 5.0.03 (Fri Jun 26 10:05:33 2020)\n",
      "Written by Todd Munson, Steven Dirkse, Youngdae Kim, and Michael Ferris\n",
      "Preprocessed size   : 9\n",
      "\n",
      "Major Iteration Log\n",
      "major minor  func  grad  residual    step  type prox    inorm  (label)\n",
      "    0     0     1     1 0.0000e+00           I 0.0e+00 0.0e+00 (market_clearanc)\n",
      "\n",
      "Major Iterations. . . . 0\n",
      "Minor Iterations. . . . 0\n",
      "Restarts. . . . . . . . 0\n",
      "Crash Iterations. . . . 0\n",
      "Gradient Steps. . . . . 0\n",
      "Function Evaluations. . 1\n",
      "Gradient Evaluations. . 1\n",
      "Basis Time. . . . . . . 0.000000\n",
      "Total Time. . . . . . . 0.078000\n",
      "Residual. . . . . . . . 0.000000e+00\n",
      "Postsolved residual: 0.0000e+00\n"
     ]
    },
    {
     "data": {
      "text/html": [
       "<div><div style = \"float: left;\"><span>9×3 DataFrame</span></div><div style = \"clear: both;\"></div></div><div class = \"data-frame\" style = \"overflow-x: scroll;\"><table class = \"data-frame\" style = \"margin-bottom: 6px;\"><thead><tr class = \"header\"><th class = \"rowNumber\" style = \"font-weight: bold; text-align: right;\">Row</th><th style = \"text-align: left;\">var</th><th style = \"text-align: left;\">value</th><th style = \"text-align: left;\">margin</th></tr><tr class = \"subheader headerLastRow\"><th class = \"rowNumber\" style = \"font-weight: bold; text-align: right;\"></th><th title = \"VariableRef\" style = \"text-align: left;\">GenericV…</th><th title = \"Float64\" style = \"text-align: left;\">Float64</th><th title = \"Float64\" style = \"text-align: left;\">Float64</th></tr></thead><tbody><tr><td class = \"rowNumber\" style = \"font-weight: bold; text-align: right;\">1</td><td style = \"text-align: left;\">Y</td><td style = \"text-align: right;\">1.0</td><td style = \"text-align: right;\">0.0</td></tr><tr><td class = \"rowNumber\" style = \"font-weight: bold; text-align: right;\">2</td><td style = \"text-align: left;\">W</td><td style = \"text-align: right;\">1.0</td><td style = \"text-align: right;\">0.0</td></tr><tr><td class = \"rowNumber\" style = \"font-weight: bold; text-align: right;\">3</td><td style = \"text-align: left;\">X</td><td style = \"text-align: right;\">1.0</td><td style = \"text-align: right;\">0.0</td></tr><tr><td class = \"rowNumber\" style = \"font-weight: bold; text-align: right;\">4</td><td style = \"text-align: left;\">PL</td><td style = \"text-align: right;\">1.0</td><td style = \"text-align: right;\">0.0</td></tr><tr><td class = \"rowNumber\" style = \"font-weight: bold; text-align: right;\">5</td><td style = \"text-align: left;\">PW</td><td style = \"text-align: right;\">1.0</td><td style = \"text-align: right;\">0.0</td></tr><tr><td class = \"rowNumber\" style = \"font-weight: bold; text-align: right;\">6</td><td style = \"text-align: left;\">PK</td><td style = \"text-align: right;\">1.0</td><td style = \"text-align: right;\">0.0</td></tr><tr><td class = \"rowNumber\" style = \"font-weight: bold; text-align: right;\">7</td><td style = \"text-align: left;\">PY</td><td style = \"text-align: right;\">1.0</td><td style = \"text-align: right;\">0.0</td></tr><tr><td class = \"rowNumber\" style = \"font-weight: bold; text-align: right;\">8</td><td style = \"text-align: left;\">PX</td><td style = \"text-align: right;\">1.0</td><td style = \"text-align: right;\">0.0</td></tr><tr><td class = \"rowNumber\" style = \"font-weight: bold; text-align: right;\">9</td><td style = \"text-align: left;\">CONS</td><td style = \"text-align: right;\">200.0</td><td style = \"text-align: right;\">0.0</td></tr></tbody></table></div>"
      ],
      "text/latex": [
       "\\begin{tabular}{r|ccc}\n",
       "\t& var & value & margin\\\\\n",
       "\t\\hline\n",
       "\t& GenericV… & Float64 & Float64\\\\\n",
       "\t\\hline\n",
       "\t1 & $ Y $ & 1.0 & 0.0 \\\\\n",
       "\t2 & $ W $ & 1.0 & 0.0 \\\\\n",
       "\t3 & $ X $ & 1.0 & 0.0 \\\\\n",
       "\t4 & $ PL $ & 1.0 & 0.0 \\\\\n",
       "\t5 & $ PW $ & 1.0 & 0.0 \\\\\n",
       "\t6 & $ PK $ & 1.0 & 0.0 \\\\\n",
       "\t7 & $ PY $ & 1.0 & 0.0 \\\\\n",
       "\t8 & $ PX $ & 1.0 & 0.0 \\\\\n",
       "\t9 & $ CONS $ & 200.0 & 0.0 \\\\\n",
       "\\end{tabular}\n"
      ],
      "text/plain": [
       "\u001b[1m9×3 DataFrame\u001b[0m\n",
       "\u001b[1m Row \u001b[0m│\u001b[1m var       \u001b[0m\u001b[1m value   \u001b[0m\u001b[1m margin  \u001b[0m\n",
       "     │\u001b[90m GenericV… \u001b[0m\u001b[90m Float64 \u001b[0m\u001b[90m Float64 \u001b[0m\n",
       "─────┼─────────────────────────────\n",
       "   1 │ Y              1.0      0.0\n",
       "   2 │ W              1.0      0.0\n",
       "   3 │ X              1.0      0.0\n",
       "   4 │ PL             1.0      0.0\n",
       "   5 │ PW             1.0      0.0\n",
       "   6 │ PK             1.0      0.0\n",
       "   7 │ PY             1.0      0.0\n",
       "   8 │ PX             1.0      0.0\n",
       "   9 │ CONS         200.0      0.0"
      ]
     },
     "metadata": {},
     "output_type": "display_data"
    }
   ],
   "source": [
    "solve!(M; :cumulative_iteration_limit => 0)\n",
    "df_benchmark = generate_report(M)"
   ]
  },
  {
   "cell_type": "markdown",
   "metadata": {},
   "source": [
    "# Counterfactual tax = .5"
   ]
  },
  {
   "cell_type": "code",
   "execution_count": 5,
   "metadata": {},
   "outputs": [
    {
     "name": "stdout",
     "output_type": "stream",
     "text": [
      "Reading options file C:\\Users\\MPHILL~1\\AppData\\Local\\Temp\\jl_D038.tmp\n",
      " > cumulative_iteration_limit 10000\n",
      "Read of options file complete.\n",
      "\n",
      "Path 5.0.03 (Fri Jun 26 10:05:33 2020)\n",
      "Written by Todd Munson, Steven Dirkse, Youngdae Kim, and Michael Ferris\n",
      "\n",
      "Preprocessed size   : 8\n",
      "\n",
      "Crash Log\n",
      "major  func  diff  size  residual    step       prox   (label)\n",
      "    0     0             5.4385e+01             0.0e+00 (income_balance[CONS)\n",
      "    1     1     0     8 3.4976e+00  1.0e+00    0.0e+00 (zero_profit[W)\n",
      "pn_search terminated: no basis change.\n",
      "\n",
      "Major Iteration Log\n",
      "major minor  func  grad  residual    step  type prox    inorm  (label)\n",
      "    0     0     2     2 3.4976e+00           I 0.0e+00 3.0e+00 (zero_profit[W)\n",
      "    1     1     3     3 2.4322e-02  1.0e+00 SO 0.0e+00 1.6e-02 (market_clearanc)\n",
      "    2     1     4     4 2.5675e-06  1.0e+00 SO 0.0e+00 2.1e-06 (market_clearanc)\n",
      "    3     1     5     5 9.6448e-14  1.0e+00 SO 0.0e+00 5.7e-14 (market_clearanc)\n",
      "\n",
      "Major Iterations. . . . 3\n",
      "Minor Iterations. . . . 3\n",
      "Restarts. . . . . . . . 0\n",
      "Crash Iterations. . . . 1\n",
      "Gradient Steps. . . . . 0\n",
      "Function Evaluations. . 5\n",
      "Gradient Evaluations. . 5\n",
      "Basis Time. . . . . . . 0.000000\n",
      "Total Time. . . . . . . 0.000000\n",
      "Residual. . . . . . . . 9.644816e-14\n",
      "Postsolved residual: 9.6448e-14\n"
     ]
    },
    {
     "data": {
      "text/html": [
       "<div><div style = \"float: left;\"><span>9×3 DataFrame</span></div><div style = \"clear: both;\"></div></div><div class = \"data-frame\" style = \"overflow-x: scroll;\"><table class = \"data-frame\" style = \"margin-bottom: 6px;\"><thead><tr class = \"header\"><th class = \"rowNumber\" style = \"font-weight: bold; text-align: right;\">Row</th><th style = \"text-align: left;\">var</th><th style = \"text-align: left;\">value</th><th style = \"text-align: left;\">margin</th></tr><tr class = \"subheader headerLastRow\"><th class = \"rowNumber\" style = \"font-weight: bold; text-align: right;\"></th><th title = \"VariableRef\" style = \"text-align: left;\">GenericV…</th><th title = \"Float64\" style = \"text-align: left;\">Float64</th><th title = \"Float64\" style = \"text-align: left;\">Float64</th></tr></thead><tbody><tr><td class = \"rowNumber\" style = \"font-weight: bold; text-align: right;\">1</td><td style = \"text-align: left;\">Y</td><td style = \"text-align: right;\">1.10915</td><td style = \"text-align: right;\">-2.13163e-14</td></tr><tr><td class = \"rowNumber\" style = \"font-weight: bold; text-align: right;\">2</td><td style = \"text-align: left;\">W</td><td style = \"text-align: right;\">0.983827</td><td style = \"text-align: right;\">0.0</td></tr><tr><td class = \"rowNumber\" style = \"font-weight: bold; text-align: right;\">3</td><td style = \"text-align: left;\">X</td><td style = \"text-align: right;\">0.861867</td><td style = \"text-align: right;\">-3.55271e-14</td></tr><tr><td class = \"rowNumber\" style = \"font-weight: bold; text-align: right;\">4</td><td style = \"text-align: left;\">PL</td><td style = \"text-align: right;\">0.841191</td><td style = \"text-align: right;\">-2.84217e-14</td></tr><tr><td class = \"rowNumber\" style = \"font-weight: bold; text-align: right;\">5</td><td style = \"text-align: left;\">PW</td><td style = \"text-align: right;\">1.0</td><td style = \"text-align: right;\">2.84217e-14</td></tr><tr><td class = \"rowNumber\" style = \"font-weight: bold; text-align: right;\">6</td><td style = \"text-align: left;\">PK</td><td style = \"text-align: right;\">0.787062</td><td style = \"text-align: right;\">0.0</td></tr><tr><td class = \"rowNumber\" style = \"font-weight: bold; text-align: right;\">7</td><td style = \"text-align: left;\">PY</td><td style = \"text-align: right;\">0.868686</td><td style = \"text-align: right;\">-2.4869e-14</td></tr><tr><td class = \"rowNumber\" style = \"font-weight: bold; text-align: right;\">8</td><td style = \"text-align: left;\">PX</td><td style = \"text-align: right;\">1.15116</td><td style = \"text-align: right;\">-4.26326e-14</td></tr><tr><td class = \"rowNumber\" style = \"font-weight: bold; text-align: right;\">9</td><td style = \"text-align: left;\">CONS</td><td style = \"text-align: right;\">196.765</td><td style = \"text-align: right;\">0.0</td></tr></tbody></table></div>"
      ],
      "text/latex": [
       "\\begin{tabular}{r|ccc}\n",
       "\t& var & value & margin\\\\\n",
       "\t\\hline\n",
       "\t& GenericV… & Float64 & Float64\\\\\n",
       "\t\\hline\n",
       "\t1 & $ Y $ & 1.10915 & -2.13163e-14 \\\\\n",
       "\t2 & $ W $ & 0.983827 & 0.0 \\\\\n",
       "\t3 & $ X $ & 0.861867 & -3.55271e-14 \\\\\n",
       "\t4 & $ PL $ & 0.841191 & -2.84217e-14 \\\\\n",
       "\t5 & $ PW $ & 1.0 & 2.84217e-14 \\\\\n",
       "\t6 & $ PK $ & 0.787062 & 0.0 \\\\\n",
       "\t7 & $ PY $ & 0.868686 & -2.4869e-14 \\\\\n",
       "\t8 & $ PX $ & 1.15116 & -4.26326e-14 \\\\\n",
       "\t9 & $ CONS $ & 196.765 & 0.0 \\\\\n",
       "\\end{tabular}\n"
      ],
      "text/plain": [
       "\u001b[1m9×3 DataFrame\u001b[0m\n",
       "\u001b[1m Row \u001b[0m│\u001b[1m var       \u001b[0m\u001b[1m value      \u001b[0m\u001b[1m margin       \u001b[0m\n",
       "     │\u001b[90m GenericV… \u001b[0m\u001b[90m Float64    \u001b[0m\u001b[90m Float64      \u001b[0m\n",
       "─────┼─────────────────────────────────────\n",
       "   1 │ Y            1.10915   -2.13163e-14\n",
       "   2 │ W            0.983827   0.0\n",
       "   3 │ X            0.861867  -3.55271e-14\n",
       "   4 │ PL           0.841191  -2.84217e-14\n",
       "   5 │ PW           1.0        2.84217e-14\n",
       "   6 │ PK           0.787062   0.0\n",
       "   7 │ PY           0.868686  -2.4869e-14\n",
       "   8 │ PX           1.15116   -4.26326e-14\n",
       "   9 │ CONS       196.765      0.0"
      ]
     },
     "metadata": {},
     "output_type": "display_data"
    }
   ],
   "source": [
    "fix(PW,1)\n",
    "\n",
    "set_value!(tax,.5)\n",
    "\n",
    "solve!(M; :cumulative_iteration_limit => 10_000)\n",
    "df = generate_report(M)"
   ]
  },
  {
   "cell_type": "markdown",
   "metadata": {},
   "source": [
    "# Counterfactual tax = .1"
   ]
  },
  {
   "cell_type": "code",
   "execution_count": 6,
   "metadata": {},
   "outputs": [
    {
     "name": "stdout",
     "output_type": "stream",
     "text": [
      "Reading options file C:\\Users\\MPHILL~1\\AppData\\Local\\Temp\\jl_DCAC.tmp\n",
      " > cumulative_iteration_limit 10000\n",
      "Read of options file complete.\n",
      "\n",
      "Path 5.0.03 (Fri Jun 26 10:05:33 2020)\n",
      "Written by Todd Munson, Steven Dirkse, Youngdae Kim, and Michael Ferris\n",
      "\n",
      "Preprocessed size   : 8\n",
      "\n",
      "Crash Log\n",
      "major  func  diff  size  residual    step       prox   (label)\n",
      "    0     0             1.0248e+01             0.0e+00 (income_balance[CONS)\n",
      "    1     1     0     8 1.5284e-01  1.0e+00    0.0e+00 (zero_profit[W)\n",
      "pn_search terminated: no basis change.\n",
      "\n",
      "Major Iteration Log\n",
      "major minor  func  grad  residual    step  type prox    inorm  (label)\n",
      "    0     0     2     2 1.5284e-01           I 0.0e+00 1.1e-01 (zero_profit[W)\n",
      "    1     1     3     3 6.2993e-05  1.0e+00 SO 0.0e+00 4.2e-05 (market_clearanc)\n",
      "    2     1     4     4 1.7063e-11  1.0e+00 SO 0.0e+00 1.4e-11 (market_clearanc)\n",
      "\n",
      "Major Iterations. . . . 2\n",
      "Minor Iterations. . . . 2\n",
      "Restarts. . . . . . . . 0\n",
      "Crash Iterations. . . . 1\n",
      "Gradient Steps. . . . . 0\n",
      "Function Evaluations. . 4\n",
      "Gradient Evaluations. . 4\n",
      "Basis Time. . . . . . . 0.000000\n",
      "Total Time. . . . . . . 0.000000\n",
      "Residual. . . . . . . . 1.706286e-11\n",
      "Postsolved residual: 1.7063e-11\n"
     ]
    },
    {
     "data": {
      "text/html": [
       "<div><div style = \"float: left;\"><span>9×3 DataFrame</span></div><div style = \"clear: both;\"></div></div><div class = \"data-frame\" style = \"overflow-x: scroll;\"><table class = \"data-frame\" style = \"margin-bottom: 6px;\"><thead><tr class = \"header\"><th class = \"rowNumber\" style = \"font-weight: bold; text-align: right;\">Row</th><th style = \"text-align: left;\">var</th><th style = \"text-align: left;\">value</th><th style = \"text-align: left;\">margin</th></tr><tr class = \"subheader headerLastRow\"><th class = \"rowNumber\" style = \"font-weight: bold; text-align: right;\"></th><th title = \"VariableRef\" style = \"text-align: left;\">GenericV…</th><th title = \"Float64\" style = \"text-align: left;\">Float64</th><th title = \"Float64\" style = \"text-align: left;\">Float64</th></tr></thead><tbody><tr><td class = \"rowNumber\" style = \"font-weight: bold; text-align: right;\">1</td><td style = \"text-align: left;\">Y</td><td style = \"text-align: right;\">1.02732</td><td style = \"text-align: right;\">-6.86384e-12</td></tr><tr><td class = \"rowNumber\" style = \"font-weight: bold; text-align: right;\">2</td><td style = \"text-align: left;\">W</td><td style = \"text-align: right;\">0.999102</td><td style = \"text-align: right;\">-3.12639e-13</td></tr><tr><td class = \"rowNumber\" style = \"font-weight: bold; text-align: right;\">3</td><td style = \"text-align: left;\">X</td><td style = \"text-align: right;\">0.968548</td><td style = \"text-align: right;\">-7.45004e-12</td></tr><tr><td class = \"rowNumber\" style = \"font-weight: bold; text-align: right;\">4</td><td style = \"text-align: left;\">PL</td><td style = \"text-align: right;\">0.960787</td><td style = \"text-align: right;\">1.94689e-12</td></tr><tr><td class = \"rowNumber\" style = \"font-weight: bold; text-align: right;\">5</td><td style = \"text-align: left;\">PW</td><td style = \"text-align: right;\">1.0</td><td style = \"text-align: right;\">-2.78817e-11</td></tr><tr><td class = \"rowNumber\" style = \"font-weight: bold; text-align: right;\">6</td><td style = \"text-align: left;\">PK</td><td style = \"text-align: right;\">0.945827</td><td style = \"text-align: right;\">1.35572e-11</td></tr><tr><td class = \"rowNumber\" style = \"font-weight: bold; text-align: right;\">7</td><td style = \"text-align: left;\">PY</td><td style = \"text-align: right;\">0.967574</td><td style = \"text-align: right;\">-8.27782e-13</td></tr><tr><td class = \"rowNumber\" style = \"font-weight: bold; text-align: right;\">8</td><td style = \"text-align: left;\">PX</td><td style = \"text-align: right;\">1.03351</td><td style = \"text-align: right;\">-8.52651e-14</td></tr><tr><td class = \"rowNumber\" style = \"font-weight: bold; text-align: right;\">9</td><td style = \"text-align: left;\">CONS</td><td style = \"text-align: right;\">199.82</td><td style = \"text-align: right;\">4.83169e-13</td></tr></tbody></table></div>"
      ],
      "text/latex": [
       "\\begin{tabular}{r|ccc}\n",
       "\t& var & value & margin\\\\\n",
       "\t\\hline\n",
       "\t& GenericV… & Float64 & Float64\\\\\n",
       "\t\\hline\n",
       "\t1 & $ Y $ & 1.02732 & -6.86384e-12 \\\\\n",
       "\t2 & $ W $ & 0.999102 & -3.12639e-13 \\\\\n",
       "\t3 & $ X $ & 0.968548 & -7.45004e-12 \\\\\n",
       "\t4 & $ PL $ & 0.960787 & 1.94689e-12 \\\\\n",
       "\t5 & $ PW $ & 1.0 & -2.78817e-11 \\\\\n",
       "\t6 & $ PK $ & 0.945827 & 1.35572e-11 \\\\\n",
       "\t7 & $ PY $ & 0.967574 & -8.27782e-13 \\\\\n",
       "\t8 & $ PX $ & 1.03351 & -8.52651e-14 \\\\\n",
       "\t9 & $ CONS $ & 199.82 & 4.83169e-13 \\\\\n",
       "\\end{tabular}\n"
      ],
      "text/plain": [
       "\u001b[1m9×3 DataFrame\u001b[0m\n",
       "\u001b[1m Row \u001b[0m│\u001b[1m var       \u001b[0m\u001b[1m value      \u001b[0m\u001b[1m margin       \u001b[0m\n",
       "     │\u001b[90m GenericV… \u001b[0m\u001b[90m Float64    \u001b[0m\u001b[90m Float64      \u001b[0m\n",
       "─────┼─────────────────────────────────────\n",
       "   1 │ Y            1.02732   -6.86384e-12\n",
       "   2 │ W            0.999102  -3.12639e-13\n",
       "   3 │ X            0.968548  -7.45004e-12\n",
       "   4 │ PL           0.960787   1.94689e-12\n",
       "   5 │ PW           1.0       -2.78817e-11\n",
       "   6 │ PK           0.945827   1.35572e-11\n",
       "   7 │ PY           0.967574  -8.27782e-13\n",
       "   8 │ PX           1.03351   -8.52651e-14\n",
       "   9 │ CONS       199.82       4.83169e-13"
      ]
     },
     "metadata": {},
     "output_type": "display_data"
    }
   ],
   "source": [
    "fix(PW,1)\n",
    "\n",
    "set_value!(tax,.1)\n",
    "\n",
    "solve!(M; :cumulative_iteration_limit => 10_000)\n",
    "df = generate_report(M)"
   ]
  },
  {
   "cell_type": "code",
   "execution_count": 7,
   "metadata": {},
   "outputs": [
    {
     "name": "stdout",
     "output_type": "stream",
     "text": [
      "Reading options file C:\\Users\\MPHILL~1\\AppData\\Local\\Temp\\jl_E038.tmp\n",
      " > cumulative_iteration_limit 10000\n",
      "Read of options file complete.\n",
      "\n",
      "Path 5.0.03 (Fri Jun 26 10:05:33 2020)\n",
      "Written by Todd Munson, Steven Dirkse, Youngdae Kim, and Michael Ferris\n",
      "\n",
      "Preprocessed size   : 8\n",
      "\n",
      "Crash Log\n",
      "major  func  diff  size  residual    step       prox   (label)\n",
      "    0     0             1.4279e+02             0.0e+00 (market_clearance[PK)\n",
      "    1     4     0     8 5.9485e+01  4.1e-01    0.0e+00 (market_clearance[PY)\n",
      "pn_search terminated: no basis change.\n",
      "\n",
      "Major Iteration Log\n",
      "major minor  func  grad  residual    step  type prox    inorm  (label)\n",
      "    0     0     5     2 5.9485e+01           I 0.0e+00 5.9e+01 (market_clearanc)\n",
      "    1     1     6     3 4.1576e+00  1.0e+00 SM 0.0e+00 3.2e+00 (market_clearanc)\n",
      "    2     1     7     4 1.8869e-02  1.0e+00 SO 0.0e+00 1.4e-02 (market_clearanc)\n",
      "    3     1     8     5 1.8620e-05  1.0e+00 SO 0.0e+00 1.5e-05 (market_clearanc)\n",
      "    4     1     9     6 2.1073e-12  1.0e+00 SO 0.0e+00 1.6e-12 (market_clearanc)\n",
      "\n",
      "Major Iterations. . . . 4\n",
      "Minor Iterations. . . . 4\n",
      "Restarts. . . . . . . . 0\n",
      "Crash Iterations. . . . 1\n",
      "Gradient Steps. . . . . 0\n",
      "Function Evaluations. . 9\n",
      "Gradient Evaluations. . 6\n",
      "Basis Time. . . . . . . 0.000000\n",
      "Total Time. . . . . . . 0.000000\n",
      "Residual. . . . . . . . 2.107262e-12\n",
      "Postsolved residual: 2.1073e-12\n"
     ]
    },
    {
     "data": {
      "text/html": [
       "<div><div style = \"float: left;\"><span>9×3 DataFrame</span></div><div style = \"clear: both;\"></div></div><div class = \"data-frame\" style = \"overflow-x: scroll;\"><table class = \"data-frame\" style = \"margin-bottom: 6px;\"><thead><tr class = \"header\"><th class = \"rowNumber\" style = \"font-weight: bold; text-align: right;\">Row</th><th style = \"text-align: left;\">var</th><th style = \"text-align: left;\">value</th><th style = \"text-align: left;\">margin</th></tr><tr class = \"subheader headerLastRow\"><th class = \"rowNumber\" style = \"font-weight: bold; text-align: right;\"></th><th title = \"VariableRef\" style = \"text-align: left;\">GenericV…</th><th title = \"Float64\" style = \"text-align: left;\">Float64</th><th title = \"Float64\" style = \"text-align: left;\">Float64</th></tr></thead><tbody><tr><td class = \"rowNumber\" style = \"font-weight: bold; text-align: right;\">1</td><td style = \"text-align: left;\">Y</td><td style = \"text-align: right;\">1.72391</td><td style = \"text-align: right;\">2.13163e-14</td></tr><tr><td class = \"rowNumber\" style = \"font-weight: bold; text-align: right;\">2</td><td style = \"text-align: left;\">W</td><td style = \"text-align: right;\">0.981912</td><td style = \"text-align: right;\">5.68434e-14</td></tr><tr><td class = \"rowNumber\" style = \"font-weight: bold; text-align: right;\">3</td><td style = \"text-align: left;\">X</td><td style = \"text-align: right;\">1.09567</td><td style = \"text-align: right;\">-7.56728e-13</td></tr><tr><td class = \"rowNumber\" style = \"font-weight: bold; text-align: right;\">4</td><td style = \"text-align: left;\">PL</td><td style = \"text-align: right;\">1.11803</td><td style = \"text-align: right;\">2.70006e-13</td></tr><tr><td class = \"rowNumber\" style = \"font-weight: bold; text-align: right;\">5</td><td style = \"text-align: left;\">PW</td><td style = \"text-align: right;\">1.0</td><td style = \"text-align: right;\">-4.26326e-13</td></tr><tr><td class = \"rowNumber\" style = \"font-weight: bold; text-align: right;\">6</td><td style = \"text-align: left;\">PK</td><td style = \"text-align: right;\">0.822616</td><td style = \"text-align: right;\">1.08002e-12</td></tr><tr><td class = \"rowNumber\" style = \"font-weight: bold; text-align: right;\">7</td><td style = \"text-align: left;\">PY</td><td style = \"text-align: right;\">0.992062</td><td style = \"text-align: right;\">-1.62004e-12</td></tr><tr><td class = \"rowNumber\" style = \"font-weight: bold; text-align: right;\">8</td><td style = \"text-align: left;\">PX</td><td style = \"text-align: right;\">1.008</td><td style = \"text-align: right;\">2.84217e-14</td></tr><tr><td class = \"rowNumber\" style = \"font-weight: bold; text-align: right;\">9</td><td style = \"text-align: left;\">CONS</td><td style = \"text-align: right;\">196.382</td><td style = \"text-align: right;\">-8.52651e-14</td></tr></tbody></table></div>"
      ],
      "text/latex": [
       "\\begin{tabular}{r|ccc}\n",
       "\t& var & value & margin\\\\\n",
       "\t\\hline\n",
       "\t& GenericV… & Float64 & Float64\\\\\n",
       "\t\\hline\n",
       "\t1 & $ Y $ & 1.72391 & 2.13163e-14 \\\\\n",
       "\t2 & $ W $ & 0.981912 & 5.68434e-14 \\\\\n",
       "\t3 & $ X $ & 1.09567 & -7.56728e-13 \\\\\n",
       "\t4 & $ PL $ & 1.11803 & 2.70006e-13 \\\\\n",
       "\t5 & $ PW $ & 1.0 & -4.26326e-13 \\\\\n",
       "\t6 & $ PK $ & 0.822616 & 1.08002e-12 \\\\\n",
       "\t7 & $ PY $ & 0.992062 & -1.62004e-12 \\\\\n",
       "\t8 & $ PX $ & 1.008 & 2.84217e-14 \\\\\n",
       "\t9 & $ CONS $ & 196.382 & -8.52651e-14 \\\\\n",
       "\\end{tabular}\n"
      ],
      "text/plain": [
       "\u001b[1m9×3 DataFrame\u001b[0m\n",
       "\u001b[1m Row \u001b[0m│\u001b[1m var       \u001b[0m\u001b[1m value      \u001b[0m\u001b[1m margin       \u001b[0m\n",
       "     │\u001b[90m GenericV… \u001b[0m\u001b[90m Float64    \u001b[0m\u001b[90m Float64      \u001b[0m\n",
       "─────┼─────────────────────────────────────\n",
       "   1 │ Y            1.72391    2.13163e-14\n",
       "   2 │ W            0.981912   5.68434e-14\n",
       "   3 │ X            1.09567   -7.56728e-13\n",
       "   4 │ PL           1.11803    2.70006e-13\n",
       "   5 │ PW           1.0       -4.26326e-13\n",
       "   6 │ PK           0.822616   1.08002e-12\n",
       "   7 │ PY           0.992062  -1.62004e-12\n",
       "   8 │ PX           1.008      2.84217e-14\n",
       "   9 │ CONS       196.382     -8.52651e-14"
      ]
     },
     "metadata": {},
     "output_type": "display_data"
    }
   ],
   "source": [
    "fix(PW,1)\n",
    "\n",
    "set_value!(σ,3)\n",
    "set_value!(σ,100)\n",
    "\n",
    "solve!(M; :cumulative_iteration_limit => 10_000)\n",
    "df = generate_report(M)"
   ]
  },
  {
   "cell_type": "code",
   "execution_count": null,
   "metadata": {},
   "outputs": [],
   "source": []
  }
 ],
 "metadata": {
  "kernelspec": {
   "display_name": "Julia 1.9.2",
   "language": "julia",
   "name": "julia-1.9"
  },
  "language_info": {
   "file_extension": ".jl",
   "mimetype": "application/julia",
   "name": "julia",
   "version": "1.9.2"
  }
 },
 "nbformat": 4,
 "nbformat_minor": 2
}
