{
 "cells": [
  {
   "cell_type": "code",
   "execution_count": 1,
   "metadata": {},
   "outputs": [],
   "source": [
    "using MPSGE_MP, JuMP"
   ]
  },
  {
   "cell_type": "code",
   "execution_count": 3,
   "metadata": {},
   "outputs": [],
   "source": [
    "M = MPSGEModel()\n",
    "\n",
    "@parameter(M, tax, 0)\n",
    "@parameter(M, σ, .5)\n",
    "@parameter(M, id, 120)\n",
    "\n",
    "@sectors(M,begin\n",
    "    X\n",
    "    Y\n",
    "    W\n",
    "end)\n",
    "\n",
    "@commodities(M,begin\n",
    "    PX\n",
    "    PY\n",
    "    PL\n",
    "    PK\n",
    "    PW\n",
    "end)\n",
    "\n",
    "@consumer(M, CONS)\n",
    "\n",
    "\n",
    "@production(M, X, [s = σ, t = 0, va => s = 1], begin\n",
    "    @Output PX id t\n",
    "    @Input  PY 20 s\n",
    "    @Input  PL 40 va taxes = [Tax(CONS,tax)]\n",
    "    @Input  PK 60 va taxes = [Tax(CONS,tax)]\n",
    "end)\n",
    "\n",
    "\n",
    "@production(M, Y, [t = 0, s = .75, va => s = 1], begin\n",
    "    @Output PY 120 t\n",
    "    @Input  PX 20 s\n",
    "    @Input  PL 60 va\n",
    "    @Input  PK 40 va\n",
    "end)\n",
    "\n",
    "@production(M, W, [t = 0, s = 1], begin\n",
    "    @Output PW 200 t\n",
    "    @Input  PX 100 s\n",
    "    @Input  PY 100 s\n",
    "end)\n",
    "\n",
    "@demand(M, CONS, begin\n",
    "    @final_demand(PW, 200)\n",
    "    @endowment(PL, 100)\n",
    "    @endowment(PK,100)\n",
    "end)\n",
    "\n",
    "jm = build!(M);"
   ]
  },
  {
   "cell_type": "markdown",
   "metadata": {},
   "source": [
    "# Benchmark"
   ]
  },
  {
   "cell_type": "code",
   "execution_count": 4,
   "metadata": {},
   "outputs": [
    {
     "name": "stdout",
     "output_type": "stream",
     "text": [
      "Reading options file C:\\Users\\MPHILL~1\\AppData\\Local\\Temp\\jl_921C.tmp\n",
      " > cumulative_iteration_limit 0\n",
      "Read of options file complete.\n",
      "\n",
      "Path 5.0.03 (Fri Jun 26 10:05:33 2020)\n",
      "Written by Todd Munson, Steven Dirkse, Youngdae Kim, and Michael Ferris\n",
      "Preprocessed size   : 9\n",
      "\n",
      "Major Iteration Log\n",
      "major minor  func  grad  residual    step  type prox    inorm  (label)\n",
      "    0     0     1     1 0.0000e+00           I 0.0e+00 0.0e+00 (market_clearanc)\n",
      "\n",
      "Major Iterations. . . . 0\n",
      "Minor Iterations. . . . 0\n",
      "Restarts. . . . . . . . 0\n",
      "Crash Iterations. . . . 0\n",
      "Gradient Steps. . . . . 0\n",
      "Function Evaluations. . 1\n",
      "Gradient Evaluations. . 1\n",
      "Basis Time. . . . . . . 0.000000\n",
      "Total Time. . . . . . . 0.063000\n",
      "Residual. . . . . . . . 0.000000e+00\n",
      "Postsolved residual: 0.0000e+00\n"
     ]
    },
    {
     "data": {
      "text/html": [
       "<div><div style = \"float: left;\"><span>9×3 DataFrame</span></div><div style = \"clear: both;\"></div></div><div class = \"data-frame\" style = \"overflow-x: scroll;\"><table class = \"data-frame\" style = \"margin-bottom: 6px;\"><thead><tr class = \"header\"><th class = \"rowNumber\" style = \"font-weight: bold; text-align: right;\">Row</th><th style = \"text-align: left;\">var</th><th style = \"text-align: left;\">value</th><th style = \"text-align: left;\">margin</th></tr><tr class = \"subheader headerLastRow\"><th class = \"rowNumber\" style = \"font-weight: bold; text-align: right;\"></th><th title = \"VariableRef\" style = \"text-align: left;\">GenericV…</th><th title = \"Float64\" style = \"text-align: left;\">Float64</th><th title = \"Float64\" style = \"text-align: left;\">Float64</th></tr></thead><tbody><tr><td class = \"rowNumber\" style = \"font-weight: bold; text-align: right;\">1</td><td style = \"text-align: left;\">Y</td><td style = \"text-align: right;\">1.0</td><td style = \"text-align: right;\">0.0</td></tr><tr><td class = \"rowNumber\" style = \"font-weight: bold; text-align: right;\">2</td><td style = \"text-align: left;\">W</td><td style = \"text-align: right;\">1.0</td><td style = \"text-align: right;\">0.0</td></tr><tr><td class = \"rowNumber\" style = \"font-weight: bold; text-align: right;\">3</td><td style = \"text-align: left;\">X</td><td style = \"text-align: right;\">1.0</td><td style = \"text-align: right;\">0.0</td></tr><tr><td class = \"rowNumber\" style = \"font-weight: bold; text-align: right;\">4</td><td style = \"text-align: left;\">PL</td><td style = \"text-align: right;\">1.0</td><td style = \"text-align: right;\">0.0</td></tr><tr><td class = \"rowNumber\" style = \"font-weight: bold; text-align: right;\">5</td><td style = \"text-align: left;\">PW</td><td style = \"text-align: right;\">1.0</td><td style = \"text-align: right;\">0.0</td></tr><tr><td class = \"rowNumber\" style = \"font-weight: bold; text-align: right;\">6</td><td style = \"text-align: left;\">PK</td><td style = \"text-align: right;\">1.0</td><td style = \"text-align: right;\">0.0</td></tr><tr><td class = \"rowNumber\" style = \"font-weight: bold; text-align: right;\">7</td><td style = \"text-align: left;\">PY</td><td style = \"text-align: right;\">1.0</td><td style = \"text-align: right;\">0.0</td></tr><tr><td class = \"rowNumber\" style = \"font-weight: bold; text-align: right;\">8</td><td style = \"text-align: left;\">PX</td><td style = \"text-align: right;\">1.0</td><td style = \"text-align: right;\">0.0</td></tr><tr><td class = \"rowNumber\" style = \"font-weight: bold; text-align: right;\">9</td><td style = \"text-align: left;\">CONS</td><td style = \"text-align: right;\">200.0</td><td style = \"text-align: right;\">0.0</td></tr></tbody></table></div>"
      ],
      "text/latex": [
       "\\begin{tabular}{r|ccc}\n",
       "\t& var & value & margin\\\\\n",
       "\t\\hline\n",
       "\t& GenericV… & Float64 & Float64\\\\\n",
       "\t\\hline\n",
       "\t1 & $ Y $ & 1.0 & 0.0 \\\\\n",
       "\t2 & $ W $ & 1.0 & 0.0 \\\\\n",
       "\t3 & $ X $ & 1.0 & 0.0 \\\\\n",
       "\t4 & $ PL $ & 1.0 & 0.0 \\\\\n",
       "\t5 & $ PW $ & 1.0 & 0.0 \\\\\n",
       "\t6 & $ PK $ & 1.0 & 0.0 \\\\\n",
       "\t7 & $ PY $ & 1.0 & 0.0 \\\\\n",
       "\t8 & $ PX $ & 1.0 & 0.0 \\\\\n",
       "\t9 & $ CONS $ & 200.0 & 0.0 \\\\\n",
       "\\end{tabular}\n"
      ],
      "text/plain": [
       "\u001b[1m9×3 DataFrame\u001b[0m\n",
       "\u001b[1m Row \u001b[0m│\u001b[1m var       \u001b[0m\u001b[1m value   \u001b[0m\u001b[1m margin  \u001b[0m\n",
       "     │\u001b[90m GenericV… \u001b[0m\u001b[90m Float64 \u001b[0m\u001b[90m Float64 \u001b[0m\n",
       "─────┼─────────────────────────────\n",
       "   1 │ Y              1.0      0.0\n",
       "   2 │ W              1.0      0.0\n",
       "   3 │ X              1.0      0.0\n",
       "   4 │ PL             1.0      0.0\n",
       "   5 │ PW             1.0      0.0\n",
       "   6 │ PK             1.0      0.0\n",
       "   7 │ PY             1.0      0.0\n",
       "   8 │ PX             1.0      0.0\n",
       "   9 │ CONS         200.0      0.0"
      ]
     },
     "metadata": {},
     "output_type": "display_data"
    }
   ],
   "source": [
    "solve!(M; :cumulative_iteration_limit => 0)\n",
    "df_benchmark = generate_report(M)"
   ]
  },
  {
   "cell_type": "markdown",
   "metadata": {},
   "source": [
    "# Counterfactual tax = .5"
   ]
  },
  {
   "cell_type": "code",
   "execution_count": 5,
   "metadata": {},
   "outputs": [
    {
     "name": "stdout",
     "output_type": "stream",
     "text": [
      "Reading options file C:\\Users\\MPHILL~1\\AppData\\Local\\Temp\\jl_A036.tmp\n",
      " > cumulative_iteration_limit 10000\n",
      "Read of options file complete.\n",
      "\n",
      "Path 5.0.03 (Fri Jun 26 10:05:33 2020)\n",
      "Written by Todd Munson, Steven Dirkse, Youngdae Kim, and Michael Ferris\n",
      "\n",
      "Preprocessed size   : 8\n",
      "\n",
      "Crash Log\n",
      "major  func  diff  size  residual    step       prox   (label)\n",
      "    0     0             5.4385e+01             0.0e+00 (income_balance[CONS)\n",
      "    1     1     0     8 3.4976e+00  1.0e+00    0.0e+00 (zero_profit[W)\n",
      "pn_search terminated: no basis change.\n",
      "\n",
      "Major Iteration Log\n",
      "major minor  func  grad  residual    step  type prox    inorm  (label)\n",
      "    0     0     2     2 3.4976e+00           I 0.0e+00 3.0e+00 (zero_profit[W)\n",
      "    1     1     3     3 2.4322e-02  1.0e+00 SO 0.0e+00 1.6e-02 (market_clearanc)\n",
      "    2     1     4     4 2.5675e-06  1.0e+00 SO 0.0e+00 2.1e-06 (market_clearanc)\n",
      "    3     1     5     5 1.0688e-13  1.0e+00 SO 0.0e+00 5.7e-14 (zero_profit[W)\n",
      "\n",
      "Major Iterations. . . . 3\n",
      "Minor Iterations. . . . 3\n",
      "Restarts. . . . . . . . 0\n",
      "Crash Iterations. . . . 1\n",
      "Gradient Steps. . . . . 0\n",
      "Function Evaluations. . 5\n",
      "Gradient Evaluations. . 5\n",
      "Basis Time. . . . . . . 0.000000\n",
      "Total Time. . . . . . . 0.000000\n",
      "Residual. . . . . . . . 1.068771e-13\n",
      "Postsolved residual: 1.0688e-13\n"
     ]
    },
    {
     "data": {
      "text/html": [
       "<div><div style = \"float: left;\"><span>9×3 DataFrame</span></div><div style = \"clear: both;\"></div></div><div class = \"data-frame\" style = \"overflow-x: scroll;\"><table class = \"data-frame\" style = \"margin-bottom: 6px;\"><thead><tr class = \"header\"><th class = \"rowNumber\" style = \"font-weight: bold; text-align: right;\">Row</th><th style = \"text-align: left;\">var</th><th style = \"text-align: left;\">value</th><th style = \"text-align: left;\">margin</th></tr><tr class = \"subheader headerLastRow\"><th class = \"rowNumber\" style = \"font-weight: bold; text-align: right;\"></th><th title = \"VariableRef\" style = \"text-align: left;\">GenericV…</th><th title = \"Float64\" style = \"text-align: left;\">Float64</th><th title = \"Float64\" style = \"text-align: left;\">Float64</th></tr></thead><tbody><tr><td class = \"rowNumber\" style = \"font-weight: bold; text-align: right;\">1</td><td style = \"text-align: left;\">Y</td><td style = \"text-align: right;\">1.10915</td><td style = \"text-align: right;\">-5.68434e-14</td></tr><tr><td class = \"rowNumber\" style = \"font-weight: bold; text-align: right;\">2</td><td style = \"text-align: left;\">W</td><td style = \"text-align: right;\">0.983827</td><td style = \"text-align: right;\">0.0</td></tr><tr><td class = \"rowNumber\" style = \"font-weight: bold; text-align: right;\">3</td><td style = \"text-align: left;\">X</td><td style = \"text-align: right;\">0.861867</td><td style = \"text-align: right;\">-2.84217e-14</td></tr><tr><td class = \"rowNumber\" style = \"font-weight: bold; text-align: right;\">4</td><td style = \"text-align: left;\">PL</td><td style = \"text-align: right;\">0.841191</td><td style = \"text-align: right;\">-2.84217e-14</td></tr><tr><td class = \"rowNumber\" style = \"font-weight: bold; text-align: right;\">5</td><td style = \"text-align: left;\">PW</td><td style = \"text-align: right;\">1.0</td><td style = \"text-align: right;\">-8.52651e-14</td></tr><tr><td class = \"rowNumber\" style = \"font-weight: bold; text-align: right;\">6</td><td style = \"text-align: left;\">PK</td><td style = \"text-align: right;\">0.787062</td><td style = \"text-align: right;\">1.42109e-14</td></tr><tr><td class = \"rowNumber\" style = \"font-weight: bold; text-align: right;\">7</td><td style = \"text-align: left;\">PY</td><td style = \"text-align: right;\">0.868686</td><td style = \"text-align: right;\">-1.06581e-14</td></tr><tr><td class = \"rowNumber\" style = \"font-weight: bold; text-align: right;\">8</td><td style = \"text-align: left;\">PX</td><td style = \"text-align: right;\">1.15116</td><td style = \"text-align: right;\">-2.84217e-14</td></tr><tr><td class = \"rowNumber\" style = \"font-weight: bold; text-align: right;\">9</td><td style = \"text-align: left;\">CONS</td><td style = \"text-align: right;\">196.765</td><td style = \"text-align: right;\">-2.84217e-14</td></tr></tbody></table></div>"
      ],
      "text/latex": [
       "\\begin{tabular}{r|ccc}\n",
       "\t& var & value & margin\\\\\n",
       "\t\\hline\n",
       "\t& GenericV… & Float64 & Float64\\\\\n",
       "\t\\hline\n",
       "\t1 & $ Y $ & 1.10915 & -5.68434e-14 \\\\\n",
       "\t2 & $ W $ & 0.983827 & 0.0 \\\\\n",
       "\t3 & $ X $ & 0.861867 & -2.84217e-14 \\\\\n",
       "\t4 & $ PL $ & 0.841191 & -2.84217e-14 \\\\\n",
       "\t5 & $ PW $ & 1.0 & -8.52651e-14 \\\\\n",
       "\t6 & $ PK $ & 0.787062 & 1.42109e-14 \\\\\n",
       "\t7 & $ PY $ & 0.868686 & -1.06581e-14 \\\\\n",
       "\t8 & $ PX $ & 1.15116 & -2.84217e-14 \\\\\n",
       "\t9 & $ CONS $ & 196.765 & -2.84217e-14 \\\\\n",
       "\\end{tabular}\n"
      ],
      "text/plain": [
       "\u001b[1m9×3 DataFrame\u001b[0m\n",
       "\u001b[1m Row \u001b[0m│\u001b[1m var       \u001b[0m\u001b[1m value      \u001b[0m\u001b[1m margin       \u001b[0m\n",
       "     │\u001b[90m GenericV… \u001b[0m\u001b[90m Float64    \u001b[0m\u001b[90m Float64      \u001b[0m\n",
       "─────┼─────────────────────────────────────\n",
       "   1 │ Y            1.10915   -5.68434e-14\n",
       "   2 │ W            0.983827   0.0\n",
       "   3 │ X            0.861867  -2.84217e-14\n",
       "   4 │ PL           0.841191  -2.84217e-14\n",
       "   5 │ PW           1.0       -8.52651e-14\n",
       "   6 │ PK           0.787062   1.42109e-14\n",
       "   7 │ PY           0.868686  -1.06581e-14\n",
       "   8 │ PX           1.15116   -2.84217e-14\n",
       "   9 │ CONS       196.765     -2.84217e-14"
      ]
     },
     "metadata": {},
     "output_type": "display_data"
    }
   ],
   "source": [
    "fix(PW,1)\n",
    "\n",
    "set_value!(tax,.5)\n",
    "\n",
    "solve!(M; :cumulative_iteration_limit => 10_000)\n",
    "df = generate_report(M)"
   ]
  },
  {
   "cell_type": "markdown",
   "metadata": {},
   "source": [
    "# Counterfactual tax = .1"
   ]
  },
  {
   "cell_type": "code",
   "execution_count": 6,
   "metadata": {},
   "outputs": [
    {
     "name": "stdout",
     "output_type": "stream",
     "text": [
      "Reading options file C:\\Users\\MPHILL~1\\AppData\\Local\\Temp\\jl_A057.tmp\n",
      " > cumulative_iteration_limit 10000\n",
      "Read of options file complete.\n",
      "\n",
      "Path 5.0.03 (Fri Jun 26 10:05:33 2020)\n",
      "Written by Todd Munson, Steven Dirkse, Youngdae Kim, and Michael Ferris\n",
      "\n",
      "Preprocessed size   : 8\n",
      "\n",
      "Crash Log\n",
      "major  func  diff  size  residual    step       prox   (label)\n",
      "    0     0             1.0248e+01             0.0e+00 (income_balance[CONS)\n",
      "    1     1     0     8 1.5284e-01  1.0e+00    0.0e+00 (zero_profit[W)\n",
      "pn_search terminated: no basis change.\n",
      "\n",
      "Major Iteration Log\n",
      "major minor  func  grad  residual    step  type prox    inorm  (label)\n",
      "    0     0     2     2 1.5284e-01           I 0.0e+00 1.1e-01 (zero_profit[W)\n",
      "    1     1     3     3 6.2993e-05  1.0e+00 SO 0.0e+00 4.2e-05 (market_clearanc)\n",
      "    2     1     4     4 1.6975e-11  1.0e+00 SO 0.0e+00 1.4e-11 (market_clearanc)\n",
      "\n",
      "Major Iterations. . . . 2\n",
      "Minor Iterations. . . . 2\n",
      "Restarts. . . . . . . . 0\n",
      "Crash Iterations. . . . 1\n",
      "Gradient Steps. . . . . 0\n",
      "Function Evaluations. . 4\n",
      "Gradient Evaluations. . 4\n",
      "Basis Time. . . . . . . 0.000000\n",
      "Total Time. . . . . . . 0.000000\n",
      "Residual. . . . . . . . 1.697525e-11\n",
      "Postsolved residual: 1.6975e-11\n"
     ]
    },
    {
     "data": {
      "text/html": [
       "<div><div style = \"float: left;\"><span>9×3 DataFrame</span></div><div style = \"clear: both;\"></div></div><div class = \"data-frame\" style = \"overflow-x: scroll;\"><table class = \"data-frame\" style = \"margin-bottom: 6px;\"><thead><tr class = \"header\"><th class = \"rowNumber\" style = \"font-weight: bold; text-align: right;\">Row</th><th style = \"text-align: left;\">var</th><th style = \"text-align: left;\">value</th><th style = \"text-align: left;\">margin</th></tr><tr class = \"subheader headerLastRow\"><th class = \"rowNumber\" style = \"font-weight: bold; text-align: right;\"></th><th title = \"VariableRef\" style = \"text-align: left;\">GenericV…</th><th title = \"Float64\" style = \"text-align: left;\">Float64</th><th title = \"Float64\" style = \"text-align: left;\">Float64</th></tr></thead><tbody><tr><td class = \"rowNumber\" style = \"font-weight: bold; text-align: right;\">1</td><td style = \"text-align: left;\">Y</td><td style = \"text-align: right;\">1.02732</td><td style = \"text-align: right;\">-6.74305e-12</td></tr><tr><td class = \"rowNumber\" style = \"font-weight: bold; text-align: right;\">2</td><td style = \"text-align: left;\">W</td><td style = \"text-align: right;\">0.999102</td><td style = \"text-align: right;\">-3.12639e-13</td></tr><tr><td class = \"rowNumber\" style = \"font-weight: bold; text-align: right;\">3</td><td style = \"text-align: left;\">X</td><td style = \"text-align: right;\">0.968548</td><td style = \"text-align: right;\">-7.45359e-12</td></tr><tr><td class = \"rowNumber\" style = \"font-weight: bold; text-align: right;\">4</td><td style = \"text-align: left;\">PL</td><td style = \"text-align: right;\">0.960787</td><td style = \"text-align: right;\">1.94689e-12</td></tr><tr><td class = \"rowNumber\" style = \"font-weight: bold; text-align: right;\">5</td><td style = \"text-align: left;\">PW</td><td style = \"text-align: right;\">1.0</td><td style = \"text-align: right;\">-2.76827e-11</td></tr><tr><td class = \"rowNumber\" style = \"font-weight: bold; text-align: right;\">6</td><td style = \"text-align: left;\">PK</td><td style = \"text-align: right;\">0.945827</td><td style = \"text-align: right;\">1.35003e-11</td></tr><tr><td class = \"rowNumber\" style = \"font-weight: bold; text-align: right;\">7</td><td style = \"text-align: left;\">PY</td><td style = \"text-align: right;\">0.967574</td><td style = \"text-align: right;\">-8.49099e-13</td></tr><tr><td class = \"rowNumber\" style = \"font-weight: bold; text-align: right;\">8</td><td style = \"text-align: left;\">PX</td><td style = \"text-align: right;\">1.03351</td><td style = \"text-align: right;\">-7.10543e-14</td></tr><tr><td class = \"rowNumber\" style = \"font-weight: bold; text-align: right;\">9</td><td style = \"text-align: left;\">CONS</td><td style = \"text-align: right;\">199.82</td><td style = \"text-align: right;\">5.11591e-13</td></tr></tbody></table></div>"
      ],
      "text/latex": [
       "\\begin{tabular}{r|ccc}\n",
       "\t& var & value & margin\\\\\n",
       "\t\\hline\n",
       "\t& GenericV… & Float64 & Float64\\\\\n",
       "\t\\hline\n",
       "\t1 & $ Y $ & 1.02732 & -6.74305e-12 \\\\\n",
       "\t2 & $ W $ & 0.999102 & -3.12639e-13 \\\\\n",
       "\t3 & $ X $ & 0.968548 & -7.45359e-12 \\\\\n",
       "\t4 & $ PL $ & 0.960787 & 1.94689e-12 \\\\\n",
       "\t5 & $ PW $ & 1.0 & -2.76827e-11 \\\\\n",
       "\t6 & $ PK $ & 0.945827 & 1.35003e-11 \\\\\n",
       "\t7 & $ PY $ & 0.967574 & -8.49099e-13 \\\\\n",
       "\t8 & $ PX $ & 1.03351 & -7.10543e-14 \\\\\n",
       "\t9 & $ CONS $ & 199.82 & 5.11591e-13 \\\\\n",
       "\\end{tabular}\n"
      ],
      "text/plain": [
       "\u001b[1m9×3 DataFrame\u001b[0m\n",
       "\u001b[1m Row \u001b[0m│\u001b[1m var       \u001b[0m\u001b[1m value      \u001b[0m\u001b[1m margin       \u001b[0m\n",
       "     │\u001b[90m GenericV… \u001b[0m\u001b[90m Float64    \u001b[0m\u001b[90m Float64      \u001b[0m\n",
       "─────┼─────────────────────────────────────\n",
       "   1 │ Y            1.02732   -6.74305e-12\n",
       "   2 │ W            0.999102  -3.12639e-13\n",
       "   3 │ X            0.968548  -7.45359e-12\n",
       "   4 │ PL           0.960787   1.94689e-12\n",
       "   5 │ PW           1.0       -2.76827e-11\n",
       "   6 │ PK           0.945827   1.35003e-11\n",
       "   7 │ PY           0.967574  -8.49099e-13\n",
       "   8 │ PX           1.03351   -7.10543e-14\n",
       "   9 │ CONS       199.82       5.11591e-13"
      ]
     },
     "metadata": {},
     "output_type": "display_data"
    }
   ],
   "source": [
    "fix(PW,1)\n",
    "\n",
    "set_value!(tax,.1)\n",
    "\n",
    "solve!(M; :cumulative_iteration_limit => 10_000)\n",
    "df = generate_report(M)"
   ]
  },
  {
   "cell_type": "code",
   "execution_count": 7,
   "metadata": {},
   "outputs": [
    {
     "name": "stdout",
     "output_type": "stream",
     "text": [
      "Reading options file C:\\Users\\MPHILL~1\\AppData\\Local\\Temp\\jl_A077.tmp\n",
      " > cumulative_iteration_limit 10000\n",
      "Read of options file complete.\n",
      "\n",
      "Path 5.0.03 (Fri Jun 26 10:05:33 2020)\n",
      "Written by Todd Munson, Steven Dirkse, Youngdae Kim, and Michael Ferris\n",
      "\n",
      "Preprocessed size   : 8\n",
      "\n",
      "Crash Log\n",
      "major  func  diff  size  residual    step       prox   (label)\n",
      "    0     0             1.4279e+02             0.0e+00 (market_clearance[PK)\n",
      "    1     4     0     8 5.9485e+01  4.1e-01    0.0e+00 (market_clearance[PY)\n",
      "pn_search terminated: no basis change.\n",
      "\n",
      "Major Iteration Log\n",
      "major minor  func  grad  residual    step  type prox    inorm  (label)\n",
      "    0     0     5     2 5.9485e+01           I 0.0e+00 5.9e+01 (market_clearanc)\n",
      "    1     1     6     3 4.1576e+00  1.0e+00 SM 0.0e+00 3.2e+00 (market_clearanc)\n",
      "    2     1     7     4 1.8869e-02  1.0e+00 SO 0.0e+00 1.4e-02 (market_clearanc)\n",
      "    3     1     8     5 1.8620e-05  1.0e+00 SO 0.0e+00 1.5e-05 (market_clearanc)\n",
      "    4     1     9     6 1.3108e-12  1.0e+00 SO 0.0e+00 1.1e-12 (market_clearanc)\n",
      "\n",
      "Major Iterations. . . . 4\n",
      "Minor Iterations. . . . 4\n",
      "Restarts. . . . . . . . 0\n",
      "Crash Iterations. . . . 1\n",
      "Gradient Steps. . . . . 0\n",
      "Function Evaluations. . 9\n",
      "Gradient Evaluations. . 6\n",
      "Basis Time. . . . . . . 0.000000\n",
      "Total Time. . . . . . . 0.000000\n",
      "Residual. . . . . . . . 1.310799e-12\n",
      "Postsolved residual: 1.3108e-12\n"
     ]
    },
    {
     "data": {
      "text/html": [
       "<div><div style = \"float: left;\"><span>9×3 DataFrame</span></div><div style = \"clear: both;\"></div></div><div class = \"data-frame\" style = \"overflow-x: scroll;\"><table class = \"data-frame\" style = \"margin-bottom: 6px;\"><thead><tr class = \"header\"><th class = \"rowNumber\" style = \"font-weight: bold; text-align: right;\">Row</th><th style = \"text-align: left;\">var</th><th style = \"text-align: left;\">value</th><th style = \"text-align: left;\">margin</th></tr><tr class = \"subheader headerLastRow\"><th class = \"rowNumber\" style = \"font-weight: bold; text-align: right;\"></th><th title = \"VariableRef\" style = \"text-align: left;\">GenericV…</th><th title = \"Float64\" style = \"text-align: left;\">Float64</th><th title = \"Float64\" style = \"text-align: left;\">Float64</th></tr></thead><tbody><tr><td class = \"rowNumber\" style = \"font-weight: bold; text-align: right;\">1</td><td style = \"text-align: left;\">Y</td><td style = \"text-align: right;\">1.72391</td><td style = \"text-align: right;\">1.42109e-14</td></tr><tr><td class = \"rowNumber\" style = \"font-weight: bold; text-align: right;\">2</td><td style = \"text-align: left;\">W</td><td style = \"text-align: right;\">0.981912</td><td style = \"text-align: right;\">0.0</td></tr><tr><td class = \"rowNumber\" style = \"font-weight: bold; text-align: right;\">3</td><td style = \"text-align: left;\">X</td><td style = \"text-align: right;\">1.09567</td><td style = \"text-align: right;\">4.95159e-13</td></tr><tr><td class = \"rowNumber\" style = \"font-weight: bold; text-align: right;\">4</td><td style = \"text-align: left;\">PL</td><td style = \"text-align: right;\">1.11803</td><td style = \"text-align: right;\">3.69482e-13</td></tr><tr><td class = \"rowNumber\" style = \"font-weight: bold; text-align: right;\">5</td><td style = \"text-align: left;\">PW</td><td style = \"text-align: right;\">1.0</td><td style = \"text-align: right;\">-1.3074e-12</td></tr><tr><td class = \"rowNumber\" style = \"font-weight: bold; text-align: right;\">6</td><td style = \"text-align: left;\">PK</td><td style = \"text-align: right;\">0.822616</td><td style = \"text-align: right;\">1.06581e-12</td></tr><tr><td class = \"rowNumber\" style = \"font-weight: bold; text-align: right;\">7</td><td style = \"text-align: left;\">PY</td><td style = \"text-align: right;\">0.992062</td><td style = \"text-align: right;\">4.9738e-13</td></tr><tr><td class = \"rowNumber\" style = \"font-weight: bold; text-align: right;\">8</td><td style = \"text-align: left;\">PX</td><td style = \"text-align: right;\">1.008</td><td style = \"text-align: right;\">0.0</td></tr><tr><td class = \"rowNumber\" style = \"font-weight: bold; text-align: right;\">9</td><td style = \"text-align: left;\">CONS</td><td style = \"text-align: right;\">196.382</td><td style = \"text-align: right;\">-5.68434e-14</td></tr></tbody></table></div>"
      ],
      "text/latex": [
       "\\begin{tabular}{r|ccc}\n",
       "\t& var & value & margin\\\\\n",
       "\t\\hline\n",
       "\t& GenericV… & Float64 & Float64\\\\\n",
       "\t\\hline\n",
       "\t1 & $ Y $ & 1.72391 & 1.42109e-14 \\\\\n",
       "\t2 & $ W $ & 0.981912 & 0.0 \\\\\n",
       "\t3 & $ X $ & 1.09567 & 4.95159e-13 \\\\\n",
       "\t4 & $ PL $ & 1.11803 & 3.69482e-13 \\\\\n",
       "\t5 & $ PW $ & 1.0 & -1.3074e-12 \\\\\n",
       "\t6 & $ PK $ & 0.822616 & 1.06581e-12 \\\\\n",
       "\t7 & $ PY $ & 0.992062 & 4.9738e-13 \\\\\n",
       "\t8 & $ PX $ & 1.008 & 0.0 \\\\\n",
       "\t9 & $ CONS $ & 196.382 & -5.68434e-14 \\\\\n",
       "\\end{tabular}\n"
      ],
      "text/plain": [
       "\u001b[1m9×3 DataFrame\u001b[0m\n",
       "\u001b[1m Row \u001b[0m│\u001b[1m var       \u001b[0m\u001b[1m value      \u001b[0m\u001b[1m margin       \u001b[0m\n",
       "     │\u001b[90m GenericV… \u001b[0m\u001b[90m Float64    \u001b[0m\u001b[90m Float64      \u001b[0m\n",
       "─────┼─────────────────────────────────────\n",
       "   1 │ Y            1.72391    1.42109e-14\n",
       "   2 │ W            0.981912   0.0\n",
       "   3 │ X            1.09567    4.95159e-13\n",
       "   4 │ PL           1.11803    3.69482e-13\n",
       "   5 │ PW           1.0       -1.3074e-12\n",
       "   6 │ PK           0.822616   1.06581e-12\n",
       "   7 │ PY           0.992062   4.9738e-13\n",
       "   8 │ PX           1.008      0.0\n",
       "   9 │ CONS       196.382     -5.68434e-14"
      ]
     },
     "metadata": {},
     "output_type": "display_data"
    }
   ],
   "source": [
    "fix(PW,1)\n",
    "\n",
    "set_value!(σ,3)\n",
    "set_value!(σ,100)\n",
    "\n",
    "solve!(M; :cumulative_iteration_limit => 10_000)\n",
    "df = generate_report(M)"
   ]
  }
 ],
 "metadata": {
  "kernelspec": {
   "display_name": "Julia 1.9.2",
   "language": "julia",
   "name": "julia-1.9"
  },
  "language_info": {
   "file_extension": ".jl",
   "mimetype": "application/julia",
   "name": "julia",
   "version": "1.9.2"
  }
 },
 "nbformat": 4,
 "nbformat_minor": 2
}
