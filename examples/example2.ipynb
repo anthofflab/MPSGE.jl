{
 "cells": [
  {
   "cell_type": "code",
   "execution_count": 1,
   "metadata": {},
   "outputs": [],
   "source": [
    "using MPSGE"
   ]
  },
  {
   "cell_type": "markdown",
   "metadata": {},
   "source": [
    "Build the simple TWOBYTWO model:"
   ]
  },
  {
   "cell_type": "code",
   "execution_count": 2,
   "metadata": {},
   "outputs": [
    {
     "data": {
      "text/plain": [
       "MPSGE model with 3 sectors, 5 commodities and 1 consumers.\n",
       "  Sectors: X (bm=1.0), Y (bm=1.0), U (bm=1.0)\n",
       "  Commodities: PX (bm=1.0), PY (bm=1.0), PU (bm=1.0), PL (bm=1.0), PK (bm=1.0)\n",
       "  Consumers: RA (bm=150.0)\n"
      ]
     },
     "metadata": {},
     "output_type": "display_data"
    }
   ],
   "source": [
    "m = Model()\n",
    "\n",
    "@parameter(m, endow, 1.0)\n",
    "\n",
    "@sector(m, X)\n",
    "@sector(m, Y)\n",
    "@sector(m, U)\n",
    "\n",
    "@commodity(m, PX)\n",
    "@commodity(m, PY)\n",
    "@commodity(m, PU)\n",
    "@commodity(m, PL)\n",
    "@commodity(m, PK)\n",
    "\n",
    "@consumer(m, RA, benchmark = 150.)\n",
    "\n",
    "@production(m, X, 0, 1, [Output(PX, 100)], [Input(PL, 50), Input(PK, 50)])\n",
    "@production(m, Y, 0, 1, [Output(PY, 50)], [Input(PL, 20), Input(PK, 30)])\n",
    "@production(m, U, 0, 1, [Output(PU, 150)], [Input(PX, 100), Input(PY, 50)])\n",
    "\n",
    "@demand(m, RA, 1., [Demand(PU, 150)], [Endowment(PL, :(70 * $endow)), Endowment(PK, 80.)])"
   ]
  },
  {
   "cell_type": "markdown",
   "metadata": {},
   "source": [
    "Next try to solve it with an iteration limit of 0 to replicate the benchmark:"
   ]
  },
  {
   "cell_type": "code",
   "execution_count": 3,
   "metadata": {},
   "outputs": [
    {
     "name": "stdout",
     "output_type": "stream",
     "text": [
      "Path 5.0.03 (Fri Jun 26 10:05:33 2020)\n",
      "Written by Todd Munson, Steven Dirkse, Youngdae Kim, and Michael Ferris\n"
     ]
    },
    {
     "name": "stdout",
     "output_type": "stream",
     "text": [
      "\n",
      "Preprocessed size   : 19\n",
      "\n",
      "Crash Log\n",
      "major  func  diff  size  residual    step       prox   (label)\n",
      "    0     0             0.0000e+00             0.0e+00 (f[    1])\n",
      "\n",
      "Major Iteration Log\n",
      "major minor  func  grad  residual    step  type prox    inorm  (label)\n",
      "    0     0     1     1 0.0000e+00           I 0.0e+00 0.0e+00 (f[    1])\n",
      "\n",
      "Major Iterations. . . . 0\n",
      "Minor Iterations. . . . 0\n",
      "Restarts. . . . . . . . 0\n",
      "Crash Iterations. . . . 0\n",
      "Gradient Steps. . . . . 0\n",
      "Function Evaluations. . 1\n",
      "Gradient Evaluations. . 1\n",
      "Basis Time. . . . . . . 0.000000\n",
      "Total Time. . . . . . . 0.156000\n",
      "Residual. . . . . . . . 0.000000e+00\n",
      "Postsolved residual: 0.0000e+00\n"
     ]
    },
    {
     "data": {
      "text/plain": [
       "MPSGE model with 3 sectors, 5 commodities and 1 consumers.\n",
       "  Sectors: X (bm=1.0), Y (bm=1.0), U (bm=1.0)\n",
       "  Commodities: PX (bm=1.0), PY (bm=1.0), PU (bm=1.0), PL (bm=1.0), PK (bm=1.0)\n",
       "  Consumers: RA (bm=150.0)\n",
       "Did not solve with error: nothing.\n"
      ]
     },
     "metadata": {},
     "output_type": "display_data"
    }
   ],
   "source": [
    "solve!(m, cumulative_iteration_limit=0)"
   ]
  },
  {
   "cell_type": "markdown",
   "metadata": {},
   "source": [
    "Now change the value of the parameter `endow` and solve the model again:"
   ]
  },
  {
   "cell_type": "code",
   "execution_count": 4,
   "metadata": {},
   "outputs": [
    {
     "name": "stdout",
     "output_type": "stream",
     "text": [
      "Path 5.0.03 (Fri Jun 26 10:05:33 2020)\n",
      "Written by Todd Munson, Steven Dirkse, Youngdae Kim, and Michael Ferris\n",
      "\n",
      "Preprocessed size   : 19\n",
      "\n",
      "Crash Log\n",
      "major  func  diff  size  residual    step       prox   (label)\n",
      "    0     0             7.0613e+00             0.0e+00 (f[   20])\n",
      "    1     1     0    19 7.0207e-01  1.0e+00    7.1e-02 (f[   20])\n",
      "pn_search terminated: no basis change.\n",
      "\n",
      "Major Iteration Log\n",
      "major minor  func  grad  residual    step  type prox    inorm  (label)\n",
      "    0     0     2     2 7.0207e-01           I 7.0e-03 5.0e-01 (f[   20])\n",
      "    1     1     3     3 1.3158e-03  1.0e+00 SO 2.8e-03 8.6e-04 (f[   20])\n",
      "    2     1     4     4 1.0194e-07  1.0e+00 SO 1.3e-04 5.9e-08 (f[   11])\n",
      "\n",
      "Major Iterations. . . . 2\n",
      "Minor Iterations. . . . 2\n",
      "Restarts. . . . . . . . 0\n",
      "Crash Iterations. . . . 1\n",
      "Gradient Steps. . . . . 0\n",
      "Function Evaluations. . 4\n",
      "Gradient Evaluations. . 4\n",
      "Basis Time. . . . . . . 0.000000\n",
      "Total Time. . . . . . . 0.000000\n",
      "Residual. . . . . . . . 1.019364e-07\n",
      "Postsolved residual: 1.0194e-07\n"
     ]
    },
    {
     "data": {
      "text/plain": [
       "MPSGE model with 3 sectors, 5 commodities and 1 consumers.\n",
       "  Sectors: X (bm=1.0), Y (bm=1.0), U (bm=1.0)\n",
       "  Commodities: PX (bm=1.0), PY (bm=1.0), PU (bm=1.0), PL (bm=1.0), PK (bm=1.0)\n",
       "  Consumers: RA (bm=150.0)\n",
       "Did not solve with error: nothing.\n"
      ]
     },
     "metadata": {},
     "output_type": "display_data"
    }
   ],
   "source": [
    "set_value(endow, 1.1)\n",
    "solve!(m)"
   ]
  },
  {
   "cell_type": "markdown",
   "metadata": {},
   "source": [
    "Now fix the `PX` variable at its benchmark value:"
   ]
  },
  {
   "cell_type": "code",
   "execution_count": 5,
   "metadata": {},
   "outputs": [
    {
     "name": "stdout",
     "output_type": "stream",
     "text": [
      "Path 5.0.03 (Fri Jun 26 10:05:33 2020)\n",
      "Written by Todd Munson, Steven Dirkse, Youngdae Kim, and Michael Ferris\n",
      "\n",
      "Preprocessed size   : 18\n",
      "\n",
      "Crash Log\n",
      "major  func  diff  size  residual    step       prox   (label)\n",
      "    0     0             7.0613e+00             0.0e+00 (f[   20])\n",
      "    1     1     0    18 4.2701e-01  1.0e+00    0.0e+00 (f[    2])\n",
      "pn_search terminated: no basis change.\n",
      "\n",
      "Major Iteration Log\n",
      "major minor  func  grad  residual    step  type prox    inorm  (label)\n",
      "    0     0     2     2 4.2701e-01           I 0.0e+00 2.8e-01 (f[    2])\n",
      "    1     1     3     3 5.9085e-04  1.0e+00 SO 0.0e+00 3.4e-04 (f[    2])\n",
      "    2     1     4     4 8.8207e-10  1.0e+00 SO 0.0e+00 5.4e-10 (f[    5])\n",
      "\n",
      "Major Iterations. . . . 2\n",
      "Minor Iterations. . . . 2\n",
      "Restarts. . . . . . . . 0\n",
      "Crash Iterations. . . . 1\n",
      "Gradient Steps. . . . . 0\n",
      "Function Evaluations. . 4\n",
      "Gradient Evaluations. . 4\n",
      "Basis Time. . . . . . . 0.000000\n",
      "Total Time. . . . . . . 0.000000\n",
      "Residual. . . . . . . . 8.820693e-10\n",
      "Postsolved residual: 8.8207e-10\n"
     ]
    },
    {
     "data": {
      "text/plain": [
       "MPSGE model with 3 sectors, 5 commodities and 1 consumers.\n",
       "  Sectors: X (bm=1.0), Y (bm=1.0), U (bm=1.0)\n",
       "  Commodities: PX (bm=1.0), PY (bm=1.0), PU (bm=1.0), PL (bm=1.0), PK (bm=1.0)\n",
       "  Consumers: RA (bm=150.0)\n",
       "Did not solve with error: nothing.\n"
      ]
     },
     "metadata": {},
     "output_type": "display_data"
    }
   ],
   "source": [
    "set_fixed!(PX, true)\n",
    "solve!(m)"
   ]
  },
  {
   "cell_type": "markdown",
   "metadata": {},
   "source": [
    "Display an algebraic version of the model:"
   ]
  },
  {
   "cell_type": "code",
   "execution_count": 6,
   "metadata": {},
   "outputs": [
    {
     "data": {
      "text/latex": [
       "$$ \\begin{alignat*}{3}\\\n",
       "& \\text{Compensated Demand} \\quad && \\quad && \\\\\n",
       "& \\quad  {\\left({50.0} * {\\left({\\left({PL†X} / {50.0}\\right)} ^ {\\left({\\left({50.0} * {1.0} * {1.0}\\right)} / {\\left({\\left({50.0} * {1.0} * {1.0}\\right)} + {\\left({50.0} * {1.0} * {1.0}\\right)}\\right)}\\right)}\\right)} * {\\left({\\left({\\left({\\left({\\left({\\left({\\left({\\left({PL} * {\\left({1.0} + {\\textsf{+}\\left({0.0}\\right)}\\right)}\\right)} / {\\left({1.0} * {1.0}\\right)}\\right)} ^ {\\left({\\left({50.0} * {1.0} * {1.0}\\right)} / {\\left({\\left({50.0} * {1.0} * {1.0}\\right)} + {\\left({50.0} * {1.0} * {1.0}\\right)}\\right)}\\right)}\\right)} * {\\left({\\left({\\left({PK} * {\\left({1.0} + {\\textsf{+}\\left({0.0}\\right)}\\right)}\\right)} / {\\left({1.0} * {1.0}\\right)}\\right)} ^ {\\left({\\left({50.0} * {1.0} * {1.0}\\right)} / {\\left({\\left({50.0} * {1.0} * {1.0}\\right)} + {\\left({50.0} * {1.0} * {1.0}\\right)}\\right)}\\right)}\\right)}\\right)} * {\\left({\\left({\\left({PL†X} / {50.0}\\right)} ^ {\\left({\\left({50.0} * {1.0} * {1.0}\\right)} / {\\left({\\left({50.0} * {1.0} * {1.0}\\right)} + {\\left({50.0} * {1.0} * {1.0}\\right)}\\right)}\\right)}\\right)} * {\\left({\\left({PK†X} / {50.0}\\right)} ^ {\\left({\\left({50.0} * {1.0} * {1.0}\\right)} / {\\left({\\left({50.0} * {1.0} * {1.0}\\right)} + {\\left({50.0} * {1.0} * {1.0}\\right)}\\right)}\\right)}\\right)}\\right)}\\right)} * {1.0} * {1.0}\\right)} / {\\left({PL} * {\\left({1.0} + {\\textsf{+}\\left({0.0}\\right)}\\right)}\\right)}\\right)} ^ {1.0}\\right)} * {\\left({\\left({PK†X} / {50.0}\\right)} ^ {\\left({\\left({50.0} * {1.0} * {1.0}\\right)} / {\\left({\\left({50.0} * {1.0} * {1.0}\\right)} + {\\left({50.0} * {1.0} * {1.0}\\right)}\\right)}\\right)}\\right)}\\right)} - {PL†X} \\quad && \\perp \\quad && PL†X\\\\\n",
       "& \\quad  {\\left({50.0} * {\\left({\\left({PL†X} / {50.0}\\right)} ^ {\\left({\\left({50.0} * {1.0} * {1.0}\\right)} / {\\left({\\left({50.0} * {1.0} * {1.0}\\right)} + {\\left({50.0} * {1.0} * {1.0}\\right)}\\right)}\\right)}\\right)} * {\\left({\\left({\\left({\\left({\\left({\\left({\\left({\\left({PL} * {\\left({1.0} + {\\textsf{+}\\left({0.0}\\right)}\\right)}\\right)} / {\\left({1.0} * {1.0}\\right)}\\right)} ^ {\\left({\\left({50.0} * {1.0} * {1.0}\\right)} / {\\left({\\left({50.0} * {1.0} * {1.0}\\right)} + {\\left({50.0} * {1.0} * {1.0}\\right)}\\right)}\\right)}\\right)} * {\\left({\\left({\\left({PK} * {\\left({1.0} + {\\textsf{+}\\left({0.0}\\right)}\\right)}\\right)} / {\\left({1.0} * {1.0}\\right)}\\right)} ^ {\\left({\\left({50.0} * {1.0} * {1.0}\\right)} / {\\left({\\left({50.0} * {1.0} * {1.0}\\right)} + {\\left({50.0} * {1.0} * {1.0}\\right)}\\right)}\\right)}\\right)}\\right)} * {\\left({\\left({\\left({PL†X} / {50.0}\\right)} ^ {\\left({\\left({50.0} * {1.0} * {1.0}\\right)} / {\\left({\\left({50.0} * {1.0} * {1.0}\\right)} + {\\left({50.0} * {1.0} * {1.0}\\right)}\\right)}\\right)}\\right)} * {\\left({\\left({PK†X} / {50.0}\\right)} ^ {\\left({\\left({50.0} * {1.0} * {1.0}\\right)} / {\\left({\\left({50.0} * {1.0} * {1.0}\\right)} + {\\left({50.0} * {1.0} * {1.0}\\right)}\\right)}\\right)}\\right)}\\right)}\\right)} * {1.0} * {1.0}\\right)} / {\\left({PK} * {\\left({1.0} + {\\textsf{+}\\left({0.0}\\right)}\\right)}\\right)}\\right)} ^ {1.0}\\right)} * {\\left({\\left({PK†X} / {50.0}\\right)} ^ {\\left({\\left({50.0} * {1.0} * {1.0}\\right)} / {\\left({\\left({50.0} * {1.0} * {1.0}\\right)} + {\\left({50.0} * {1.0} * {1.0}\\right)}\\right)}\\right)}\\right)}\\right)} - {PK†X} \\quad && \\perp \\quad && PK†X\\\\\n",
       "& \\quad  {\\left({20.0} * {\\left({\\left({PL†Y} / {20.0}\\right)} ^ {\\left({\\left({20.0} * {1.0} * {1.0}\\right)} / {\\left({\\left({20.0} * {1.0} * {1.0}\\right)} + {\\left({30.0} * {1.0} * {1.0}\\right)}\\right)}\\right)}\\right)} * {\\left({\\left({\\left({\\left({\\left({\\left({\\left({\\left({PL} * {\\left({1.0} + {\\textsf{+}\\left({0.0}\\right)}\\right)}\\right)} / {\\left({1.0} * {1.0}\\right)}\\right)} ^ {\\left({\\left({20.0} * {1.0} * {1.0}\\right)} / {\\left({\\left({20.0} * {1.0} * {1.0}\\right)} + {\\left({30.0} * {1.0} * {1.0}\\right)}\\right)}\\right)}\\right)} * {\\left({\\left({\\left({PK} * {\\left({1.0} + {\\textsf{+}\\left({0.0}\\right)}\\right)}\\right)} / {\\left({1.0} * {1.0}\\right)}\\right)} ^ {\\left({\\left({30.0} * {1.0} * {1.0}\\right)} / {\\left({\\left({20.0} * {1.0} * {1.0}\\right)} + {\\left({30.0} * {1.0} * {1.0}\\right)}\\right)}\\right)}\\right)}\\right)} * {\\left({\\left({\\left({PL†Y} / {20.0}\\right)} ^ {\\left({\\left({20.0} * {1.0} * {1.0}\\right)} / {\\left({\\left({20.0} * {1.0} * {1.0}\\right)} + {\\left({30.0} * {1.0} * {1.0}\\right)}\\right)}\\right)}\\right)} * {\\left({\\left({PK†Y} / {30.0}\\right)} ^ {\\left({\\left({30.0} * {1.0} * {1.0}\\right)} / {\\left({\\left({20.0} * {1.0} * {1.0}\\right)} + {\\left({30.0} * {1.0} * {1.0}\\right)}\\right)}\\right)}\\right)}\\right)}\\right)} * {1.0} * {1.0}\\right)} / {\\left({PL} * {\\left({1.0} + {\\textsf{+}\\left({0.0}\\right)}\\right)}\\right)}\\right)} ^ {1.0}\\right)} * {\\left({\\left({PK†Y} / {30.0}\\right)} ^ {\\left({\\left({30.0} * {1.0} * {1.0}\\right)} / {\\left({\\left({20.0} * {1.0} * {1.0}\\right)} + {\\left({30.0} * {1.0} * {1.0}\\right)}\\right)}\\right)}\\right)}\\right)} - {PL†Y} \\quad && \\perp \\quad && PL†Y\\\\\n",
       "& \\quad  {\\left({30.0} * {\\left({\\left({PL†Y} / {20.0}\\right)} ^ {\\left({\\left({20.0} * {1.0} * {1.0}\\right)} / {\\left({\\left({20.0} * {1.0} * {1.0}\\right)} + {\\left({30.0} * {1.0} * {1.0}\\right)}\\right)}\\right)}\\right)} * {\\left({\\left({\\left({\\left({\\left({\\left({\\left({\\left({PL} * {\\left({1.0} + {\\textsf{+}\\left({0.0}\\right)}\\right)}\\right)} / {\\left({1.0} * {1.0}\\right)}\\right)} ^ {\\left({\\left({20.0} * {1.0} * {1.0}\\right)} / {\\left({\\left({20.0} * {1.0} * {1.0}\\right)} + {\\left({30.0} * {1.0} * {1.0}\\right)}\\right)}\\right)}\\right)} * {\\left({\\left({\\left({PK} * {\\left({1.0} + {\\textsf{+}\\left({0.0}\\right)}\\right)}\\right)} / {\\left({1.0} * {1.0}\\right)}\\right)} ^ {\\left({\\left({30.0} * {1.0} * {1.0}\\right)} / {\\left({\\left({20.0} * {1.0} * {1.0}\\right)} + {\\left({30.0} * {1.0} * {1.0}\\right)}\\right)}\\right)}\\right)}\\right)} * {\\left({\\left({\\left({PL†Y} / {20.0}\\right)} ^ {\\left({\\left({20.0} * {1.0} * {1.0}\\right)} / {\\left({\\left({20.0} * {1.0} * {1.0}\\right)} + {\\left({30.0} * {1.0} * {1.0}\\right)}\\right)}\\right)}\\right)} * {\\left({\\left({PK†Y} / {30.0}\\right)} ^ {\\left({\\left({30.0} * {1.0} * {1.0}\\right)} / {\\left({\\left({20.0} * {1.0} * {1.0}\\right)} + {\\left({30.0} * {1.0} * {1.0}\\right)}\\right)}\\right)}\\right)}\\right)}\\right)} * {1.0} * {1.0}\\right)} / {\\left({PK} * {\\left({1.0} + {\\textsf{+}\\left({0.0}\\right)}\\right)}\\right)}\\right)} ^ {1.0}\\right)} * {\\left({\\left({PK†Y} / {30.0}\\right)} ^ {\\left({\\left({30.0} * {1.0} * {1.0}\\right)} / {\\left({\\left({20.0} * {1.0} * {1.0}\\right)} + {\\left({30.0} * {1.0} * {1.0}\\right)}\\right)}\\right)}\\right)}\\right)} - {PK†Y} \\quad && \\perp \\quad && PK†Y\\\\\n",
       "& \\quad  {\\left({100.0} * {\\left({\\left({PX†U} / {100.0}\\right)} ^ {\\left({\\left({100.0} * {1.0} * {1.0}\\right)} / {\\left({\\left({100.0} * {1.0} * {1.0}\\right)} + {\\left({50.0} * {1.0} * {1.0}\\right)}\\right)}\\right)}\\right)} * {\\left({\\left({\\left({\\left({\\left({\\left({\\left({\\left({PX} * {\\left({1.0} + {\\textsf{+}\\left({0.0}\\right)}\\right)}\\right)} / {\\left({1.0} * {1.0}\\right)}\\right)} ^ {\\left({\\left({100.0} * {1.0} * {1.0}\\right)} / {\\left({\\left({100.0} * {1.0} * {1.0}\\right)} + {\\left({50.0} * {1.0} * {1.0}\\right)}\\right)}\\right)}\\right)} * {\\left({\\left({\\left({PY} * {\\left({1.0} + {\\textsf{+}\\left({0.0}\\right)}\\right)}\\right)} / {\\left({1.0} * {1.0}\\right)}\\right)} ^ {\\left({\\left({50.0} * {1.0} * {1.0}\\right)} / {\\left({\\left({100.0} * {1.0} * {1.0}\\right)} + {\\left({50.0} * {1.0} * {1.0}\\right)}\\right)}\\right)}\\right)}\\right)} * {\\left({\\left({\\left({PX†U} / {100.0}\\right)} ^ {\\left({\\left({100.0} * {1.0} * {1.0}\\right)} / {\\left({\\left({100.0} * {1.0} * {1.0}\\right)} + {\\left({50.0} * {1.0} * {1.0}\\right)}\\right)}\\right)}\\right)} * {\\left({\\left({PY†U} / {50.0}\\right)} ^ {\\left({\\left({50.0} * {1.0} * {1.0}\\right)} / {\\left({\\left({100.0} * {1.0} * {1.0}\\right)} + {\\left({50.0} * {1.0} * {1.0}\\right)}\\right)}\\right)}\\right)}\\right)}\\right)} * {1.0} * {1.0}\\right)} / {\\left({PX} * {\\left({1.0} + {\\textsf{+}\\left({0.0}\\right)}\\right)}\\right)}\\right)} ^ {1.0}\\right)} * {\\left({\\left({PY†U} / {50.0}\\right)} ^ {\\left({\\left({50.0} * {1.0} * {1.0}\\right)} / {\\left({\\left({100.0} * {1.0} * {1.0}\\right)} + {\\left({50.0} * {1.0} * {1.0}\\right)}\\right)}\\right)}\\right)}\\right)} - {PX†U} \\quad && \\perp \\quad && PX†U\\\\\n",
       "& \\quad  {\\left({50.0} * {\\left({\\left({PX†U} / {100.0}\\right)} ^ {\\left({\\left({100.0} * {1.0} * {1.0}\\right)} / {\\left({\\left({100.0} * {1.0} * {1.0}\\right)} + {\\left({50.0} * {1.0} * {1.0}\\right)}\\right)}\\right)}\\right)} * {\\left({\\left({\\left({\\left({\\left({\\left({\\left({\\left({PX} * {\\left({1.0} + {\\textsf{+}\\left({0.0}\\right)}\\right)}\\right)} / {\\left({1.0} * {1.0}\\right)}\\right)} ^ {\\left({\\left({100.0} * {1.0} * {1.0}\\right)} / {\\left({\\left({100.0} * {1.0} * {1.0}\\right)} + {\\left({50.0} * {1.0} * {1.0}\\right)}\\right)}\\right)}\\right)} * {\\left({\\left({\\left({PY} * {\\left({1.0} + {\\textsf{+}\\left({0.0}\\right)}\\right)}\\right)} / {\\left({1.0} * {1.0}\\right)}\\right)} ^ {\\left({\\left({50.0} * {1.0} * {1.0}\\right)} / {\\left({\\left({100.0} * {1.0} * {1.0}\\right)} + {\\left({50.0} * {1.0} * {1.0}\\right)}\\right)}\\right)}\\right)}\\right)} * {\\left({\\left({\\left({PX†U} / {100.0}\\right)} ^ {\\left({\\left({100.0} * {1.0} * {1.0}\\right)} / {\\left({\\left({100.0} * {1.0} * {1.0}\\right)} + {\\left({50.0} * {1.0} * {1.0}\\right)}\\right)}\\right)}\\right)} * {\\left({\\left({PY†U} / {50.0}\\right)} ^ {\\left({\\left({50.0} * {1.0} * {1.0}\\right)} / {\\left({\\left({100.0} * {1.0} * {1.0}\\right)} + {\\left({50.0} * {1.0} * {1.0}\\right)}\\right)}\\right)}\\right)}\\right)}\\right)} * {1.0} * {1.0}\\right)} / {\\left({PY} * {\\left({1.0} + {\\textsf{+}\\left({0.0}\\right)}\\right)}\\right)}\\right)} ^ {1.0}\\right)} * {\\left({\\left({PY†U} / {50.0}\\right)} ^ {\\left({\\left({50.0} * {1.0} * {1.0}\\right)} / {\\left({\\left({100.0} * {1.0} * {1.0}\\right)} + {\\left({50.0} * {1.0} * {1.0}\\right)}\\right)}\\right)}\\right)}\\right)} - {PY†U} \\quad && \\perp \\quad && PY†U\\\\\n",
       "& \\text{Compensated Supply} \\quad && \\quad && \\\\\n",
       "& \\quad  {\\left({100.0} * {\\left({\\left({PL†X} / {50.0}\\right)} ^ {\\left({\\left({50.0} * {1.0} * {1.0}\\right)} / {\\left({\\left({50.0} * {1.0} * {1.0}\\right)} + {\\left({50.0} * {1.0} * {1.0}\\right)}\\right)}\\right)}\\right)} * {\\left({\\left({\\left({PX} * {\\left({1.0} - {\\textsf{+}\\left({0.0}\\right)}\\right)}\\right)} / {\\left({\\left({\\textsf{+}\\left({{\\left({\\left({100.0} * {1.0} * {1.0}\\right)} / {\\textsf{+}\\left({{100.0} * {1.0} * {1.0}}\\right)}\\right)} * {\\left({\\left({\\left({PX} * {\\left({1.0} - {\\textsf{+}\\left({0.0}\\right)}\\right)}\\right)} / {\\left({1.0} * {1.0}\\right)}\\right)} ^ {\\left({1.0} + {0.0}\\right)}\\right)}}\\right)} ^ {\\left({1.0} / {\\left({1.0} + {0.0}\\right)}\\right)}\\right)} * {1.0} * {1.0}\\right)}\\right)} ^ {0.0}\\right)} * {\\left({\\left({PK†X} / {50.0}\\right)} ^ {\\left({\\left({50.0} * {1.0} * {1.0}\\right)} / {\\left({\\left({50.0} * {1.0} * {1.0}\\right)} + {\\left({50.0} * {1.0} * {1.0}\\right)}\\right)}\\right)}\\right)}\\right)} - {PX‡X} \\quad && \\perp \\quad && PX‡X\\\\\n",
       "& \\quad  {\\left({50.0} * {\\left({\\left({PL†Y} / {20.0}\\right)} ^ {\\left({\\left({20.0} * {1.0} * {1.0}\\right)} / {\\left({\\left({20.0} * {1.0} * {1.0}\\right)} + {\\left({30.0} * {1.0} * {1.0}\\right)}\\right)}\\right)}\\right)} * {\\left({\\left({\\left({PY} * {\\left({1.0} - {\\textsf{+}\\left({0.0}\\right)}\\right)}\\right)} / {\\left({\\left({\\textsf{+}\\left({{\\left({\\left({50.0} * {1.0} * {1.0}\\right)} / {\\textsf{+}\\left({{50.0} * {1.0} * {1.0}}\\right)}\\right)} * {\\left({\\left({\\left({PY} * {\\left({1.0} - {\\textsf{+}\\left({0.0}\\right)}\\right)}\\right)} / {\\left({1.0} * {1.0}\\right)}\\right)} ^ {\\left({1.0} + {0.0}\\right)}\\right)}}\\right)} ^ {\\left({1.0} / {\\left({1.0} + {0.0}\\right)}\\right)}\\right)} * {1.0} * {1.0}\\right)}\\right)} ^ {0.0}\\right)} * {\\left({\\left({PK†Y} / {30.0}\\right)} ^ {\\left({\\left({30.0} * {1.0} * {1.0}\\right)} / {\\left({\\left({20.0} * {1.0} * {1.0}\\right)} + {\\left({30.0} * {1.0} * {1.0}\\right)}\\right)}\\right)}\\right)}\\right)} - {PY‡Y} \\quad && \\perp \\quad && PY‡Y\\\\\n",
       "& \\quad  {\\left({150.0} * {\\left({\\left({PX†U} / {100.0}\\right)} ^ {\\left({\\left({100.0} * {1.0} * {1.0}\\right)} / {\\left({\\left({100.0} * {1.0} * {1.0}\\right)} + {\\left({50.0} * {1.0} * {1.0}\\right)}\\right)}\\right)}\\right)} * {\\left({\\left({\\left({PU} * {\\left({1.0} - {\\textsf{+}\\left({0.0}\\right)}\\right)}\\right)} / {\\left({\\left({\\textsf{+}\\left({{\\left({\\left({150.0} * {1.0} * {1.0}\\right)} / {\\textsf{+}\\left({{150.0} * {1.0} * {1.0}}\\right)}\\right)} * {\\left({\\left({\\left({PU} * {\\left({1.0} - {\\textsf{+}\\left({0.0}\\right)}\\right)}\\right)} / {\\left({1.0} * {1.0}\\right)}\\right)} ^ {\\left({1.0} + {0.0}\\right)}\\right)}}\\right)} ^ {\\left({1.0} / {\\left({1.0} + {0.0}\\right)}\\right)}\\right)} * {1.0} * {1.0}\\right)}\\right)} ^ {0.0}\\right)} * {\\left({\\left({PY†U} / {50.0}\\right)} ^ {\\left({\\left({50.0} * {1.0} * {1.0}\\right)} / {\\left({\\left({100.0} * {1.0} * {1.0}\\right)} + {\\left({50.0} * {1.0} * {1.0}\\right)}\\right)}\\right)}\\right)}\\right)} - {PU‡U} \\quad && \\perp \\quad && PU‡U\\\\\n",
       "& \\text{Final Demand} \\quad && \\quad && \\\\\n",
       "& \\quad  {\\left({150.0} * {\\left({RA} / {\\textsf{+}\\left({{150.0} * {1.0} * {1.0}}\\right)}\\right)} * {\\left({\\left({\\left({\\textsf{+}\\left({{\\left({\\left({150.0} * {1.0} * {1.0}\\right)} / {\\textsf{+}\\left({{150.0} * {1.0} * {1.0}}\\right)}\\right)} * {\\left({\\left({PU} / {\\left({1.0} * {1.0}\\right)}\\right)} ^ {\\left({1} - {1.0}\\right)}\\right)}}\\right)} ^ {\\left({1} / {\\left({1} - {1.0}\\right)}\\right)}\\right)} * {\\left({\\textsf{+}\\left({{\\left({\\left({150.0} * {1.0} * {1.0}\\right)} / {\\textsf{+}\\left({{150.0} * {1.0} * {1.0}}\\right)}\\right)} * {\\left({\\left({150.0} / {150.0}\\right)} ^ {\\left({\\left({1.0} - {1}\\right)} / {1.0}\\right)}\\right)}}\\right)} ^ {\\left({1} / {\\left({\\left({1.0} - {1}\\right)} / {1.0}\\right)}\\right)}\\right)}\\right)} ^ {\\left({1.0} - {1}\\right)}\\right)} * {\\left({\\left({\\left({1.0} * {1.0}\\right)} / {PU}\\right)} ^ {1.0}\\right)}\\right)} - {PUρRA} \\quad && \\perp \\quad && PUρRA\\\\\n",
       "& \\text{Zero Profit} \\quad && \\quad && \\\\\n",
       "& \\quad  {\\left({\\left({\\left({PL} * {\\left({1.0} + {\\textsf{+}\\left({0.0}\\right)}\\right)}\\right)} * {PL†X}\\right)} + {\\left({\\left({PK} * {\\left({1.0} + {\\textsf{+}\\left({0.0}\\right)}\\right)}\\right)} * {PK†X}\\right)}\\right)} - {\\textsf{+}\\left({{\\left({PX} * {\\left({1.0} - {\\textsf{+}\\left({0.0}\\right)}\\right)}\\right)} * {PX‡X}}\\right)} \\quad && \\perp \\quad && 0.0 <X < 1.0e101\\\\\n",
       "& \\quad  {\\left({\\left({\\left({PL} * {\\left({1.0} + {\\textsf{+}\\left({0.0}\\right)}\\right)}\\right)} * {PL†Y}\\right)} + {\\left({\\left({PK} * {\\left({1.0} + {\\textsf{+}\\left({0.0}\\right)}\\right)}\\right)} * {PK†Y}\\right)}\\right)} - {\\textsf{+}\\left({{\\left({PY} * {\\left({1.0} - {\\textsf{+}\\left({0.0}\\right)}\\right)}\\right)} * {PY‡Y}}\\right)} \\quad && \\perp \\quad && 0.0 <Y < 1.0e101\\\\\n",
       "& \\quad  {\\left({\\left({\\left({PX} * {\\left({1.0} + {\\textsf{+}\\left({0.0}\\right)}\\right)}\\right)} * {PX†U}\\right)} + {\\left({\\left({PY} * {\\left({1.0} + {\\textsf{+}\\left({0.0}\\right)}\\right)}\\right)} * {PY†U}\\right)}\\right)} - {\\textsf{+}\\left({{\\left({PU} * {\\left({1.0} - {\\textsf{+}\\left({0.0}\\right)}\\right)}\\right)} * {PU‡U}}\\right)} \\quad && \\perp \\quad && 0.0 <U < 1.0e101\\\\\n",
       "& \\text{Market clearance} \\quad && \\quad && \\\\\n",
       "& \\quad  {\\left({0.0} + {\\left({70} * {endow}\\right)}\\right)} - {\\left({0.0} + {\\left({X} * {PL†X}\\right)} + {\\left({Y} * {PL†Y}\\right)}\\right)} \\quad && \\perp \\quad && 0.001 <PL < 1.0e101\\\\\n",
       "& \\quad  {\\left({0.0} + {\\left({X} * {PX‡X}\\right)}\\right)} - {\\left({0.0} + {\\left({U} * {PX†U}\\right)}\\right)} \\quad && \\perp \\quad && PX = 1.0\\\\\n",
       "& \\quad  {\\left({0.0} + {\\left({U} * {PU‡U}\\right)}\\right)} - {\\left({0.0} + {PUρRA}\\right)} \\quad && \\perp \\quad && 0.001 <PU < 1.0e101\\\\\n",
       "& \\quad  {\\left({0.0} + {80.0}\\right)} - {\\left({0.0} + {\\left({X} * {PK†X}\\right)} + {\\left({Y} * {PK†Y}\\right)}\\right)} \\quad && \\perp \\quad && 0.001 <PK < 1.0e101\\\\\n",
       "& \\quad  {\\left({0.0} + {\\left({Y} * {PY‡Y}\\right)}\\right)} - {\\left({0.0} + {\\left({U} * {PY†U}\\right)}\\right)} \\quad && \\perp \\quad && 0.001 <PY < 1.0e101\\\\\n",
       "& \\text{Income balance} \\quad && \\quad && \\\\\n",
       "& \\quad  {\\left({\\left({\\left({70} * {endow}\\right)} * {PL}\\right)} + {0.0} + {\\left({80.0} * {PK}\\right)}\\right)} - {RA} \\quad && \\perp \\quad && 0.0 <RA < 1.0e101\\\\\n",
       "\\end{alignat*}\n",
       " $$\n"
      ],
      "text/plain": [
       "  Compensated Demand\n",
       "    (50.0 * ((PL†X / 50.0) ^ ((50.0 * 1.0 * 1.0) / ((50.0 * 1.0 * 1.0) + (50.0 * 1.0 * 1.0)))) * ((((((((PL * (1.0 + +(0.0))) / (1.0 * 1.0)) ^ ((50.0 * 1.0 * 1.0) / ((50.0 * 1.0 * 1.0) + (50.0 * 1.0 * 1.0)))) * (((PK * (1.0 + +(0.0))) / (1.0 * 1.0)) ^ ((50.0 * 1.0 * 1.0) / ((50.0 * 1.0 * 1.0) + (50.0 * 1.0 * 1.0))))) * (((PL†X / 50.0) ^ ((50.0 * 1.0 * 1.0) / ((50.0 * 1.0 * 1.0) + (50.0 * 1.0 * 1.0)))) * ((PK†X / 50.0) ^ ((50.0 * 1.0 * 1.0) / ((50.0 * 1.0 * 1.0) + (50.0 * 1.0 * 1.0)))))) * 1.0 * 1.0) / (PL * (1.0 + +(0.0)))) ^ 1.0) * ((PK†X / 50.0) ^ ((50.0 * 1.0 * 1.0) / ((50.0 * 1.0 * 1.0) + (50.0 * 1.0 * 1.0))))) - PL†X              ┴  PL†X\n",
       "    (50.0 * ((PL†X / 50.0) ^ ((50.0 * 1.0 * 1.0) / ((50.0 * 1.0 * 1.0) + (50.0 * 1.0 * 1.0)))) * ((((((((PL * (1.0 + +(0.0))) / (1.0 * 1.0)) ^ ((50.0 * 1.0 * 1.0) / ((50.0 * 1.0 * 1.0) + (50.0 * 1.0 * 1.0)))) * (((PK * (1.0 + +(0.0))) / (1.0 * 1.0)) ^ ((50.0 * 1.0 * 1.0) / ((50.0 * 1.0 * 1.0) + (50.0 * 1.0 * 1.0))))) * (((PL†X / 50.0) ^ ((50.0 * 1.0 * 1.0) / ((50.0 * 1.0 * 1.0) + (50.0 * 1.0 * 1.0)))) * ((PK†X / 50.0) ^ ((50.0 * 1.0 * 1.0) / ((50.0 * 1.0 * 1.0) + (50.0 * 1.0 * 1.0)))))) * 1.0 * 1.0) / (PK * (1.0 + +(0.0)))) ^ 1.0) * ((PK†X / 50.0) ^ ((50.0 * 1.0 * 1.0) / ((50.0 * 1.0 * 1.0) + (50.0 * 1.0 * 1.0))))) - PK†X              ┴  PK†X\n",
       "    (20.0 * ((PL†Y / 20.0) ^ ((20.0 * 1.0 * 1.0) / ((20.0 * 1.0 * 1.0) + (30.0 * 1.0 * 1.0)))) * ((((((((PL * (1.0 + +(0.0))) / (1.0 * 1.0)) ^ ((20.0 * 1.0 * 1.0) / ((20.0 * 1.0 * 1.0) + (30.0 * 1.0 * 1.0)))) * (((PK * (1.0 + +(0.0))) / (1.0 * 1.0)) ^ ((30.0 * 1.0 * 1.0) / ((20.0 * 1.0 * 1.0) + (30.0 * 1.0 * 1.0))))) * (((PL†Y / 20.0) ^ ((20.0 * 1.0 * 1.0) / ((20.0 * 1.0 * 1.0) + (30.0 * 1.0 * 1.0)))) * ((PK†Y / 30.0) ^ ((30.0 * 1.0 * 1.0) / ((20.0 * 1.0 * 1.0) + (30.0 * 1.0 * 1.0)))))) * 1.0 * 1.0) / (PL * (1.0 + +(0.0)))) ^ 1.0) * ((PK†Y / 30.0) ^ ((30.0 * 1.0 * 1.0) / ((20.0 * 1.0 * 1.0) + (30.0 * 1.0 * 1.0))))) - PL†Y              ┴  PL†Y\n",
       "    (30.0 * ((PL†Y / 20.0) ^ ((20.0 * 1.0 * 1.0) / ((20.0 * 1.0 * 1.0) + (30.0 * 1.0 * 1.0)))) * ((((((((PL * (1.0 + +(0.0))) / (1.0 * 1.0)) ^ ((20.0 * 1.0 * 1.0) / ((20.0 * 1.0 * 1.0) + (30.0 * 1.0 * 1.0)))) * (((PK * (1.0 + +(0.0))) / (1.0 * 1.0)) ^ ((30.0 * 1.0 * 1.0) / ((20.0 * 1.0 * 1.0) + (30.0 * 1.0 * 1.0))))) * (((PL†Y / 20.0) ^ ((20.0 * 1.0 * 1.0) / ((20.0 * 1.0 * 1.0) + (30.0 * 1.0 * 1.0)))) * ((PK†Y / 30.0) ^ ((30.0 * 1.0 * 1.0) / ((20.0 * 1.0 * 1.0) + (30.0 * 1.0 * 1.0)))))) * 1.0 * 1.0) / (PK * (1.0 + +(0.0)))) ^ 1.0) * ((PK†Y / 30.0) ^ ((30.0 * 1.0 * 1.0) / ((20.0 * 1.0 * 1.0) + (30.0 * 1.0 * 1.0))))) - PK†Y              ┴  PK†Y\n",
       "    (100.0 * ((PX†U / 100.0) ^ ((100.0 * 1.0 * 1.0) / ((100.0 * 1.0 * 1.0) + (50.0 * 1.0 * 1.0)))) * ((((((((PX * (1.0 + +(0.0))) / (1.0 * 1.0)) ^ ((100.0 * 1.0 * 1.0) / ((100.0 * 1.0 * 1.0) + (50.0 * 1.0 * 1.0)))) * (((PY * (1.0 + +(0.0))) / (1.0 * 1.0)) ^ ((50.0 * 1.0 * 1.0) / ((100.0 * 1.0 * 1.0) + (50.0 * 1.0 * 1.0))))) * (((PX†U / 100.0) ^ ((100.0 * 1.0 * 1.0) / ((100.0 * 1.0 * 1.0) + (50.0 * 1.0 * 1.0)))) * ((PY†U / 50.0) ^ ((50.0 * 1.0 * 1.0) / ((100.0 * 1.0 * 1.0) + (50.0 * 1.0 * 1.0)))))) * 1.0 * 1.0) / (PX * (1.0 + +(0.0)))) ^ 1.0) * ((PY†U / 50.0) ^ ((50.0 * 1.0 * 1.0) / ((100.0 * 1.0 * 1.0) + (50.0 * 1.0 * 1.0))))) - PX†U  ┴  PX†U\n",
       "    (50.0 * ((PX†U / 100.0) ^ ((100.0 * 1.0 * 1.0) / ((100.0 * 1.0 * 1.0) + (50.0 * 1.0 * 1.0)))) * ((((((((PX * (1.0 + +(0.0))) / (1.0 * 1.0)) ^ ((100.0 * 1.0 * 1.0) / ((100.0 * 1.0 * 1.0) + (50.0 * 1.0 * 1.0)))) * (((PY * (1.0 + +(0.0))) / (1.0 * 1.0)) ^ ((50.0 * 1.0 * 1.0) / ((100.0 * 1.0 * 1.0) + (50.0 * 1.0 * 1.0))))) * (((PX†U / 100.0) ^ ((100.0 * 1.0 * 1.0) / ((100.0 * 1.0 * 1.0) + (50.0 * 1.0 * 1.0)))) * ((PY†U / 50.0) ^ ((50.0 * 1.0 * 1.0) / ((100.0 * 1.0 * 1.0) + (50.0 * 1.0 * 1.0)))))) * 1.0 * 1.0) / (PY * (1.0 + +(0.0)))) ^ 1.0) * ((PY†U / 50.0) ^ ((50.0 * 1.0 * 1.0) / ((100.0 * 1.0 * 1.0) + (50.0 * 1.0 * 1.0))))) - PY†U   ┴  PY†U\n",
       "  Compensated Supply\n",
       "    (100.0 * ((PL†X / 50.0) ^ ((50.0 * 1.0 * 1.0) / ((50.0 * 1.0 * 1.0) + (50.0 * 1.0 * 1.0)))) * (((PX * (1.0 - +(0.0))) / ((+(((100.0 * 1.0 * 1.0) / +(100.0 * 1.0 * 1.0)) * (((PX * (1.0 - +(0.0))) / (1.0 * 1.0)) ^ (1.0 + 0.0))) ^ (1.0 / (1.0 + 0.0))) * 1.0 * 1.0)) ^ 0.0) * ((PK†X / 50.0) ^ ((50.0 * 1.0 * 1.0) / ((50.0 * 1.0 * 1.0) + (50.0 * 1.0 * 1.0))))) - PX‡X                                                                                                                                                                                                                                                                                     ┴  PX‡X\n",
       "    (50.0 * ((PL†Y / 20.0) ^ ((20.0 * 1.0 * 1.0) / ((20.0 * 1.0 * 1.0) + (30.0 * 1.0 * 1.0)))) * (((PY * (1.0 - +(0.0))) / ((+(((50.0 * 1.0 * 1.0) / +(50.0 * 1.0 * 1.0)) * (((PY * (1.0 - +(0.0))) / (1.0 * 1.0)) ^ (1.0 + 0.0))) ^ (1.0 / (1.0 + 0.0))) * 1.0 * 1.0)) ^ 0.0) * ((PK†Y / 30.0) ^ ((30.0 * 1.0 * 1.0) / ((20.0 * 1.0 * 1.0) + (30.0 * 1.0 * 1.0))))) - PY‡Y                                                                                                                                                                                                                                                                                        ┴  PY‡Y\n",
       "    (150.0 * ((PX†U / 100.0) ^ ((100.0 * 1.0 * 1.0) / ((100.0 * 1.0 * 1.0) + (50.0 * 1.0 * 1.0)))) * (((PU * (1.0 - +(0.0))) / ((+(((150.0 * 1.0 * 1.0) / +(150.0 * 1.0 * 1.0)) * (((PU * (1.0 - +(0.0))) / (1.0 * 1.0)) ^ (1.0 + 0.0))) ^ (1.0 / (1.0 + 0.0))) * 1.0 * 1.0)) ^ 0.0) * ((PY†U / 50.0) ^ ((50.0 * 1.0 * 1.0) / ((100.0 * 1.0 * 1.0) + (50.0 * 1.0 * 1.0))))) - PU‡U                                                                                                                                                                                                                                                                                 ┴  PU‡U\n",
       "  Final Demand\n",
       "    (150.0 * (RA / +(150.0 * 1.0 * 1.0)) * (((+(((150.0 * 1.0 * 1.0) / +(150.0 * 1.0 * 1.0)) * ((PU / (1.0 * 1.0)) ^ (1 - 1.0))) ^ (1 / (1 - 1.0))) * (+(((150.0 * 1.0 * 1.0) / +(150.0 * 1.0 * 1.0)) * ((150.0 / 150.0) ^ ((1.0 - 1) / 1.0))) ^ (1 / ((1.0 - 1) / 1.0)))) ^ (1.0 - 1)) * (((1.0 * 1.0) / PU) ^ 1.0)) - PUρRA                                                                                                                                                                                                                                                                                                                                      ┴  PUρRA\n",
       "  Zero Profit\n",
       "    (((PL * (1.0 + +(0.0))) * PL†X) + ((PK * (1.0 + +(0.0))) * PK†X)) - +((PX * (1.0 - +(0.0))) * PX‡X)                                                                                                                                                                                                                                                                                                                                                                                                                                                                                                                                                            ┴  0.0 < X < 1.0e101\n",
       "    (((PL * (1.0 + +(0.0))) * PL†Y) + ((PK * (1.0 + +(0.0))) * PK†Y)) - +((PY * (1.0 - +(0.0))) * PY‡Y)                                                                                                                                                                                                                                                                                                                                                                                                                                                                                                                                                            ┴  0.0 < Y < 1.0e101\n",
       "    (((PX * (1.0 + +(0.0))) * PX†U) + ((PY * (1.0 + +(0.0))) * PY†U)) - +((PU * (1.0 - +(0.0))) * PU‡U)                                                                                                                                                                                                                                                                                                                                                                                                                                                                                                                                                            ┴  0.0 < U < 1.0e101\n",
       "  Market clearance\n",
       "    (0.0 + (70 * endow)) - (0.0 + (X * PL†X) + (Y * PL†Y))                                                                                                                                                                                                                                                                                                                                                                                                                                                                                                                                                                                                         ┴  0.001 < PL < 1.0e101\n",
       "    (0.0 + (X * PX‡X)) - (0.0 + (U * PX†U))                                                                                                                                                                                                                                                                                                                                                                                                                                                                                                                                                                                                                        ┴  PX = 1.0\n",
       "    (0.0 + (U * PU‡U)) - (0.0 + PUρRA)                                                                                                                                                                                                                                                                                                                                                                                                                                                                                                                                                                                                                             ┴  0.001 < PU < 1.0e101\n",
       "    (0.0 + 80.0) - (0.0 + (X * PK†X) + (Y * PK†Y))                                                                                                                                                                                                                                                                                                                                                                                                                                                                                                                                                                                                                 ┴  0.001 < PK < 1.0e101\n",
       "    (0.0 + (Y * PY‡Y)) - (0.0 + (U * PY†U))                                                                                                                                                                                                                                                                                                                                                                                                                                                                                                                                                                                                                        ┴  0.001 < PY < 1.0e101\n",
       "  Income balance\n",
       "    (((70 * endow) * PL) + 0.0 + (80.0 * PK)) - RA                                                                                                                                                                                                                                                                                                                                                                                                                                                                                                                                                                                                                 ┴  0.0 < RA < 1.0e101\n"
      ]
     },
     "metadata": {},
     "output_type": "display_data"
    }
   ],
   "source": [
    "jm = algebraic_version(m)"
   ]
  }
 ],
 "metadata": {
  "kernelspec": {
   "display_name": "Julia 1.9.3",
   "language": "julia",
   "name": "julia-1.9"
  },
  "language_info": {
   "file_extension": ".jl",
   "mimetype": "application/julia",
   "name": "julia",
   "version": "1.9.3"
  },
  "nteract": {
   "version": "0.28.0"
  }
 },
 "nbformat": 4,
 "nbformat_minor": 4
}
