{
 "cells": [
  {
   "cell_type": "code",
   "execution_count": 1,
   "metadata": {},
   "outputs": [],
   "source": [
    "using MPSGE"
   ]
  },
  {
   "cell_type": "markdown",
   "metadata": {},
   "source": [
    "Build the simple TWOBYTWO model:"
   ]
  },
  {
   "cell_type": "code",
   "execution_count": 2,
   "metadata": {},
   "outputs": [
    {
     "data": {
      "text/plain": [
       "MPSGE model with 3 sectors, 5 commodities and 1 consumers.\n",
       "  Sectors: X (bm=1.0), Y (bm=1.0), U (bm=1.0)\n",
       "  Commodities: PX (bm=1.0), PY (bm=1.0), PU (bm=1.0), PL (bm=1.0), PK (bm=1.0)\n",
       "  Consumers: RA (bm=150.0)\n"
      ]
     },
     "metadata": {},
     "output_type": "display_data"
    }
   ],
   "source": [
    "m = Model()\n",
    "\n",
    "@parameter(m, endow, 1.0)\n",
    "\n",
    "@sector(m, X)\n",
    "@sector(m, Y)\n",
    "@sector(m, U)\n",
    "\n",
    "@commodity(m, PX)\n",
    "@commodity(m, PY)\n",
    "@commodity(m, PU)\n",
    "@commodity(m, PL)\n",
    "@commodity(m, PK)\n",
    "\n",
    "@consumer(m, RA, benchmark = 150.)\n",
    "\n",
    "@production(m, X, 0, 1, [Output(PX, 100)], [Input(PL, 50), Input(PK, 50)])\n",
    "@production(m, Y, 0, 1, [Output(PY, 50)], [Input(PL, 20), Input(PK, 30)])\n",
    "@production(m, U, 0, 1, [Output(PU, 150)], [Input(PX, 100), Input(PY, 50)])\n",
    "\n",
    "@demand(m, RA, [Demand(PU, 150)], [Endowment(PL, :(70 * $endow)), Endowment(PK, 80.)])"
   ]
  },
  {
   "cell_type": "markdown",
   "metadata": {},
   "source": [
    "Next try to solve it with an iteration limit of 0 to replicate the benchmark:"
   ]
  },
  {
   "cell_type": "code",
   "execution_count": 3,
   "metadata": {},
   "outputs": [
    {
     "name": "stdout",
     "output_type": "stream",
     "text": [
      "Reading options file C:\\Users\\david\\AppData\\Local\\Temp\\jl_5A57.tmp\n",
      " > cumulative_iteration_limit 0\n",
      "Read of options file complete.\n",
      "\n",
      "Path 5.0.03 (Fri Jun 26 10:05:33 2020)\n",
      "Written by Todd Munson, Steven Dirkse, Youngdae Kim, and Michael Ferris\n",
      "\n",
      "Major Iteration Log\n",
      "major minor  func  grad  residual    step  type prox    inorm  (label)\n",
      "    0     0     1     1 0.0000e+00           I 0.0e+00 0.0e+00 (F_X)\n",
      "\n",
      "Major Iterations. . . . 0\n",
      "Minor Iterations. . . . 0\n",
      "Restarts. . . . . . . . 0\n",
      "Crash Iterations. . . . 0\n",
      "Gradient Steps. . . . . 0\n",
      "Function Evaluations. . 1\n",
      "Gradient Evaluations. . 1\n",
      "Basis Time. . . . . . . 0.000000\n",
      "Total Time. . . . . . . 0.079000\n"
     ]
    },
    {
     "name": "stdout",
     "output_type": "stream",
     "text": [
      "Residual. . . . . . . . 0.000000e+00\n"
     ]
    },
    {
     "data": {
      "text/plain": [
       "MPSGE model with 3 sectors, 5 commodities and 1 consumers.\n",
       "  Sectors: X (bm=1.0), Y (bm=1.0), U (bm=1.0)\n",
       "  Commodities: PX (bm=1.0), PY (bm=1.0), PU (bm=1.0), PL (bm=1.0), PK (bm=1.0)\n",
       "  Consumers: RA (bm=150.0)\n",
       "Solution:\n",
       "  X:\t1.0\n",
       "  Y:\t1.0\n",
       "  U:\t1.0\n",
       "  PX:\t1.0\n",
       "  PY:\t1.0\n",
       "  PU:\t1.0\n",
       "  PL:\t1.0\n",
       "  PK:\t1.0\n",
       "  PX‡X:\t100.0\n",
       "  PY‡Y:\t50.0\n",
       "  PU‡U:\t150.0\n",
       "  PL†X:\t50.0\n",
       "  PK†X:\t50.0\n",
       "  PL†Y:\t20.0\n",
       "  PK†Y:\t30.0\n",
       "  PX†U:\t100.0\n",
       "  PY†U:\t50.0\n",
       "  RA:\t150.0\n",
       "  PUρRA:\t150.0\n"
      ]
     },
     "metadata": {},
     "output_type": "display_data"
    }
   ],
   "source": [
    "solve!(m, cumulative_iteration_limit=0)"
   ]
  },
  {
   "cell_type": "markdown",
   "metadata": {},
   "source": [
    "Now change the value of the parameter `endow` and solve the model again:"
   ]
  },
  {
   "cell_type": "code",
   "execution_count": 4,
   "metadata": {},
   "outputs": [
    {
     "name": "stdout",
     "output_type": "stream",
     "text": [
      "Path 5.0.03 (Fri Jun 26 10:05:33 2020)\n",
      "Written by Todd Munson, Steven Dirkse, Youngdae Kim, and Michael Ferris\n",
      "\n",
      "Crash Log\n",
      "major  func  diff  size  residual    step       prox   (label)\n",
      "    0     0             6.8995e+00             0.0e+00 (F_RA)\n",
      "    1     1     0    19 5.6719e-01  1.0e+00    0.0e+00 (F_PUρRA)\n",
      "pn_search terminated: no basis change.\n",
      "\n",
      "Major Iteration Log\n",
      "major minor  func  grad  residual    step  type prox    inorm  (label)\n",
      "    0     0     2     2 5.6719e-01           I 0.0e+00 3.5e-01 (F_PUρRA)\n",
      "    1     1     3     3 3.7490e-04  1.0e+00 SO 0.0e+00 3.0e-04 (F_PK)\n",
      "    2     1     4     4 1.9273e-08  1.0e+00 SO 0.0e+00 1.3e-08 (F_PL†X)\n",
      "\n",
      "Major Iterations. . . . 2\n",
      "Minor Iterations. . . . 2\n",
      "Restarts. . . . . . . . 0\n",
      "Crash Iterations. . . . 1\n",
      "Gradient Steps. . . . . 0\n",
      "Function Evaluations. . 4\n",
      "Gradient Evaluations. . 4\n",
      "Basis Time. . . . . . . 0.000000\n",
      "Total Time. . . . . . . 0.047000\n",
      "Residual. . . . . . . . 1.927322e-08\n"
     ]
    },
    {
     "data": {
      "text/plain": [
       "MPSGE model with 3 sectors, 5 commodities and 1 consumers.\n",
       "  Sectors: X (bm=1.0), Y (bm=1.0), U (bm=1.0)\n",
       "  Commodities: PX (bm=1.0), PY (bm=1.0), PU (bm=1.0), PL (bm=1.0), PK (bm=1.0)\n",
       "  Consumers: RA (bm=150.0)\n",
       "Solution:\n",
       "  X:\t1.0488088481734956\n",
       "  Y:\t1.038860118257079\n",
       "  U:\t1.0454820635822557\n",
       "  PX:\t1.0488566120268248\n",
       "  PY:\t1.0589010742434704\n",
       "  PU:\t1.0521941346436612\n",
       "  PL:\t1.0000455408083084\n",
       "  PK:\t1.1000500954149834\n",
       "  PX‡X:\t100.00000000000001\n",
       "  PY‡Y:\t49.99999999999999\n",
       "  PU‡U:\t150.0\n",
       "  PL†X:\t52.44044240818329\n",
       "  PK†X:\t47.67312946227613\n",
       "  PL†Y:\t21.17705705826264\n",
       "  PK†Y:\t28.87780507969781\n",
       "  PX†U:\t100.31820580255858\n",
       "  PY†U:\t49.68330660298152\n",
       "  RA:\t165.00751427543844\n",
       "  PUρRA:\t156.82230953733836\n"
      ]
     },
     "metadata": {},
     "output_type": "display_data"
    }
   ],
   "source": [
    "set_value(endow, 1.1)\n",
    "solve!(m)"
   ]
  },
  {
   "cell_type": "markdown",
   "metadata": {},
   "source": [
    "Now fix the `PX` variable at its benchmark value:"
   ]
  },
  {
   "cell_type": "code",
   "execution_count": 5,
   "metadata": {},
   "outputs": [
    {
     "name": "stdout",
     "output_type": "stream",
     "text": [
      "Path 5.0.03 (Fri Jun 26 10:05:33 2020)\n",
      "Written by Todd Munson, Steven Dirkse, Youngdae Kim, and Michael Ferris\n",
      "Preprocessed size   : 18\n",
      "\n",
      "Crash Log\n",
      "major  func  diff  size  residual    step       prox   (label)\n",
      "    0     0             6.8995e+00             0.0e+00 (F_RA)\n",
      "    1     1     0    18 4.0468e-01  1.0e+00    0.0e+00 (F_X)\n",
      "pn_search terminated: no basis change.\n",
      "\n",
      "Major Iteration Log\n",
      "major minor  func  grad  residual    step  type prox    inorm  (label)\n",
      "    0     0     2     2 4.0468e-01           I 0.0e+00 2.8e-01 (F_X)\n",
      "    1     1     3     3 5.7858e-04  1.0e+00 SO 0.0e+00 3.4e-04 (F_X)\n",
      "    2     1     4     4 1.8977e-09  1.0e+00 SO 0.0e+00 1.2e-09 (F_X)\n",
      "\n",
      "Major Iterations. . . . 2\n",
      "Minor Iterations. . . . 2\n",
      "Restarts. . . . . . . . 0\n",
      "Crash Iterations. . . . 1\n",
      "Gradient Steps. . . . . 0\n",
      "Function Evaluations. . 4\n",
      "Gradient Evaluations. . 4\n",
      "Basis Time. . . . . . . 0.000000\n",
      "Total Time. . . . . . . 0.000000\n",
      "Residual. . . . . . . . 1.897697e-09\n",
      "Postsolved residual: 1.8977e-09\n"
     ]
    },
    {
     "data": {
      "text/plain": [
       "MPSGE model with 3 sectors, 5 commodities and 1 consumers.\n",
       "  Sectors: X (bm=1.0), Y (bm=1.0), U (bm=1.0)\n",
       "  Commodities: PX (bm=1.0), PY (bm=1.0), PU (bm=1.0), PL (bm=1.0), PK (bm=1.0)\n",
       "  Consumers: RA (bm=150.0)\n",
       "Solution:\n",
       "  X:\t1.0488088481874949\n",
       "  Y:\t1.0388601182572046\n",
       "  U:\t1.0454820635823234\n",
       "  PX:\t1.0\n",
       "  PY:\t1.0095765827762655\n",
       "  PU:\t1.003182058025557\n",
       "  PL:\t0.9534625892390532\n",
       "  PK:\t1.0488088481827\n",
       "  PX‡X:\t100.0\n",
       "  PY‡Y:\t50.0\n",
       "  PU‡U:\t150.0\n",
       "  PL†X:\t52.44044240795569\n",
       "  PK†X:\t47.67312946136332\n",
       "  PL†Y:\t21.177057058092654\n",
       "  PK†Y:\t28.877805079309738\n",
       "  PX†U:\t100.31820580255415\n",
       "  PY†U:\t49.683306602985084\n",
       "  RA:\t157.3213272260231\n",
       "  PUρRA:\t156.8223095373485\n"
      ]
     },
     "metadata": {},
     "output_type": "display_data"
    }
   ],
   "source": [
    "set_fixed!(PX, true)\n",
    "solve!(m)"
   ]
  },
  {
   "cell_type": "markdown",
   "metadata": {},
   "source": [
    "Display an algebraic version of the model:"
   ]
  },
  {
   "cell_type": "code",
   "execution_count": 6,
   "metadata": {},
   "outputs": [
    {
     "data": {
      "text/latex": [
       "$$ \\begin{alignat*}{3}\\\n",
       "& \\text{Compensated Demand} \\quad && \\quad && \\\\\n",
       "& \\quad 50.0 * ((PL ^ {50.0 / (50.0 + 50.0)} * PK ^ {50.0 / (50.0 + 50.0)}) / PL) ^ {1.0} - PL†X\\quad && \\perp \\quad && PL†X\\\\\n",
       "& \\quad 50.0 * ((PL ^ {50.0 / (50.0 + 50.0)} * PK ^ {50.0 / (50.0 + 50.0)}) / PK) ^ {1.0} - PK†X\\quad && \\perp \\quad && PK†X\\\\\n",
       "& \\quad 20.0 * ((PL ^ {20.0 / (20.0 + 30.0)} * PK ^ {30.0 / (20.0 + 30.0)}) / PL) ^ {1.0} - PL†Y\\quad && \\perp \\quad && PL†Y\\\\\n",
       "& \\quad 30.0 * ((PL ^ {20.0 / (20.0 + 30.0)} * PK ^ {30.0 / (20.0 + 30.0)}) / PK) ^ {1.0} - PK†Y\\quad && \\perp \\quad && PK†Y\\\\\n",
       "& \\quad 100.0 * ((PX ^ {100.0 / (100.0 + 50.0)} * PY ^ {50.0 / (100.0 + 50.0)}) / PX) ^ {1.0} - PX†U\\quad && \\perp \\quad && PX†U\\\\\n",
       "& \\quad 50.0 * ((PX ^ {100.0 / (100.0 + 50.0)} * PY ^ {50.0 / (100.0 + 50.0)}) / PY) ^ {1.0} - PY†U\\quad && \\perp \\quad && PY†U\\\\\n",
       "& \\text{Compensated Supply} \\quad && \\quad && \\\\\n",
       "& \\quad (100.0 * PX) / sqrt(+((100.0 * PX ^ {2.0}) / +100.0)) - PX‡X\\quad && \\perp \\quad && PX‡X\\\\\n",
       "& \\quad (50.0 * PY) / sqrt(+((50.0 * PY ^ {2.0}) / +50.0)) - PY‡Y\\quad && \\perp \\quad && PY‡Y\\\\\n",
       "& \\quad (150.0 * PU) / sqrt(+((150.0 * PU ^ {2.0}) / +150.0)) - PU‡U\\quad && \\perp \\quad && PU‡U\\\\\n",
       "& \\text{Final Demand} \\quad && \\quad && \\\\\n",
       "& \\quad ((150.0 / +150.0) * RA) / PU - PUρRA\\quad && \\perp \\quad && PUρRA\\\\\n",
       "& \\text{Zero Profit} \\quad && \\quad && \\\\\n",
       "& \\quad (PL * PL†X + PK * PK†X) - +(PX * PX‡X)\\quad && \\perp \\quad && 0.0 <X\\\\\n",
       "& \\quad (PL * PL†Y + PK * PK†Y) - +(PY * PY‡Y)\\quad && \\perp \\quad && 0.0 <Y\\\\\n",
       "& \\quad (PX * PX†U + PY * PY†U) - +(PU * PU‡U)\\quad && \\perp \\quad && 0.0 <U\\\\\n",
       "& \\text{Market clearance} \\quad && \\quad && \\\\\n",
       "& \\quad (0.0 + 70.0 * endow) - (0.0 + X * PL†X + Y * PL†Y)\\quad && \\perp \\quad && 0.001 <PL\\\\\n",
       "& \\quad (0.0 + X * PX‡X) - (0.0 + U * PX†U)\\quad && \\perp \\quad && PX = 1.0\\\\\n",
       "& \\quad (0.0 + U * PU‡U) - (0.0 + PUρRA)\\quad && \\perp \\quad && 0.001 <PU\\\\\n",
       "& \\quad (0.0 + Y * PY‡Y) - (0.0 + U * PY†U)\\quad && \\perp \\quad && 0.001 <PY\\\\\n",
       "& \\quad (0.0 + 80.0) - (0.0 + X * PK†X + Y * PK†Y)\\quad && \\perp \\quad && 0.001 <PK\\\\\n",
       "& \\text{Income balance} \\quad && \\quad && \\\\\n",
       "& \\quad ((70.0 * endow) * PL + 80.0 * PK) - RA\\quad && \\perp \\quad && 0.0 <RA\\\\\n",
       "\\end{alignat*}\n",
       " $$\n"
      ],
      "text/plain": [
       "Mixed complementarity problem with 19 constraints:\n",
       "  Compensated Demand\n",
       "    50.0 * ((PL ^ (50.0 / (50.0 + 50.0)) * PK ^ (50.0 / (50.0 + 50.0))) / PL) ^ 1.0 - PL†X      ┴  PL†X\n",
       "    50.0 * ((PL ^ (50.0 / (50.0 + 50.0)) * PK ^ (50.0 / (50.0 + 50.0))) / PK) ^ 1.0 - PK†X      ┴  PK†X\n",
       "    20.0 * ((PL ^ (20.0 / (20.0 + 30.0)) * PK ^ (30.0 / (20.0 + 30.0))) / PL) ^ 1.0 - PL†Y      ┴  PL†Y\n",
       "    30.0 * ((PL ^ (20.0 / (20.0 + 30.0)) * PK ^ (30.0 / (20.0 + 30.0))) / PK) ^ 1.0 - PK†Y      ┴  PK†Y\n",
       "    100.0 * ((PX ^ (100.0 / (100.0 + 50.0)) * PY ^ (50.0 / (100.0 + 50.0))) / PX) ^ 1.0 - PX†U  ┴  PX†U\n",
       "    50.0 * ((PX ^ (100.0 / (100.0 + 50.0)) * PY ^ (50.0 / (100.0 + 50.0))) / PY) ^ 1.0 - PY†U   ┴  PY†U\n",
       "  Compensated Supply\n",
       "    (100.0 * PX) / sqrt(+((100.0 * PX ^ 2.0) / +100.0)) - PX‡X                                  ┴  PX‡X\n",
       "    (50.0 * PY) / sqrt(+((50.0 * PY ^ 2.0) / +50.0)) - PY‡Y                                     ┴  PY‡Y\n",
       "    (150.0 * PU) / sqrt(+((150.0 * PU ^ 2.0) / +150.0)) - PU‡U                                  ┴  PU‡U\n",
       "  Final Demand\n",
       "    ((150.0 / +150.0) * RA) / PU - PUρRA                                                        ┴  PUρRA\n",
       "  Zero Profit\n",
       "    (PL * PL†X + PK * PK†X) - +(PX * PX‡X)                                                      ┴  0.0 < X\n",
       "    (PL * PL†Y + PK * PK†Y) - +(PY * PY‡Y)                                                      ┴  0.0 < Y\n",
       "    (PX * PX†U + PY * PY†U) - +(PU * PU‡U)                                                      ┴  0.0 < U\n",
       "  Market clearance\n",
       "    (0.0 + 70.0 * endow) - (0.0 + X * PL†X + Y * PL†Y)                                          ┴  0.001 < PL\n",
       "    (0.0 + X * PX‡X) - (0.0 + U * PX†U)                                                         ┴  PX = 1.0\n",
       "    (0.0 + U * PU‡U) - (0.0 + PUρRA)                                                            ┴  0.001 < PU\n",
       "    (0.0 + Y * PY‡Y) - (0.0 + U * PY†U)                                                         ┴  0.001 < PY\n",
       "    (0.0 + 80.0) - (0.0 + X * PK†X + Y * PK†Y)                                                  ┴  0.001 < PK\n",
       "  Income balance\n",
       "    ((70.0 * endow) * PL + 80.0 * PK) - RA                                                      ┴  0.0 < RA\n"
      ]
     },
     "metadata": {},
     "output_type": "display_data"
    }
   ],
   "source": [
    "jm = algebraic_version(m)"
   ]
  }
 ],
 "metadata": {
  "kernelspec": {
   "display_name": "Julia 1.7.3",
   "language": "julia",
   "name": "julia-1.7"
  },
  "language_info": {
   "file_extension": ".jl",
   "mimetype": "application/julia",
   "name": "julia",
   "version": "1.7.3"
  },
  "nteract": {
   "version": "0.28.0"
  }
 },
 "nbformat": 4,
 "nbformat_minor": 4
}
