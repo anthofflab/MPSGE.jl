{
 "cells": [
  {
   "cell_type": "code",
   "execution_count": 1,
   "metadata": {},
   "outputs": [],
   "source": [
    "using MPSGE"
   ]
  },
  {
   "cell_type": "markdown",
   "metadata": {},
   "source": [
    "Build the simple TWOBYTWO model:"
   ]
  },
  {
   "cell_type": "code",
   "execution_count": 2,
   "metadata": {},
   "outputs": [
    {
     "data": {
      "text/plain": [
       "MPSGE model with 3 sectors, 5 commodities and 1 consumers.\n",
       "  Sectors: X (bm=1.0), Y (bm=1.0), U (bm=1.0)\n",
       "  Commodities: PX (bm=1.0), PY (bm=1.0), PU (bm=1.0), PL (bm=1.0), PK (bm=1.0)\n",
       "  Consumers: RA (bm=150.0)\n"
      ]
     },
     "metadata": {},
     "output_type": "display_data"
    }
   ],
   "source": [
    "m = Model()\n",
    "\n",
    "@parameter(m, endow, 1.0)\n",
    "\n",
    "@sector(m, X)\n",
    "@sector(m, Y)\n",
    "@sector(m, U)\n",
    "\n",
    "@commodity(m, PX)\n",
    "@commodity(m, PY)\n",
    "@commodity(m, PU)\n",
    "@commodity(m, PL)\n",
    "@commodity(m, PK)\n",
    "\n",
    "@consumer(m, RA, benchmark=150.)\n",
    "\n",
    "@production(m, X, 1, [Output(PX, 100)], [Input(PL, 50), Input(PK, 50)])\n",
    "@production(m, Y, 1, [Output(PY, 50)], [Input(PL, 20), Input(PK, 30)])\n",
    "@production(m, U, 1, [Output(PU, 150)], [Input(PX, 100), Input(PY, 50)])\n",
    "\n",
    "@demand(m, RA, [Demand(PU, 1)], [Endowment(PL, :(70 * $endow)), Endowment(PK, 80.)])"
   ]
  },
  {
   "cell_type": "markdown",
   "metadata": {},
   "source": [
    "Next try to solve it with an iteration limit of 0 to replicate the benchmark:"
   ]
  },
  {
   "cell_type": "code",
   "execution_count": 3,
   "metadata": {},
   "outputs": [
    {
     "name": "stdout",
     "output_type": "stream",
     "text": [
      "Reading options file C:\\Users\\david\\AppData\\Local\\Temp\\jl_343.tmp\n",
      " > cumulative_iteration_limit 0\n",
      "Read of options file complete.\n",
      "\n",
      "Path 5.0.03 (Fri Jun 26 10:05:33 2020)\n",
      "Written by Todd Munson, Steven Dirkse, Youngdae Kim, and Michael Ferris\n",
      "\n",
      "Major Iteration Log\n",
      "major minor  func  grad  residual    step  type prox    inorm  (label)\n",
      "    0     0     1     1 1.4900e+02           I 0.0e+00 1.5e+02 (F_PUρRA)\n",
      "\n",
      "Major Iterations. . . . 0\n",
      "Minor Iterations. . . . 0\n",
      "Restarts. . . . . . . . 0\n",
      "Crash Iterations. . . . 0\n",
      "Gradient Steps. . . . . 0\n",
      "Function Evaluations. . 1\n",
      "Gradient Evaluations. . 1\n",
      "Basis Time. . . . . . . 0.000000\n",
      "Total Time. . . . . . . 0.109000\n",
      "Residual. . . . . . . . 1.490033e+02\n"
     ]
    },
    {
     "data": {
      "text/plain": [
       "MPSGE model with 3 sectors, 5 commodities and 1 consumers.\n",
       "  Sectors: X (bm=1.0), Y (bm=1.0), U (bm=1.0)\n",
       "  Commodities: PX (bm=1.0), PY (bm=1.0), PU (bm=1.0), PL (bm=1.0), PK (bm=1.0)\n",
       "  Consumers: RA (bm=150.0)\n",
       "Did not solve with error: CumulativeMinorIterationLimit.\n"
      ]
     },
     "metadata": {},
     "output_type": "display_data"
    }
   ],
   "source": [
    "solve!(m, cumulative_iteration_limit=0)"
   ]
  },
  {
   "cell_type": "markdown",
   "metadata": {},
   "source": [
    "Now change the value of the parameter `endow` and solve the model again:"
   ]
  },
  {
   "cell_type": "code",
   "execution_count": 4,
   "metadata": {},
   "outputs": [
    {
     "name": "stdout",
     "output_type": "stream",
     "text": [
      "Path 5.0.03 (Fri Jun 26 10:05:33 2020)\n",
      "Written by Todd Munson, Steven Dirkse, Youngdae Kim, and Michael Ferris\n",
      "\n",
      "Crash Log\n",
      "major  func  diff  size  residual    step       prox   (label)\n",
      "    0     0             1.4916e+02             0.0e+00 (F_PUρRA)\n",
      "    1     1     0    19 5.6719e-01  1.0e+00    0.0e+00 (F_PUρRA)\n",
      "pn_search terminated: no basis change.\n",
      "\n",
      "Major Iteration Log\n",
      "major minor  func  grad  residual    step  type prox    inorm  (label)\n",
      "    0     0     2     2 5.6719e-01           I 0.0e+00 3.5e-01 (F_PUρRA)\n",
      "    1     1     3     3 3.7490e-04  1.0e+00 SO 0.0e+00 3.0e-04 (F_PK)\n",
      "    2     1     4     4 1.9275e-08  1.0e+00 SO 0.0e+00 1.3e-08 (F_PL†X)\n",
      "\n",
      "Major Iterations. . . . 2\n",
      "Minor Iterations. . . . 2\n",
      "Restarts. . . . . . . . 0\n",
      "Crash Iterations. . . . 1\n",
      "Gradient Steps. . . . . 0\n",
      "Function Evaluations. . 4\n",
      "Gradient Evaluations. . 4\n",
      "Basis Time. . . . . . . 0.000000\n",
      "Total Time. . . . . . . 0.000000\n",
      "Residual. . . . . . . . 1.927478e-08\n"
     ]
    },
    {
     "data": {
      "text/plain": [
       "MPSGE model with 3 sectors, 5 commodities and 1 consumers.\n",
       "  Sectors: X (bm=1.0), Y (bm=1.0), U (bm=1.0)\n",
       "  Commodities: PX (bm=1.0), PY (bm=1.0), PU (bm=1.0), PL (bm=1.0), PK (bm=1.0)\n",
       "  Consumers: RA (bm=150.0)\n",
       "Solution:\n",
       "  X:\t1.048808848173496\n",
       "  Y:\t1.0388601182570794\n",
       "  U:\t1.045482063582256\n",
       "  PX:\t1.048856620210284\n",
       "  PY:\t1.0589010825053027\n",
       "  PU:\t1.0521941428531614\n",
       "  PL:\t1.0000455486109099\n",
       "  PK:\t1.1000501039978896\n",
       "  PX‡X:\t99.99999999999999\n",
       "  PY‡Y:\t50.00000000000001\n",
       "  PU‡U:\t150.0\n",
       "  PL†X:\t52.4404424081833\n",
       "  PK†X:\t47.673129462276094\n",
       "  PL†Y:\t21.177057058262655\n",
       "  PK†Y:\t28.877805079697787\n",
       "  PX†U:\t100.31820580255857\n",
       "  PY†U:\t49.68330660298154\n",
       "  RA:\t165.00751556287122\n",
       "  PUρRA:\t156.82230953733838\n"
      ]
     },
     "metadata": {},
     "output_type": "display_data"
    }
   ],
   "source": [
    "set_value(endow, 1.1)\n",
    "solve!(m)"
   ]
  },
  {
   "cell_type": "markdown",
   "metadata": {},
   "source": [
    "Now fix the `PX` variable at its benchmark value:"
   ]
  },
  {
   "cell_type": "code",
   "execution_count": 5,
   "metadata": {},
   "outputs": [
    {
     "name": "stdout",
     "output_type": "stream",
     "text": [
      "Path 5.0.03 (Fri Jun 26 10:05:33 2020)\n",
      "Written by Todd Munson, Steven Dirkse, Youngdae Kim, and Michael Ferris\n",
      "Preprocessed size   : 18\n",
      "\n",
      "Crash Log\n",
      "major  func  diff  size  residual    step       prox   (label)\n",
      "    0     0             1.4916e+02             0.0e+00 (F_PUρRA)\n",
      "    1     1     0    18 4.0468e-01  1.0e+00    0.0e+00 (F_X)\n",
      "pn_search terminated: no basis change.\n",
      "\n",
      "Major Iteration Log\n",
      "major minor  func  grad  residual    step  type prox    inorm  (label)\n",
      "    0     0     2     2 4.0468e-01           I 0.0e+00 2.8e-01 (F_X)\n",
      "    1     1     3     3 5.7858e-04  1.0e+00 SO 0.0e+00 3.4e-04 (F_X)\n",
      "    2     1     4     4 1.8977e-09  1.0e+00 SO 0.0e+00 1.2e-09 (F_X)\n",
      "\n",
      "Major Iterations. . . . 2\n",
      "Minor Iterations. . . . 2\n",
      "Restarts. . . . . . . . 0\n",
      "Crash Iterations. . . . 1\n",
      "Gradient Steps. . . . . 0\n",
      "Function Evaluations. . 4\n",
      "Gradient Evaluations. . 4\n",
      "Basis Time. . . . . . . 0.000000\n",
      "Total Time. . . . . . . 0.000000\n",
      "Residual. . . . . . . . 1.897702e-09\n"
     ]
    },
    {
     "data": {
      "text/plain": [
       "MPSGE model with 3 sectors, 5 commodities and 1 consumers.\n",
       "  Sectors: X (bm=1.0), Y (bm=1.0), U (bm=1.0)\n",
       "  Commodities: PX (bm=1.0), PY (bm=1.0), PU (bm=1.0), PL (bm=1.0), PK (bm=1.0)\n",
       "  Consumers: RA (bm=150.0)\n",
       "Solution:\n",
       "  X:\t1.0488088481874942\n",
       "  Y:\t1.0388601182572046\n",
       "  U:\t1.0454820635823234\n",
       "  PX:\t1.0\n",
       "  PY:\t1.009576582776266\n",
       "  PU:\t1.0031820580255568\n",
       "  PL:\t0.9534625892390532\n",
       "  PK:\t1.0488088481827005\n",
       "  PX‡X:\t100.0\n",
       "  PY‡Y:\t50.0\n",
       "  PU‡U:\t150.0\n",
       "  PL†X:\t52.44044240795569\n",
       "  PK†X:\t47.67312946136331\n",
       "  PL†Y:\t21.177057058092686\n",
       "  PK†Y:\t28.877805079309717\n",
       "  PX†U:\t100.31820580255417\n",
       "  PY†U:\t49.68330660298507\n",
       "  RA:\t157.32132722602313\n",
       "  PUρRA:\t156.82230953734853\n"
      ]
     },
     "metadata": {},
     "output_type": "display_data"
    },
    {
     "name": "stdout",
     "output_type": "stream",
     "text": [
      "Postsolved residual: 1.8977e-09\n"
     ]
    }
   ],
   "source": [
    "set_fixed!(PX, true)\n",
    "solve!(m)"
   ]
  },
  {
   "cell_type": "markdown",
   "metadata": {},
   "source": [
    "Display an algebraic version of the model:"
   ]
  },
  {
   "cell_type": "code",
   "execution_count": 6,
   "metadata": {},
   "outputs": [
    {
     "data": {
      "text/latex": [
       "$$ \\begin{alignat*}{3}\\\n",
       "& (50.0 * (PL ^ {50.0 / (50.0 + 50.0)} * PK ^ {50.0 / (50.0 + 50.0)})) / PL - PL†X\n",
       "\\quad && \\perp \\quad && PL†X\\\\& (50.0 * (PL ^ {50.0 / (50.0 + 50.0)} * PK ^ {50.0 / (50.0 + 50.0)})) / PK - PK†X\n",
       "\\quad && \\perp \\quad && PK†X\\\\& (20.0 * (PL ^ {20.0 / (20.0 + 30.0)} * PK ^ {30.0 / (20.0 + 30.0)})) / PL - PL†Y\n",
       "\\quad && \\perp \\quad && PL†Y\\\\& (30.0 * (PL ^ {20.0 / (20.0 + 30.0)} * PK ^ {30.0 / (20.0 + 30.0)})) / PK - PK†Y\n",
       "\\quad && \\perp \\quad && PK†Y\\\\& (100.0 * (PX ^ {100.0 / (100.0 + 50.0)} * PY ^ {50.0 / (100.0 + 50.0)})) / PX - PX†U\n",
       "\\quad && \\perp \\quad && PX†U\\\\& (50.0 * (PX ^ {100.0 / (100.0 + 50.0)} * PY ^ {50.0 / (100.0 + 50.0)})) / PY - PY†U\n",
       "\\quad && \\perp \\quad && PY†U\\\\& (100.0 * PX) / sqrt(+((100.0 * PX ^ {2.0}) / +100.0)) - PX‡X\n",
       "\\quad && \\perp \\quad && PX‡X\\\\& (50.0 * PY) / sqrt(+((50.0 * PY ^ {2.0}) / +50.0)) - PY‡Y\n",
       "\\quad && \\perp \\quad && PY‡Y\\\\& (150.0 * PU) / sqrt(+((150.0 * PU ^ {2.0}) / +150.0)) - PU‡U\n",
       "\\quad && \\perp \\quad && PU‡U\\\\& ((1.0 / +1.0) * RA) / PU - PUρRA\n",
       "\\quad && \\perp \\quad && PUρRA\\\\& (PL * PL†X + PK * PK†X) - +(PX * PX‡X)\n",
       "\\quad && \\perp \\quad && 0.0 <X\\\\& (PL * PL†Y + PK * PK†Y) - +(PY * PY‡Y)\n",
       "\\quad && \\perp \\quad && 0.0 <Y\\\\& (PX * PX†U + PY * PY†U) - +(PU * PU‡U)\n",
       "\\quad && \\perp \\quad && 0.0 <U\\\\& (0.0 + 70.0 * endow) - (0.0 + X * PL†X + Y * PL†Y)\n",
       "\\quad && \\perp \\quad && 0.001 <PL\\\\& (0.0 + Y * PY‡Y) - (0.0 + U * PY†U)\n",
       "\\quad && \\perp \\quad && 0.001 <PY\\\\& (0.0 + 80.0) - (0.0 + X * PK†X + Y * PK†Y)\n",
       "\\quad && \\perp \\quad && 0.001 <PK\\\\& (0.0 + X * PX‡X) - (0.0 + U * PX†U)\n",
       "\\quad && \\perp \\quad && PX = 1.0\\\\& (0.0 + U * PU‡U) - (0.0 + PUρRA)\n",
       "\\quad && \\perp \\quad && 0.001 <PU\\\\& ((70.0 * endow) * PL + 80.0 * PK) - RA\n",
       "\\quad && \\perp \\quad && 0.0 <RA\\\\\\end{alignat*}\n",
       " $$\n"
      ],
      "text/plain": [
       "Mixed complementarity problem with 19 constraints:\n",
       "  (50.0 * (PL ^ (50.0 / (50.0 + 50.0)) * PK ^ (50.0 / (50.0 + 50.0)))) / PL - PL†X      ┴  PL†X\n",
       "  (50.0 * (PL ^ (50.0 / (50.0 + 50.0)) * PK ^ (50.0 / (50.0 + 50.0)))) / PK - PK†X      ┴  PK†X\n",
       "  (20.0 * (PL ^ (20.0 / (20.0 + 30.0)) * PK ^ (30.0 / (20.0 + 30.0)))) / PL - PL†Y      ┴  PL†Y\n",
       "  (30.0 * (PL ^ (20.0 / (20.0 + 30.0)) * PK ^ (30.0 / (20.0 + 30.0)))) / PK - PK†Y      ┴  PK†Y\n",
       "  (100.0 * (PX ^ (100.0 / (100.0 + 50.0)) * PY ^ (50.0 / (100.0 + 50.0)))) / PX - PX†U  ┴  PX†U\n",
       "  (50.0 * (PX ^ (100.0 / (100.0 + 50.0)) * PY ^ (50.0 / (100.0 + 50.0)))) / PY - PY†U   ┴  PY†U\n",
       "  (100.0 * PX) / sqrt(+((100.0 * PX ^ 2.0) / +100.0)) - PX‡X                            ┴  PX‡X\n",
       "  (50.0 * PY) / sqrt(+((50.0 * PY ^ 2.0) / +50.0)) - PY‡Y                               ┴  PY‡Y\n",
       "  (150.0 * PU) / sqrt(+((150.0 * PU ^ 2.0) / +150.0)) - PU‡U                            ┴  PU‡U\n",
       "  ((1.0 / +1.0) * RA) / PU - PUρRA                                                      ┴  PUρRA\n",
       "  (PL * PL†X + PK * PK†X) - +(PX * PX‡X)                                                ┴  0.0 < X\n",
       "  (PL * PL†Y + PK * PK†Y) - +(PY * PY‡Y)                                                ┴  0.0 < Y\n",
       "  (PX * PX†U + PY * PY†U) - +(PU * PU‡U)                                                ┴  0.0 < U\n",
       "  (0.0 + 70.0 * endow) - (0.0 + X * PL†X + Y * PL†Y)                                    ┴  0.001 < PL\n",
       "  (0.0 + Y * PY‡Y) - (0.0 + U * PY†U)                                                   ┴  0.001 < PY\n",
       "  (0.0 + 80.0) - (0.0 + X * PK†X + Y * PK†Y)                                            ┴  0.001 < PK\n",
       "  (0.0 + X * PX‡X) - (0.0 + U * PX†U)                                                   ┴  PX = 1.0\n",
       "  (0.0 + U * PU‡U) - (0.0 + PUρRA)                                                      ┴  0.001 < PU\n",
       "  ((70.0 * endow) * PL + 80.0 * PK) - RA                                                ┴  0.0 < RA\n"
      ]
     },
     "metadata": {},
     "output_type": "display_data"
    }
   ],
   "source": [
    "jm = algebraic_version(m)"
   ]
  }
 ],
 "metadata": {
  "kernelspec": {
   "display_name": "Julia 1.7.2",
   "language": "julia",
   "name": "julia-1.7"
  },
  "language_info": {
   "file_extension": ".jl",
   "mimetype": "application/julia",
   "name": "julia",
   "version": "1.7.2"
  },
  "nteract": {
   "version": "0.28.0"
  }
 },
 "nbformat": 4,
 "nbformat_minor": 4
}
