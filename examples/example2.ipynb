{
 "cells": [
  {
   "cell_type": "code",
   "execution_count": 1,
   "metadata": {},
   "outputs": [],
   "source": [
    "using MPSGE"
   ]
  },
  {
   "cell_type": "markdown",
   "metadata": {},
   "source": [
    "Build the simple TWOBYTWO model:"
   ]
  },
  {
   "cell_type": "code",
   "execution_count": 2,
   "metadata": {},
   "outputs": [
    {
     "data": {
      "text/plain": [
       "MPSGE model with 3 sectors, 5 commodities and 1 consumers.\n",
       "  Sectors: X (bm=1.0), Y (bm=1.0), U (bm=1.0)\n",
       "  Commodities: PX (bm=1.0), PY (bm=1.0), PU (bm=1.0), PL (bm=1.0), PK (bm=1.0)\n",
       "  Consumers: RA (bm=150.0)\n"
      ]
     },
     "execution_count": 2,
     "metadata": {},
     "output_type": "execute_result"
    }
   ],
   "source": [
    "m = Model()\n",
    "\n",
    "endow = add!(m, Parameter(:endow, 1.))\n",
    "\n",
    "add!(m, Sector(:X))\n",
    "add!(m, Sector(:Y))\n",
    "add!(m, Sector(:U))\n",
    "\n",
    "add!(m, Commodity(:PX))\n",
    "add!(m, Commodity(:PY))\n",
    "add!(m, Commodity(:PU))\n",
    "add!(m, Commodity(:PL))\n",
    "add!(m, Commodity(:PK))\n",
    "\n",
    "add!(m, Consumer(:RA, benchmark=150.))\n",
    "\n",
    "add!(m, Production(:X, 1, :PX, 100, [Input(:PL, 50), Input(:PK, 50)]))\n",
    "add!(m, Production(:Y, 1, :PY, 50, [Input(:PL, 20), Input(:PK, 30)]))\n",
    "add!(m, Production(:U, 1, :PU, 150, [Input(:PX, 100), Input(:PY, 50)]))\n",
    "\n",
    "add!(m, Demand(:RA, :PU, [Endowment(:PL, :(70 * $endow)), Endowment(:PK, 80.)]))"
   ]
  },
  {
   "cell_type": "markdown",
   "metadata": {},
   "source": [
    "Next try to solve it with an iteration limit of 0 to replicate the benchmark:"
   ]
  },
  {
   "cell_type": "code",
   "execution_count": 3,
   "metadata": {},
   "outputs": [
    {
     "name": "stderr",
     "output_type": "stream",
     "text": [
      "┌ Warning: Disabling output because PATH.jl does not support writing to this `stdout`. Are you using Atom-Hydrogen or Jupyter? See: https://github.com/odow/PATH.jl/issues/10.\n",
      "└ @ PATHSolver C:\\Users\\david\\.julia\\packages\\PATHSolver\\fB6ZO\\src\\C_API.jl:517\n"
     ]
    },
    {
     "data": {
      "text/plain": [
       "MPSGE model with 3 sectors, 5 commodities and 1 consumers.\n",
       "  Sectors: X (bm=1.0), Y (bm=1.0), U (bm=1.0)\n",
       "  Commodities: PX (bm=1.0), PY (bm=1.0), PU (bm=1.0), PL (bm=1.0), PK (bm=1.0)\n",
       "  Consumers: RA (bm=150.0)\n",
       "Solution:\n",
       "  X:\t1.0\n",
       "  Y:\t1.0\n",
       "  U:\t1.0\n",
       "  PX:\t1.0\n",
       "  PY:\t1.0\n",
       "  PU:\t1.0\n",
       "  PL:\t1.0\n",
       "  PK:\t1.0\n",
       "  PLPX:\t50.0\n",
       "  PKPX:\t50.0\n",
       "  PLPY:\t20.0\n",
       "  PKPY:\t30.0\n",
       "  PXPU:\t100.0\n",
       "  PYPU:\t50.0\n",
       "  RA:\t150.0\n"
      ]
     },
     "execution_count": 3,
     "metadata": {},
     "output_type": "execute_result"
    }
   ],
   "source": [
    "solve!(m, cumulative_iteration_limit=0)"
   ]
  },
  {
   "cell_type": "markdown",
   "metadata": {},
   "source": [
    "Now change the value of the parameter `endow` and solve the model again:"
   ]
  },
  {
   "cell_type": "code",
   "execution_count": 4,
   "metadata": {},
   "outputs": [
    {
     "name": "stderr",
     "output_type": "stream",
     "text": [
      "┌ Warning: Disabling output because PATH.jl does not support writing to this `stdout`. Are you using Atom-Hydrogen or Jupyter? See: https://github.com/odow/PATH.jl/issues/10.\n",
      "└ @ PATHSolver C:\\Users\\david\\.julia\\packages\\PATHSolver\\fB6ZO\\src\\C_API.jl:517\n"
     ]
    },
    {
     "data": {
      "text/plain": [
       "MPSGE model with 3 sectors, 5 commodities and 1 consumers.\n",
       "  Sectors: X (bm=1.0), Y (bm=1.0), U (bm=1.0)\n",
       "  Commodities: PX (bm=1.0), PY (bm=1.0), PU (bm=1.0), PL (bm=1.0), PK (bm=1.0)\n",
       "  Consumers: RA (bm=150.0)\n",
       "Solution:\n",
       "  X:\t1.0488088481734958\n",
       "  Y:\t1.03886011825708\n",
       "  U:\t1.0454820635822561\n",
       "  PX:\t1.0488566170769114\n",
       "  PY:\t1.0589010793419213\n",
       "  PU:\t1.0521941397098173\n",
       "  PL:\t1.0000455456233646\n",
       "  PK:\t1.1000501007115724\n",
       "  PLPX:\t52.44044240818329\n",
       "  PKPX:\t47.67312946227611\n",
       "  PLPY:\t21.17705705826264\n",
       "  PKPY:\t28.877805079697787\n",
       "  PXPU:\t100.31820580255854\n",
       "  PYPU:\t49.68330660298154\n",
       "  RA:\t165.00751506992486\n"
      ]
     },
     "execution_count": 4,
     "metadata": {},
     "output_type": "execute_result"
    }
   ],
   "source": [
    "set_value(endow, 1.1)\n",
    "solve!(m)"
   ]
  },
  {
   "cell_type": "markdown",
   "metadata": {},
   "source": [
    "Display an algebraic version of the model:"
   ]
  },
  {
   "cell_type": "code",
   "execution_count": 5,
   "metadata": {},
   "outputs": [
    {
     "data": {
      "text/latex": [
       "$$ \\begin{alignat*}{3}\\\n",
       "& (50.0 * (PL ^ {0.5} * PK ^ {0.5})) / PL - PLPX\n",
       "\\quad && \\perp \\quad && PLPX\\\\& (50.0 * (PL ^ {0.5} * PK ^ {0.5})) / PK - PKPX\n",
       "\\quad && \\perp \\quad && PKPX\\\\& (20.0 * (PL ^ {0.4} * PK ^ {0.6})) / PL - PLPY\n",
       "\\quad && \\perp \\quad && PLPY\\\\& (30.0 * (PL ^ {0.4} * PK ^ {0.6})) / PK - PKPY\n",
       "\\quad && \\perp \\quad && PKPY\\\\& (100.0 * (PX ^ {0.6666666666666666} * PY ^ {0.3333333333333333})) / PX - PXPU\n",
       "\\quad && \\perp \\quad && PXPU\\\\& (50.0 * (PX ^ {0.6666666666666666} * PY ^ {0.3333333333333333})) / PY - PYPU\n",
       "\\quad && \\perp \\quad && PYPU\\\\& (PL * PLPX + PK * PKPX) - 100.0 * PX\n",
       "\\quad && \\perp \\quad && 0.0 <X\\\\& (PL * PLPY + PK * PKPY) - 50.0 * PY\n",
       "\\quad && \\perp \\quad && 0.0 <Y\\\\& (PX * PXPU + PY * PYPU) - 150.0 * PU\n",
       "\\quad && \\perp \\quad && 0.0 <U\\\\& (+(PXPU * U) + 0.0) - 100.0 * X\n",
       "\\quad && \\perp \\quad && 0.001 <PX\\\\& (+(PYPU * U) + 0.0) - 50.0 * Y\n",
       "\\quad && \\perp \\quad && 0.001 <PY\\\\& (0.0 + +(RA / PU)) - 150.0 * U\n",
       "\\quad && \\perp \\quad && 0.001 <PU\\\\& ((PLPX * X + PLPY * Y) + 0.0) - +((0.0 + 70.0 * parameter_{1}))\n",
       "\\quad && \\perp \\quad && 0.001 <PL\\\\& ((PKPX * X + PKPY * Y) + 0.0) - +((0.0 + 80.0))\n",
       "\\quad && \\perp \\quad && 0.001 <PK\\\\& ((70.0 * parameter_{1}) * PL + 80.0 * PK) - RA\n",
       "\\quad && \\perp \\quad && RA\\\\\\end{alignat*}\n",
       " $$\n"
      ],
      "text/plain": [
       "Mixed complementarity problem with 15 constraints:\n",
       "  (50.0 * (PL ^ 0.5 * PK ^ 0.5)) / PL - PLPX                                 ┴  PLPX\n",
       "  (50.0 * (PL ^ 0.5 * PK ^ 0.5)) / PK - PKPX                                 ┴  PKPX\n",
       "  (20.0 * (PL ^ 0.4 * PK ^ 0.6)) / PL - PLPY                                 ┴  PLPY\n",
       "  (30.0 * (PL ^ 0.4 * PK ^ 0.6)) / PK - PKPY                                 ┴  PKPY\n",
       "  (100.0 * (PX ^ 0.6666666666666666 * PY ^ 0.3333333333333333)) / PX - PXPU  ┴  PXPU\n",
       "  (50.0 * (PX ^ 0.6666666666666666 * PY ^ 0.3333333333333333)) / PY - PYPU   ┴  PYPU\n",
       "  (PL * PLPX + PK * PKPX) - 100.0 * PX                                       ┴  0.0 < X\n",
       "  (PL * PLPY + PK * PKPY) - 50.0 * PY                                        ┴  0.0 < Y\n",
       "  (PX * PXPU + PY * PYPU) - 150.0 * PU                                       ┴  0.0 < U\n",
       "  (+(PXPU * U) + 0.0) - 100.0 * X                                            ┴  0.001 < PX\n",
       "  (+(PYPU * U) + 0.0) - 50.0 * Y                                             ┴  0.001 < PY\n",
       "  (0.0 + +(RA / PU)) - 150.0 * U                                             ┴  0.001 < PU\n",
       "  ((PLPX * X + PLPY * Y) + 0.0) - +((0.0 + 70.0 * parameter[1]))             ┴  0.001 < PL\n",
       "  ((PKPX * X + PKPY * Y) + 0.0) - +((0.0 + 80.0))                            ┴  0.001 < PK\n",
       "  ((70.0 * parameter[1]) * PL + 80.0 * PK) - RA                              ┴  RA\n"
      ]
     },
     "execution_count": 5,
     "metadata": {},
     "output_type": "execute_result"
    }
   ],
   "source": [
    "jm = algebraic_version(m)"
   ]
  }
 ],
 "metadata": {
  "kernelspec": {
   "display_name": "Julia 1.5.3",
   "language": "julia",
   "name": "julia-1.5"
  },
  "language_info": {
   "file_extension": ".jl",
   "mimetype": "application/julia",
   "name": "julia",
   "version": "1.5.3"
  },
  "nteract": {
   "version": "0.28.0"
  }
 },
 "nbformat": 4,
 "nbformat_minor": 4
}
