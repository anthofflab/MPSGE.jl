{
 "cells": [
  {
   "cell_type": "code",
   "execution_count": 1,
   "metadata": {},
   "outputs": [],
   "source": [
    "using MPSGE"
   ]
  },
  {
   "cell_type": "markdown",
   "metadata": {},
   "source": [
    "Build the simple TWOBYTWO model:"
   ]
  },
  {
   "cell_type": "code",
   "execution_count": null,
   "metadata": {},
   "outputs": [],
   "source": [
    "m = Model()\n",
    "\n",
    "@parameter(m, endow, 1.0)\n",
    "\n",
    "@sector(m, X)\n",
    "@sector(m, Y)\n",
    "@sector(m, U)\n",
    "\n",
    "@commodity(m, PX)\n",
    "@commodity(m, PY)\n",
    "@commodity(m, PU)\n",
    "@commodity(m, PL)\n",
    "@commodity(m, PK)\n",
    "\n",
    "@consumer(m, RA, benchmark=150.)\n",
    "\n",
    "@production(m, X, 0, 1, [Output(PX, 100)], [Input(PL, 50), Input(PK, 50)])\n",
    "@production(m, Y, 0, 1, [Output(PY, 50)], [Input(PL, 20), Input(PK, 30)])\n",
    "@production(m, U, 0, 1, [Output(PU, 150)], [Input(PX, 100), Input(PY, 50)])\n",
    "\n",
    "@demand(m, RA, [Demand(PU, 1)], [Endowment(PL, :(70 * $endow)), Endowment(PK, 80.)])"
   ]
  },
  {
   "cell_type": "markdown",
   "metadata": {},
   "source": [
    "Next try to solve it with an iteration limit of 0 to replicate the benchmark:"
   ]
  },
  {
   "cell_type": "code",
   "execution_count": null,
   "metadata": {},
   "outputs": [],
   "source": [
    "solve!(m, cumulative_iteration_limit=0)"
   ]
  },
  {
   "cell_type": "markdown",
   "metadata": {},
   "source": [
    "Now change the value of the parameter `endow` and solve the model again:"
   ]
  },
  {
   "cell_type": "code",
   "execution_count": null,
   "metadata": {},
   "outputs": [],
   "source": [
    "set_value(endow, 1.1)\n",
    "solve!(m)"
   ]
  },
  {
   "cell_type": "markdown",
   "metadata": {},
   "source": [
    "Now fix the `PX` variable at its benchmark value:"
   ]
  },
  {
   "cell_type": "code",
   "execution_count": null,
   "metadata": {},
   "outputs": [],
   "source": [
    "set_fixed!(PX, true)\n",
    "solve!(m)"
   ]
  },
  {
   "cell_type": "markdown",
   "metadata": {},
   "source": [
    "Display an algebraic version of the model:"
   ]
  },
  {
   "cell_type": "code",
   "execution_count": null,
   "metadata": {},
   "outputs": [],
   "source": [
    "jm = algebraic_version(m)"
   ]
  }
 ],
 "metadata": {
  "kernelspec": {
   "display_name": "Julia 1.6.0",
   "language": "julia",
   "name": "julia-1.6"
  },
  "language_info": {
   "file_extension": ".jl",
   "mimetype": "application/julia",
   "name": "julia",
   "version": "1.6.0"
  },
  "nteract": {
   "version": "0.28.0"
  }
 },
 "nbformat": 4,
 "nbformat_minor": 4
}
