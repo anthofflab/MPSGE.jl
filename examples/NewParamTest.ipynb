{
 "cells": [
  {
   "cell_type": "code",
   "execution_count": 1,
   "metadata": {},
   "outputs": [],
   "source": [
    "using MPSGE"
   ]
  },
  {
   "cell_type": "code",
   "execution_count": 2,
   "metadata": {},
   "outputs": [
    {
     "name": "stdout",
     "output_type": "stream",
     "text": [
      "Path 5.0.03 (Fri Jun 26 10:05:33 2020)\n",
      "Written by Todd Munson, Steven Dirkse, Youngdae Kim, and Michael Ferris\n",
      "\n",
      "Crash Log\n",
      "major  func  diff  size  residual    step       prox   (label)\n",
      "    0     0             0.0000e+00             0.0e+00 (F_X)\n"
     ]
    },
    {
     "name": "stdout",
     "output_type": "stream",
     "text": [
      "\n",
      "Major Iteration Log\n",
      "major minor  func  grad  residual    step  type prox    inorm  (label)\n",
      "    0     0     1     1 0.0000e+00           I 0.0e+00 0.0e+00 (F_X)\n",
      "\n",
      "Major Iterations. . . . 0\n",
      "Minor Iterations. . . . 0\n",
      "Restarts. . . . . . . . 0\n",
      "Crash Iterations. . . . 0\n",
      "Gradient Steps. . . . . 0\n",
      "Function Evaluations. . 1\n",
      "Gradient Evaluations. . 1\n",
      "Basis Time. . . . . . . 0.000000\n",
      "Total Time. . . . . . . 0.172000\n",
      "Residual. . . . . . . . 0.000000e+00\n"
     ]
    },
    {
     "data": {
      "text/plain": [
       "MPSGE model with 3 sectors, 5 commodities and 1 consumers.\n",
       "  Sectors: X (bm=1.0), Y (bm=1.0), U (bm=1.0)\n",
       "  Commodities: PX (bm=1.0), PY (bm=1.0), PU (bm=1.0), PL (bm=1.0), PK (bm=1.0)\n",
       "  Consumers: RA (bm=150.0)\n",
       "Solution:\n",
       "  X:\t1.0\n",
       "  Y:\t1.0\n",
       "  U:\t1.0\n",
       "  PX:\t1.0\n",
       "  PY:\t1.0\n",
       "  PU:\t1.0\n",
       "  PL:\t1.0\n",
       "  PK:\t1.0\n",
       "  PX‡X:\t100.0\n",
       "  PY‡Y:\t50.0\n",
       "  PU‡U:\t150.0\n",
       "  PL†X:\t50.0\n",
       "  PK†X:\t50.0\n",
       "  PL†Y:\t20.0\n",
       "  PK†Y:\t30.0\n",
       "  PX†U:\t100.0\n",
       "  PY†U:\t50.0\n",
       "  RA:\t150.0\n",
       "  PUρRA:\t150.0\n"
      ]
     },
     "metadata": {},
     "output_type": "display_data"
    }
   ],
   "source": [
    "m = Model()\n",
    "\n",
    "@parameter(m, endow, 1.0)\n",
    "@parameter(m, diff, 0.0)\n",
    "\n",
    "@sector(m, X)\n",
    "@sector(m, Y)\n",
    "@sector(m, U)\n",
    "\n",
    "@commodity(m, PX)\n",
    "@commodity(m, PY)\n",
    "@commodity(m, PU)\n",
    "@commodity(m, PL)\n",
    "@commodity(m, PK)\n",
    "\n",
    "@consumer(m, RA, benchmark = 150.)\n",
    "\n",
    "@production(m, X, 0, 1, [Output(PX, :(100+$diff))], [Input(PL, 50), Input(PK, 50)])\n",
    "@production(m, Y, 0, 1, [Output(PY, 50)], [Input(PL, 20), Input(PK, 30)])\n",
    "@production(m, U, 0, 1, [Output(PU, 150)], [Input(PX, 100), Input(PY, 50)])\n",
    "\n",
    "@demand(m, RA, 1.0, [Demand(PU, 150)], [Endowment(PL, :(70 * $endow)), Endowment(PK, 80.)])\n",
    "solve!(m)"
   ]
  },
  {
   "cell_type": "code",
   "execution_count": 3,
   "metadata": {},
   "outputs": [
    {
     "data": {
      "text/latex": [
       "$$ \\begin{alignat*}{3}\\\n",
       "& \\text{Compensated Demand} \\quad && \\quad && \\\\\n",
       "& \\quad 50.0 * ((PL†X / 50.0) ^ {(50.0 * 1.0) / +((100.0 + diff) * 1.0)} * (PK†X / 50.0) ^ {(50.0 * 1.0) / +((100.0 + diff) * 1.0)}) * (((((PL / 1.0) ^ {(50.0 * 1.0) / +((100.0 + diff) * 1.0)} * (PK / 1.0) ^ {(50.0 * 1.0) / +((100.0 + diff) * 1.0)}) * ((PL†X / 50.0) ^ {(50.0 * 1.0) / +((100.0 + diff) * 1.0)} * (PK†X / 50.0) ^ {(50.0 * 1.0) / +((100.0 + diff) * 1.0)})) * 1.0) / PL) ^ {1.0} - PL†X\\quad && \\perp \\quad && PL†X\\\\\n",
       "& \\quad 50.0 * ((PL†X / 50.0) ^ {(50.0 * 1.0) / +((100.0 + diff) * 1.0)} * (PK†X / 50.0) ^ {(50.0 * 1.0) / +((100.0 + diff) * 1.0)}) * (((((PL / 1.0) ^ {(50.0 * 1.0) / +((100.0 + diff) * 1.0)} * (PK / 1.0) ^ {(50.0 * 1.0) / +((100.0 + diff) * 1.0)}) * ((PL†X / 50.0) ^ {(50.0 * 1.0) / +((100.0 + diff) * 1.0)} * (PK†X / 50.0) ^ {(50.0 * 1.0) / +((100.0 + diff) * 1.0)})) * 1.0) / PK) ^ {1.0} - PK†X\\quad && \\perp \\quad && PK†X\\\\\n",
       "& \\quad 20.0 * ((PL†Y / 20.0) ^ {(20.0 * 1.0) / +(50.0 * 1.0)} * (PK†Y / 30.0) ^ {(30.0 * 1.0) / +(50.0 * 1.0)}) * (((((PL / 1.0) ^ {(20.0 * 1.0) / +(50.0 * 1.0)} * (PK / 1.0) ^ {(30.0 * 1.0) / +(50.0 * 1.0)}) * ((PL†Y / 20.0) ^ {(20.0 * 1.0) / +(50.0 * 1.0)} * (PK†Y / 30.0) ^ {(30.0 * 1.0) / +(50.0 * 1.0)})) * 1.0) / PL) ^ {1.0} - PL†Y\\quad && \\perp \\quad && PL†Y\\\\\n",
       "& \\quad 30.0 * ((PL†Y / 20.0) ^ {(20.0 * 1.0) / +(50.0 * 1.0)} * (PK†Y / 30.0) ^ {(30.0 * 1.0) / +(50.0 * 1.0)}) * (((((PL / 1.0) ^ {(20.0 * 1.0) / +(50.0 * 1.0)} * (PK / 1.0) ^ {(30.0 * 1.0) / +(50.0 * 1.0)}) * ((PL†Y / 20.0) ^ {(20.0 * 1.0) / +(50.0 * 1.0)} * (PK†Y / 30.0) ^ {(30.0 * 1.0) / +(50.0 * 1.0)})) * 1.0) / PK) ^ {1.0} - PK†Y\\quad && \\perp \\quad && PK†Y\\\\\n",
       "& \\quad 100.0 * ((PX†U / 100.0) ^ {(100.0 * 1.0) / +(150.0 * 1.0)} * (PY†U / 50.0) ^ {(50.0 * 1.0) / +(150.0 * 1.0)}) * (((((PX / 1.0) ^ {(100.0 * 1.0) / +(150.0 * 1.0)} * (PY / 1.0) ^ {(50.0 * 1.0) / +(150.0 * 1.0)}) * ((PX†U / 100.0) ^ {(100.0 * 1.0) / +(150.0 * 1.0)} * (PY†U / 50.0) ^ {(50.0 * 1.0) / +(150.0 * 1.0)})) * 1.0) / PX) ^ {1.0} - PX†U\\quad && \\perp \\quad && PX†U\\\\\n",
       "& \\quad 50.0 * ((PX†U / 100.0) ^ {(100.0 * 1.0) / +(150.0 * 1.0)} * (PY†U / 50.0) ^ {(50.0 * 1.0) / +(150.0 * 1.0)}) * (((((PX / 1.0) ^ {(100.0 * 1.0) / +(150.0 * 1.0)} * (PY / 1.0) ^ {(50.0 * 1.0) / +(150.0 * 1.0)}) * ((PX†U / 100.0) ^ {(100.0 * 1.0) / +(150.0 * 1.0)} * (PY†U / 50.0) ^ {(50.0 * 1.0) / +(150.0 * 1.0)})) * 1.0) / PY) ^ {1.0} - PY†U\\quad && \\perp \\quad && PY†U\\\\\n",
       "& \\text{Compensated Supply} \\quad && \\quad && \\\\\n",
       "& \\quad (100.0 + diff) * ((PL†X / 50.0) ^ {(50.0 * 1.0) / +((100.0 + diff) * 1.0)} * (PK†X / 50.0) ^ {(50.0 * 1.0) / +((100.0 + diff) * 1.0)}) * ((PX / (+((((100.0 + diff) * 1.0) / +((100.0 + diff) * 1.0)) * (PX / 1.0) ^ {1.0 + 0.0})) ^ {1.0 / (1.0 + 0.0)}) / 1.0) ^ {0.0} - PX‡X\\quad && \\perp \\quad && PX‡X\\\\\n",
       "& \\quad 50.0 * ((PL†Y / 20.0) ^ {(20.0 * 1.0) / +(50.0 * 1.0)} * (PK†Y / 30.0) ^ {(30.0 * 1.0) / +(50.0 * 1.0)}) * ((PY / (+(((50.0 * 1.0) / +(50.0 * 1.0)) * (PY / 1.0) ^ {1.0 + 0.0})) ^ {1.0 / (1.0 + 0.0)}) / 1.0) ^ {0.0} - PY‡Y\\quad && \\perp \\quad && PY‡Y\\\\\n",
       "& \\quad 150.0 * ((PX†U / 100.0) ^ {(100.0 * 1.0) / +(150.0 * 1.0)} * (PY†U / 50.0) ^ {(50.0 * 1.0) / +(150.0 * 1.0)}) * ((PU / (+(((150.0 * 1.0) / +(150.0 * 1.0)) * (PU / 1.0) ^ {1.0 + 0.0})) ^ {1.0 / (1.0 + 0.0)}) / 1.0) ^ {0.0} - PU‡U\\quad && \\perp \\quad && PU‡U\\\\\n",
       "& \\text{Final Demand} \\quad && \\quad && \\\\\n",
       "& \\quad 150.0 * (RA / 150.0) * (1.0 / PU) - PUρRA\\quad && \\perp \\quad && PUρRA\\\\\n",
       "& \\text{Zero Profit} \\quad && \\quad && \\\\\n",
       "& \\quad (PL * PL†X + PK * PK†X) - +(PX * PX‡X)\\quad && \\perp \\quad && 0.0 <X\\\\\n",
       "& \\quad (PL * PL†Y + PK * PK†Y) - +(PY * PY‡Y)\\quad && \\perp \\quad && 0.0 <Y\\\\\n",
       "& \\quad (PX * PX†U + PY * PY†U) - +(PU * PU‡U)\\quad && \\perp \\quad && 0.0 <U\\\\\n",
       "& \\text{Market clearance} \\quad && \\quad && \\\\\n",
       "& \\quad (0.0 + 80.0) - (0.0 + X * PK†X + Y * PK†Y)\\quad && \\perp \\quad && 0.001 <PK\\\\\n",
       "& \\quad (0.0 + 70.0 * endow) - (0.0 + X * PL†X + Y * PL†Y)\\quad && \\perp \\quad && 0.001 <PL\\\\\n",
       "& \\quad (0.0 + Y * PY‡Y) - (0.0 + U * PY†U)\\quad && \\perp \\quad && 0.001 <PY\\\\\n",
       "& \\quad (0.0 + X * PX‡X) - (0.0 + U * PX†U)\\quad && \\perp \\quad && 0.001 <PX\\\\\n",
       "& \\quad (0.0 + U * PU‡U) - (0.0 + PUρRA)\\quad && \\perp \\quad && 0.001 <PU\\\\\n",
       "& \\text{Income balance} \\quad && \\quad && \\\\\n",
       "& \\quad ((70.0 * endow) * PL + 80.0 * PK) - RA\\quad && \\perp \\quad && 0.0 <RA\\\\\n",
       "\\end{alignat*}\n",
       " $$\n"
      ],
      "text/plain": [
       "Mixed complementarity problem with 19 constraints:\n",
       "  Compensated Demand\n",
       "    50.0 * ((PL†X / 50.0) ^ ((50.0 * 1.0) / +((100.0 + diff) * 1.0)) * (PK†X / 50.0) ^ ((50.0 * 1.0) / +((100.0 + diff) * 1.0))) * (((((PL / 1.0) ^ ((50.0 * 1.0) / +((100.0 + diff) * 1.0)) * (PK / 1.0) ^ ((50.0 * 1.0) / +((100.0 + diff) * 1.0))) * ((PL†X / 50.0) ^ ((50.0 * 1.0) / +((100.0 + diff) * 1.0)) * (PK†X / 50.0) ^ ((50.0 * 1.0) / +((100.0 + diff) * 1.0)))) * 1.0) / PL) ^ 1.0 - PL†X  ┴  PL†X\n",
       "    50.0 * ((PL†X / 50.0) ^ ((50.0 * 1.0) / +((100.0 + diff) * 1.0)) * (PK†X / 50.0) ^ ((50.0 * 1.0) / +((100.0 + diff) * 1.0))) * (((((PL / 1.0) ^ ((50.0 * 1.0) / +((100.0 + diff) * 1.0)) * (PK / 1.0) ^ ((50.0 * 1.0) / +((100.0 + diff) * 1.0))) * ((PL†X / 50.0) ^ ((50.0 * 1.0) / +((100.0 + diff) * 1.0)) * (PK†X / 50.0) ^ ((50.0 * 1.0) / +((100.0 + diff) * 1.0)))) * 1.0) / PK) ^ 1.0 - PK†X  ┴  PK†X\n",
       "    20.0 * ((PL†Y / 20.0) ^ ((20.0 * 1.0) / +(50.0 * 1.0)) * (PK†Y / 30.0) ^ ((30.0 * 1.0) / +(50.0 * 1.0))) * (((((PL / 1.0) ^ ((20.0 * 1.0) / +(50.0 * 1.0)) * (PK / 1.0) ^ ((30.0 * 1.0) / +(50.0 * 1.0))) * ((PL†Y / 20.0) ^ ((20.0 * 1.0) / +(50.0 * 1.0)) * (PK†Y / 30.0) ^ ((30.0 * 1.0) / +(50.0 * 1.0)))) * 1.0) / PL) ^ 1.0 - PL†Y                                                              ┴  PL†Y\n",
       "    30.0 * ((PL†Y / 20.0) ^ ((20.0 * 1.0) / +(50.0 * 1.0)) * (PK†Y / 30.0) ^ ((30.0 * 1.0) / +(50.0 * 1.0))) * (((((PL / 1.0) ^ ((20.0 * 1.0) / +(50.0 * 1.0)) * (PK / 1.0) ^ ((30.0 * 1.0) / +(50.0 * 1.0))) * ((PL†Y / 20.0) ^ ((20.0 * 1.0) / +(50.0 * 1.0)) * (PK†Y / 30.0) ^ ((30.0 * 1.0) / +(50.0 * 1.0)))) * 1.0) / PK) ^ 1.0 - PK†Y                                                              ┴  PK†Y\n",
       "    100.0 * ((PX†U / 100.0) ^ ((100.0 * 1.0) / +(150.0 * 1.0)) * (PY†U / 50.0) ^ ((50.0 * 1.0) / +(150.0 * 1.0))) * (((((PX / 1.0) ^ ((100.0 * 1.0) / +(150.0 * 1.0)) * (PY / 1.0) ^ ((50.0 * 1.0) / +(150.0 * 1.0))) * ((PX†U / 100.0) ^ ((100.0 * 1.0) / +(150.0 * 1.0)) * (PY†U / 50.0) ^ ((50.0 * 1.0) / +(150.0 * 1.0)))) * 1.0) / PX) ^ 1.0 - PX†U                                                  ┴  PX†U\n",
       "    50.0 * ((PX†U / 100.0) ^ ((100.0 * 1.0) / +(150.0 * 1.0)) * (PY†U / 50.0) ^ ((50.0 * 1.0) / +(150.0 * 1.0))) * (((((PX / 1.0) ^ ((100.0 * 1.0) / +(150.0 * 1.0)) * (PY / 1.0) ^ ((50.0 * 1.0) / +(150.0 * 1.0))) * ((PX†U / 100.0) ^ ((100.0 * 1.0) / +(150.0 * 1.0)) * (PY†U / 50.0) ^ ((50.0 * 1.0) / +(150.0 * 1.0)))) * 1.0) / PY) ^ 1.0 - PY†U                                                   ┴  PY†U\n",
       "  Compensated Supply\n",
       "    (100.0 + diff) * ((PL†X / 50.0) ^ ((50.0 * 1.0) / +((100.0 + diff) * 1.0)) * (PK†X / 50.0) ^ ((50.0 * 1.0) / +((100.0 + diff) * 1.0))) * ((PX / (+((((100.0 + diff) * 1.0) / +((100.0 + diff) * 1.0)) * (PX / 1.0) ^ (1.0 + 0.0))) ^ (1.0 / (1.0 + 0.0))) / 1.0) ^ 0.0 - PX‡X                                                                                                                         ┴  PX‡X\n",
       "    50.0 * ((PL†Y / 20.0) ^ ((20.0 * 1.0) / +(50.0 * 1.0)) * (PK†Y / 30.0) ^ ((30.0 * 1.0) / +(50.0 * 1.0))) * ((PY / (+(((50.0 * 1.0) / +(50.0 * 1.0)) * (PY / 1.0) ^ (1.0 + 0.0))) ^ (1.0 / (1.0 + 0.0))) / 1.0) ^ 0.0 - PY‡Y                                                                                                                                                                           ┴  PY‡Y\n",
       "    150.0 * ((PX†U / 100.0) ^ ((100.0 * 1.0) / +(150.0 * 1.0)) * (PY†U / 50.0) ^ ((50.0 * 1.0) / +(150.0 * 1.0))) * ((PU / (+(((150.0 * 1.0) / +(150.0 * 1.0)) * (PU / 1.0) ^ (1.0 + 0.0))) ^ (1.0 / (1.0 + 0.0))) / 1.0) ^ 0.0 - PU‡U                                                                                                                                                                    ┴  PU‡U\n",
       "  Final Demand\n",
       "    150.0 * (RA / 150.0) * (1.0 / PU) - PUρRA                                                                                                                                                                                                                                                                                                                                                             ┴  PUρRA\n",
       "  Zero Profit\n",
       "    (PL * PL†X + PK * PK†X) - +(PX * PX‡X)                                                                                                                                                                                                                                                                                                                                                                ┴  0.0 < X\n",
       "    (PL * PL†Y + PK * PK†Y) - +(PY * PY‡Y)                                                                                                                                                                                                                                                                                                                                                                ┴  0.0 < Y\n",
       "    (PX * PX†U + PY * PY†U) - +(PU * PU‡U)                                                                                                                                                                                                                                                                                                                                                                ┴  0.0 < U\n",
       "  Market clearance\n",
       "    (0.0 + 80.0) - (0.0 + X * PK†X + Y * PK†Y)                                                                                                                                                                                                                                                                                                                                                            ┴  0.001 < PK\n",
       "    (0.0 + 70.0 * endow) - (0.0 + X * PL†X + Y * PL†Y)                                                                                                                                                                                                                                                                                                                                                    ┴  0.001 < PL\n",
       "    (0.0 + Y * PY‡Y) - (0.0 + U * PY†U)                                                                                                                                                                                                                                                                                                                                                                   ┴  0.001 < PY\n",
       "    (0.0 + X * PX‡X) - (0.0 + U * PX†U)                                                                                                                                                                                                                                                                                                                                                                   ┴  0.001 < PX\n",
       "    (0.0 + U * PU‡U) - (0.0 + PUρRA)                                                                                                                                                                                                                                                                                                                                                                      ┴  0.001 < PU\n",
       "  Income balance\n",
       "    ((70.0 * endow) * PL + 80.0 * PK) - RA                                                                                                                                                                                                                                                                                                                                                                ┴  0.0 < RA\n"
      ]
     },
     "metadata": {},
     "output_type": "display_data"
    }
   ],
   "source": [
    "algebraic_version(m)"
   ]
  },
  {
   "cell_type": "code",
   "execution_count": 29,
   "metadata": {},
   "outputs": [
    {
     "name": "stdout",
     "output_type": "stream",
     "text": [
      "Path 5.0.03 (Fri Jun 26 10:05:33 2020)\n",
      "Written by Todd Munson, Steven Dirkse, Youngdae Kim, and Michael Ferris\n",
      "\n",
      "Crash Log\n",
      "major  func  diff  size  residual    step       prox   (label)\n",
      "    0     0             7.0613e+00             0.0e+00 (F_PUρRA)\n",
      "    1     1     0    19 7.0207e-01  1.0e+00    7.1e-02 (F_PUρRA)\n",
      "pn_search terminated: no basis change.\n",
      "\n",
      "Major Iteration Log\n",
      "major minor  func  grad  residual    step  type prox    inorm  (label)\n",
      "    0     0     2     2 7.0207e-01           I 7.0e-03 5.0e-01 (F_PUρRA)\n",
      "    1     1     3     3 1.3158e-03  1.0e+00 SO 2.8e-03 8.6e-04 (F_PUρRA)\n",
      "    2     1     4     4 1.0194e-07  1.0e+00 SO 1.3e-04 5.9e-08 (F_PX‡X)\n",
      "\n",
      "Major Iterations. . . . 2\n"
     ]
    },
    {
     "name": "stdout",
     "output_type": "stream",
     "text": [
      "Minor Iterations. . . . 2\n",
      "Restarts. . . . . . . . 0\n",
      "Crash Iterations. . . . 1\n",
      "Gradient Steps. . . . . 0\n",
      "Function Evaluations. . 4\n",
      "Gradient Evaluations. . 4\n",
      "Basis Time. . . . . . . 0.000000\n",
      "Total Time. . . . . . . 0.000000\n",
      "Residual. . . . . . . . 1.019364e-07\n"
     ]
    },
    {
     "data": {
      "text/plain": [
       "MPSGE model with 3 sectors, 5 commodities and 1 consumers.\n",
       "  Sectors: X (bm=1.0), Y (bm=1.0), U (bm=1.0)\n",
       "  Commodities: PX (bm=1.0), PY (bm=1.0), PU (bm=1.0), PL (bm=1.0), PK (bm=1.0)\n",
       "  Consumers: RA (bm=150.0)\n",
       "Solution:\n",
       "  X:\t1.048808848965723\n",
       "  Y:\t1.0388601189774973\n",
       "  U:\t1.0454820641664382\n",
       "  PX:\t0.986206843811528\n",
       "  PY:\t0.995651335495208\n",
       "  PU:\t0.9893450112755033\n",
       "  PL:\t0.9403113311159994\n",
       "  PK:\t1.0343424647967414\n",
       "  PX‡X:\t99.99999997421511\n",
       "  PY‡Y:\t49.999999992736\n",
       "  PU‡U:\t149.9999999995909\n",
       "  PL†X:\t52.44044236996937\n",
       "  PK†X:\t47.67312941616457\n",
       "  PL†Y:\t21.177057042491302\n",
       "  PK†Y:\t28.877805065567543\n",
       "  PX†U:\t100.31820580026223\n",
       "  PY†U:\t49.68330660370647\n",
       "  RA:\t155.15136971238945\n",
       "  PUρRA:\t156.82230962559314\n"
      ]
     },
     "metadata": {},
     "output_type": "display_data"
    }
   ],
   "source": [
    "# set_fixed!(PX, true)\n",
    "set_value(endow, 1.1)\n",
    "solve!(m)"
   ]
  },
  {
   "cell_type": "code",
   "execution_count": 4,
   "metadata": {},
   "outputs": [
    {
     "name": "stdout",
     "output_type": "stream",
     "text": [
      "Path 5.0.03 (Fri Jun 26 10:05:33 2020)\n",
      "Written by Todd Munson, Steven Dirkse, Youngdae Kim, and Michael Ferris\n",
      "Preprocessed size   : 18\n",
      "\n",
      "Crash Log\n",
      "major  func  diff  size  residual    step       prox   (label)\n",
      "    0     0             2.0316e+01             0.0e+00 (F_X)\n",
      "    1     1     0    18 9.6049e-01  1.0e+00    0.0e+00 (F_U)\n",
      "pn_search terminated: no basis change.\n",
      "\n",
      "Major Iteration Log\n",
      "major minor  func  grad  residual    step  type prox    inorm  (label)\n",
      "    0     0     2     2 9.6049e-01           I 0.0e+00 4.7e-01 (F_U)\n",
      "    1     1     3     3 2.0849e-03  1.0e+00 SO 0.0e+00 1.4e-03 (F_PX†U)\n",
      "    2     1     4     4 3.1791e-08  1.0e+00 SO 0.0e+00 1.8e-08 (F_PX†U)\n",
      "\n",
      "Major Iterations. . . . 2\n",
      "Minor Iterations. . . . 2\n",
      "Restarts. . . . . . . . 0\n",
      "Crash Iterations. . . . 1\n",
      "Gradient Steps. . . . . 0\n",
      "Function Evaluations. . 4\n",
      "Gradient Evaluations. . 4\n",
      "Basis Time. . . . . . . 0.000000\n",
      "Total Time. . . . . . . 0.000000\n",
      "Residual. . . . . . . . 3.179055e-08\n",
      "Postsolved residual: 3.1791e-08\n"
     ]
    },
    {
     "data": {
      "text/plain": [
       "MPSGE model with 3 sectors, 5 commodities and 1 consumers.\n",
       "  Sectors: X (bm=1.0), Y (bm=1.0), U (bm=1.0)\n",
       "  Commodities: PX (bm=1.0), PY (bm=1.0), PU (bm=1.0), PL (bm=1.0), PK (bm=1.0)\n",
       "  Consumers: RA (bm=150.0)\n",
       "Solution:\n",
       "  X:\t1.0378704504858438\n",
       "  Y:\t1.038860118264236\n",
       "  U:\t1.1133603696944854\n",
       "  PX:\t1.0\n",
       "  PY:\t1.1094762930953643\n",
       "  PU:\t1.0352359433847316\n",
       "  PL:\t1.047809702813934\n",
       "  PK:\t1.1525906730108977\n",
       "  PX‡X:\t111.05342410699103\n",
       "  PY‡Y:\t50.00000000079015\n",
       "  PU‡U:\t150.0000000267774\n",
       "  PL†X:\t52.99312642861192\n",
       "  PK†X:\t48.17556948082755\n",
       "  PL†Y:\t21.177057058492988\n",
       "  PK†Y:\t28.877805080393472\n",
       "  PX†U:\t103.52359435335393\n",
       "  PY†U:\t46.65426156302851\n",
       "  RA:\t172.88860095754472\n",
       "  PUρRA:\t167.0040554992223\n"
      ]
     },
     "metadata": {},
     "output_type": "display_data"
    }
   ],
   "source": [
    "set_value(diff, 10.0)\n",
    "set_fixed!(PX, true)\n",
    "set_value(endow, 1.1)\n",
    "solve!(m)"
   ]
  },
  {
   "cell_type": "code",
   "execution_count": null,
   "metadata": {},
   "outputs": [],
   "source": []
  }
 ],
 "metadata": {
  "kernelspec": {
   "display_name": "Julia 1.8.1",
   "language": "julia",
   "name": "julia-1.8"
  },
  "language_info": {
   "file_extension": ".jl",
   "mimetype": "application/julia",
   "name": "julia",
   "version": "1.8.1"
  },
  "orig_nbformat": 4,
  "vscode": {
   "interpreter": {
    "hash": "21729f1b7f2a6115a8ac6e11ddfc83af4bcd3abcc69ae9bcbc60331b8ffed3d1"
   }
  }
 },
 "nbformat": 4,
 "nbformat_minor": 2
}
