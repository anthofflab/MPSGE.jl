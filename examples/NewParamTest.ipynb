{
 "cells": [
  {
   "cell_type": "code",
   "execution_count": 1,
   "metadata": {},
   "outputs": [],
   "source": [
    "using MPSGE"
   ]
  },
  {
   "cell_type": "code",
   "execution_count": 100,
   "metadata": {},
   "outputs": [
    {
     "name": "stdout",
     "output_type": "stream",
     "text": [
      "Path 5.0.03 (Fri Jun 26 10:05:33 2020)\n",
      "Written by Todd Munson, Steven Dirkse, Youngdae Kim, and Michael Ferris\n",
      "\n",
      "Crash Log\n",
      "major  func  diff  size  residual    step       prox   (label)\n",
      "    0     0             0.0000e+00             0.0e+00 (F_X)\n",
      "\n",
      "Major Iteration Log\n",
      "major minor  func  grad  residual    step  type prox    inorm  (label)\n",
      "    0     0     1     1 0.0000e+00           I 0.0e+00 0.0e+00 (F_X)\n",
      "\n",
      "Major Iterations. . . . 0\n",
      "Minor Iterations. . . . 0\n",
      "Restarts. . . . . . . . 0\n",
      "Crash Iterations. . . . 0\n",
      "Gradient Steps. . . . . 0\n",
      "Function Evaluations. . 1\n",
      "Gradient Evaluations. . 1\n",
      "Basis Time. . . . . . . 0.000000\n",
      "Total Time. . . . . . . 0.000000\n",
      "Residual. . . . . . . . 0.000000e+00\n"
     ]
    },
    {
     "data": {
      "text/plain": [
       "MPSGE model with 3 sectors, 5 commodities and 1 consumers.\n",
       "  Sectors: X (bm=1.0), Y (bm=1.0), U (bm=1.0)\n",
       "  Commodities: PX (bm=1.0), PY (bm=1.0), PU (bm=1.0), PL (bm=1.0), PK (bm=1.0)\n",
       "  Consumers: RA (bm=150.0)\n",
       "Solution:\n",
       "  X:\t1.0\n",
       "  Y:\t1.0\n",
       "  U:\t1.0\n",
       "  PX:\t1.0\n",
       "  PY:\t1.0\n",
       "  PU:\t1.0\n",
       "  PL:\t1.0\n",
       "  PK:\t1.0\n",
       "  PX‡X:\t100.0\n",
       "  PY‡Y:\t50.0\n",
       "  PU‡U:\t150.0\n",
       "  PL†X:\t50.0\n",
       "  PK†X:\t50.0\n",
       "  PL†Y:\t20.0\n",
       "  PK†Y:\t30.0\n",
       "  PX†U:\t100.0\n",
       "  PY†U:\t50.0\n",
       "  RA:\t150.0\n",
       "  PUρRA:\t150.0\n"
      ]
     },
     "metadata": {},
     "output_type": "display_data"
    }
   ],
   "source": [
    "m = Model()\n",
    "\n",
    "@parameter(m, endow, 1.0)\n",
    "@parameter(m, diff, 0.0)\n",
    "\n",
    "@sector(m, X)\n",
    "@sector(m, Y)\n",
    "@sector(m, U)\n",
    "\n",
    "@commodity(m, PX)\n",
    "@commodity(m, PY)\n",
    "@commodity(m, PU)\n",
    "@commodity(m, PL)\n",
    "@commodity(m, PK)\n",
    "\n",
    "@consumer(m, RA, benchmark = 150.)\n",
    "\n",
    "@production(m, X, 0, 1, [Output(PX, :(100+$diff))], [Input(PL, 50), Input(PK, 50)])\n",
    "@production(m, Y, 0, 1, [Output(PY, 50)], [Input(PL, 20), Input(PK, 30)])\n",
    "@production(m, U, 0, 1, [Output(PU, 150)], [Input(PX, 100), Input(PY, 50)]) \n",
    "\n",
    "@demand(m, RA, 1.0, [Demand(PU, 150)], [Endowment(PL, :(70 * $endow)), Endowment(PK, 80.)])\n",
    "solve!(m)"
   ]
  },
  {
   "cell_type": "code",
   "execution_count": 54,
   "metadata": {
    "tags": [
     "parameters"
    ]
   },
   "outputs": [],
   "source": [
    "var\"X\" = 1 ;\n",
    "var\"Y\" = 1 ;\n",
    "var\"U\" = 1 ;\n",
    "var\"PX\" = 1 ;\n",
    "var\"PY\" = 1 ;\n",
    "var\"PU\" = 1 ;\n",
    "var\"PL\" = 1 ;\n",
    "var\"PK\" = 1 ;\n",
    "var\"PX‡X\" = 100 ;\n",
    "var\"PY‡Y\" = 50 ;\n",
    "var\"PU‡U\" = 150 ;\n",
    "var\"PL†X\" = 50 ;\n",
    "var\"PK†X\" = 50 ;\n",
    "var\"PL†Y\" = 20 ;\n",
    "var\"PK†Y\" = 30 ;\n",
    "var\"PX†U\" = 100 ;\n",
    "var\"PY†U\" = 50 ;\n",
    "var\" RA\" = 150 ;\n",
    "var\"PUρRA\" = 150 ;\n",
    "var\"diff\" = 0 ;\n"
   ]
  },
  {
   "cell_type": "code",
   "execution_count": 98,
   "metadata": {},
   "outputs": [
    {
     "data": {
      "text/latex": [
       "$$ \\begin{alignat*}{3}\\\n",
       "& \\text{Compensated Demand} \\quad && \\quad && \\\\\n",
       "& \\quad 50.0 * ((PL†X / 50.0) ^ {(50.0 * 1.0) / +((100.0 + diff) * 1.0)} * (PK†X / 50.0) ^ {(50.0 * 1.0) / +((100.0 + diff) * 1.0)}) * (((((PL / 1.0) ^ {(50.0 * 1.0) / +((100.0 + diff) * 1.0)} * (PK / 1.0) ^ {(50.0 * 1.0) / +((100.0 + diff) * 1.0)}) * ((PL†X / 50.0) ^ {(50.0 * 1.0) / +((100.0 + diff) * 1.0)} * (PK†X / 50.0) ^ {(50.0 * 1.0) / +((100.0 + diff) * 1.0)})) * 1.0) / PL) ^ {1.0} - PL†X\\quad && \\perp \\quad && PL†X\\\\\n",
       "& \\quad 50.0 * ((PL†X / 50.0) ^ {(50.0 * 1.0) / +((100.0 + diff) * 1.0)} * (PK†X / 50.0) ^ {(50.0 * 1.0) / +((100.0 + diff) * 1.0)}) * (((((PL / 1.0) ^ {(50.0 * 1.0) / +((100.0 + diff) * 1.0)} * (PK / 1.0) ^ {(50.0 * 1.0) / +((100.0 + diff) * 1.0)}) * ((PL†X / 50.0) ^ {(50.0 * 1.0) / +((100.0 + diff) * 1.0)} * (PK†X / 50.0) ^ {(50.0 * 1.0) / +((100.0 + diff) * 1.0)})) * 1.0) / PK) ^ {1.0} - PK†X\\quad && \\perp \\quad && PK†X\\\\\n",
       "& \\quad 20.0 * ((PL†Y / 20.0) ^ {(20.0 * 1.0) / +(50.0 * 1.0)} * (PK†Y / 30.0) ^ {(30.0 * 1.0) / +(50.0 * 1.0)}) * (((((PL / 1.0) ^ {(20.0 * 1.0) / +(50.0 * 1.0)} * (PK / 1.0) ^ {(30.0 * 1.0) / +(50.0 * 1.0)}) * ((PL†Y / 20.0) ^ {(20.0 * 1.0) / +(50.0 * 1.0)} * (PK†Y / 30.0) ^ {(30.0 * 1.0) / +(50.0 * 1.0)})) * 1.0) / PL) ^ {1.0} - PL†Y\\quad && \\perp \\quad && PL†Y\\\\\n",
       "& \\quad 30.0 * ((PL†Y / 20.0) ^ {(20.0 * 1.0) / +(50.0 * 1.0)} * (PK†Y / 30.0) ^ {(30.0 * 1.0) / +(50.0 * 1.0)}) * (((((PL / 1.0) ^ {(20.0 * 1.0) / +(50.0 * 1.0)} * (PK / 1.0) ^ {(30.0 * 1.0) / +(50.0 * 1.0)}) * ((PL†Y / 20.0) ^ {(20.0 * 1.0) / +(50.0 * 1.0)} * (PK†Y / 30.0) ^ {(30.0 * 1.0) / +(50.0 * 1.0)})) * 1.0) / PK) ^ {1.0} - PK†Y\\quad && \\perp \\quad && PK†Y\\\\\n",
       "& \\quad 100.0 * ((PX†U / 100.0) ^ {(100.0 * 1.0) / +(150.0 * 1.0)} * (PY†U / 50.0) ^ {(50.0 * 1.0) / +(150.0 * 1.0)}) * (((((PX / 1.0) ^ {(100.0 * 1.0) / +(150.0 * 1.0)} * (PY / 1.0) ^ {(50.0 * 1.0) / +(150.0 * 1.0)}) * ((PX†U / 100.0) ^ {(100.0 * 1.0) / +(150.0 * 1.0)} * (PY†U / 50.0) ^ {(50.0 * 1.0) / +(150.0 * 1.0)})) * 1.0) / PX) ^ {1.0} - PX†U\\quad && \\perp \\quad && PX†U\\\\\n",
       "& \\quad 50.0 * ((PX†U / 100.0) ^ {(100.0 * 1.0) / +(150.0 * 1.0)} * (PY†U / 50.0) ^ {(50.0 * 1.0) / +(150.0 * 1.0)}) * (((((PX / 1.0) ^ {(100.0 * 1.0) / +(150.0 * 1.0)} * (PY / 1.0) ^ {(50.0 * 1.0) / +(150.0 * 1.0)}) * ((PX†U / 100.0) ^ {(100.0 * 1.0) / +(150.0 * 1.0)} * (PY†U / 50.0) ^ {(50.0 * 1.0) / +(150.0 * 1.0)})) * 1.0) / PY) ^ {1.0} - PY†U\\quad && \\perp \\quad && PY†U\\\\\n",
       "& \\text{Compensated Supply} \\quad && \\quad && \\\\\n",
       "& \\quad (100.0 + diff) * ((PL†X / 50.0) ^ {(50.0 * 1.0) / +((100.0 + diff) * 1.0)} * (PK†X / 50.0) ^ {(50.0 * 1.0) / +((100.0 + diff) * 1.0)}) * ((PX / (+((((100.0 + diff) * 1.0) / +((100.0 + diff) * 1.0)) * (PX / 1.0) ^ {1.0 + 0.0})) ^ {1.0 / (1.0 + 0.0)}) / 1.0) ^ {0.0} - PX‡X\\quad && \\perp \\quad && PX‡X\\\\\n",
       "& \\quad 50.0 * ((PL†Y / 20.0) ^ {(20.0 * 1.0) / +(50.0 * 1.0)} * (PK†Y / 30.0) ^ {(30.0 * 1.0) / +(50.0 * 1.0)}) * ((PY / (+(((50.0 * 1.0) / +(50.0 * 1.0)) * (PY / 1.0) ^ {1.0 + 0.0})) ^ {1.0 / (1.0 + 0.0)}) / 1.0) ^ {0.0} - PY‡Y\\quad && \\perp \\quad && PY‡Y\\\\\n",
       "& \\quad 150.0 * ((PX†U / 100.0) ^ {(100.0 * 1.0) / +(150.0 * 1.0)} * (PY†U / 50.0) ^ {(50.0 * 1.0) / +(150.0 * 1.0)}) * ((PU / (+(((150.0 * 1.0) / +(150.0 * 1.0)) * (PU / 1.0) ^ {1.0 + 0.0})) ^ {1.0 / (1.0 + 0.0)}) / 1.0) ^ {0.0} - PU‡U\\quad && \\perp \\quad && PU‡U\\\\\n",
       "& \\text{Final Demand} \\quad && \\quad && \\\\\n",
       "& \\quad 150.0 * (RA / 150.0) * (1.0 / PU) - PUρRA\\quad && \\perp \\quad && PUρRA\\\\\n",
       "& \\text{Zero Profit} \\quad && \\quad && \\\\\n",
       "& \\quad (PL * PL†X + PK * PK†X) - +(PX * PX‡X)\\quad && \\perp \\quad && 0.0 <X\\\\\n",
       "& \\quad (PL * PL†Y + PK * PK†Y) - +(PY * PY‡Y)\\quad && \\perp \\quad && 0.0 <Y\\\\\n",
       "& \\quad (PX * PX†U + PY * PY†U) - +(PU * PU‡U)\\quad && \\perp \\quad && 0.0 <U\\\\\n",
       "& \\text{Market clearance} \\quad && \\quad && \\\\\n",
       "& \\quad (0.0 + Y * PY‡Y) - (0.0 + U * PY†U)\\quad && \\perp \\quad && 0.001 <PY\\\\\n",
       "& \\quad (0.0 + 80.0) - (0.0 + X * PK†X + Y * PK†Y)\\quad && \\perp \\quad && 0.001 <PK\\\\\n",
       "& \\quad (0.0 + U * PU‡U) - (0.0 + PUρRA)\\quad && \\perp \\quad && 0.001 <PU\\\\\n",
       "& \\quad (0.0 + X * PX‡X) - (0.0 + U * PX†U)\\quad && \\perp \\quad && PX = 1.0\\\\\n",
       "& \\quad (0.0 + 70.0 * endow) - (0.0 + X * PL†X + Y * PL†Y)\\quad && \\perp \\quad && 0.001 <PL\\\\\n",
       "& \\text{Income balance} \\quad && \\quad && \\\\\n",
       "& \\quad ((70.0 * endow) * PL + 80.0 * PK) - RA\\quad && \\perp \\quad && RA = 157.0\\\\\n",
       "\\end{alignat*}\n",
       " $$\n"
      ],
      "text/plain": [
       "Mixed complementarity problem with 19 constraints:\n",
       "  Compensated Demand\n",
       "    50.0 * ((PL†X / 50.0) ^ ((50.0 * 1.0) / +((100.0 + diff) * 1.0)) * (PK†X / 50.0) ^ ((50.0 * 1.0) / +((100.0 + diff) * 1.0))) * (((((PL / 1.0) ^ ((50.0 * 1.0) / +((100.0 + diff) * 1.0)) * (PK / 1.0) ^ ((50.0 * 1.0) / +((100.0 + diff) * 1.0))) * ((PL†X / 50.0) ^ ((50.0 * 1.0) / +((100.0 + diff) * 1.0)) * (PK†X / 50.0) ^ ((50.0 * 1.0) / +((100.0 + diff) * 1.0)))) * 1.0) / PL) ^ 1.0 - PL†X  ┴  PL†X\n",
       "    50.0 * ((PL†X / 50.0) ^ ((50.0 * 1.0) / +((100.0 + diff) * 1.0)) * (PK†X / 50.0) ^ ((50.0 * 1.0) / +((100.0 + diff) * 1.0))) * (((((PL / 1.0) ^ ((50.0 * 1.0) / +((100.0 + diff) * 1.0)) * (PK / 1.0) ^ ((50.0 * 1.0) / +((100.0 + diff) * 1.0))) * ((PL†X / 50.0) ^ ((50.0 * 1.0) / +((100.0 + diff) * 1.0)) * (PK†X / 50.0) ^ ((50.0 * 1.0) / +((100.0 + diff) * 1.0)))) * 1.0) / PK) ^ 1.0 - PK†X  ┴  PK†X\n",
       "    20.0 * ((PL†Y / 20.0) ^ ((20.0 * 1.0) / +(50.0 * 1.0)) * (PK†Y / 30.0) ^ ((30.0 * 1.0) / +(50.0 * 1.0))) * (((((PL / 1.0) ^ ((20.0 * 1.0) / +(50.0 * 1.0)) * (PK / 1.0) ^ ((30.0 * 1.0) / +(50.0 * 1.0))) * ((PL†Y / 20.0) ^ ((20.0 * 1.0) / +(50.0 * 1.0)) * (PK†Y / 30.0) ^ ((30.0 * 1.0) / +(50.0 * 1.0)))) * 1.0) / PL) ^ 1.0 - PL†Y                                                              ┴  PL†Y\n",
       "    30.0 * ((PL†Y / 20.0) ^ ((20.0 * 1.0) / +(50.0 * 1.0)) * (PK†Y / 30.0) ^ ((30.0 * 1.0) / +(50.0 * 1.0))) * (((((PL / 1.0) ^ ((20.0 * 1.0) / +(50.0 * 1.0)) * (PK / 1.0) ^ ((30.0 * 1.0) / +(50.0 * 1.0))) * ((PL†Y / 20.0) ^ ((20.0 * 1.0) / +(50.0 * 1.0)) * (PK†Y / 30.0) ^ ((30.0 * 1.0) / +(50.0 * 1.0)))) * 1.0) / PK) ^ 1.0 - PK†Y                                                              ┴  PK†Y\n",
       "    100.0 * ((PX†U / 100.0) ^ ((100.0 * 1.0) / +(150.0 * 1.0)) * (PY†U / 50.0) ^ ((50.0 * 1.0) / +(150.0 * 1.0))) * (((((PX / 1.0) ^ ((100.0 * 1.0) / +(150.0 * 1.0)) * (PY / 1.0) ^ ((50.0 * 1.0) / +(150.0 * 1.0))) * ((PX†U / 100.0) ^ ((100.0 * 1.0) / +(150.0 * 1.0)) * (PY†U / 50.0) ^ ((50.0 * 1.0) / +(150.0 * 1.0)))) * 1.0) / PX) ^ 1.0 - PX†U                                                  ┴  PX†U\n",
       "    50.0 * ((PX†U / 100.0) ^ ((100.0 * 1.0) / +(150.0 * 1.0)) * (PY†U / 50.0) ^ ((50.0 * 1.0) / +(150.0 * 1.0))) * (((((PX / 1.0) ^ ((100.0 * 1.0) / +(150.0 * 1.0)) * (PY / 1.0) ^ ((50.0 * 1.0) / +(150.0 * 1.0))) * ((PX†U / 100.0) ^ ((100.0 * 1.0) / +(150.0 * 1.0)) * (PY†U / 50.0) ^ ((50.0 * 1.0) / +(150.0 * 1.0)))) * 1.0) / PY) ^ 1.0 - PY†U                                                   ┴  PY†U\n",
       "  Compensated Supply\n",
       "    (100.0 + diff) * ((PL†X / 50.0) ^ ((50.0 * 1.0) / +((100.0 + diff) * 1.0)) * (PK†X / 50.0) ^ ((50.0 * 1.0) / +((100.0 + diff) * 1.0))) * ((PX / (+((((100.0 + diff) * 1.0) / +((100.0 + diff) * 1.0)) * (PX / 1.0) ^ (1.0 + 0.0))) ^ (1.0 / (1.0 + 0.0))) / 1.0) ^ 0.0 - PX‡X                                                                                                                         ┴  PX‡X\n",
       "    50.0 * ((PL†Y / 20.0) ^ ((20.0 * 1.0) / +(50.0 * 1.0)) * (PK†Y / 30.0) ^ ((30.0 * 1.0) / +(50.0 * 1.0))) * ((PY / (+(((50.0 * 1.0) / +(50.0 * 1.0)) * (PY / 1.0) ^ (1.0 + 0.0))) ^ (1.0 / (1.0 + 0.0))) / 1.0) ^ 0.0 - PY‡Y                                                                                                                                                                           ┴  PY‡Y\n",
       "    150.0 * ((PX†U / 100.0) ^ ((100.0 * 1.0) / +(150.0 * 1.0)) * (PY†U / 50.0) ^ ((50.0 * 1.0) / +(150.0 * 1.0))) * ((PU / (+(((150.0 * 1.0) / +(150.0 * 1.0)) * (PU / 1.0) ^ (1.0 + 0.0))) ^ (1.0 / (1.0 + 0.0))) / 1.0) ^ 0.0 - PU‡U                                                                                                                                                                    ┴  PU‡U\n",
       "  Final Demand\n",
       "    150.0 * (RA / 150.0) * (1.0 / PU) - PUρRA                                                                                                                                                                                                                                                                                                                                                             ┴  PUρRA\n",
       "  Zero Profit\n",
       "    (PL * PL†X + PK * PK†X) - +(PX * PX‡X)                                                                                                                                                                                                                                                                                                                                                                ┴  0.0 < X\n",
       "    (PL * PL†Y + PK * PK†Y) - +(PY * PY‡Y)                                                                                                                                                                                                                                                                                                                                                                ┴  0.0 < Y\n",
       "    (PX * PX†U + PY * PY†U) - +(PU * PU‡U)                                                                                                                                                                                                                                                                                                                                                                ┴  0.0 < U\n",
       "  Market clearance\n",
       "    (0.0 + Y * PY‡Y) - (0.0 + U * PY†U)                                                                                                                                                                                                                                                                                                                                                                   ┴  0.001 < PY\n",
       "    (0.0 + 80.0) - (0.0 + X * PK†X + Y * PK†Y)                                                                                                                                                                                                                                                                                                                                                            ┴  0.001 < PK\n",
       "    (0.0 + U * PU‡U) - (0.0 + PUρRA)                                                                                                                                                                                                                                                                                                                                                                      ┴  0.001 < PU\n",
       "    (0.0 + X * PX‡X) - (0.0 + U * PX†U)                                                                                                                                                                                                                                                                                                                                                                   ┴  PX = 1.0\n",
       "    (0.0 + 70.0 * endow) - (0.0 + X * PL†X + Y * PL†Y)                                                                                                                                                                                                                                                                                                                                                    ┴  0.001 < PL\n",
       "  Income balance\n",
       "    ((70.0 * endow) * PL + 80.0 * PK) - RA                                                                                                                                                                                                                                                                                                                                                                ┴  RA = 157.0\n"
      ]
     },
     "metadata": {},
     "output_type": "display_data"
    }
   ],
   "source": [
    "algebraic_version(m)"
   ]
  },
  {
   "cell_type": "code",
   "execution_count": 63,
   "metadata": {},
   "outputs": [
    {
     "name": "stdout",
     "output_type": "stream",
     "text": [
      "Path 5.0.03 (Fri Jun 26 10:05:33 2020)\n",
      "Written by Todd Munson, Steven Dirkse, Youngdae Kim, and Michael Ferris\n",
      "Preprocessed size   : 18\n",
      "\n",
      "Crash Log\n",
      "major  func  diff  size  residual    step       prox   (label)\n",
      "    0     0             1.9074e+01             0.0e+00 (F_X)\n",
      "    1     1     0    18 8.5141e-01  1.0e+00    0.0e+00 (F_PUρRA)\n",
      "pn_search terminated: no basis change.\n",
      "\n",
      "Major Iteration Log\n",
      "major minor  func  grad  residual    step  type prox    inorm  (label)\n",
      "    0     0     2     2 8.5141e-01           I 0.0e+00 7.1e-01 (F_PUρRA)\n",
      "    1     1     3     3 4.5386e-03  1.0e+00 SO 0.0e+00 4.4e-03 (F_PUρRA)\n",
      "    2     1     4     4 1.2986e-07  1.0e+00 SO 0.0e+00 1.3e-07 (F_PUρRA)\n",
      "\n",
      "Major Iterations. . . . 2\n",
      "Minor Iterations. . . . 2\n",
      "Restarts. . . . . . . . 0\n",
      "Crash Iterations. . . . 1\n",
      "Gradient Steps. . . . . 0\n",
      "Function Evaluations. . 4\n",
      "Gradient Evaluations. . 4\n",
      "Basis Time. . . . . . . 0.000000\n",
      "Total Time. . . . . . . 0.031000\n"
     ]
    },
    {
     "name": "stdout",
     "output_type": "stream",
     "text": [
      "Residual. . . . . . . . 1.298647e-07\n",
      "Postsolved residual: 1.2986e-07\n"
     ]
    },
    {
     "data": {
      "text/plain": [
       "MPSGE model with 3 sectors, 5 commodities and 1 consumers.\n",
       "  Sectors: X (bm=1.0), Y (bm=1.0), U (bm=1.0)\n",
       "  Commodities: PX (bm=1.0), PY (bm=1.0), PU (bm=1.0), PL (bm=1.0), PK (bm=1.0)\n",
       "  Consumers: RA (bm=150.0)\n",
       "Solution:\n",
       "  X:\t1.0000000000544058\n",
       "  Y:\t1.0000000000006657\n",
       "  U:\t1.0656022367644058\n",
       "  PX:\t0.9090909083689197\n",
       "  PY:\t0.9999999992225529\n",
       "  PU:\t0.9384364678334488\n",
       "  PL:\t0.9999999991579944\n",
       "  PK:\t0.9999999992693993\n",
       "  PX‡X:\t109.99999999423584\n",
       "  PY‡Y:\t50.00000000014825\n",
       "  PU‡U:\t150.00000000048112\n",
       "  PL†X:\t49.99999999711922\n",
       "  PK†X:\t49.99999999711485\n",
       "  PL†Y:\t20.000000000104528\n",
       "  PK†Y:\t30.000000000042675\n",
       "  PX†U:\t103.22801154596898\n",
       "  PY†U:\t46.921823429979014\n",
       "  RA:\t150.0\n",
       "  PUρRA:\t159.84033551526235\n"
      ]
     },
     "metadata": {},
     "output_type": "display_data"
    }
   ],
   "source": [
    "set_value(diff, 10.0)\n",
    "set_fixed!(RA, true)\n",
    "# set_value(endow, 1.1)\n",
    "solve!(m)"
   ]
  },
  {
   "cell_type": "markdown",
   "metadata": {},
   "source": [
    "copy and paste results into Excel to turn into  var\"Variable\" = Value;\n",
    "\n",
    "Any variable that is given a value can no longer be updated with set_value\n"
   ]
  },
  {
   "cell_type": "markdown",
   "metadata": {},
   "source": [
    "This is from updating diff = 10 and set_fixed(RA, true)"
   ]
  },
  {
   "cell_type": "code",
   "execution_count": 64,
   "metadata": {},
   "outputs": [],
   "source": [
    "var\"X\" = 1.0000000000544 ;\n",
    "var\"Y\" = 1.00000000000066 ;\n",
    "var\"U\" = 1.0656022367644 ;\n",
    "var\"PX\" = 0.909090908368919 ;\n",
    "var\"PY\" = 0.999999999222552 ;\n",
    "var\"PU\" = 0.938436467833448 ;\n",
    "var\"PL\" = 0.999999999157994 ;\n",
    "var\"PK\" = 0.999999999269399 ;\n",
    "var\"PX‡X\" = 109.999999994235 ;\n",
    "var\"PY‡Y\" = 50.0000000001482 ;\n",
    "var\"PU‡U\" = 150.000000000481 ;\n",
    "var\"PL†X\" = 49.9999999971192 ;\n",
    "var\"PK†X\" = 49.9999999971148 ;\n",
    "var\"PL†Y\" = 20.0000000001045 ;\n",
    "var\"PK†Y\" = 30.0000000000426 ;\n",
    "var\"PX†U\" = 103.228011545968 ;\n",
    "var\"PY†U\" = 46.921823429979 ;\n",
    "var\" RA\" = 150 ;\n",
    "var\"PUρRA\" = 159.840335515262 ;\n",
    "var\"diff\" = 10 ;\n"
   ]
  },
  {
   "cell_type": "markdown",
   "metadata": {},
   "source": [
    "GAMS for diff=10, PX.FX=1"
   ]
  },
  {
   "cell_type": "code",
   "execution_count": 102,
   "metadata": {},
   "outputs": [],
   "source": [
    "var\"X\" = 1 ;\n",
    "var\"Y\" = 1 ;\n",
    "var\"U\" = 1.06560224 ;\n",
    "var\"PX\" = 1 ;\n",
    "var\"PY\" = 1.1 ;\n",
    "var\"PU\" = 1.03228012 ;\n",
    "var\"PL\" = 1.1 ;\n",
    "var\"PK\" = 1.1 ;\n",
    "var\"PX‡X\" = 110 ;\n",
    "var\"PY‡Y\" = 50 ;\n",
    "var\"PU‡U\" = 150 ;\n",
    "var\"PL†X\" = 50 ;\n",
    "var\"PK†X\" = 50 ;\n",
    "var\"PL†Y\" = 20 ;\n",
    "var\"PK†Y\" = 30 ;\n",
    "var\"PX†U\" = 103.228 ;\n",
    "var\"PY†U\" = 46.92182343 ;\n",
    "var\" RA\" = 165 ;\n",
    "var\"PUρRA\" = 159.840335515262 ;\n",
    "var\"diff\" = 10 ;"
   ]
  },
  {
   "cell_type": "code",
   "execution_count": 11,
   "metadata": {},
   "outputs": [],
   "source": [
    "var\"X\" = 1.04904713847483 ;\n",
    "var\"Y\" = 1.03886011792587 ;\n",
    "var\"U\" = 1.11408336425776 ;\n",
    "var\"PX\" = 0.907215362082662 ;\n",
    "var\"PY\" = 1.00751453099342 ;\n",
    "var\"PU\" = 0.939486844766213 ;\n",
    "var\"PL\" = 0.951515148888152 ;\n",
    "var\"PK\" = 1.04666666566031 ;\n",
    "var\"PX‡X\" = 109.977284836133 ;\n",
    "var\"PY‡Y\" = 50.0000000174636 ;\n",
    "var\"PU‡U\" = 150.000000000728 ;\n",
    "var\"PL†X\" = 52.4285306016761 ;\n",
    "var\"PK†X\" = 47.6623005410971 ;\n",
    "var\"PL†Y\" = 21.177057063675 ;\n",
    "var\"PK†Y\" = 28.8778050917323 ;\n",
    "var\"PX†U\" = 103.557201960118 ;\n",
    "var\"PY†U\" = 46.6239848677298 ;\n",
    "var\" RA\" = 157 ;\n",
    "var\"PUρRA\" = 167.112504639448 ;\n",
    "var\"diff\" = 10 ;"
   ]
  },
  {
   "cell_type": "markdown",
   "metadata": {},
   "source": [
    " Compensated Demand\n"
   ]
  },
  {
   "cell_type": "markdown",
   "metadata": {},
   "source": [
    "PL†X"
   ]
  },
  {
   "cell_type": "code",
   "execution_count": 103,
   "metadata": {},
   "outputs": [
    {
     "data": {
      "text/plain": [
       "-0.43135663325791285"
      ]
     },
     "metadata": {},
     "output_type": "display_data"
    }
   ],
   "source": [
    "50.0 * ((var\"PL†X\" / 50.0) ^ ((50.0 * 1.0) / +((100.0 + var\"diff\") * 1.0)) * (var\"PK†X\" / 50.0) ^ ((50.0 * 1.0) / +((100.0 + var\"diff\") * 1.0))) * (((((var\"PL\" / 1.0) ^ ((50.0 * 1.0) / +((100.0 + var\"diff\") * 1.0)) * (var\"PK\" / 1.0) ^ ((50.0 * 1.0) / +((100.0 + var\"diff\") * 1.0))) * ((var\"PL†X\" / 50.0) ^ ((50.0 * 1.0) / +((100.0 + var\"diff\") * 1.0)) * (var\"PK†X\" / 50.0) ^ ((50.0 * 1.0) / +((100.0 + var\"diff\") * 1.0)))) * 1.0) / PL) ^ 1.0 - var\"PL†X\""
   ]
  },
  {
   "cell_type": "markdown",
   "metadata": {},
   "source": [
    "PK†X"
   ]
  },
  {
   "cell_type": "code",
   "execution_count": 104,
   "metadata": {},
   "outputs": [
    {
     "data": {
      "text/plain": [
       "-0.43135663325791285"
      ]
     },
     "metadata": {},
     "output_type": "display_data"
    }
   ],
   "source": [
    "50.0 * ((var\"PL†X\" / 50.0) ^ ((50.0 * 1.0) / +((100.0 + var\"diff\") * 1.0)) * (var\"PK†X\" / 50.0) ^ ((50.0 * 1.0) / +((100.0 + var\"diff\") * 1.0))) * (((((var\"PL\" / 1.0) ^ ((50.0 * 1.0) / +((100.0 + var\"diff\") * 1.0)) * (var\"PK\" / 1.0) ^ ((50.0 * 1.0) / +((100.0 + var\"diff\") * 1.0))) * ((var\"PL†X\" / 50.0) ^ ((50.0 * 1.0) / +((100.0 + var\"diff\") * 1.0)) * (var\"PK†X\" / 50.0) ^ ((50.0 * 1.0) / +((100.0 + var\"diff\") * 1.0)))) * 1.0) / PK) ^ 1.0 - var\"PK†X\""
   ]
  },
  {
   "cell_type": "markdown",
   "metadata": {},
   "source": [
    "PL†Y"
   ]
  },
  {
   "cell_type": "code",
   "execution_count": 105,
   "metadata": {},
   "outputs": [
    {
     "data": {
      "text/plain": [
       "0.0"
      ]
     },
     "metadata": {},
     "output_type": "display_data"
    }
   ],
   "source": [
    "20.0 * ((var\"PL†Y\" / 20.0) ^ ((20.0 * 1.0) / +(50.0 * 1.0)) * (var\"PK†Y\" / 30.0) ^ ((30.0 * 1.0) / +(50.0 * 1.0))) * (((((var\"PL\" / 1.0) ^ ((20.0 * 1.0) / +(50.0 * 1.0)) * (var\"PK\" / 1.0) ^ ((30.0 * 1.0) / +(50.0 * 1.0))) * ((var\"PL†Y\" / 20.0) ^ ((20.0 * 1.0) / +(50.0 * 1.0)) * (var\"PK†Y\" / 30.0) ^ ((30.0 * 1.0) / +(50.0 * 1.0)))) * 1.0) / PL) ^ 1.0 - var\"PL†Y\""
   ]
  },
  {
   "cell_type": "markdown",
   "metadata": {},
   "source": [
    "PK†Y"
   ]
  },
  {
   "cell_type": "code",
   "execution_count": 68,
   "metadata": {},
   "outputs": [
    {
     "data": {
      "text/plain": [
       "-1.2029452989281708e-9"
      ]
     },
     "metadata": {},
     "output_type": "display_data"
    }
   ],
   "source": [
    "30.0 * ((var\"PL†Y\" / 20.0) ^ ((20.0 * 1.0) / +(50.0 * 1.0)) * (var\"PK†Y\" / 30.0) ^ ((30.0 * 1.0) / +(50.0 * 1.0))) * (((((var\"PL\" / 1.0) ^ ((20.0 * 1.0) / +(50.0 * 1.0)) * (var\"PK\" / 1.0) ^ ((30.0 * 1.0) / +(50.0 * 1.0))) * ((var\"PL†Y\" / 20.0) ^ ((20.0 * 1.0) / +(50.0 * 1.0)) * (var\"PK†Y\" / 30.0) ^ ((30.0 * 1.0) / +(50.0 * 1.0)))) * 1.0) / PK) ^ 1.0 - var\"PK†Y\""
   ]
  },
  {
   "cell_type": "markdown",
   "metadata": {},
   "source": [
    "PX†U"
   ]
  },
  {
   "cell_type": "code",
   "execution_count": 69,
   "metadata": {},
   "outputs": [
    {
     "data": {
      "text/plain": [
       "8.97870222615893e-10"
      ]
     },
     "metadata": {},
     "output_type": "display_data"
    }
   ],
   "source": [
    "100.0 * ((var\"PX†U\" / 100.0) ^ ((100.0 * 1.0) / +(150.0 * 1.0)) * (var\"PY†U\" / 50.0) ^ ((50.0 * 1.0) / +(150.0 * 1.0))) * (((((var\"PX\" / 1.0) ^ ((100.0 * 1.0) / +(150.0 * 1.0)) * (var\"PY\" /1.0) ^ ((50.0 * 1.0) / +(150.0 * 1.0))) * ((var\"PX†U\" / 100.0) ^ ((100.0 * 1.0) / +(150.0 * 1.0)) * (var\"PY†U\" / 50.0) ^ ((50.0 * 1.0) / +(150.0 * 1.0)))) * 1.0) / PX) ^ 1.0 - var\"PX†U\""
   ]
  },
  {
   "cell_type": "markdown",
   "metadata": {},
   "source": [
    "PY†U"
   ]
  },
  {
   "cell_type": "code",
   "execution_count": 70,
   "metadata": {},
   "outputs": [
    {
     "data": {
      "text/plain": [
       "-3.709459406309179e-10"
      ]
     },
     "metadata": {},
     "output_type": "display_data"
    }
   ],
   "source": [
    "50.0 * ((var\"PX†U\" / 100.0) ^ ((100.0 * 1.0) / +(150.0 * 1.0)) * (var\"PY†U\" / 50.0) ^ ((50.0 * 1.0) / +(150.0 * 1.0))) * (((((var\"PX\" / 1.0) ^ ((100.0 * 1.0) / +(150.0 * 1.0)) * (var\"PY\" /1.0) ^ ((50.0 * 1.0) / +(150.0 * 1.0))) * ((var\"PX†U\" / 100.0) ^ ((100.0 * 1.0) / +(150.0 * 1.0)) * (var\"PY†U\" / 50.0) ^ ((50.0 * 1.0) / +(150.0 * 1.0)))) * 1.0) / PY) ^ 1.0 - var\"PY†U\""
   ]
  },
  {
   "cell_type": "markdown",
   "metadata": {},
   "source": [
    "  Compensated Supply\n"
   ]
  },
  {
   "cell_type": "markdown",
   "metadata": {},
   "source": [
    "PX‡X"
   ]
  },
  {
   "cell_type": "code",
   "execution_count": 71,
   "metadata": {},
   "outputs": [
    {
     "data": {
      "text/plain": [
       "-9.947598300641403e-13"
      ]
     },
     "metadata": {},
     "output_type": "display_data"
    }
   ],
   "source": [
    "(100.0 + var\"diff\") * ((var\"PL†X\" / 50.0) ^ ((50.0 * 1.0) / +((100.0 + var\"diff\") * 1.0)) * (var\"PK†X\" / 50.0) ^ ((50.0 * 1.0) / +((100.0 + var\"diff\") * 1.0))) * ((var\"PX\" / (+((((100.0 + var\"diff\") * 1.0) / +((100.0 + var\"diff\") * 1.0)) * (var\"PX\" / 1.0) ^ (1.0 + 0.0))) ^ (1.0 / (1.0 + 0.0))) / 1.0) ^ 0.0 - var\"PX‡X\" "
   ]
  },
  {
   "cell_type": "markdown",
   "metadata": {},
   "source": [
    "PY‡Y"
   ]
  },
  {
   "cell_type": "code",
   "execution_count": 72,
   "metadata": {},
   "outputs": [
    {
     "data": {
      "text/plain": [
       "-1.1013412404281553e-12"
      ]
     },
     "metadata": {},
     "output_type": "display_data"
    }
   ],
   "source": [
    "50.0 * ((var\"PL†Y\" / 20.0) ^ ((20.0 * 1.0) / +(50.0 * 1.0)) * (var\"PK†Y\" / 30.0) ^ ((30.0 * 1.0) / +(50.0 * 1.0))) * ((var\"PY\" /(+(((50.0 * 1.0) / +(50.0 * 1.0)) * (var\"PY\" /1.0) ^ (1.0 + 0.0))) ^ (1.0 / (1.0 + 0.0))) / 1.0) ^ 0.0 - var\"PY‡Y\""
   ]
  },
  {
   "cell_type": "markdown",
   "metadata": {},
   "source": [
    "PU‡U"
   ]
  },
  {
   "cell_type": "code",
   "execution_count": 73,
   "metadata": {},
   "outputs": [
    {
     "data": {
      "text/plain": [
       "-6.480149750132114e-12"
      ]
     },
     "metadata": {},
     "output_type": "display_data"
    }
   ],
   "source": [
    "150.0 * ((var\"PX†U\" / 100.0) ^ ((100.0 * 1.0) / +(150.0 * 1.0)) * (var\"PY†U\" / 50.0) ^ ((50.0 * 1.0) / +(150.0 * 1.0))) * ((var\"PU\" / (+(((150.0 * 1.0) / +(150.0 * 1.0)) * (var\"PU\" / 1.0) ^ (1.0 + 0.0))) ^ (1.0 / (1.0 + 0.0))) / 1.0) ^ 0.0 - var\"PU‡U\""
   ]
  },
  {
   "cell_type": "markdown",
   "metadata": {},
   "source": [
    "  Final Demand\n"
   ]
  },
  {
   "cell_type": "code",
   "execution_count": 74,
   "metadata": {},
   "outputs": [
    {
     "data": {
      "text/plain": [
       "1.2973097796020738e-7"
      ]
     },
     "metadata": {},
     "output_type": "display_data"
    }
   ],
   "source": [
    "150.0 * (\n",
    "    150\n",
    "    # 157 \n",
    "# var\"RA\"\n",
    " / 150.0) * (1.0 / var\"PU\") - var\"PUρRA\""
   ]
  },
  {
   "cell_type": "markdown",
   "metadata": {},
   "source": [
    "  Zero Profit\n"
   ]
  },
  {
   "cell_type": "code",
   "execution_count": 75,
   "metadata": {},
   "outputs": [
    {
     "data": {
      "text/plain": [
       "2.6345503556512995e-10"
      ]
     },
     "metadata": {},
     "output_type": "display_data"
    }
   ],
   "source": [
    "(var\"PL\" * var\"PL†X\" + var\"PK\" * var\"PK†X\") - +(var\"PX\" * var\"PX‡X\")"
   ]
  },
  {
   "cell_type": "code",
   "execution_count": 76,
   "metadata": {},
   "outputs": [
    {
     "data": {
      "text/plain": [
       "1.1315393066979595e-10"
      ]
     },
     "metadata": {},
     "output_type": "display_data"
    }
   ],
   "source": [
    "(var\"PL\" * var\"PL†Y\" + var\"PK\" * var\"PK†Y\") - +(var\"PY\" * var\"PY‡Y\")"
   ]
  },
  {
   "cell_type": "code",
   "execution_count": 77,
   "metadata": {},
   "outputs": [
    {
     "data": {
      "text/plain": [
       "3.4724223496596096e-9"
      ]
     },
     "metadata": {},
     "output_type": "display_data"
    }
   ],
   "source": [
    "(var\"PX\" * var\"PX†U\" + var\"PY\" * var\"PY†U\") - +(var\"PU\" * var\"PU‡U\")"
   ]
  },
  {
   "cell_type": "markdown",
   "metadata": {},
   "source": [
    "  Market clearance\n"
   ]
  },
  {
   "cell_type": "code",
   "execution_count": 79,
   "metadata": {},
   "outputs": [
    {
     "data": {
      "text/plain": [
       "4.310152235120768e-11"
      ]
     },
     "metadata": {},
     "output_type": "display_data"
    }
   ],
   "source": [
    "(0.0 + 70.0 * \n",
    "# 1.1\n",
    "1.0\n",
    "# var\"endow\"\n",
    ") - (0.0 + var\"X\" * var\"PL†X\" + var\"Y\" * var\"PL†Y\")"
   ]
  },
  {
   "cell_type": "code",
   "execution_count": 80,
   "metadata": {},
   "outputs": [
    {
     "data": {
      "text/plain": [
       "1.028013230097713e-10"
      ]
     },
     "metadata": {},
     "output_type": "display_data"
    }
   ],
   "source": [
    "(0.0 + 80.0) - (0.0 + var\"X\" * var\"PK†X\" + var\"Y\" * var\"PK†Y\")"
   ]
  },
  {
   "cell_type": "code",
   "execution_count": 81,
   "metadata": {},
   "outputs": [
    {
     "data": {
      "text/plain": [
       "-8.944311957748141e-11"
      ]
     },
     "metadata": {},
     "output_type": "display_data"
    }
   ],
   "source": [
    "(0.0 + var\"U\" * var\"PU‡U\") - (0.0 + var\"PUρRA\")"
   ]
  },
  {
   "cell_type": "code",
   "execution_count": 82,
   "metadata": {},
   "outputs": [
    {
     "data": {
      "text/plain": [
       "1.3134382470525452e-10"
      ]
     },
     "metadata": {},
     "output_type": "display_data"
    }
   ],
   "source": [
    "(0.0 + var\"Y\" * var\"PY‡Y\") - (0.0 + var\"U\" * var\"PY†U\")"
   ]
  },
  {
   "cell_type": "code",
   "execution_count": 83,
   "metadata": {},
   "outputs": [
    {
     "data": {
      "text/plain": [
       "9.418954505235888e-11"
      ]
     },
     "metadata": {},
     "output_type": "display_data"
    }
   ],
   "source": [
    "(0.0 + var\"X\" * var\"PX‡X\") - (0.0 + var\"U\" * var\"PX†U\")"
   ]
  },
  {
   "cell_type": "markdown",
   "metadata": {},
   "source": [
    "  Income balance\n"
   ]
  },
  {
   "cell_type": "code",
   "execution_count": 97,
   "metadata": {},
   "outputs": [
    {
     "ename": "MethodError",
     "evalue": "MethodError: no method matching *(::Float64, ::MPSGE.CommodityRef)\nClosest candidates are:\n  *(::Any, ::Any, !Matched::Any, !Matched::Any...) at operators.jl:591\n  *(::T, !Matched::T) where T<:Union{Float16, Float32, Float64} at float.jl:385\n  *(::Union{Float16, Float32, Float64}, !Matched::BigFloat) at mpfr.jl:414\n  ...",
     "output_type": "error",
     "traceback": [
      "MethodError: no method matching *(::Float64, ::MPSGE.CommodityRef)\n",
      "Closest candidates are:\n",
      "  *(::Any, ::Any, !Matched::Any, !Matched::Any...) at operators.jl:591\n",
      "  *(::T, !Matched::T) where T<:Union{Float16, Float32, Float64} at float.jl:385\n",
      "  *(::Union{Float16, Float32, Float64}, !Matched::BigFloat) at mpfr.jl:414\n",
      "  ...\n",
      "\n",
      "Stacktrace:\n",
      " [1] top-level scope\n",
      "   @ c:\\Users\\Eli\\.julia\\dev\\MPSGE\\examples\\NewParamTest.ipynb:1"
     ]
    }
   ],
   "source": [
    "((70.0 *\n",
    "1.0\n",
    "# 1.1 \n",
    "# var\"endow\"\n",
    ") * var\"PL\" + 80.0 * var\"PK\") - \n",
    "# 157\n",
    "150\n",
    "# var\"RA\""
   ]
  },
  {
   "cell_type": "code",
   "execution_count": 101,
   "metadata": {},
   "outputs": [
    {
     "name": "stdout",
     "output_type": "stream",
     "text": [
      "Path 5.0.03 (Fri Jun 26 10:05:33 2020)\n",
      "Written by Todd Munson, Steven Dirkse, Youngdae Kim, and Michael Ferris\n",
      "Preprocessed size   : 18\n",
      "\n",
      "Crash Log\n",
      "major  func  diff  size  residual    step       prox   (label)\n",
      "    0     0             1.9050e+01             0.0e+00 (F_X)\n",
      "    1     1     0    18 6.8569e-01  1.0e+00    0.0e+00 (F_U)\n",
      "pn_search terminated: no basis change.\n",
      "\n",
      "Major Iteration Log\n",
      "major minor  func  grad  residual    step  type prox    inorm  (label)\n",
      "    0     0     2     2 6.8569e-01           I 0.0e+00 3.8e-01 (F_U)\n",
      "    1     1     3     3 1.6874e-03  1.0e+00 SO 0.0e+00 1.2e-03 (F_PX†U)\n",
      "    2     1     4     4 1.6216e-08  1.0e+00 SO 0.0e+00 1.1e-08 (F_PX†U)\n",
      "\n",
      "Major Iterations. . . . 2\n",
      "Minor Iterations. . . . 2\n",
      "Restarts. . . . . . . . 0\n",
      "Crash Iterations. . . . 1\n",
      "Gradient Steps. . . . . 0\n",
      "Function Evaluations. . 4\n",
      "Gradient Evaluations. . 4\n",
      "Basis Time. . . . . . . 0.000000\n",
      "Total Time. . . . . . . 0.015000\n",
      "Residual. . . . . . . . 1.621590e-08\n",
      "Postsolved residual: 1.6216e-08\n"
     ]
    },
    {
     "data": {
      "text/plain": [
       "MPSGE model with 3 sectors, 5 commodities and 1 consumers.\n",
       "  Sectors: X (bm=1.0), Y (bm=1.0), U (bm=1.0)\n",
       "  Commodities: PX (bm=1.0), PY (bm=1.0), PU (bm=1.0), PL (bm=1.0), PK (bm=1.0)\n",
       "  Consumers: RA (bm=150.0)\n",
       "Solution:\n",
       "  X:\t0.9895706470310774\n",
       "  Y:\t1.0000000000245588\n",
       "  U:\t1.0649253666829481\n",
       "  PX:\t1.0\n",
       "  PY:\t1.0989520874855996\n",
       "  PU:\t1.0319522115565072\n",
       "  PL:\t1.0989520874836924\n",
       "  PK:\t1.0989520874867489\n",
       "  PX‡X:\t111.0534241054662\n",
       "  PY‡Y:\t50.0\n",
       "  PU‡U:\t150.00000001754123\n",
       "  PL†X:\t50.52696353657794\n",
       "  PK†X:\t50.526963536436064\n",
       "  PL†Y:\t20.000000000036078\n",
       "  PK†Y:\t29.99999999996059\n",
       "  PX†U:\t103.1952211659488\n",
       "  PY†U:\t46.95164709168006\n",
       "  RA:\t164.8428131227984\n",
       "  PUρRA:\t159.7388050277728\n"
      ]
     },
     "metadata": {},
     "output_type": "display_data"
    }
   ],
   "source": [
    "set_value(diff,10.)\n",
    "set_fixed!(PX, true)\n",
    "# set_value(endow, 1.1)\n",
    "# set_value(RA,165.)\n",
    "# set_fixed!(RA,true)\n",
    "solve!(m)"
   ]
  },
  {
   "cell_type": "code",
   "execution_count": null,
   "metadata": {},
   "outputs": [],
   "source": []
  }
 ],
 "metadata": {
  "kernelspec": {
   "display_name": "Julia 1.8.1",
   "language": "julia",
   "name": "julia-1.8"
  },
  "language_info": {
   "file_extension": ".jl",
   "mimetype": "application/julia",
   "name": "julia",
   "version": "1.8.1"
  },
  "orig_nbformat": 4,
  "vscode": {
   "interpreter": {
    "hash": "21729f1b7f2a6115a8ac6e11ddfc83af4bcd3abcc69ae9bcbc60331b8ffed3d1"
   }
  }
 },
 "nbformat": 4,
 "nbformat_minor": 2
}
